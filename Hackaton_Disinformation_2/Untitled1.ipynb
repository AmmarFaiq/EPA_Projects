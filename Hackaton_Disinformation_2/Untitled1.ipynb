{
 "cells": [
  {
   "cell_type": "code",
   "execution_count": null,
   "metadata": {
    "collapsed": true
   },
   "outputs": [],
   "source": []
  },
  {
   "cell_type": "code",
   "execution_count": 1,
   "metadata": {},
   "outputs": [
    {
     "name": "stderr",
     "output_type": "stream",
     "text": [
      "C:\\ProgramData\\Anaconda3\\lib\\site-packages\\gensim\\utils.py:1197: UserWarning: detected Windows; aliasing chunkize to chunkize_serial\n",
      "  warnings.warn(\"detected Windows; aliasing chunkize to chunkize_serial\")\n",
      "C:\\ProgramData\\Anaconda3\\lib\\site-packages\\bokeh\\util\\deprecation.py:34: BokehDeprecationWarning: \n",
      "The bokeh.charts API has moved to a separate 'bkcharts' package.\n",
      "\n",
      "This compatibility shim will remain until Bokeh 1.0 is released.\n",
      "After that, if you want to use this API you will have to install\n",
      "the bkcharts package explicitly.\n",
      "\n",
      "  warn(message)\n"
     ]
    }
   ],
   "source": [
    "import re, os, time\n",
    "import numpy as np\n",
    "import pandas as pd\n",
    "from pprint import pprint\n",
    "\n",
    "# Gensim\n",
    "from gensim.models.ldamodel import LdaModel\n",
    "from gensim.models import Phrases\n",
    "from gensim.models.phrases import Phraser\n",
    "import gensim.corpora as corpora\n",
    "from gensim.utils import simple_preprocess\n",
    "from gensim.models import CoherenceModel\n",
    "\n",
    "# Import nltk stopwords and spacy for lemmatization\n",
    "from nltk.corpus import stopwords\n",
    "from nltk.tokenize import WordPunctTokenizer\n",
    "\n",
    "# Plotting tools\n",
    "import pyLDAvis\n",
    "import pyLDAvis.gensim  # don't skip this\n",
    "import matplotlib.pyplot as plt\n",
    "import spacy\n",
    "%matplotlib inline\n",
    "\n",
    "# Enable logging for Gensim - optional\n",
    "import logging\n",
    "logging.basicConfig(format='%(asctime)s : %(levelname)s : %(message)s', level=logging.ERROR)\n",
    "\n",
    "import warnings\n",
    "warnings.filterwarnings('ignore',category=DeprecationWarning)\n",
    "\n",
    "import time\n",
    "import pickle\n",
    "import bs4\n",
    "\n",
    "# Collect names of Tweet files\n",
    "from os import listdir\n",
    "from os.path import isfile, join\n",
    "import json\n",
    "\n",
    "# Plotting tools\n",
    "import pyLDAvis\n",
    "import pyLDAvis.sklearn\n",
    "import matplotlib.pyplot as plt\n",
    "import textacy\n",
    "from gensim.models.doc2vec import Doc2Vec, TaggedDocument\n",
    "from bokeh.charts import Chord\n",
    "\n",
    "from pysankey import sankey"
   ]
  },
  {
   "cell_type": "code",
   "execution_count": 2,
   "metadata": {
    "collapsed": true
   },
   "outputs": [],
   "source": [
    "# Print one topic\n",
    "# Load a potentially pretrained model\n",
    "# from gensim.test.utils import datapath\n",
    "# temp_file = datapath('lda_multicore_full') \n",
    "lda_model = LdaModel.load('lda_model_full')\n",
    "all_topic = []\n",
    "for i in range(lda_model.num_topics):\n",
    "    all_topic += [lda_model.show_topic(i)]\n",
    "# all_topic"
   ]
  },
  {
   "cell_type": "code",
   "execution_count": 3,
   "metadata": {
    "collapsed": true
   },
   "outputs": [],
   "source": [
    "all_topic_words = []\n",
    "all_topic_num = []\n",
    "\n",
    "for i in range(len(all_topic)):\n",
    "    one_topic_words = []\n",
    "    one_topic_num = []\n",
    "    for j in range(len(all_topic[i])):\n",
    "        one_topic_words += [all_topic[i][j][0]]\n",
    "        one_topic_num += [all_topic[i][j][1]]\n",
    "        \n",
    "    all_topic_words += [one_topic_words]\n",
    "    all_topic_num += [one_topic_num]\n",
    "    "
   ]
  },
  {
   "cell_type": "code",
   "execution_count": 178,
   "metadata": {
    "collapsed": true
   },
   "outputs": [],
   "source": [
    "all_topic_group_num = []\n",
    "for topic in range (len(all_topic)):\n",
    "    all_group = []\n",
    "    count = 0\n",
    "\n",
    "    while count < len(all_topic[topic]):\n",
    "        single_group = all_topic[topic][count]\n",
    "\n",
    "        range_a = abs(all_topic_num[topic][count] - np.array(all_topic_num[topic][count:len(all_topic_num[topic])]).std())\n",
    "\n",
    "        for j in range(count,len(all_topic[topic])-1):  \n",
    "\n",
    "            if count == (len(all_topic[topic])-1):\n",
    "                if all_topic_num[topic][-1] <= range_a:\n",
    "                    single_group = (single_group) + (all_topic[topic][-1])              \n",
    "\n",
    "            elif count < (len(all_topic[topic])-1):       \n",
    "                if all_topic_num[topic][count+1] >= range_a:\n",
    "                    single_group = (single_group) + (all_topic[topic][count+1])\n",
    "                    count += 1    \n",
    "\n",
    "        all_group += [single_group]\n",
    "        count += 1\n",
    "        \n",
    "    all_topic_group_num += [all_group]"
   ]
  },
  {
   "cell_type": "code",
   "execution_count": 179,
   "metadata": {},
   "outputs": [
    {
     "data": {
      "text/plain": [
       "[('vvd', 0.032720536, 'nederland', 0.029464105),\n",
       " ('pvv', 0.020109527, 'partij', 0.018944632),\n",
       " ('rutte', 0.015990036, 'mee', 0.015465685, 'doet', 0.014456638),\n",
       " ('sigrid_kaag', 0.013964481, 'gewoon', 0.012887054),\n",
       " ('lid', 0.011083391)]"
      ]
     },
     "execution_count": 179,
     "metadata": {},
     "output_type": "execute_result"
    }
   ],
   "source": [
    "all_topic_group_num[0]"
   ]
  },
  {
   "cell_type": "code",
   "execution_count": 176,
   "metadata": {
    "collapsed": true
   },
   "outputs": [],
   "source": [
    "all_topic_group_words = []\n",
    "for topic in range (len(all_topic)):\n",
    "    all_group = []\n",
    "    count = 0\n",
    "\n",
    "    while count < len(all_topic[topic]):\n",
    "        single_group = (all_topic_words[topic][count],)\n",
    "\n",
    "        range_a = abs(all_topic_num[topic][count] - np.array(all_topic_num[topic][count:len(all_topic_num[topic])]).std())\n",
    "\n",
    "        for j in range(count,len(all_topic[topic])-1):  \n",
    "\n",
    "            if count == (len(all_topic[topic])-1):\n",
    "                if all_topic_num[topic][-1] <= range_a:\n",
    "                    single_group = tuple(list(single_group) + ([all_topic_words[topic][-1]]))            \n",
    "\n",
    "            elif count < (len(all_topic[topic])-1):       \n",
    "                if all_topic_num[topic][count+1] >= range_a:\n",
    "                    single_group = tuple(list(single_group) + ([all_topic_words[topic][count+1]])) \n",
    "                    count += 1    \n",
    "\n",
    "        all_group += [single_group]\n",
    "        count += 1\n",
    "        \n",
    "    all_topic_group_words += [all_group]"
   ]
  },
  {
   "cell_type": "code",
   "execution_count": 182,
   "metadata": {
    "collapsed": true
   },
   "outputs": [],
   "source": [
    "from ipysankeywidget import SankeyWidget\n",
    "from ipywidgets import Layout\n",
    "from IPython.display import display"
   ]
  },
  {
   "cell_type": "code",
   "execution_count": 193,
   "metadata": {
    "collapsed": true
   },
   "outputs": [],
   "source": [
    "layout = Layout(width=\"1000\", height=\"200\")\n",
    "def sankey(margin_top=10, **value):\n",
    "    \"\"\"Show SankeyWidget with default values for size and margins\"\"\"\n",
    "    return SankeyWidget(layout=layout,\n",
    "                        margins=dict(top=margin_top, bottom=0, left=100, right=100),\n",
    "                        **value)"
   ]
  },
  {
   "cell_type": "code",
   "execution_count": 197,
   "metadata": {},
   "outputs": [
    {
     "data": {
      "text/plain": [
       "[('vvd', 'nederland'),\n",
       " ('pvv', 'partij'),\n",
       " ('rutte', 'mee', 'doet'),\n",
       " ('sigrid_kaag', 'gewoon'),\n",
       " ('lid',)]"
      ]
     },
     "execution_count": 197,
     "metadata": {},
     "output_type": "execute_result"
    }
   ],
   "source": [
    "all_topic_group_words[0]"
   ]
  },
  {
   "cell_type": "code",
   "execution_count": 194,
   "metadata": {},
   "outputs": [
    {
     "data": {
      "application/vnd.jupyter.widget-view+json": {
       "model_id": "741f17c68a24478d8c60716847b3f44a",
       "version_major": 2,
       "version_minor": 0
      },
      "text/plain": [
       "SankeyWidget(layout=Layout(height='200', width='1000'), links=[{'source': 'vvd', 'target': 'pvv', 'value': 3, …"
      ]
     },
     "metadata": {},
     "output_type": "display_data"
    }
   ],
   "source": [
    "links = [\n",
    "    {'source': 'vvd', 'target': 'pvv', 'value': 3, 'color': 'steelblue'},\n",
    "    {'source': 'vvd', 'target': 'partij', 'value': 3, 'color': 'steelblue'},\n",
    "    {'source': 'nederland', 'target': 'pvv', 'value': 3, 'color': 'red'},\n",
    "    {'source': 'nederland', 'target': 'partij', 'value': 3, 'color': 'red'},\n",
    "    {'source': 'pvv', 'target': 'rutte', 'value': 2, 'color': 'olive'},\n",
    "    {'source': 'pvv', 'target': 'mee', 'value': 2, 'color': 'olive'},\n",
    "    {'source': 'pvv', 'target': 'doet', 'value': 2, 'color': 'olive'},\n",
    "    {'source': 'partij', 'target': 'rutte', 'value': 2, 'color': 'khaki'},\n",
    "    {'source': 'partij', 'target': 'mee', 'value': 2, 'color': 'khaki'},\n",
    "    {'source': 'partij', 'target': 'doet', 'value': 2, 'color': 'khaki'},\n",
    "    {'source': 'rutte', 'target': 'sigrid_kaag', 'value': 2, 'color': 'aqua'},\n",
    "    {'source': 'rutte', 'target': 'gewoon', 'value': 2, 'color': 'aqua'},\n",
    "    {'source': 'mee', 'target': 'sigrid_kaag', 'value': 2, 'color': 'plum'},\n",
    "    {'source': 'mee', 'target': 'gewoon', 'value': 2, 'color': 'plum'},\n",
    "    {'source': 'doet', 'target': 'sigrid_kaag', 'value': 2, 'color': 'magenta'},\n",
    "    {'source': 'doet', 'target': 'gewoon', 'value': 2, 'color': 'magenta'},\n",
    "    {'source': 'sigrid_kaag', 'target': 'lid', 'value': 6, 'color': 'pink'},\n",
    "    {'source': 'gewoon', 'target': 'lid', 'value': 6, 'color': 'pink'},\n",
    "   \n",
    "]\n",
    "sankey(links=links)"
   ]
  },
  {
   "cell_type": "code",
   "execution_count": 196,
   "metadata": {},
   "outputs": [
    {
     "data": {
      "text/plain": [
       "[('vvd',),\n",
       " ('rutte', 'cda'),\n",
       " ('pvda', 'gaat'),\n",
       " ('weer', 'laat', 'zijlstra'),\n",
       " ('zetels',),\n",
       " ('partij',)]"
      ]
     },
     "execution_count": 196,
     "metadata": {},
     "output_type": "execute_result"
    }
   ],
   "source": [
    "all_topic_group_words[1]"
   ]
  },
  {
   "cell_type": "code",
   "execution_count": 205,
   "metadata": {},
   "outputs": [
    {
     "data": {
      "application/vnd.jupyter.widget-view+json": {
       "model_id": "50bc8fa8dee347c6adc304a58b95cc30",
       "version_major": 2,
       "version_minor": 0
      },
      "text/plain": [
       "SankeyWidget(layout=Layout(height='200', width='1000'), links=[{'source': 'vvd', 'target': 'rutte', 'value': 3…"
      ]
     },
     "metadata": {},
     "output_type": "display_data"
    }
   ],
   "source": [
    "links = [\n",
    "    {'source': 'vvd', 'target': 'rutte', 'value': 3, 'color': 'steelblue'},\n",
    "    {'source': 'vvd', 'target': 'cda', 'value': 3, 'color': 'steelblue'},\n",
    "    {'source': 'rutte', 'target': 'pvda', 'value': 1.5, 'color': 'red'},\n",
    "    {'source': 'rutte', 'target': 'gaat', 'value': 1.5, 'color': 'red'},\n",
    "    {'source': 'cda', 'target': 'pvda', 'value': 1.5, 'color': 'olive'},\n",
    "    {'source': 'cda', 'target': 'gaat', 'value': 1.5, 'color': 'olive'},\n",
    "    {'source': 'pvda', 'target': 'weer', 'value': 1, 'color': 'khaki'},\n",
    "    {'source': 'pvda', 'target': 'laat', 'value': 1, 'color': 'khaki'},\n",
    "    {'source': 'pvda', 'target': 'zijlstra', 'value': 1, 'color': 'khaki'},\n",
    "    {'source': 'gaat', 'target': 'weer', 'value': 1, 'color': 'aqua'},\n",
    "    {'source': 'gaat', 'target': 'laat', 'value': 1, 'color': 'aqua'},\n",
    "    {'source': 'gaat', 'target': 'zijlstra', 'value': 1, 'color': 'aqua'},\n",
    "    {'source': 'weer', 'target': 'zetels', 'value': 2, 'color': 'plum'},\n",
    "    {'source': 'laat', 'target': 'zetels', 'value': 2, 'color': 'magenta'},\n",
    "    {'source': 'zijlstra', 'target': 'zetels', 'value': 2, 'color': 'blue'},\n",
    "    {'source': 'zetels', 'target': 'partij', 'value': 6, 'color': 'pink'},\n",
    "    \n",
    "   \n",
    "]\n",
    "sankey(links=links)"
   ]
  },
  {
   "cell_type": "code",
   "execution_count": null,
   "metadata": {
    "collapsed": true
   },
   "outputs": [],
   "source": [
    "links = [\n",
    "    {'source': 'vvd', 'target': 'rutte', 'value': 6, 'color': 'steelblue'},\n",
    "    {'source': 'vvd', 'target': 'cda', 'value': 6, 'color': 'steelblue'},\n",
    "    {'source': 'rutte', 'target': 'pvda', 'value': 3, 'color': 'red'},\n",
    "    {'source': 'rutte', 'target': 'gaat', 'value': 3, 'color': 'red'},\n",
    "    {'source': 'cda', 'target': 'pvda', 'value': 3, 'color': 'olive'},\n",
    "    {'source': 'cda', 'target': 'gaat', 'value': 3, 'color': 'olive'},\n",
    "    {'source': 'pvda', 'target': 'weer', 'value': 2, 'color': 'khaki'},\n",
    "    {'source': 'pvda', 'target': 'laat', 'value': 2, 'color': 'khaki'},\n",
    "    {'source': 'pvda', 'target': 'zijlstra', 'value': 2, 'color': 'khaki'},\n",
    "    {'source': 'gaat', 'target': 'weer', 'value': 2, 'color': 'aqua'},\n",
    "    {'source': 'gaat', 'target': 'laat', 'value': 2, 'color': 'aqua'},\n",
    "    {'source': 'gaat', 'target': 'zijlstra', 'value': 2, 'color': 'aqua'},\n",
    "    {'source': 'weer', 'target': 'zetels', 'value': 4, 'color': 'plum'},\n",
    "    {'source': 'laat', 'target': 'zetels', 'value': 4, 'color': 'magenta'},\n",
    "    {'source': 'zijlstra', 'target': 'zetels', 'value': 4, 'color': 'blue'},\n",
    "    {'source': 'zetels', 'target': 'partij', 'value': 12, 'color': 'pink'},\n",
    "       \n",
    "]\n",
    "sankey(links=links)"
   ]
  }
 ],
 "metadata": {
  "kernelspec": {
   "display_name": "Python 3",
   "language": "python",
   "name": "python3"
  },
  "language_info": {
   "codemirror_mode": {
    "name": "ipython",
    "version": 3
   },
   "file_extension": ".py",
   "mimetype": "text/x-python",
   "name": "python",
   "nbconvert_exporter": "python",
   "pygments_lexer": "ipython3",
   "version": "3.6.2"
  }
 },
 "nbformat": 4,
 "nbformat_minor": 2
}
