{
 "cells": [
  {
   "cell_type": "code",
   "execution_count": 1,
   "metadata": {
    "collapsed": true
   },
   "outputs": [],
   "source": [
    "veca=[[22.8,32.4,33.0,0.3,0.8,10.6],\n",
    "      [24.6,27.5,27.9,0.5,0.9,18.6],\n",
    "      [22.3,23.7,19.0,0.8,0.8,33.4],\n",
    "      [16.2,19.4,13.3,0.8,0.6,49.7],\n",
    "      [12.9,14.6,9.8,1.2,0.6,61.0],\n",
    "      [8.1,6.6,3.6,2.4,0.2,79.0],\n",
    "      [3.7,2.7,0.1,1.3,0.1,92.0]]\n",
    " \n",
    "veca=np.array(veca)/100"
   ]
  },
  {
   "cell_type": "code",
   "execution_count": 2,
   "metadata": {
    "collapsed": true
   },
   "outputs": [],
   "source": [
    "import dirichlet\n",
    "import numpy as np\n",
    "veca=np.array(veca)/100\n",
    "est = dirichlet.mle(veca,maxiter=100)"
   ]
  },
  {
   "cell_type": "code",
   "execution_count": 3,
   "metadata": {},
   "outputs": [
    {
     "name": "stdout",
     "output_type": "stream",
     "text": [
      "[ 1.51336106  1.56198245  0.98491775  0.38249251  0.31460347  3.56308905]\n",
      "[[ 0.228  0.324  0.33   0.003  0.008  0.106]\n",
      " [ 0.246  0.275  0.279  0.005  0.009  0.186]\n",
      " [ 0.223  0.237  0.19   0.008  0.008  0.334]\n",
      " [ 0.162  0.194  0.133  0.008  0.006  0.497]\n",
      " [ 0.129  0.146  0.098  0.012  0.006  0.61 ]\n",
      " [ 0.081  0.066  0.036  0.024  0.002  0.79 ]\n",
      " [ 0.037  0.027  0.001  0.013  0.001  0.92 ]]\n"
     ]
    }
   ],
   "source": [
    "print(est)\n",
    "print(veca)"
   ]
  },
  {
   "cell_type": "code",
   "execution_count": 11,
   "metadata": {},
   "outputs": [
    {
     "name": "stdout",
     "output_type": "stream",
     "text": [
      "8.32044628803\n"
     ]
    }
   ],
   "source": [
    "print(sum(est))"
   ]
  },
  {
   "cell_type": "code",
   "execution_count": 7,
   "metadata": {},
   "outputs": [
    {
     "name": "stdout",
     "output_type": "stream",
     "text": [
      "[ 110.6  126.9  106.7    7.3    4.   344.3]\n"
     ]
    }
   ],
   "source": [
    "print(sum(veca))"
   ]
  },
  {
   "cell_type": "code",
   "execution_count": 8,
   "metadata": {},
   "outputs": [
    {
     "name": "stdout",
     "output_type": "stream",
     "text": [
      "699.8\n"
     ]
    }
   ],
   "source": [
    "print(sum(sum(veca)))"
   ]
  },
  {
   "cell_type": "code",
   "execution_count": 32,
   "metadata": {
    "collapsed": true
   },
   "outputs": [],
   "source": [
    "s1 = veca[:,0]**.513\n",
    "s2 = veca[:,1]**.562\n",
    "s3 = veca[:,2]**-.015"
   ]
  },
  {
   "cell_type": "code",
   "execution_count": 33,
   "metadata": {},
   "outputs": [
    {
     "name": "stdout",
     "output_type": "stream",
     "text": [
      "[ 0.46840398  0.48702327  0.46310599  0.39308023  0.3497297   0.27545637\n",
      "  0.18428394]\n"
     ]
    }
   ],
   "source": [
    "print(s1)\n",
    "year = [1565.5,1604.5,1654.5,1704.5,1754.5,1804.5,1854.5]"
   ]
  },
  {
   "cell_type": "code",
   "execution_count": 34,
   "metadata": {},
   "outputs": [
    {
     "data": {
      "image/png": "[encoded data removed]",
      "text/plain": [
       "<matplotlib.figure.Figure at 0x282ffc452b0>"
      ]
     },
     "metadata": {},
     "output_type": "display_data"
    }
   ],
   "source": [
    "import matplotlib.pyplot as plt\n",
    "plt.plot(year,s1)\n",
    "plt.plot(year,s2)\n",
    "plt.plot(year,s3)\n",
    "plt.show()"
   ]
  },
  {
   "cell_type": "code",
   "execution_count": null,
   "metadata": {
    "collapsed": true
   },
   "outputs": [],
   "source": []
  }
 ],
 "metadata": {
  "kernelspec": {
   "display_name": "Python 3",
   "language": "python",
   "name": "python3"
  },
  "language_info": {
   "codemirror_mode": {
    "name": "ipython",
    "version": 3
   },
   "file_extension": ".py",
   "mimetype": "text/x-python",
   "name": "python",
   "nbconvert_exporter": "python",
   "pygments_lexer": "ipython3",
   "version": "3.6.3"
  }
 },
 "nbformat": 4,
 "nbformat_minor": 2
}
