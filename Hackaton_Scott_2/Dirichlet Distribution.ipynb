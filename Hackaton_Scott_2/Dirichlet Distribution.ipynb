{
 "cells": [
  {
   "cell_type": "markdown",
   "metadata": {},
   "source": [
    "This is just a quick demo of estimating the Dirichlet distribution."
   ]
  },
  {
   "cell_type": "code",
   "execution_count": 4,
   "metadata": {},
   "outputs": [
    {
     "name": "stdout",
     "output_type": "stream",
     "text": [
      "Requirement already satisfied: spacy in d:\\anaconda32\\lib\\site-packages (2.0.11)\n",
      "Requirement already satisfied: numpy>=1.7 in d:\\anaconda32\\lib\\site-packages (from spacy) (1.14.0)\n",
      "Requirement already satisfied: murmurhash<0.29,>=0.28 in d:\\anaconda32\\lib\\site-packages (from spacy) (0.28.0)\n",
      "Requirement already satisfied: cymem<1.32,>=1.30 in d:\\anaconda32\\lib\\site-packages (from spacy) (1.31.2)\n",
      "Requirement already satisfied: preshed<2.0.0,>=1.0.0 in d:\\anaconda32\\lib\\site-packages (from spacy) (1.0.0)\n",
      "Requirement already satisfied: thinc<6.11.0,>=6.10.1 in d:\\anaconda32\\lib\\site-packages (from spacy) (6.10.2)\n",
      "Requirement already satisfied: plac<1.0.0,>=0.9.6 in d:\\anaconda32\\lib\\site-packages (from spacy) (0.9.6)\n",
      "Requirement already satisfied: pathlib in d:\\anaconda32\\lib\\site-packages (from spacy) (1.0.1)\n",
      "Requirement already satisfied: ujson>=1.35 in d:\\anaconda32\\lib\\site-packages (from spacy) (1.35)\n",
      "Requirement already satisfied: dill<0.3,>=0.2 in d:\\anaconda32\\lib\\site-packages (from spacy) (0.2.7.1)\n",
      "Collecting regex==2017.4.5 (from spacy)\n",
      "  Using cached https://files.pythonhosted.org/packages/1e/c5/4ccf3777b26126b5c6194c46dd0e0339d1ff984a3544d837a3502a47dc04/regex-2017.04.05-cp36-none-win32.whl\n",
      "Requirement already satisfied: wrapt in d:\\anaconda32\\lib\\site-packages (from thinc<6.11.0,>=6.10.1->spacy) (1.10.11)\n",
      "Requirement already satisfied: tqdm<5.0.0,>=4.10.0 in d:\\anaconda32\\lib\\site-packages (from thinc<6.11.0,>=6.10.1->spacy) (4.23.4)\n",
      "Requirement already satisfied: cytoolz<0.9,>=0.8 in d:\\anaconda32\\lib\\site-packages (from thinc<6.11.0,>=6.10.1->spacy) (0.8.2)\n",
      "Requirement already satisfied: six<2.0.0,>=1.10.0 in d:\\anaconda32\\lib\\site-packages (from thinc<6.11.0,>=6.10.1->spacy) (1.11.0)\n",
      "Requirement already satisfied: termcolor in d:\\anaconda32\\lib\\site-packages (from thinc<6.11.0,>=6.10.1->spacy) (1.1.0)\n",
      "Requirement already satisfied: msgpack-python in d:\\anaconda32\\lib\\site-packages (from thinc<6.11.0,>=6.10.1->spacy) (0.4.8)\n",
      "Requirement already satisfied: msgpack-numpy==0.4.1 in d:\\anaconda32\\lib\\site-packages (from thinc<6.11.0,>=6.10.1->spacy) (0.4.1)\n",
      "Requirement already satisfied: pyreadline>=1.7.1 in d:\\anaconda32\\lib\\site-packages (from dill<0.3,>=0.2->spacy) (2.1)\n",
      "Requirement already satisfied: toolz>=0.8.0 in d:\\anaconda32\\lib\\site-packages (from cytoolz<0.9,>=0.8->thinc<6.11.0,>=6.10.1->spacy) (0.9.0)\n",
      "Installing collected packages: regex\n",
      "  Found existing installation: regex 2017.11.9\n",
      "    Uninstalling regex-2017.11.9:\n",
      "      Successfully uninstalled regex-2017.11.9\n",
      "Successfully installed regex-2017.4.5\n"
     ]
    }
   ],
   "source": [
    "!pip install spacy"
   ]
  },
  {
   "cell_type": "code",
   "execution_count": 1,
   "metadata": {},
   "outputs": [
    {
     "ename": "ModuleNotFoundError",
     "evalue": "No module named 'simplex'",
     "output_type": "error",
     "traceback": [
      "\u001b[1;31m---------------------------------------------------------------------------\u001b[0m",
      "\u001b[1;31mModuleNotFoundError\u001b[0m                       Traceback (most recent call last)",
      "\u001b[1;32m<ipython-input-1-74fd8c4698d8>\u001b[0m in \u001b[0;36m<module>\u001b[1;34m()\u001b[0m\n\u001b[1;32m----> 1\u001b[1;33m \u001b[1;32mimport\u001b[0m \u001b[0mdirichlet\u001b[0m\u001b[1;33m\u001b[0m\u001b[0m\n\u001b[0m\u001b[0;32m      2\u001b[0m \u001b[1;32mimport\u001b[0m \u001b[0mnumpy\u001b[0m \u001b[1;32mas\u001b[0m \u001b[0mnp\u001b[0m\u001b[1;33m\u001b[0m\u001b[0m\n",
      "\u001b[1;32mD:\\Jupyter_File\\Hackaton_Scott_2\\notebooks\\dirichlet.py\u001b[0m in \u001b[0;36m<module>\u001b[1;34m()\u001b[0m\n\u001b[0;32m     23\u001b[0m \u001b[1;32mfrom\u001b[0m \u001b[0mnumpy\u001b[0m\u001b[1;33m.\u001b[0m\u001b[0mlinalg\u001b[0m \u001b[1;32mimport\u001b[0m \u001b[0mnorm\u001b[0m\u001b[1;33m\u001b[0m\u001b[0m\n\u001b[0;32m     24\u001b[0m \u001b[1;32mimport\u001b[0m \u001b[0mnumpy\u001b[0m \u001b[1;32mas\u001b[0m \u001b[0mnp\u001b[0m\u001b[1;33m\u001b[0m\u001b[0m\n\u001b[1;32m---> 25\u001b[1;33m \u001b[1;32mimport\u001b[0m \u001b[0msimplex\u001b[0m\u001b[1;33m\u001b[0m\u001b[0m\n\u001b[0m\u001b[0;32m     26\u001b[0m \u001b[1;33m\u001b[0m\u001b[0m\n\u001b[0;32m     27\u001b[0m \u001b[1;32mtry\u001b[0m\u001b[1;33m:\u001b[0m\u001b[1;33m\u001b[0m\u001b[0m\n",
      "\u001b[1;31mModuleNotFoundError\u001b[0m: No module named 'simplex'"
     ]
    }
   ],
   "source": [
    "import dirichlet\n",
    "import numpy as np"
   ]
  },
  {
   "cell_type": "code",
   "execution_count": null,
   "metadata": {},
   "outputs": [],
   "source": [
    "vec=[[22.8,32.4,33.0,0.3,0.8,10.6],\n",
    "      [24.6,27.5,27.9,0.5,0.9,18.6],\n",
    "      [22.3,23.7,19.0,0.8,0.8,33.4],\n",
    "      [16.2,19.4,13.3,0.8,0.6,49.7],\n",
    "      [12.9,14.6,9.8,1.2,0.6,61.0],\n",
    "      [8.1,6.6,3.6,2.4,0.2,79.0],\n",
    "      [3.7,2.7,0.1,1.3,0.1,92.0]]\n",
    " \n",
    "vec=np.array(vec)/100"
   ]
  },
  {
   "cell_type": "code",
   "execution_count": null,
   "metadata": {},
   "outputs": [],
   "source": [
    "est = dirichlet.mle(vec)\n",
    "print(est)"
   ]
  },
  {
   "cell_type": "code",
   "execution_count": null,
   "metadata": {
    "collapsed": true
   },
   "outputs": [],
   "source": []
  }
 ],
 "metadata": {
  "kernelspec": {
   "display_name": "Python 3",
   "language": "python",
   "name": "python3"
  },
  "language_info": {
   "codemirror_mode": {
    "name": "ipython",
    "version": 3
   },
   "file_extension": ".py",
   "mimetype": "text/x-python",
   "name": "python",
   "nbconvert_exporter": "python",
   "pygments_lexer": "ipython3",
   "version": "3.6.4"
  }
 },
 "nbformat": 4,
 "nbformat_minor": 2
}
