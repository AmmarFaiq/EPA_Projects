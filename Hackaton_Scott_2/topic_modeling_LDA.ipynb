{
 "cells": [
  {
   "cell_type": "markdown",
   "metadata": {},
   "source": [
    "### Gensim LDA"
   ]
  },
  {
   "cell_type": "code",
   "execution_count": 2,
   "metadata": {},
   "outputs": [
    {
     "name": "stderr",
     "output_type": "stream",
     "text": [
      "C:\\ProgramData\\Anaconda3\\lib\\site-packages\\gensim\\utils.py:1197: UserWarning: detected Windows; aliasing chunkize to chunkize_serial\n",
      "  warnings.warn(\"detected Windows; aliasing chunkize to chunkize_serial\")\n"
     ]
    }
   ],
   "source": [
    "import re\n",
    "import numpy as np\n",
    "import pandas as pd\n",
    "from pprint import pprint\n",
    "\n",
    "# Gensim\n",
    "import gensim\n",
    "import gensim.corpora as corpora\n",
    "from gensim.utils import simple_preprocess\n",
    "from gensim.models import CoherenceModel\n",
    "\n",
    "# Import nltk stopwords and spacy for lemmatization\n",
    "from nltk.corpus import stopwords\n",
    "\n",
    "# Plotting tools\n",
    "import pyLDAvis\n",
    "import pyLDAvis.gensim  # don't skip this\n",
    "import matplotlib.pyplot as plt\n",
    "import spacy\n",
    "%matplotlib inline\n",
    "\n",
    "# Enable logging for Gensim - optional\n",
    "import logging\n",
    "logging.basicConfig(format='%(asctime)s : %(levelname)s : %(message)s', level=logging.ERROR)\n",
    "\n",
    "import warnings\n",
    "warnings.filterwarnings('ignore',category=DeprecationWarning)"
   ]
  },
  {
   "cell_type": "markdown",
   "metadata": {},
   "source": [
    "#### 1. Import data set"
   ]
  },
  {
   "cell_type": "code",
   "execution_count": 3,
   "metadata": {
    "collapsed": true
   },
   "outputs": [],
   "source": [
    "# Create a list of words\n",
    "from os import listdir\n",
    "from os.path import isfile, join\n",
    "\n",
    "mypath = 'data/election'\n",
    "onlyfiles = [f for f in listdir(mypath) if isfile(join(mypath, f))]"
   ]
  },
  {
   "cell_type": "code",
   "execution_count": 4,
   "metadata": {
    "collapsed": true
   },
   "outputs": [],
   "source": [
    "# Collect all Tweets available and store them as list of dicts\n",
    "import json\n",
    "all_tweets = []\n",
    "\n",
    "for f in onlyfiles:\n",
    "    full_name = mypath+'/'+f\n",
    "\n",
    "    with open(full_name, 'r') as f:\n",
    "        data = json.load(f)\n",
    "        all_tweets.extend(data)"
   ]
  },
  {
   "cell_type": "code",
   "execution_count": 5,
   "metadata": {},
   "outputs": [
    {
     "name": "stdout",
     "output_type": "stream",
     "text": [
      "Number of keys assigned: 28 \n",
      "\n",
      "Sample of a Tweet: RT @Derksen_Gelul: Nederlands bekendste droogkloot, Marcel van Roosmalen sloopt D66 helemaal de moeder!! Luister zelf naar deze topper en g… \n",
      "\n",
      "Info available in a Tweet: \n",
      " dict_keys(['created_at', 'id', 'id_str', 'text', 'source', 'truncated', 'in_reply_to_status_id', 'in_reply_to_status_id_str', 'in_reply_to_user_id', 'in_reply_to_user_id_str', 'in_reply_to_screen_name', 'user', 'geo', 'coordinates', 'place', 'contributors', 'retweeted_status', 'is_quote_status', 'quote_count', 'reply_count', 'retweet_count', 'favorite_count', 'entities', 'favorited', 'retweeted', 'filter_level', 'lang', 'timestamp_ms'])\n",
      "\n",
      " Info avaialable in the whole set: \n",
      " ['contributors' 'coordinates' 'created_at' 'display_text_range' 'entities'\n",
      " 'extended_tweet' 'favorite_count' 'favorited' 'filter_level' 'geo' 'id'\n",
      " 'id_str' 'in_reply_to_screen_name' 'in_reply_to_status_id'\n",
      " 'in_reply_to_status_id_str' 'in_reply_to_user_id'\n",
      " 'in_reply_to_user_id_str' 'is_quote_status' 'lang' 'place'\n",
      " 'possibly_sensitive' 'quote_count' 'quoted_status' 'quoted_status_id'\n",
      " 'quoted_status_id_str' 'reply_count' 'retweet_count' 'retweeted'\n",
      " 'retweeted_status' 'source' 'text' 'timestamp_ms' 'truncated' 'user']\n"
     ]
    }
   ],
   "source": [
    "# Statistics\n",
    "print('Number of keys assigned:', len(all_tweets[0].keys()), '\\n')\n",
    "print('Sample of a Tweet:', all_tweets[0]['text'], '\\n')\n",
    "print('Info available in a Tweet:', '\\n', all_tweets[0].keys())\n",
    "print('\\n','Info avaialable in the whole set:', '\\n', pd.DataFrame(all_tweets[:10]).columns.values)"
   ]
  },
  {
   "cell_type": "code",
   "execution_count": 6,
   "metadata": {
    "collapsed": true,
    "scrolled": true
   },
   "outputs": [],
   "source": [
    "# Extract the data (id and text), and put it into dict and list\n",
    "text_dict = {} \n",
    "text_list = []\n",
    "id_list = []\n",
    "missing_tweets = 0\n",
    "\n",
    "for tweet in all_tweets:\n",
    "    if ('text' in tweet.keys()):\n",
    "        if ('id' in tweet.keys()):\n",
    "            my_id = tweet['id']\n",
    "            if (tweet['text'] != None):\n",
    "                text_dict[my_id] = tweet['text']\n",
    "                id_list.append(my_id)\n",
    "                text_list.append([tweet['text']])\n",
    "                \n",
    "            elif (tweet['text'] == None):\n",
    "                missing_values = missing_tweets + 1"
   ]
  },
  {
   "cell_type": "code",
   "execution_count": 7,
   "metadata": {},
   "outputs": [
    {
     "name": "stdout",
     "output_type": "stream",
     "text": [
      "The numver of blank Tweets = 0\n",
      "In total 795867 Tweets collected\n",
      "On average Tweet is 124 charachters long \n",
      "\n",
      "Longest Tweet is: ['@tacticsoftuchel Courtois&gt;Karius\\nAzpi&gt;Clyne \\nChristensen&lt;VVD (for now)\\nZouma/Rudiger&gt;&gt;&gt;&gt;&gt;&gt;\\nEmerson/Alonso&lt;Robertson… https://t.co/5YNNJog70t'] \n",
      "\n",
      "It is 170 characters long\n"
     ]
    }
   ],
   "source": [
    "# Statistics\n",
    "t = len(text_dict)\n",
    "max_length = 0\n",
    "average_length = 0\n",
    "\n",
    "for tweet in text_list : \n",
    "    average_length = average_length + sum(len(i) for i in tweet) \n",
    "    if (sum(len(i) for i in tweet) > max_length) : \n",
    "        max_length = sum(len(i) for i in tweet)\n",
    "        max_tweet = tweet\n",
    "\n",
    "print('The numver of blank Tweets = ' + str(missing_tweets))\n",
    "print('In total ' + str(t) + ' Tweets collected')\n",
    "print('On average Tweet is ' + str(round(average_length / t)) + ' charachters long', '\\n')\n",
    "print('Longest Tweet is:', max_tweet, '\\n')\n",
    "print('It is', sum(len(i) for i in max_tweet), 'characters long')"
   ]
  },
  {
   "cell_type": "code",
   "execution_count": 8,
   "metadata": {},
   "outputs": [
    {
     "data": {
      "text/html": [
       "<div>\n",
       "<style>\n",
       "    .dataframe thead tr:only-child th {\n",
       "        text-align: right;\n",
       "    }\n",
       "\n",
       "    .dataframe thead th {\n",
       "        text-align: left;\n",
       "    }\n",
       "\n",
       "    .dataframe tbody tr th {\n",
       "        vertical-align: top;\n",
       "    }\n",
       "</style>\n",
       "<table border=\"1\" class=\"dataframe\">\n",
       "  <thead>\n",
       "    <tr style=\"text-align: right;\">\n",
       "      <th></th>\n",
       "      <th>0</th>\n",
       "    </tr>\n",
       "  </thead>\n",
       "  <tbody>\n",
       "    <tr>\n",
       "      <th>0</th>\n",
       "      <td>RT @Derksen_Gelul: Nederlands bekendste droogk...</td>\n",
       "    </tr>\n",
       "    <tr>\n",
       "      <th>1</th>\n",
       "      <td>RT @GerBStruik: Niet alleen Ollongren, maar ni...</td>\n",
       "    </tr>\n",
       "    <tr>\n",
       "      <th>2</th>\n",
       "      <td>@JoostNiemoller Joost, trap er toch niet in. H...</td>\n",
       "    </tr>\n",
       "    <tr>\n",
       "      <th>3</th>\n",
       "      <td>@EenVandaag @thierrybaudet @D66 @APechtold Ald...</td>\n",
       "    </tr>\n",
       "    <tr>\n",
       "      <th>4</th>\n",
       "      <td>Dolhuysbrug moet na tien jaar definitief van t...</td>\n",
       "    </tr>\n",
       "  </tbody>\n",
       "</table>\n",
       "</div>"
      ],
      "text/plain": [
       "                                                   0\n",
       "0  RT @Derksen_Gelul: Nederlands bekendste droogk...\n",
       "1  RT @GerBStruik: Niet alleen Ollongren, maar ni...\n",
       "2  @JoostNiemoller Joost, trap er toch niet in. H...\n",
       "3  @EenVandaag @thierrybaudet @D66 @APechtold Ald...\n",
       "4  Dolhuysbrug moet na tien jaar definitief van t..."
      ]
     },
     "execution_count": 8,
     "metadata": {},
     "output_type": "execute_result"
    }
   ],
   "source": [
    "# Let's inspect the Tweets\n",
    "pd.DataFrame(text_list[:5])"
   ]
  },
  {
   "cell_type": "markdown",
   "metadata": {},
   "source": [
    "#### 2. Remove emails and newline characters "
   ]
  },
  {
   "cell_type": "code",
   "execution_count": 9,
   "metadata": {},
   "outputs": [
    {
     "name": "stdout",
     "output_type": "stream",
     "text": [
      "[['RT @Derksen_Gelul: Nederlands bekendste droogkloot, Marcel van Roosmalen '\n",
      "  'sloopt D66 helemaal de moeder!! Luister zelf naar deze topper en g…'],\n",
      " ['RT @GerBStruik: Niet alleen Ollongren, maar niemand in #Rutte3 heeft '\n",
      "  'kennelijk enig benul van staatsrecht. Een minister die als minister ee…'],\n",
      " ['@JoostNiemoller Joost, trap er toch niet in. Hier is één grote minne '\n",
      "  'manipulatie aan de gang tegen FVD. Deze heeft… https://t.co/lVFOuFFYF3']]\n"
     ]
    }
   ],
   "source": [
    "# Before\n",
    "pprint(text_list[:3])"
   ]
  },
  {
   "cell_type": "code",
   "execution_count": 10,
   "metadata": {
    "collapsed": true
   },
   "outputs": [],
   "source": [
    "# data = df.content.values.tolist()\n",
    "# TODO: include other Tweets into analysis\n",
    "data = text_list[:10000]\n",
    "\n",
    "# Remove Emails\n",
    "data = [re.sub('\\S*@\\S*\\s?', '', str(sent)) for sent in data]\n",
    "\n",
    "# Remove new line characters\n",
    "data = [re.sub('\\s+', ' ', str(sent)) for sent in data]\n",
    "\n",
    "# Remove distracting single quotes\n",
    "data = [re.sub(\"\\'\", \"\", str(sent)) for sent in data]\n",
    "\n",
    "# TODO: remove https and links\n",
    "data = [re.sub(\"https\", \"\", str(sent)) for sent in data]"
   ]
  },
  {
   "cell_type": "code",
   "execution_count": 11,
   "metadata": {},
   "outputs": [
    {
     "name": "stdout",
     "output_type": "stream",
     "text": [
      "['[RT Nederlands bekendste droogkloot, Marcel van Roosmalen sloopt D66 '\n",
      " 'helemaal de moeder!! Luister zelf naar deze topper en g…]',\n",
      " '[RT Niet alleen Ollongren, maar niemand in #Rutte3 heeft kennelijk enig '\n",
      " 'benul van staatsrecht. Een minister die als minister ee…]',\n",
      " 'Joost, trap er toch niet in. Hier is één grote minne manipulatie aan de gang '\n",
      " 'tegen FVD. Deze heeft… ://t.co/lVFOuFFYF3]']\n"
     ]
    }
   ],
   "source": [
    "# After\n",
    "pprint(data[:3])"
   ]
  },
  {
   "cell_type": "markdown",
   "metadata": {},
   "source": [
    "#### 3. Tokenize words and Clean-up text"
   ]
  },
  {
   "cell_type": "code",
   "execution_count": 12,
   "metadata": {},
   "outputs": [
    {
     "data": {
      "text/html": [
       "<div>\n",
       "<style>\n",
       "    .dataframe thead tr:only-child th {\n",
       "        text-align: right;\n",
       "    }\n",
       "\n",
       "    .dataframe thead th {\n",
       "        text-align: left;\n",
       "    }\n",
       "\n",
       "    .dataframe tbody tr th {\n",
       "        vertical-align: top;\n",
       "    }\n",
       "</style>\n",
       "<table border=\"1\" class=\"dataframe\">\n",
       "  <thead>\n",
       "    <tr style=\"text-align: right;\">\n",
       "      <th></th>\n",
       "      <th>0</th>\n",
       "      <th>1</th>\n",
       "      <th>2</th>\n",
       "      <th>3</th>\n",
       "      <th>4</th>\n",
       "      <th>5</th>\n",
       "      <th>6</th>\n",
       "      <th>7</th>\n",
       "      <th>8</th>\n",
       "      <th>9</th>\n",
       "      <th>...</th>\n",
       "      <th>11</th>\n",
       "      <th>12</th>\n",
       "      <th>13</th>\n",
       "      <th>14</th>\n",
       "      <th>15</th>\n",
       "      <th>16</th>\n",
       "      <th>17</th>\n",
       "      <th>18</th>\n",
       "      <th>19</th>\n",
       "      <th>20</th>\n",
       "    </tr>\n",
       "  </thead>\n",
       "  <tbody>\n",
       "    <tr>\n",
       "      <th>0</th>\n",
       "      <td>rt</td>\n",
       "      <td>nederlands</td>\n",
       "      <td>bekendste</td>\n",
       "      <td>droogkloot</td>\n",
       "      <td>marcel</td>\n",
       "      <td>van</td>\n",
       "      <td>roosmalen</td>\n",
       "      <td>sloopt</td>\n",
       "      <td>helemaal</td>\n",
       "      <td>de</td>\n",
       "      <td>...</td>\n",
       "      <td>luister</td>\n",
       "      <td>zelf</td>\n",
       "      <td>naar</td>\n",
       "      <td>deze</td>\n",
       "      <td>topper</td>\n",
       "      <td>en</td>\n",
       "      <td>None</td>\n",
       "      <td>None</td>\n",
       "      <td>None</td>\n",
       "      <td>None</td>\n",
       "    </tr>\n",
       "    <tr>\n",
       "      <th>1</th>\n",
       "      <td>rt</td>\n",
       "      <td>niet</td>\n",
       "      <td>alleen</td>\n",
       "      <td>ollongren</td>\n",
       "      <td>maar</td>\n",
       "      <td>niemand</td>\n",
       "      <td>in</td>\n",
       "      <td>rutte</td>\n",
       "      <td>heeft</td>\n",
       "      <td>kennelijk</td>\n",
       "      <td>...</td>\n",
       "      <td>benul</td>\n",
       "      <td>van</td>\n",
       "      <td>staatsrecht</td>\n",
       "      <td>een</td>\n",
       "      <td>minister</td>\n",
       "      <td>die</td>\n",
       "      <td>als</td>\n",
       "      <td>minister</td>\n",
       "      <td>ee</td>\n",
       "      <td>None</td>\n",
       "    </tr>\n",
       "    <tr>\n",
       "      <th>2</th>\n",
       "      <td>joost</td>\n",
       "      <td>trap</td>\n",
       "      <td>er</td>\n",
       "      <td>toch</td>\n",
       "      <td>niet</td>\n",
       "      <td>in</td>\n",
       "      <td>hier</td>\n",
       "      <td>is</td>\n",
       "      <td>een</td>\n",
       "      <td>grote</td>\n",
       "      <td>...</td>\n",
       "      <td>manipulatie</td>\n",
       "      <td>aan</td>\n",
       "      <td>de</td>\n",
       "      <td>gang</td>\n",
       "      <td>tegen</td>\n",
       "      <td>fvd</td>\n",
       "      <td>deze</td>\n",
       "      <td>heeft</td>\n",
       "      <td>co</td>\n",
       "      <td>lvfouffyf</td>\n",
       "    </tr>\n",
       "    <tr>\n",
       "      <th>3</th>\n",
       "      <td>aldus</td>\n",
       "      <td>leugenaar</td>\n",
       "      <td>hoe</td>\n",
       "      <td>durft</td>\n",
       "      <td>deze</td>\n",
       "      <td>partij</td>\n",
       "      <td>nog</td>\n",
       "      <td>de</td>\n",
       "      <td>van</td>\n",
       "      <td>co</td>\n",
       "      <td>...</td>\n",
       "      <td>kqfumv</td>\n",
       "      <td>None</td>\n",
       "      <td>None</td>\n",
       "      <td>None</td>\n",
       "      <td>None</td>\n",
       "      <td>None</td>\n",
       "      <td>None</td>\n",
       "      <td>None</td>\n",
       "      <td>None</td>\n",
       "      <td>None</td>\n",
       "    </tr>\n",
       "    <tr>\n",
       "      <th>4</th>\n",
       "      <td>dolhuysbrug</td>\n",
       "      <td>moet</td>\n",
       "      <td>na</td>\n",
       "      <td>tien</td>\n",
       "      <td>jaar</td>\n",
       "      <td>definitief</td>\n",
       "      <td>van</td>\n",
       "      <td>tafel</td>\n",
       "      <td>vvd</td>\n",
       "      <td>haarlem</td>\n",
       "      <td>...</td>\n",
       "      <td>saanwvxg</td>\n",
       "      <td>nmaak</td>\n",
       "      <td>uw</td>\n",
       "      <td>eigen</td>\n",
       "      <td>filter</td>\n",
       "      <td>ove</td>\n",
       "      <td>co</td>\n",
       "      <td>pbveexkhtf</td>\n",
       "      <td>None</td>\n",
       "      <td>None</td>\n",
       "    </tr>\n",
       "  </tbody>\n",
       "</table>\n",
       "<p>5 rows × 21 columns</p>\n",
       "</div>"
      ],
      "text/plain": [
       "            0           1          2           3       4           5   \\\n",
       "0           rt  nederlands  bekendste  droogkloot  marcel         van   \n",
       "1           rt        niet     alleen   ollongren    maar     niemand   \n",
       "2        joost        trap         er        toch    niet          in   \n",
       "3        aldus   leugenaar        hoe       durft    deze      partij   \n",
       "4  dolhuysbrug        moet         na        tien    jaar  definitief   \n",
       "\n",
       "          6       7         8          9     ...               11     12  \\\n",
       "0  roosmalen  sloopt  helemaal         de    ...          luister   zelf   \n",
       "1         in   rutte     heeft  kennelijk    ...            benul    van   \n",
       "2       hier      is       een      grote    ...      manipulatie    aan   \n",
       "3        nog      de       van         co    ...           kqfumv   None   \n",
       "4        van   tafel       vvd    haarlem    ...         saanwvxg  nmaak   \n",
       "\n",
       "            13     14        15    16    17          18    19         20  \n",
       "0         naar   deze    topper    en  None        None  None       None  \n",
       "1  staatsrecht    een  minister   die   als    minister    ee       None  \n",
       "2           de   gang     tegen   fvd  deze       heeft    co  lvfouffyf  \n",
       "3         None   None      None  None  None        None  None       None  \n",
       "4           uw  eigen    filter   ove    co  pbveexkhtf  None       None  \n",
       "\n",
       "[5 rows x 21 columns]"
      ]
     },
     "execution_count": 12,
     "metadata": {},
     "output_type": "execute_result"
    }
   ],
   "source": [
    "def sent_to_words(sentences) :\n",
    "    '''Split sentences into words'''\n",
    "    for sentence in sentences :\n",
    "        # The main function here is Gensim's simple_preprocess\n",
    "        yield(gensim.utils.simple_preprocess(str(sentence), deacc=True))  # deacc=True removes punctuations\n",
    "\n",
    "data_words = list(sent_to_words(data))\n",
    "\n",
    "# Let's explore what do we have now\n",
    "pd.DataFrame(data_words[:5])"
   ]
  },
  {
   "cell_type": "markdown",
   "metadata": {},
   "source": [
    "#### 4. Remove Stopwords, Make Bigrams and Lemmatize"
   ]
  },
  {
   "cell_type": "markdown",
   "metadata": {},
   "source": [
    "Bigrams are two words frequently occurring together in the document. Trigrams are 3 words frequently occurring."
   ]
  },
  {
   "cell_type": "code",
   "execution_count": 13,
   "metadata": {
    "collapsed": true
   },
   "outputs": [],
   "source": [
    "# NLTK stop words collection\n",
    "stop_words = stopwords.words('dutch')\n",
    "\n",
    "# TODO: Extend stop words collection using native speaker knowledge\n",
    "# stop_words.extend(['from', 'subject', 're', 'edu', 'use'])"
   ]
  },
  {
   "cell_type": "code",
   "execution_count": 14,
   "metadata": {
    "scrolled": true
   },
   "outputs": [
    {
     "name": "stdout",
     "output_type": "stream",
     "text": [
      "The number of Dutch stop words avaialable: 101\n"
     ]
    }
   ],
   "source": [
    "print('The number of Dutch stop words avaialable:', len(stop_words))"
   ]
  },
  {
   "cell_type": "code",
   "execution_count": 15,
   "metadata": {},
   "outputs": [
    {
     "name": "stderr",
     "output_type": "stream",
     "text": [
      "C:\\ProgramData\\Anaconda3\\lib\\site-packages\\gensim\\models\\phrases.py:494: UserWarning: For a faster implementation, use the gensim.models.phrases.Phraser class\n",
      "  warnings.warn(\"For a faster implementation, use the gensim.models.phrases.Phraser class\")\n"
     ]
    },
    {
     "name": "stdout",
     "output_type": "stream",
     "text": [
      "['rt', 'niet', 'alleen_ollongren', 'maar', 'niemand', 'in', 'rutte', 'heeft', 'kennelijk_enig_benul', 'van', 'staatsrecht', 'een', 'minister', 'die', 'als', 'minister_ee']\n"
     ]
    }
   ],
   "source": [
    "# Build the bigram and trigram models\n",
    "bigram = gensim.models.Phrases(data_words, min_count=5, threshold=100) # higher threshold fewer phrases.\n",
    "trigram = gensim.models.Phrases(bigram[data_words], threshold=100)  \n",
    "\n",
    "# Faster way to get a sentence clubbed as a trigram/bigram\n",
    "bigram_mod = gensim.models.phrases.Phraser(bigram)\n",
    "trigram_mod = gensim.models.phrases.Phraser(trigram)\n",
    "\n",
    "# See trigram example\n",
    "print(trigram_mod[bigram_mod[data_words[5]]])"
   ]
  },
  {
   "cell_type": "code",
   "execution_count": 16,
   "metadata": {
    "collapsed": true
   },
   "outputs": [],
   "source": [
    "# Define functions for stopwords, bigrams, trigrams and lemmatization\n",
    "def remove_stopwords(texts) :\n",
    "    return [[word for word in simple_preprocess(str(doc)) if word not in stop_words] for doc in texts]\n",
    "\n",
    "def make_bigrams(texts) :\n",
    "    return [bigram_mod[doc] for doc in texts]\n",
    "\n",
    "def make_trigrams(texts) :\n",
    "    return [trigram_mod[bigram_mod[doc]] for doc in texts]\n",
    "\n",
    "def lemmatization(texts, allowed_postags=['NOUN', 'ADJ', 'VERB', 'ADV']) :\n",
    "    texts_out = []\n",
    "    for sent in texts :\n",
    "        doc = nlp(\" \".join(sent)) \n",
    "        texts_out.append([token.lemma_ for token in doc if token.pos_ in allowed_postags])\n",
    "    return texts_out"
   ]
  },
  {
   "cell_type": "markdown",
   "metadata": {},
   "source": [
    "Lemmatization is converting a word to its root word. Spacy NLP package responsible for that. Thanks we have Dutch language version."
   ]
  },
  {
   "cell_type": "code",
   "execution_count": 17,
   "metadata": {},
   "outputs": [
    {
     "name": "stdout",
     "output_type": "stream",
     "text": [
      "[['nederlands_bekendste', 'droogkloot_marcel', 'roosmalen_sloopt', 'helemaal', 'moeder_luister', 'topper']]\n"
     ]
    }
   ],
   "source": [
    "# Remove stop words\n",
    "data_words_nostops = remove_stopwords(data_words)\n",
    "\n",
    "# Form bigrams\n",
    "data_words_bigrams = make_bigrams(data_words_nostops)\n",
    "\n",
    "nlp = spacy.load('nl', disable=['parser', 'ner'])\n",
    "\n",
    "# Do lemmatization keeping only noun, adj, vb, adv\n",
    "data_lemmatized = lemmatization(data_words_bigrams, allowed_postags=['NOUN', 'ADJ', 'VERB', 'ADV'])\n",
    "\n",
    "print(data_lemmatized[:1])"
   ]
  },
  {
   "cell_type": "code",
   "execution_count": 18,
   "metadata": {
    "scrolled": true
   },
   "outputs": [
    {
     "name": "stdout",
     "output_type": "stream",
     "text": [
      "[['rt', 'nederlands', 'bekendste', 'droogkloot', 'marcel', 'van', 'roosmalen', 'sloopt', 'helemaal', 'de', 'moeder', 'luister', 'zelf', 'naar', 'deze', 'topper', 'en']]\n"
     ]
    }
   ],
   "source": [
    "print(data_words[:1])"
   ]
  },
  {
   "cell_type": "code",
   "execution_count": 19,
   "metadata": {},
   "outputs": [
    {
     "name": "stdout",
     "output_type": "stream",
     "text": [
      "[['rt', 'nederlands', 'bekendste', 'droogkloot', 'marcel', 'roosmalen', 'sloopt', 'helemaal', 'moeder', 'luister', 'topper']]\n"
     ]
    }
   ],
   "source": [
    "print(data_words_nostops[:1])"
   ]
  },
  {
   "cell_type": "code",
   "execution_count": 20,
   "metadata": {},
   "outputs": [
    {
     "name": "stdout",
     "output_type": "stream",
     "text": [
      "[['rt', 'nederlands_bekendste', 'droogkloot_marcel', 'roosmalen_sloopt', 'helemaal', 'moeder_luister', 'topper']]\n"
     ]
    }
   ],
   "source": [
    "print(data_words_bigrams[:1])"
   ]
  },
  {
   "cell_type": "code",
   "execution_count": 21,
   "metadata": {},
   "outputs": [
    {
     "name": "stdout",
     "output_type": "stream",
     "text": [
      "[['nederlands_bekendste', 'droogkloot_marcel', 'roosmalen_sloopt', 'helemaal', 'moeder_luister', 'topper']]\n"
     ]
    }
   ],
   "source": [
    "print(data_lemmatized[:1])"
   ]
  },
  {
   "cell_type": "code",
   "execution_count": 3,
   "metadata": {},
   "outputs": [],
   "source": [
    "\n",
    "import time\n",
    "import pickle\n",
    "import bs4\n",
    "\n",
    "# Load results\n",
    "with open('elections_data_lemmatized', 'rb') as fp:\n",
    "    data_lemmatized = pickle.load(fp)"
   ]
  },
  {
   "cell_type": "markdown",
   "metadata": {},
   "source": [
    "#### 6. Create the Dictionary and Corpus needed for Topic Modeling"
   ]
  },
  {
   "cell_type": "code",
   "execution_count": 4,
   "metadata": {},
   "outputs": [
    {
     "name": "stdout",
     "output_type": "stream",
     "text": [
      "        0       1       2       3       4       5\n",
      "0  (0, 1)  (1, 1)  (2, 1)  (3, 1)  (4, 1)  (5, 1)\n"
     ]
    }
   ],
   "source": [
    "# Create Dictionary\n",
    "id2word = corpora.Dictionary(data_lemmatized)\n",
    "\n",
    "# Create Corpus\n",
    "texts = data_lemmatized\n",
    "\n",
    "# Term Document Frequency\n",
    "corpus = [id2word.doc2bow(text) for text in texts]\n",
    "\n",
    "# Corpus contains pairs - a unique id for each word in the document and its frequency (word_id, word_frequency).\n",
    "print(pd.DataFrame(corpus[:1]))"
   ]
  },
  {
   "cell_type": "code",
   "execution_count": 5,
   "metadata": {},
   "outputs": [
    {
     "name": "stdout",
     "output_type": "stream",
     "text": [
      "[[(0, 1), (1, 1), (2, 1), (3, 1), (4, 1), (5, 1)],\n",
      " [(6, 1), (7, 1), (8, 1), (9, 1), (10, 2), (11, 1), (12, 1), (13, 1)]]\n",
      "ollongren\n"
     ]
    }
   ],
   "source": [
    "# We also can check what was the word from the dictionary - id2word\n",
    "pprint(corpus[:2])\n",
    "print(id2word[11])"
   ]
  },
  {
   "cell_type": "code",
   "execution_count": 6,
   "metadata": {},
   "outputs": [
    {
     "data": {
      "text/plain": [
       "[[('droogkloot_marcel', 1),\n",
       "  ('helemaal', 1),\n",
       "  ('moeder_luister', 1),\n",
       "  ('nederlands_bekendste', 1),\n",
       "  ('roosmalen_sloopt', 1),\n",
       "  ('topper', 1)],\n",
       " [('alleen', 1),\n",
       "  ('benul', 1),\n",
       "  ('ee', 1),\n",
       "  ('kennelijk_enig', 1),\n",
       "  ('minister', 2),\n",
       "  ('ollongren', 1),\n",
       "  ('rutte', 1),\n",
       "  ('staatsrecht', 1)]]"
      ]
     },
     "execution_count": 6,
     "metadata": {},
     "output_type": "execute_result"
    }
   ],
   "source": [
    "# Readable format\n",
    "[[(id2word[id], freq) for id, freq in cp] for cp in corpus[:2]]"
   ]
  },
  {
   "cell_type": "markdown",
   "metadata": {},
   "source": [
    "#### 7. Build the model"
   ]
  },
  {
   "cell_type": "code",
   "execution_count": null,
   "metadata": {
    "collapsed": true
   },
   "outputs": [],
   "source": [
    "# TODO: tune the parameters\n",
    "# Build LDA model\n",
    "lda_model = gensim.models.ldamodel.LdaModel(corpus=corpus, # corpus\n",
    "                                           id2word=id2word, # dict\n",
    "                                           num_topics=10, # number of topic to be extracted\n",
    "                                           random_state=100,\n",
    "                                           update_every=1, #\n",
    "                                           chunksize=100, # \n",
    "                                           passes=10, # \n",
    "                                           alpha='auto', # \n",
    "                                           per_word_topics=True) # "
   ]
  },
  {
   "cell_type": "markdown",
   "metadata": {},
   "source": [
    "#### 8. Print the topics"
   ]
  },
  {
   "cell_type": "code",
   "execution_count": null,
   "metadata": {},
   "outputs": [],
   "source": [
    "# Print the keywords in the 10 topics\n",
    "pprint(lda_model.print_topics())\n",
    "doc_lda = lda_model[corpus]"
   ]
  },
  {
   "cell_type": "markdown",
   "metadata": {},
   "source": [
    "#### 9. Compute Model Perplexity and Coherence Score"
   ]
  },
  {
   "cell_type": "code",
   "execution_count": 27,
   "metadata": {},
   "outputs": [
    {
     "name": "stdout",
     "output_type": "stream",
     "text": [
      "\n",
      "Perplexity:  -8.29433185874\n",
      "\n",
      "Coherence Score:  0.520018195805\n"
     ]
    }
   ],
   "source": [
    "# Compute Perplexity\n",
    "print('\\nPerplexity: ', lda_model.log_perplexity(corpus))  # a measure of how good the model is. lower the better.\n",
    "\n",
    "# Compute Coherence Score\n",
    "coherence_model_lda = CoherenceModel(model=lda_model, texts=data_lemmatized, dictionary=id2word, coherence='c_v')\n",
    "coherence_lda = coherence_model_lda.get_coherence()\n",
    "print('\\nCoherence Score: ', coherence_lda)"
   ]
  },
  {
   "cell_type": "markdown",
   "metadata": {},
   "source": [
    "#### 10. Visualize the topics-keywords"
   ]
  },
  {
   "cell_type": "markdown",
   "metadata": {},
   "source": [
    "Each bubble is a topic. The larger the bubble, the more prevalent the topic."
   ]
  },
  {
   "cell_type": "code",
   "execution_count": 28,
   "metadata": {
    "scrolled": false
   },
   "outputs": [
    {
     "data": {
      "text/html": [
       "\n",
       "<link rel=\"stylesheet\" type=\"text/css\" href=\"https://cdn.rawgit.com/bmabey/pyLDAvis/files/ldavis.v1.0.0.css\">\n",
       "\n",
       "\n",
       "<div id=\"ldavis_el697219465926775843514464719\"></div>\n",
       "<script type=\"text/javascript\">\n",
       "\n",
       "var ldavis_el697219465926775843514464719_data = {\"mdsDat\": {\"Freq\": [14.208470672029764, 12.012739338731167, 10.645026416838647, 10.387444252892305, 10.173902652925475, 8.977041134197705, 8.544525902571479, 8.480484198047103, 8.457303922011146, 8.113061509755205], \"cluster\": [1, 1, 1, 1, 1, 1, 1, 1, 1, 1], \"topics\": [1, 2, 3, 4, 5, 6, 7, 8, 9, 10], \"x\": [0.31217755836294947, 0.2042225156582792, -0.08984793523079823, -0.11048622587318249, -0.04792174854352913, 0.08831518277183287, -0.10224532564646506, -0.09983752185720017, -0.06600716487794764, -0.0883693347639388], \"y\": [-0.0038446419124675206, -0.019000476977364365, 0.3802789910309115, -0.13589994952970444, -0.06450824128751158, 0.043885399687385286, -0.04573339545068291, -0.03747386826240833, -0.0694512714408182, -0.048252545857339485]}, \"tinfo\": {\"Category\": [\"Default\", \"Default\", \"Default\", \"Default\", \"Default\", \"Default\", \"Default\", \"Default\", \"Default\", \"Default\", \"Default\", \"Default\", \"Default\", \"Default\", \"Default\", \"Default\", \"Default\", \"Default\", \"Default\", \"Default\", \"Default\", \"Default\", \"Default\", \"Default\", \"Default\", \"Default\", \"Default\", \"Default\", \"Default\", \"Default\", \"Topic1\", \"Topic1\", \"Topic1\", \"Topic1\", \"Topic1\", \"Topic1\", \"Topic1\", \"Topic1\", \"Topic1\", \"Topic1\", \"Topic1\", \"Topic1\", \"Topic1\", \"Topic1\", \"Topic1\", \"Topic1\", \"Topic1\", \"Topic1\", \"Topic1\", \"Topic1\", \"Topic1\", \"Topic1\", \"Topic1\", \"Topic1\", \"Topic1\", \"Topic1\", \"Topic1\", \"Topic1\", \"Topic1\", \"Topic1\", \"Topic1\", \"Topic1\", \"Topic1\", \"Topic1\", \"Topic1\", \"Topic2\", \"Topic2\", \"Topic2\", \"Topic2\", \"Topic2\", \"Topic2\", \"Topic2\", \"Topic2\", \"Topic2\", \"Topic2\", \"Topic2\", \"Topic2\", \"Topic2\", \"Topic2\", \"Topic2\", \"Topic2\", \"Topic2\", \"Topic2\", \"Topic2\", \"Topic2\", \"Topic2\", \"Topic2\", \"Topic2\", \"Topic2\", \"Topic2\", \"Topic2\", \"Topic2\", \"Topic2\", \"Topic2\", \"Topic2\", \"Topic2\", \"Topic2\", \"Topic3\", \"Topic3\", \"Topic3\", \"Topic3\", \"Topic3\", \"Topic3\", \"Topic3\", \"Topic3\", \"Topic3\", \"Topic3\", \"Topic3\", \"Topic3\", \"Topic3\", \"Topic3\", \"Topic3\", \"Topic3\", \"Topic3\", \"Topic3\", \"Topic3\", \"Topic3\", \"Topic3\", \"Topic3\", \"Topic3\", \"Topic3\", \"Topic3\", \"Topic3\", \"Topic3\", \"Topic3\", \"Topic3\", \"Topic3\", \"Topic3\", \"Topic3\", \"Topic4\", \"Topic4\", \"Topic4\", \"Topic4\", \"Topic4\", \"Topic4\", \"Topic4\", \"Topic4\", \"Topic4\", \"Topic4\", \"Topic4\", \"Topic4\", \"Topic4\", \"Topic4\", \"Topic4\", \"Topic4\", \"Topic4\", \"Topic4\", \"Topic4\", \"Topic4\", \"Topic4\", \"Topic4\", \"Topic4\", \"Topic4\", \"Topic4\", \"Topic4\", \"Topic4\", \"Topic4\", \"Topic4\", \"Topic4\", \"Topic4\", \"Topic4\", \"Topic4\", \"Topic4\", \"Topic4\", \"Topic4\", \"Topic5\", \"Topic5\", \"Topic5\", \"Topic5\", \"Topic5\", \"Topic5\", \"Topic5\", \"Topic5\", \"Topic5\", \"Topic5\", \"Topic5\", \"Topic5\", \"Topic5\", \"Topic5\", \"Topic5\", \"Topic5\", \"Topic5\", \"Topic5\", \"Topic5\", \"Topic5\", \"Topic5\", \"Topic5\", \"Topic5\", \"Topic5\", \"Topic5\", \"Topic5\", \"Topic5\", \"Topic5\", \"Topic5\", \"Topic5\", \"Topic5\", \"Topic5\", \"Topic5\", \"Topic5\", \"Topic6\", \"Topic6\", \"Topic6\", \"Topic6\", \"Topic6\", \"Topic6\", \"Topic6\", \"Topic6\", \"Topic6\", \"Topic6\", \"Topic6\", \"Topic6\", \"Topic6\", \"Topic6\", \"Topic6\", \"Topic6\", \"Topic6\", \"Topic6\", \"Topic6\", \"Topic6\", \"Topic6\", \"Topic6\", \"Topic6\", \"Topic6\", \"Topic6\", \"Topic6\", \"Topic6\", \"Topic6\", \"Topic6\", \"Topic6\", \"Topic6\", \"Topic6\", \"Topic6\", \"Topic6\", \"Topic6\", \"Topic6\", \"Topic6\", \"Topic7\", \"Topic7\", \"Topic7\", \"Topic7\", \"Topic7\", \"Topic7\", \"Topic7\", \"Topic7\", \"Topic7\", \"Topic7\", \"Topic7\", \"Topic7\", \"Topic7\", \"Topic7\", \"Topic7\", \"Topic7\", \"Topic7\", \"Topic7\", \"Topic7\", \"Topic7\", \"Topic7\", \"Topic7\", \"Topic7\", \"Topic7\", \"Topic7\", \"Topic7\", \"Topic7\", \"Topic7\", \"Topic7\", \"Topic7\", \"Topic7\", \"Topic7\", \"Topic7\", \"Topic7\", \"Topic7\", \"Topic7\", \"Topic7\", \"Topic7\", \"Topic7\", \"Topic8\", \"Topic8\", \"Topic8\", \"Topic8\", \"Topic8\", \"Topic8\", \"Topic8\", \"Topic8\", \"Topic8\", \"Topic8\", \"Topic8\", \"Topic8\", \"Topic8\", \"Topic8\", \"Topic8\", \"Topic8\", \"Topic8\", \"Topic8\", \"Topic8\", \"Topic8\", \"Topic8\", \"Topic8\", \"Topic8\", \"Topic8\", \"Topic8\", \"Topic8\", \"Topic8\", \"Topic8\", \"Topic8\", \"Topic8\", \"Topic8\", \"Topic8\", \"Topic8\", \"Topic8\", \"Topic8\", \"Topic9\", \"Topic9\", \"Topic9\", \"Topic9\", \"Topic9\", \"Topic9\", \"Topic9\", \"Topic9\", \"Topic9\", \"Topic9\", \"Topic9\", \"Topic9\", \"Topic9\", \"Topic9\", \"Topic9\", \"Topic9\", \"Topic9\", \"Topic9\", \"Topic9\", \"Topic9\", \"Topic9\", \"Topic9\", \"Topic9\", \"Topic9\", \"Topic9\", \"Topic9\", \"Topic9\", \"Topic9\", \"Topic9\", \"Topic9\", \"Topic9\", \"Topic9\", \"Topic10\", \"Topic10\", \"Topic10\", \"Topic10\", \"Topic10\", \"Topic10\", \"Topic10\", \"Topic10\", \"Topic10\", \"Topic10\", \"Topic10\", \"Topic10\", \"Topic10\", \"Topic10\", \"Topic10\", \"Topic10\", \"Topic10\", \"Topic10\", \"Topic10\", \"Topic10\", \"Topic10\", \"Topic10\", \"Topic10\", \"Topic10\", \"Topic10\", \"Topic10\", \"Topic10\", \"Topic10\", \"Topic10\", \"Topic10\", \"Topic10\", \"Topic10\", \"Topic10\", \"Topic10\", \"Topic10\"], \"Freq\": [965.0, 798.0, 1434.0, 669.0, 833.0, 702.0, 628.0, 621.0, 590.0, 670.0, 568.0, 554.0, 573.0, 607.0, 485.0, 440.0, 547.0, 498.0, 497.0, 418.0, 477.0, 475.0, 475.0, 396.0, 379.0, 433.0, 385.0, 353.0, 375.0, 416.0, 832.7707182003797, 606.8326389862517, 546.4711240957499, 416.0329970796431, 415.5203569124195, 407.7357158620956, 407.7260226880939, 407.29831138526816, 270.23431304759345, 203.85040264505253, 198.86464665574383, 195.64698618668575, 165.84695086872884, 161.90669456901153, 112.61317517012992, 100.67788672110225, 97.77549105685586, 95.62779986214936, 93.21884733692784, 89.1495033283615, 70.85755158708413, 61.88186651429446, 61.109711491754396, 59.58748086889987, 54.92780931124267, 50.00842884546916, 49.299075935150185, 47.25550590004513, 46.50770213738731, 44.60610775683767, 178.0148754937977, 130.0267824103992, 130.0267824103992, 130.0267824103992, 317.18344744065365, 669.4455394259869, 572.9795802617176, 497.4785037828099, 496.5345486514633, 476.47927159238054, 475.02711665399596, 475.02615627640785, 142.64403482743265, 140.55196429580175, 102.32416641394002, 94.00367907871775, 93.71752657319584, 70.04782844555383, 61.00161177801496, 58.504193877458704, 46.997209719069566, 46.092722105020684, 45.81957071109771, 38.90739707736312, 38.61587045892111, 37.89569531032237, 37.219813576401606, 35.81056350676553, 34.62220428396648, 30.082657487147344, 29.86025004403578, 24.726931796292064, 24.208253869610584, 23.385972576316696, 23.481872280848727, 851.1405917975103, 100.40197867449803, 797.690359302465, 567.4445806970201, 553.5814703086075, 253.2804213566891, 219.5295209728413, 219.52669837807068, 219.52669837807068, 219.52669837807068, 158.7462616894763, 150.75668734087128, 75.03929188452078, 75.01938479024653, 62.079801879775, 53.38983042501494, 53.38983042501494, 53.31945349233577, 55.344009235194314, 48.991142704539755, 52.984277455270515, 52.984277455270515, 47.34098855572217, 47.34098855572217, 47.34098855572217, 46.33856671716345, 46.33856671716345, 46.33856671716345, 46.33856671716345, 46.33856671716345, 40.96862626369964, 39.856995538525645, 937.2235588017257, 45.010433044357065, 277.307540392042, 230.5713988771992, 201.8285700473716, 159.1067792758279, 141.92017060775237, 141.24114686114416, 129.01613121509007, 125.34911232913171, 114.55125761042962, 107.89612593934356, 104.95806797238971, 104.2453214096663, 96.09529944506383, 96.09529944506383, 96.09529944506383, 83.75669334062383, 80.97649524611067, 66.85212312335365, 60.892776262005505, 60.892776262005505, 60.892776262005505, 60.77556646587522, 58.839241533664904, 51.83841812578389, 50.3561436118238, 45.45745993925754, 45.37517363820734, 43.36745501987917, 43.36745501987917, 48.42677362116813, 108.3583908010021, 67.11428635809436, 67.11428635809436, 226.57152548487755, 277.4203696130438, 63.03195019605623, 701.3612434103993, 485.1554374371726, 384.3636902272483, 374.3275860985783, 228.97312139409328, 187.0330033367351, 151.06400230444078, 151.06294492492387, 146.5316534543573, 139.25205638940398, 105.09361443761522, 105.09361443761522, 105.09361443761522, 87.21161873194457, 84.5207640913103, 79.05817883314526, 78.97670638575204, 78.97555411320155, 77.99890145555688, 77.80125282277932, 67.45326918313557, 67.30792694607626, 61.573222358003115, 54.82409768492463, 52.33823910909573, 50.56621676733011, 43.41489813857815, 40.07759826289949, 38.90922439803843, 34.4616929747815, 44.9201829410538, 44.9201829410538, 44.9201829410538, 130.38012710885957, 395.56260631318696, 334.9140381389035, 236.09409038200917, 175.97451501799821, 169.6041617127706, 142.1642849347876, 66.39431523726763, 64.56681104216827, 62.3964812295399, 62.25179018308515, 61.69913174759785, 56.00654113569, 50.1662242726783, 50.161379906637364, 50.161379906637364, 50.161379906637364, 47.47896172893982, 47.11298183594479, 40.66513063545986, 40.338473837179826, 37.61530616809968, 33.806519059595324, 32.502861283437326, 31.09147317950726, 28.337253722174598, 28.158658094132115, 28.099700365204285, 43.935086684139435, 31.07084574929098, 25.19575710336323, 101.04688488381588, 48.466318286817646, 48.466318286817646, 48.466318286817646, 265.50266967343777, 38.98047244123052, 33.70176412948421, 668.3041123103995, 620.7304427405485, 417.6999866123041, 161.27528769259752, 161.27528769259752, 160.76867370670962, 160.76706840822408, 82.60140776069638, 76.80588174949814, 68.78376689100145, 68.76251660998523, 60.82726433869091, 60.61779565651737, 50.16622093147335, 47.28388188419554, 45.24255985200916, 42.61234944027632, 38.595050132342124, 32.46685731902579, 32.447542504268746, 32.43943631617148, 32.43943631617148, 32.43943631617148, 54.265054601849364, 36.5313136931101, 27.124401188910042, 25.98175598869515, 25.968105259020117, 26.720771085653933, 24.826729496969328, 34.218115576987294, 38.82165053718331, 38.82165053718331, 38.82165053718331, 39.82125054947533, 39.82125054947533, 34.52804634310787, 61.49311027223101, 32.61950583512288, 628.1623166939227, 589.3372777769123, 352.9986293310948, 158.24281753308415, 124.87261524821457, 75.09174918206149, 67.48090068498455, 45.41154123452272, 39.41840928385004, 36.75564539077002, 33.13258520375747, 32.602499163558704, 31.99563405391197, 30.595966222820255, 30.152218852165543, 29.178362841784644, 28.9858346428043, 26.911760189448344, 26.73065605157575, 26.292496414074137, 24.88706287855094, 24.88706287855094, 23.498049312164436, 22.475396684685435, 22.049500115746813, 21.018415039601486, 19.159335540416265, 19.03553109183127, 18.451892646484225, 17.938123465078323, 25.121049910572168, 25.121049910572168, 23.53384696358813, 370.9665869973004, 31.241194030252164, 162.85693584284536, 154.2224854051499, 120.28554019228321, 115.94892687003181, 91.35909843339836, 70.47311332057266, 67.7193096012988, 66.50980409681183, 65.33666889382751, 61.38994182302133, 60.45050623203165, 55.837546231623946, 52.873330035306715, 51.89912995783038, 50.64133167965182, 50.127318744689426, 56.32546608118607, 56.32546608118607, 47.484096518411846, 50.73911736246801, 50.73911736246801, 50.73911736246801, 44.13217741562728, 41.66948260377959, 49.513119856044824, 37.86201913593085, 37.864568719421165, 35.90883534256212, 34.4359254655039, 28.369322551010605, 30.238919446967753, 34.41895171906289, 439.56345313031625, 379.14216644749104, 258.56902635299826, 115.19840901119187, 115.19840901119187, 112.5662241039751, 112.5662241039751, 91.42653332212144, 85.80687567708806, 68.86646414672765, 60.898010825876966, 66.4906970372906, 66.4906970372906, 66.4906970372906, 48.02763727460865, 45.35106571150303, 42.02854182594676, 42.02854182594676, 39.965827119793985, 38.15693306235193, 37.6435839825853, 34.61237320050997, 30.769960067916553, 30.700728884045105, 30.69322390697476, 30.69322390697476, 30.69322390697476, 30.69085377197631, 29.10670364437576, 23.105211035230834, 42.28707571916979, 83.43875137469276, 42.6836855157061, 67.06623716219326, 32.05587046033603], \"Term\": [\"racisme\", \"baudet\", \"co\", \"gewoon\", \"referendum\", \"mee\", \"pechtold\", \"uitspraken\", \"media\", \"gemeente\", \"fvd\", \"doet\", \"mag\", \"weer\", \"keer\", \"pvda\", \"gaat\", \"nl\", \"af\", \"rutte\", \"hallo\", \"detailhandel_werk\", \"veil\", \"leefbaar\", \"donorwet\", \"kabinet\", \"vind\", \"discriminatie\", \"zorgelijk\", \"schaffen\", \"referendum\", \"weer\", \"gaat\", \"schaffen\", \"raadgevend\", \"proberen\", \"komende_donderdag\", \"tegenover\", \"gaan\", \"even\", \"amsterdam\", \"heel\", \"angst\", \"komt\", \"afschaffing\", \"pvv\", \"mark\", \"nede\", \"beweert\", \"gehouden\", \"staat\", \"man\", \"maken\", \"ove\", \"dood\", \"erg\", \"namelijk\", \"huis\", \"lokaal\", \"amsterdammer\", \"prominent\", \"merkt\", \"referenda_vandaan\", \"hoogopgeleiden_angst\", \"co\", \"gemeente\", \"mag\", \"nl\", \"af\", \"hallo\", \"detailhandel_werk\", \"veil\", \"waar\", \"groen\", \"neem\", \"naam\", \"kamer\", \"tijd\", \"hoop\", \"cliteur\", \"fijn\", \"programma\", \"debat\", \"energie\", \"afschaffen\", \"volkskrant\", \"leven\", \"gemeenten\", \"groeit\", \"staan\", \"arrogantie\", \"wethouder\", \"houd\", \"hele\", \"koopt\", \"co\", \"wel\", \"baudet\", \"fvd\", \"doet\", \"hart\", \"aantijgingen\", \"vol_onterechte\", \"wervelende_week\", \"idiote\", \"opvalt\", \"theo_hiddema\", \"demoniseer\", \"onderwijs\", \"totaal\", \"roepers\", \"fileert\", \"vingerwapperen_artikel\", \"suddeutsche_zeitung\", \"willen\", \"onverholen\", \"ztcwjbeker\", \"onzin_discussie\", \"bestaande\", \"klem_ontkende\", \"trop_fort\", \"fary_sur\", \"il_est\", \"ptdrrr_le\", \"sketch\", \"graag\", \"vergiftigde_grond\", \"racisme\", \"journalisten\", \"handig\", \"cda\", \"partijen\", \"rt\", \"neemt\", \"vormen\", \"weg\", \"maakt\", \"maat\", \"toe\", \"klimaat\", \"democratie\", \"wensen\", \"beschaafde_instorting\", \"kiezers_vaag\", \"via\", \"goed\", \"beetje\", \"broeit_best\", \"eerste_kamerfractie\", \"onthouden\", \"opportuni\", \"noemt\", \"groepen\", \"laat\", \"ui\", \"moeten\", \"bijna_procent\", \"bezuiniging\", \"keren\", \"gotspe\", \"gelderse\", \"overijsselse_gemeenten\", \"partij\", \"vvd\", \"lokale_afdelingen\", \"mee\", \"keer\", \"vind\", \"zorgelijk\", \"feiten_verdraait\", \"burgers\", \"begint_gevaarlijke\", \"nemen_htt\", \"zorg\", \"beter\", \"elders_omscholen\", \"ontslagen_medewerkers\", \"zorg_nsure\", \"suggesties_wekt\", \"zit\", \"penthouses\", \"privejets\", \"integer_bestuur\", \"kwaad_daglicht\", \"zetten_nieuwsuur\", \"kamerlid\", \"mensen\", \"alleen\", \"stem\", \"vooral\", \"jongeren\", \"nou\", \"leugens\", \"lokale\", \"di\", \"penthouse_eigenlijk\", \"ubivlrqvup\", \"zegt_schiet\", \"nmaar\", \"leefbaar\", \"rotterdam\", \"regering\", \"boom\", \"joost_eerdmans\", \"sluit\", \"zelfs\", \"vast\", \"zien\", \"boos\", \"ga\", \"laten\", \"vakantie\", \"doorgebrach\", \"juf_bevestigd\", \"zomers\", \"zeggen\", \"houdt\", \"referenda\", \"lees\", \"opnieuw\", \"afstand\", \"idee\", \"echt\", \"begrijpen\", \"kamervragen\", \"heajaafllc\", \"nin_rassenleer\", \"liever\", \"afgrond\", \"nleugens\", \"gekkie_wetenschappers\", \"hoax_vinden\", \"klimaatkwestie_kiest\", \"co\", \"confronteer\", \"hypocriet_gedrag\", \"gewoon\", \"uitspraken\", \"rutte\", \"verkiezingstijd_neerst\", \"beloven\", \"opnemen\", \"armoe\", \"geeft\", \"stemmen\", \"minister\", \"waarom\", \"sleepwet\", \"krijgen\", \"haga\", \"jaren\", \"maart\", \"xa\", \"kiezer\", \"boek\", \"gouda\", \"kanarie\", \"boeiende\", \"kolenmijn_steekho\", \"kijkt\", \"wal\", \"reactie\", \"geheim\", \"afgerekend_ton\", \"democ\", \"duidelijk\", \"waarde\", \"raakt_kant\", \"yermaz_zei\", \"racistische_opmerkingen\", \"beet_kop\", \"vastgoedbaas_wybren\", \"kip\", \"kabinet\", \"blaast\", \"pechtold\", \"media\", \"discriminatie\", \"politicus\", \"ras\", \"ooit\", \"geschapen\", \"geven\", \"alexander\", \"ging\", \"klopt\", \"trots\", \"den_haag\", \"mis\", \"zeg\", \"leiderschap\", \"droevig_leeg\", \"conclusie\", \"geloof\", \"visie\", \"tip\", \"beetje_inzicht\", \"gezegd\", \"helaas\", \"spreekt\", \"sterk\", \"nemen\", \"samenleving\", \"yernaz\", \"pia_dijkstra\", \"trotse_eigenaar\", \"gift_flat\", \"gro\", \"kabinet\", \"bedenkt\", \"partijkartel\", \"steeds\", \"jaar\", \"helemaal\", \"groningen\", \"zon\", \"nederland\", \"politiek\", \"motie\", \"zullen\", \"pim_fortuyn\", \"hypocriet\", \"nederlanders\", \"nodig\", \"mooi\", \"belangrijk\", \"professor_dr\", \"ware_opvolger\", \"groenste\", \"discriminatoire_punten\", \"schoot_gezeten\", \"geslikt_slikte\", \"lezen\", \"gelijk\", \"polenquotu\", \"open\", \"fc\", \"bizar\", \"woord\", \"cc\", \"senator\", \"geschiedenis\", \"pvda\", \"donorwet\", \"yernaz_ramautarsing\", \"komen_hopelijk\", \"zieltogende\", \"weg_terug\", \"nederland_afgeschreven\", \"interview\", \"debatteren\", \"net\", \"kijk\", \"verbeter\", \"halfbakken_motie\", \"buhne_deining\", \"zie\", \"eerst\", \"haga_bedreigt\", \"voortbestaan\", \"leden\", \"veenendaal\", \"nieuwe\", \"kandidaat\", \"aanvoering\", \"gevestigde_partijen\", \"dodenlijst\", \"explosief_gegroeid\", \"onverwacht\", \"msm_probere\", \"ollongren\", \"mening\", \"nijboer\", \"senaat\", \"wenst\", \"vvd\", \"misdrijf\"], \"Total\": [965.0, 798.0, 1434.0, 669.0, 833.0, 702.0, 628.0, 621.0, 590.0, 670.0, 568.0, 554.0, 573.0, 607.0, 485.0, 440.0, 547.0, 498.0, 497.0, 418.0, 477.0, 475.0, 475.0, 396.0, 379.0, 433.0, 385.0, 353.0, 375.0, 416.0, 833.5870917175374, 607.6493341792716, 547.2875147566978, 416.8493460725462, 416.3367033952189, 408.552061630365, 408.5423687734991, 408.11465689232097, 271.0507644708104, 204.66694278921364, 199.68106764441038, 196.46365780857874, 166.6633445045073, 162.72324435505112, 113.4295380950676, 101.49445836811014, 98.59185967403337, 96.4441532719097, 94.0352023053656, 89.96585449944038, 71.67420464659821, 62.69826725270284, 61.926181371973314, 60.40393550203455, 55.74433098657232, 50.824958119482424, 50.11571267595052, 48.07334369493789, 47.32415966336388, 45.42246017316137, 181.42032131501233, 144.7359488423244, 144.7359488423244, 144.7359488423244, 1434.4633497992345, 670.2538164809027, 573.7878435811515, 498.2867534006727, 497.3429442981253, 477.28752206112466, 475.83536643526634, 475.8344060576782, 143.45238742776775, 141.36040174742175, 103.13307497515359, 94.8120722937113, 94.52623325720711, 70.85628665569952, 61.810716797324204, 59.31257019910889, 47.805910925065334, 46.90294569240377, 46.62789738746963, 39.71577943930637, 39.42421479520193, 38.70483368570448, 38.02810109094777, 36.619538294463794, 35.43438416102379, 30.890973740266187, 30.668504611565893, 25.535757326760816, 25.037956086806325, 24.194325417509997, 24.3134567766103, 1434.4633497992345, 147.03750403909774, 798.4948916068496, 568.2491073977612, 554.3859911260239, 254.0848566122513, 220.33392321005218, 220.331100667194, 220.331100667194, 220.331100667194, 159.5506836301229, 151.56110740276748, 75.84394285333359, 75.82407210970578, 62.884463525978084, 54.194244052242794, 54.194244052242794, 54.123867140937975, 56.213853296893404, 49.795698637863595, 53.865349713746305, 53.865349713746305, 48.14697390149341, 48.14697390149341, 48.14697390149341, 47.14296885842055, 47.14296885842055, 47.14296885842055, 47.14296885842055, 47.14296885842055, 41.773242999258876, 40.661397731556285, 965.1973933242865, 46.2417817098587, 278.12032387526244, 231.38373355979385, 202.6408704037248, 159.9191883221254, 142.73253531106892, 142.0538000271775, 129.82847874207866, 126.16155005793007, 115.36357540162788, 108.72388156740884, 105.7708098092145, 105.05768558211224, 96.9271843740842, 96.9271843740842, 96.9271843740842, 84.5691710951296, 81.78886056857085, 67.66440999774751, 61.70527348115298, 61.70527348115298, 61.70527348115298, 61.588023049267285, 59.65213387519915, 52.65071314205569, 51.16854572362676, 46.26975529885852, 46.187616810194015, 44.179741810760675, 44.179741810760675, 49.447199239972825, 112.03836375761851, 68.76029330314839, 68.76029330314839, 261.3662894118459, 345.23103856623464, 79.7124185568151, 702.1666190416329, 485.9605318367468, 385.1687889512106, 375.1326826041622, 229.7782192714347, 187.83846266013072, 151.86909954376588, 151.86804216424898, 147.33676837034372, 140.05717294977916, 105.89875992994891, 105.89875992994891, 105.89875992994891, 88.01670881200612, 85.32613915839542, 79.86326819504204, 79.78179573012724, 79.78064345757676, 78.80416380650024, 78.63420925680352, 68.25898852833903, 68.1131309435684, 62.37841051739268, 55.629246819541514, 53.14340742789979, 51.37149024486066, 44.220178945800676, 40.883460969349585, 39.71440350303232, 35.267112466695075, 45.9750258195503, 45.9750258195503, 45.9750258195503, 179.17989433909113, 396.364419937161, 335.71583166643296, 236.8960568550294, 176.7763085903643, 170.40595313244773, 142.96615760633125, 67.19617901997411, 65.36882857561639, 63.19830168147241, 63.053576514813884, 62.50100294114146, 56.808407168037796, 50.96801011095852, 50.96316560603245, 50.96316560603245, 50.96316560603245, 48.280918340423966, 47.91477652852674, 41.46699992161214, 41.14031507947961, 38.41724307208075, 34.6083709677515, 33.30469203538203, 31.89336067749516, 29.13940375070312, 28.960727065949612, 28.92617651069226, 45.250248075153486, 32.00527112337642, 26.004199602511083, 104.3608391558892, 50.082971021553135, 50.082971021553135, 50.082971021553135, 1434.4633497992345, 59.07029116038009, 53.67772128800432, 669.089560099755, 621.5157867550932, 418.48529111683894, 162.06055167006164, 162.06055167006164, 161.55394387652663, 161.55233858848158, 83.38668888054285, 77.59123281179401, 69.56919073900544, 69.54785586822193, 61.6126652309982, 61.40317636688607, 50.95166899645702, 48.06923800719471, 46.02787189574154, 43.397656861658845, 39.380346436376946, 33.25244344608564, 33.23606516614239, 33.23157526976839, 33.23157526976839, 33.23157526976839, 55.610279685197256, 37.491617835812065, 27.909722138967435, 26.767023737023457, 26.753373000422698, 27.53611092688359, 25.61218783867582, 35.86628962577707, 41.751649629235, 41.751649629235, 41.751649629235, 44.20718684793254, 44.20718684793254, 38.99892983732808, 433.13879532589164, 37.82757337628777, 628.9511502974542, 590.126195060731, 353.7878002752507, 159.03161275299325, 125.66138405863002, 75.88067251405252, 68.27003442475628, 46.20046964262722, 40.20764618816018, 37.54448465283106, 33.92186725459407, 33.39159433233095, 32.78443931873924, 31.38523667555194, 30.94120913884864, 29.9671216760998, 29.774942283683636, 27.701111282036376, 27.51957679517833, 27.08196592349296, 25.67636186764701, 25.67636186764701, 24.28682313742628, 23.264301253421525, 22.838249578227963, 21.809010719100712, 19.948153790219912, 19.82439011708435, 19.24065090119598, 18.7279282188785, 26.298696112559803, 26.298696112559803, 24.648032073176342, 433.13879532589164, 48.079654910926934, 163.66267634128292, 155.02835738683746, 121.09131006300186, 116.75478490754801, 92.16488451470892, 71.27896584527967, 68.52513337386911, 67.31558819714995, 66.1428084253558, 62.195957266354604, 61.25666542581719, 56.64327252678677, 53.67927378148519, 52.705065484794275, 51.44722247749258, 50.933137457223616, 57.27957858232336, 57.27957858232336, 48.29040636608311, 51.614798459271235, 51.614798459271235, 51.614798459271235, 44.93801866611843, 42.47535071990382, 50.47090740478533, 38.66783083167678, 38.671264872461215, 36.71496748928789, 35.24168613868366, 29.175216715652798, 32.96282341235471, 42.61289874468109, 440.39056511198424, 379.969273462369, 259.39628661855926, 116.0644716796833, 116.0644716796833, 113.43464678673028, 113.43464678673028, 92.25376317340604, 86.63537097454126, 69.69375882927385, 61.72542909908544, 67.42514635403323, 67.42514635403323, 67.42514635403323, 48.8547329430172, 46.17814926392381, 42.85623162884646, 42.85623162884646, 40.79298542347201, 38.98479729769061, 38.47072871454576, 35.439545032269876, 31.596965421457224, 31.52773419488191, 31.520229197814995, 31.520229197814995, 31.520229197814995, 31.517859055890817, 29.934016989539213, 23.940267704234785, 44.80002341776644, 103.48297725198452, 82.4576026489647, 345.23103856623464, 61.78214326190685], \"loglift\": [30.0, 29.0, 28.0, 27.0, 26.0, 25.0, 24.0, 23.0, 22.0, 21.0, 20.0, 19.0, 18.0, 17.0, 16.0, 15.0, 14.0, 13.0, 12.0, 11.0, 10.0, 9.0, 8.0, 7.0, 6.0, 5.0, 4.0, 3.0, 2.0, 1.0, 1.9504, 1.95, 1.9498, 1.9494, 1.9494, 1.9493, 1.9493, 1.9493, 1.9483, 1.9473, 1.9472, 1.9472, 1.9464, 1.9463, 1.9441, 1.9433, 1.943, 1.9428, 1.9426, 1.9422, 1.9399, 1.9382, 1.9381, 1.9377, 1.9366, 1.9351, 1.9349, 1.9342, 1.9339, 1.9332, 1.9324, 1.8442, 1.8442, 1.8442, 0.4423, 2.118, 2.1178, 2.1176, 2.1176, 2.1175, 2.1175, 2.1175, 2.1136, 2.1135, 2.1113, 2.1106, 2.1106, 2.1077, 2.106, 2.1055, 2.1021, 2.1018, 2.1017, 2.0986, 2.0985, 2.0981, 2.0977, 2.0969, 2.096, 2.0927, 2.0925, 2.087, 2.0855, 2.0852, 2.0844, 1.5972, 1.7377, 2.2391, 2.2387, 2.2386, 2.2369, 2.2364, 2.2364, 2.2364, 2.2364, 2.235, 2.2348, 2.2294, 2.2294, 2.2272, 2.2251, 2.2251, 2.2251, 2.2245, 2.2238, 2.2236, 2.2236, 2.2232, 2.2232, 2.2232, 2.2229, 2.2229, 2.2229, 2.2229, 2.2229, 2.2206, 2.2201, 2.2107, 2.2131, 2.2616, 2.2611, 2.2606, 2.2595, 2.2589, 2.2588, 2.2583, 2.2581, 2.2575, 2.2569, 2.2569, 2.2568, 2.256, 2.256, 2.256, 2.2549, 2.2546, 2.2525, 2.2513, 2.2513, 2.2513, 2.2513, 2.2509, 2.249, 2.2486, 2.2469, 2.2468, 2.246, 2.246, 2.2437, 2.2312, 2.2403, 2.2403, 2.1217, 2.0459, 2.0298, 2.2842, 2.2837, 2.2833, 2.2832, 2.2818, 2.281, 2.28, 2.28, 2.2799, 2.2796, 2.2777, 2.2777, 2.2777, 2.2762, 2.2759, 2.2752, 2.2752, 2.2752, 2.2751, 2.2747, 2.2735, 2.2735, 2.2724, 2.2708, 2.2701, 2.2695, 2.267, 2.2654, 2.2649, 2.2622, 2.2621, 2.2621, 2.2621, 1.9674, 2.4085, 2.4081, 2.4071, 2.406, 2.4058, 2.4049, 2.3985, 2.3982, 2.3977, 2.3977, 2.3976, 2.3963, 2.3946, 2.3946, 2.3946, 2.3946, 2.3938, 2.3936, 2.391, 2.3908, 2.3894, 2.3871, 2.3861, 2.385, 2.3826, 2.3824, 2.3815, 2.381, 2.3809, 2.3789, 2.3782, 2.3777, 2.3777, 2.3777, 0.7236, 1.9948, 1.9451, 2.4587, 2.4586, 2.458, 2.455, 2.455, 2.455, 2.455, 2.4504, 2.4497, 2.4485, 2.4485, 2.447, 2.447, 2.4443, 2.4434, 2.4427, 2.4416, 2.4397, 2.436, 2.4359, 2.4358, 2.4358, 2.4358, 2.4354, 2.4339, 2.4313, 2.4301, 2.4301, 2.4298, 2.4287, 2.4128, 2.3871, 2.3871, 2.3871, 2.3554, 2.3554, 2.3381, 0.5077, 2.3118, 2.4661, 2.4661, 2.4652, 2.4624, 2.4611, 2.457, 2.4558, 2.4502, 2.4476, 2.4462, 2.4439, 2.4435, 2.443, 2.4419, 2.4416, 2.4407, 2.4405, 2.4385, 2.4383, 2.4378, 2.4362, 2.4362, 2.4344, 2.4329, 2.4323, 2.4305, 2.4271, 2.4268, 2.4255, 2.4243, 2.4216, 2.4216, 2.4211, 2.3125, 2.0363, 2.4652, 2.4649, 2.4635, 2.4632, 2.4614, 2.4588, 2.4583, 2.4581, 2.4579, 2.4571, 2.4569, 2.4558, 2.455, 2.4547, 2.4544, 2.4542, 2.4533, 2.4533, 2.4533, 2.453, 2.453, 2.453, 2.452, 2.451, 2.451, 2.4491, 2.4491, 2.4479, 2.447, 2.4421, 2.3839, 2.2566, 2.5098, 2.5095, 2.5085, 2.5042, 2.5042, 2.504, 2.504, 2.5027, 2.5021, 2.4998, 2.4982, 2.4977, 2.4977, 2.4977, 2.4946, 2.4936, 2.4922, 2.4922, 2.4912, 2.4902, 2.49, 2.4881, 2.4852, 2.4851, 2.4851, 2.4851, 2.4851, 2.4851, 2.4837, 2.4762, 2.454, 2.2964, 1.8532, 0.8732, 1.8556], \"logprob\": [30.0, 29.0, 28.0, 27.0, 26.0, 25.0, 24.0, 23.0, 22.0, 21.0, 20.0, 19.0, 18.0, 17.0, 16.0, 15.0, 14.0, 13.0, 12.0, 11.0, 10.0, 9.0, 8.0, 7.0, 6.0, 5.0, 4.0, 3.0, 2.0, 1.0, -2.5018999576568604, -2.8183999061584473, -2.923099994659424, -3.1958000659942627, -3.1970999240875244, -3.2160000801086426, -3.2160000801086426, -3.217099905014038, -3.6273000240325928, -3.9091999530792236, -3.934000015258789, -3.9502999782562256, -4.115499973297119, -4.139599800109863, -4.502699851989746, -4.614699840545654, -4.643899917602539, -4.666100025177002, -4.691699981689453, -4.736299991607666, -4.96589994430542, -5.101399898529053, -5.113900184631348, -5.139200210571289, -5.220600128173828, -5.3144001960754395, -5.328700065612793, -5.370999813079834, -5.38700008392334, -5.428699970245361, -4.0447001457214355, -4.35890007019043, -4.35890007019043, -4.35890007019043, -3.467099905014038, -2.552299976348877, -2.707900047302246, -2.8492000102996826, -2.851099967956543, -2.8922998905181885, -2.895400047302246, -2.895400047302246, -4.098400115966797, -4.1132001876831055, -4.430600166320801, -4.515399932861328, -4.518499851226807, -4.809599876403809, -4.947800159454346, -4.98960018157959, -5.208700180053711, -5.228099822998047, -5.234000205993652, -5.397600173950195, -5.405099868774414, -5.423900127410889, -5.44189977645874, -5.480500221252441, -5.514200210571289, -5.654799938201904, -5.662199974060059, -5.850800037384033, -5.872000217437744, -5.906599998474121, -5.902500152587891, -2.3122000694274902, -4.4496002197265625, -2.2560999393463135, -2.5966999530792236, -2.621500015258789, -3.40339994430542, -3.5464000701904297, -3.5464000701904297, -3.5464000701904297, -3.5464000701904297, -3.8705999851226807, -3.9221999645233154, -4.619900226593018, -4.620100021362305, -4.8094000816345215, -4.96019983291626, -4.96019983291626, -4.961599826812744, -4.924300193786621, -5.046199798583984, -4.967899799346924, -4.967899799346924, -5.08050012588501, -5.08050012588501, -5.08050012588501, -5.101900100708008, -5.101900100708008, -5.101900100708008, -5.101900100708008, -5.101900100708008, -5.225100040435791, -5.252600193023682, -2.094899892807007, -5.13100004196167, -3.2881999015808105, -3.4728000164031982, -3.6059999465942383, -3.8438000679016113, -3.9581000804901123, -3.962899923324585, -4.053400039672852, -4.082300186157227, -4.172299861907959, -4.2322001457214355, -4.259799957275391, -4.266600131988525, -4.3480000495910645, -4.3480000495910645, -4.3480000495910645, -4.485499858856201, -4.519199848175049, -4.710899829864502, -4.804299831390381, -4.804299831390381, -4.804299831390381, -4.80620002746582, -4.838600158691406, -4.965199947357178, -4.994200229644775, -5.09660005569458, -5.098400115966797, -5.143700122833252, -5.143700122833252, -5.033299922943115, -4.22790002822876, -4.706999778747559, -4.706999778747559, -3.490299940109253, -3.2878000736236572, -4.769700050354004, -2.339600086212158, -2.7081000804901123, -2.940999984741211, -2.9674999713897705, -3.4590001106262207, -3.66129994392395, -3.8749001026153564, -3.8749001026153564, -3.905400037765503, -3.9563000202178955, -4.23769998550415, -4.23769998550415, -4.23769998550415, -4.424300193786621, -4.455599784851074, -4.52239990234375, -4.523399829864502, -4.523499965667725, -4.535900115966797, -4.538400173187256, -4.68120002746582, -4.683300018310547, -4.77239990234375, -4.888500213623047, -4.934899806976318, -4.969299793243408, -5.121799945831299, -5.2017998695373535, -5.231400012969971, -5.352700233459473, -5.087699890136719, -5.087699890136719, -5.087699890136719, -4.02209997177124, -2.787100076675415, -2.9535999298095703, -3.3032000064849854, -3.597100019454956, -3.634000062942505, -3.810499906539917, -4.571800231933594, -4.599699974060059, -4.633900165557861, -4.636300086975098, -4.645199775695801, -4.742000102996826, -4.852099895477295, -4.852200031280518, -4.852200031280518, -4.852200031280518, -4.907199859619141, -4.914899826049805, -5.062099933624268, -5.070099830627441, -5.139999866485596, -5.246799945831299, -5.286099910736084, -5.33050012588501, -5.423299789428711, -5.429599761962891, -5.431700229644775, -4.9847002029418945, -5.331200122833252, -5.540800094604492, -4.151899814605713, -4.886600017547607, -4.886600017547607, -4.886600017547607, -3.185800075531006, -5.104400157928467, -5.249899864196777, -2.2132999897003174, -2.2871999740600586, -2.683300018310547, -3.634999990463257, -3.634999990463257, -3.6380999088287354, -3.6380999088287354, -4.303999900817871, -4.376800060272217, -4.487100124359131, -4.487400054931641, -4.610000133514404, -4.613500118255615, -4.802700042724609, -4.8618998527526855, -4.906000137329102, -4.96589994430542, -5.064899921417236, -5.237800121307373, -5.238399982452393, -5.238699913024902, -5.238699913024902, -5.238699913024902, -4.7241997718811035, -5.119900226593018, -5.417600154876709, -5.460700035095215, -5.46120023727417, -5.432600021362305, -5.506100177764893, -5.185299873352051, -5.059100151062012, -5.059100151062012, -5.059100151062012, -5.033699989318848, -5.033699989318848, -5.176300048828125, -4.599100112915039, -5.2332000732421875, -2.267699956893921, -2.3315000534057617, -2.844099998474121, -3.646399974822998, -3.88319993019104, -4.3917999267578125, -4.498700141906738, -4.894800186157227, -5.036300182342529, -5.106200218200684, -5.210000038146973, -5.226200103759766, -5.244900226593018, -5.289700031280518, -5.304299831390381, -5.337100028991699, -5.343699932098389, -5.418000221252441, -5.424699783325195, -5.441299915313721, -5.496200084686279, -5.496200084686279, -5.553599834442139, -5.598100185394287, -5.617199897766113, -5.66510009765625, -5.757699966430664, -5.764200210571289, -5.795400142669678, -5.823599815368652, -5.486800193786621, -5.486800193786621, -5.55210018157959, -2.7943999767303467, -5.268799781799316, -3.6149001121520996, -3.6693999767303467, -3.9179000854492188, -3.954699993133545, -4.192999839782715, -4.452600002288818, -4.492400169372559, -4.510499954223633, -4.528200149536133, -4.59060001373291, -4.605999946594238, -4.685400009155273, -4.7399001121521, -4.758500099182129, -4.7829999923706055, -4.7932000160217285, -4.676700115203857, -4.676700115203857, -4.847400188446045, -4.781099796295166, -4.781099796295166, -4.781099796295166, -4.920599937438965, -4.978000164031982, -4.805600166320801, -5.07390022277832, -5.073800086975098, -5.126800060272217, -5.168700218200684, -5.362500190734863, -5.298699855804443, -5.1691999435424805, -2.5804998874664307, -2.728300094604492, -3.1110999584198, -3.919600009918213, -3.919600009918213, -3.942699909210205, -3.942699909210205, -4.150700092315674, -4.214099884033203, -4.434100151062012, -4.557000160217285, -4.469200134277344, -4.469200134277344, -4.469200134277344, -4.79449987411499, -4.851799964904785, -4.9278998374938965, -4.9278998374938965, -4.9781999588012695, -5.024499893188477, -5.038099765777588, -5.122000217437744, -5.239699840545654, -5.242000102996826, -5.242199897766113, -5.242199897766113, -5.242199897766113, -5.242300033569336, -5.295300006866455, -5.526199817657471, -4.921800136566162, -4.242099761962891, -4.912399768829346, -4.460599899291992, -5.198800086975098]}, \"token.table\": {\"Topic\": [3, 10, 2, 7, 6, 2, 1, 6, 8, 5, 1, 1, 1, 7, 2, 3, 1, 2, 4, 7, 8, 9, 2, 4, 7, 8, 10, 4, 8, 5, 6, 9, 7, 4, 3, 5, 1, 4, 4, 9, 2, 4, 6, 7, 8, 10, 7, 7, 6, 6, 4, 10, 5, 9, 4, 2, 1, 2, 6, 8, 3, 5, 6, 9, 10, 2, 10, 7, 4, 3, 8, 2, 5, 8, 9, 10, 3, 10, 1, 6, 8, 7, 6, 10, 4, 5, 2, 1, 1, 10, 3, 9, 5, 2, 3, 3, 6, 1, 1, 7, 7, 1, 4, 6, 2, 4, 9, 8, 2, 2, 8, 4, 9, 10, 9, 8, 10, 7, 8, 8, 8, 4, 3, 4, 7, 3, 8, 2, 2, 9, 4, 9, 7, 10, 10, 2, 4, 3, 6, 1, 8, 2, 9, 4, 6, 1, 5, 2, 2, 6, 1, 9, 3, 5, 6, 9, 10, 6, 3, 3, 5, 10, 9, 7, 5, 6, 1, 3, 6, 7, 8, 2, 5, 6, 7, 10, 5, 4, 7, 4, 10, 1, 7, 2, 4, 7, 8, 10, 3, 4, 4, 6, 8, 7, 10, 1, 1, 2, 7, 5, 4, 6, 10, 6, 6, 8, 5, 2, 9, 6, 1, 5, 2, 4, 5, 8, 9, 10, 4, 7, 4, 2, 1, 1, 1, 8, 5, 10, 5, 1, 5, 7, 8, 1, 2, 3, 6, 10, 4, 9, 9, 10, 2, 1, 1, 9, 10, 9, 2, 4, 8, 5, 10, 10, 7, 10, 4, 6, 2, 3, 4, 5, 6, 4, 5, 9, 4, 5, 10, 3, 4, 5, 3, 10, 3, 8, 9, 7, 6, 4, 3, 1, 2, 4, 4, 5, 4, 9, 8, 5, 5, 8, 9, 9, 8, 9, 5, 1, 9, 2, 1, 2, 4, 3, 10, 1, 1, 1, 4, 7, 10, 3, 6, 1, 4, 7, 10, 8, 7, 6, 1, 5, 1, 6, 3, 6, 4, 7, 8, 1, 9, 1, 2, 9, 10, 1, 2, 9, 3, 7, 6, 8, 2, 1, 9, 5, 7, 8, 3, 5, 1, 3, 2, 8, 4, 3, 3, 8, 8, 5, 4, 7, 6, 6, 2, 4, 7, 8, 10, 10, 2, 10, 3, 7, 4, 5, 3, 8, 3, 2, 5, 10, 4, 4, 10, 2, 5, 7, 7, 7, 9, 1, 4, 10, 1, 2, 4, 1, 2, 3, 6, 8, 10, 3, 2, 3, 9, 7, 1, 4, 7, 10, 8, 10, 8, 6, 5, 6, 5, 10, 10, 6, 5, 6, 9, 5, 5, 5, 3, 9], \"Freq\": [0.9984844675518538, 0.9811068748693244, 0.9993104470425145, 0.9718400741315574, 0.9613831758769413, 0.9892397401595541, 0.9962131724920928, 0.9824212769702918, 0.969964762858568, 0.993933630013109, 0.9965892227418214, 0.9906993110555692, 0.9960198536368063, 0.9965810548252815, 0.9782022429840357, 0.9993802194452945, 0.04159763633298178, 0.06239645449947267, 0.04159763633298178, 0.12479290899894534, 0.6447633631612175, 0.06239645449947267, 0.022620756291050162, 0.022620756291050162, 0.9048302516420065, 0.022620756291050162, 0.022620756291050162, 0.9901808055701715, 0.973658189149482, 0.994277311537523, 0.9608981789589423, 0.981679167948228, 0.993455830804397, 0.9904342173965789, 0.9761776533694502, 0.9924518471456065, 0.988991332182134, 0.9732967699129167, 0.9732967699129167, 0.9805265389518186, 0.026435742786156364, 0.026435742786156364, 0.026435742786156364, 0.87237951194316, 0.026435742786156364, 0.026435742786156364, 0.9629396060893692, 0.9623352958071695, 0.9956085258451505, 0.9832907731321735, 0.9885702883827523, 0.9788632812667528, 0.9955362568014209, 0.9597186637169937, 0.998341570715062, 0.9947301187916894, 0.2209885669399409, 0.5932532191352988, 0.18543520128083368, 0.9746901387854778, 0.05078695129256743, 0.10157390258513486, 0.6602303668033767, 0.10157390258513486, 0.08464491882094571, 0.9865338687212954, 0.9926661481633412, 0.9805306229224918, 0.9899323350190733, 0.9888726400344772, 0.9760728157918851, 0.9982444212973817, 0.9640709891434495, 0.9977732406978483, 0.9880887172356904, 0.9834953865801503, 0.9993037502169925, 0.9974490740960795, 0.9866474137656864, 0.9811007500303623, 0.9739733405257247, 0.9760977920928964, 0.9719891332077294, 0.9744868669987122, 0.9885702883827523, 0.9915130268707261, 0.9819774545681467, 0.983768641431183, 0.9967413262731905, 0.9834953865801503, 0.9757552634868392, 0.9826417658001345, 0.9966131721539917, 0.9831420234554555, 0.9779636366716076, 0.9978018313069045, 0.9919840815736467, 0.9961233665108383, 0.9976474618514363, 0.9953627025400085, 0.9713444518688669, 0.989264210240493, 0.01996686657366336, 0.9584095955358413, 0.014543277114761988, 0.9743995666890533, 0.9888087864644499, 0.9811197389027666, 0.9981293407809511, 0.9830817557151599, 0.9813968978416725, 0.14080243721389443, 0.7978804775454018, 0.023467072868982405, 0.9880887172356904, 0.9740160727388019, 0.9832612711202197, 0.9983715780894974, 0.9470155841237519, 0.9506174714137418, 0.9854976128220739, 0.9903549143112285, 0.02677654242157747, 0.963955527176789, 0.9628095215253829, 0.9814895147290194, 0.9737085674323844, 0.9877411680403466, 0.9974504759256011, 0.9732782044470549, 0.9876409434322377, 0.9873608639467996, 0.9813221231963334, 0.9800208371967514, 0.9788632812667528, 0.9973024183503382, 0.9959718014863059, 0.9957303373891863, 0.9679813711172678, 0.9976399817973943, 0.9456548795663664, 0.9506361348415345, 0.9935352978625613, 0.01996686657366336, 0.9584095955358413, 0.8981873614662397, 0.09672786969636427, 0.986883879700303, 0.9585446957727802, 0.9809082584788408, 0.9776727888588512, 0.9886434434648429, 0.055889108703100404, 0.11177821740620081, 0.6334098986351379, 0.11177821740620081, 0.09314851450516734, 0.9908513780863568, 0.9984972585976679, 0.9757552634868392, 0.9902151270816477, 0.9864096256859529, 0.9909877095025723, 0.9777562938061412, 0.9927685523022602, 0.9976177291638855, 0.021625464310057088, 0.973145893952569, 0.9811007500303623, 0.14083245522743784, 0.8565383752357285, 0.994432939522987, 0.9815557107498547, 0.9668265557089836, 0.9629396060893692, 0.987597328581119, 0.9980234365265913, 0.970732432529709, 0.9903417193906245, 0.9904342173965789, 0.9882474839029319, 0.01798228683007662, 0.9710434888241375, 0.025641729251833046, 0.025641729251833046, 0.8974605238141566, 0.025641729251833046, 0.025641729251833046, 0.9761776533694502, 0.9927124524185372, 0.01996686657366336, 0.9584095955358413, 0.9728238057275806, 0.9629396060893692, 0.9908286173686204, 0.9986724295569946, 0.9955553715886278, 0.9459781968200486, 0.9934339493371307, 0.989795414764189, 0.9771628115065387, 0.985769585729687, 0.9805607406459707, 0.9990805937192375, 0.9722822959115257, 0.9677272416566077, 0.9783907490118824, 0.972964700801416, 0.9791263902156492, 0.9685904512571939, 0.9931502288541464, 0.982011475937747, 0.0501803868508769, 0.7903410929013112, 0.012545096712719224, 0.02509019342543845, 0.11290587041447303, 0.012545096712719224, 0.9907931532436252, 0.9776684896909901, 0.9968484385096238, 0.9986269427106814, 0.9850437835588473, 0.9888630534255675, 0.9939968707762468, 0.9980916029992278, 0.9983385438584005, 0.9607244281538063, 0.9836576159670208, 0.8981873614662397, 0.09672786969636427, 0.9918183504370376, 0.9877255449900103, 0.03237181318753544, 0.11330134615637404, 0.2589745055002835, 0.06474362637507088, 0.517949011000567, 0.974287116499765, 0.9913071599212526, 0.9827221061130857, 0.9835693453996195, 0.9914349272823018, 0.9777372680866628, 0.9953947102354928, 0.9923366311305953, 0.996168306606116, 0.9873456972564431, 0.9890134665777534, 0.9948677762258448, 0.9524690956270465, 0.9942842341820002, 0.9900456103827988, 0.9877639771775943, 0.02232141690362215, 0.9374995099521304, 0.022099326358148548, 0.972370359758536, 0.9974176447760432, 0.009582138358491428, 0.009582138358491428, 0.009582138358491428, 0.9677959742076342, 0.26788719893517643, 0.7255278304494361, 0.9866224341378024, 0.989067719244319, 0.9724067388488814, 0.9687974724586541, 0.989131787745276, 0.9885702883827523, 0.9915130268707261, 0.9839349467079489, 0.9834953865801503, 0.9761776533694502, 0.9883939811697184, 0.9827290329632431, 0.9965711522527113, 0.9891391719260569, 0.9904523149119936, 0.996548534812928, 0.9933127618477616, 0.014543277114761988, 0.9743995666890533, 0.8685129230354053, 0.13008563604935586, 0.996837407959964, 0.9959509623324193, 0.9984877199175097, 0.978792272496437, 0.9891906728267899, 0.9611314070424127, 0.9794852459388435, 0.9906697258084034, 0.9935131592069336, 0.9953118110440382, 0.9902008256022242, 0.9986487361533265, 0.9776608240843755, 0.9807486357397376, 0.9811469779668541, 0.01102412334794218, 0.00551206167397109, 0.9757552634868392, 0.9991131392383829, 0.9951282229979809, 0.9991912714097194, 0.023951149448710362, 0.023951149448710362, 0.9340948284997042, 0.023951149448710362, 0.9707858791172546, 0.027973552546601787, 0.023951149448710362, 0.023951149448710362, 0.9340948284997042, 0.023951149448710362, 0.9947367756325091, 0.9674048299571824, 0.9887380345215486, 0.8981873614662397, 0.09672786969636427, 0.99929570440405, 0.9962175104688309, 0.9779636366716076, 0.9978677452806449, 0.9942521699130071, 0.9988403627866016, 0.9584153604617626, 0.9979624627445178, 0.9880887172356904, 0.06764397571355882, 0.06764397571355882, 0.048317125509684866, 0.8020642834607687, 0.03033720708600443, 0.03033720708600443, 0.9101162125801329, 0.9757552634868392, 0.9900561803534842, 0.9932420537663771, 0.9632962423255468, 0.9711574731260475, 0.9905934826912626, 0.9933666497912287, 0.9886885612242287, 0.9923801595828731, 0.9629047493478388, 0.9784065096821875, 0.988448684054096, 0.9972687653494027, 0.996297814047529, 0.9879151632675822, 0.973658189149482, 0.9933420187269525, 0.985935102624948, 0.9757552634868392, 0.9882726674134336, 0.9506174714137418, 0.978792272496437, 0.9725575531865879, 0.999170114796623, 0.9810074964894424, 0.9943577300732911, 0.022620756291050162, 0.022620756291050162, 0.9048302516420065, 0.022620756291050162, 0.022620756291050162, 0.974738940152218, 0.9982464360562084, 0.9788632812667528, 0.9837340138693021, 0.993455830804397, 0.9932697567238852, 0.9969655148996025, 0.9792352764075147, 0.9600484718668677, 0.9984972585976679, 0.9817895177788916, 0.9784844916191898, 0.9800208371967514, 0.992581683651012, 0.8023612278617755, 0.19407293237089876, 0.9968464280317709, 0.027881333988930397, 0.9479653556236336, 0.9921226059181465, 0.986887260027961, 0.9776608240843755, 0.9989313998341681, 0.9936186671052001, 0.996168306606116, 0.3128453539837595, 0.6800985956168685, 0.9904342173965789, 0.024254889006588298, 0.1455293340395298, 0.23042144556258884, 0.048509778013176595, 0.024254889006588298, 0.5214801136416485, 0.9984972585976679, 0.9790193288608928, 0.9840207355327963, 0.9647665513563296, 0.9908369047912776, 0.023951149448710362, 0.023951149448710362, 0.9340948284997042, 0.023951149448710362, 0.9355192863501898, 0.9984722733554702, 0.9695807253483545, 0.9734694702492538, 0.978792272496437, 0.9821987047861971, 0.9919346902220086, 0.9825046031054119, 0.9908286173686204, 0.9810390208345787, 0.9961777344948188, 0.9811007500303623, 0.9820568967280497, 0.9977142951208403, 0.9915130268707261, 0.9969805813870998, 0.9839349467079489, 0.9807711414226987], \"Term\": [\"aantijgingen\", \"aanvoering\", \"af\", \"afgerekend_ton\", \"afgrond\", \"afschaffen\", \"afschaffing\", \"afstand\", \"alexander\", \"alleen\", \"amsterdam\", \"amsterdammer\", \"angst\", \"armoe\", \"arrogantie\", \"baudet\", \"bedenkt\", \"bedenkt\", \"bedenkt\", \"bedenkt\", \"bedenkt\", \"bedenkt\", \"beet_kop\", \"beet_kop\", \"beet_kop\", \"beet_kop\", \"beet_kop\", \"beetje\", \"beetje_inzicht\", \"begint_gevaarlijke\", \"begrijpen\", \"belangrijk\", \"beloven\", \"beschaafde_instorting\", \"bestaande\", \"beter\", \"beweert\", \"bezuiniging\", \"bijna_procent\", \"bizar\", \"blaast\", \"blaast\", \"blaast\", \"blaast\", \"blaast\", \"blaast\", \"boeiende\", \"boek\", \"boom\", \"boos\", \"broeit_best\", \"buhne_deining\", \"burgers\", \"cc\", \"cda\", \"cliteur\", \"co\", \"co\", \"co\", \"conclusie\", \"confronteer\", \"confronteer\", \"confronteer\", \"confronteer\", \"confronteer\", \"debat\", \"debatteren\", \"democ\", \"democratie\", \"demoniseer\", \"den_haag\", \"detailhandel_werk\", \"di\", \"discriminatie\", \"discriminatoire_punten\", \"dodenlijst\", \"doet\", \"donorwet\", \"dood\", \"doorgebrach\", \"droevig_leeg\", \"duidelijk\", \"echt\", \"eerst\", \"eerste_kamerfractie\", \"elders_omscholen\", \"energie\", \"erg\", \"even\", \"explosief_gegroeid\", \"fary_sur\", \"fc\", \"feiten_verdraait\", \"fijn\", \"fileert\", \"fvd\", \"ga\", \"gaan\", \"gaat\", \"geeft\", \"geheim\", \"gehouden\", \"gekkie_wetenschappers\", \"gekkie_wetenschappers\", \"gelderse\", \"gelderse\", \"gelijk\", \"geloof\", \"gemeente\", \"gemeenten\", \"geschapen\", \"geschiedenis\", \"geschiedenis\", \"geschiedenis\", \"geslikt_slikte\", \"geven\", \"gevestigde_partijen\", \"gewoon\", \"gezegd\", \"gift_flat\", \"ging\", \"goed\", \"gotspe\", \"gotspe\", \"gouda\", \"graag\", \"gro\", \"groeit\", \"groen\", \"groenste\", \"groepen\", \"groningen\", \"haga\", \"haga_bedreigt\", \"halfbakken_motie\", \"hallo\", \"handig\", \"hart\", \"heajaafllc\", \"heel\", \"helaas\", \"hele\", \"helemaal\", \"hoax_vinden\", \"hoax_vinden\", \"hoogopgeleiden_angst\", \"hoogopgeleiden_angst\", \"hoop\", \"houd\", \"houdt\", \"huis\", \"hypocriet\", \"hypocriet_gedrag\", \"hypocriet_gedrag\", \"hypocriet_gedrag\", \"hypocriet_gedrag\", \"hypocriet_gedrag\", \"idee\", \"idiote\", \"il_est\", \"integer_bestuur\", \"interview\", \"jaar\", \"jaren\", \"jongeren\", \"joost_eerdmans\", \"journalisten\", \"journalisten\", \"juf_bevestigd\", \"kabinet\", \"kabinet\", \"kamer\", \"kamerlid\", \"kamervragen\", \"kanarie\", \"kandidaat\", \"keer\", \"keren\", \"kiezer\", \"kiezers_vaag\", \"kijk\", \"kijkt\", \"kijkt\", \"kip\", \"kip\", \"kip\", \"kip\", \"kip\", \"klem_ontkende\", \"klimaat\", \"klimaatkwestie_kiest\", \"klimaatkwestie_kiest\", \"klopt\", \"kolenmijn_steekho\", \"komen_hopelijk\", \"komende_donderdag\", \"komt\", \"koopt\", \"krijgen\", \"kwaad_daglicht\", \"laat\", \"laten\", \"leden\", \"leefbaar\", \"lees\", \"leiderschap\", \"leugens\", \"leven\", \"lezen\", \"liever\", \"lokaal\", \"lokale\", \"lokale_afdelingen\", \"lokale_afdelingen\", \"lokale_afdelingen\", \"lokale_afdelingen\", \"lokale_afdelingen\", \"lokale_afdelingen\", \"maakt\", \"maart\", \"maat\", \"mag\", \"maken\", \"man\", \"mark\", \"media\", \"mee\", \"mening\", \"mensen\", \"merkt\", \"merkt\", \"minister\", \"mis\", \"misdrijf\", \"misdrijf\", \"misdrijf\", \"misdrijf\", \"misdrijf\", \"moeten\", \"mooi\", \"motie\", \"msm_probere\", \"naam\", \"namelijk\", \"nede\", \"nederland\", \"nederland_afgeschreven\", \"nederlanders\", \"neem\", \"neemt\", \"nemen\", \"nemen_htt\", \"net\", \"nieuwe\", \"nijboer\", \"nijboer\", \"nin_rassenleer\", \"nin_rassenleer\", \"nl\", \"nleugens\", \"nleugens\", \"nleugens\", \"nleugens\", \"nmaar\", \"nmaar\", \"nodig\", \"noemt\", \"nou\", \"ollongren\", \"onderwijs\", \"onthouden\", \"ontslagen_medewerkers\", \"onverholen\", \"onverwacht\", \"onzin_discussie\", \"ooit\", \"open\", \"opnemen\", \"opnieuw\", \"opportuni\", \"opvalt\", \"ove\", \"overijsselse_gemeenten\", \"overijsselse_gemeenten\", \"partij\", \"partij\", \"partijen\", \"partijkartel\", \"pechtold\", \"penthouse_eigenlijk\", \"penthouses\", \"pia_dijkstra\", \"pim_fortuyn\", \"polenquotu\", \"politicus\", \"politiek\", \"privejets\", \"proberen\", \"professor_dr\", \"programma\", \"prominent\", \"prominent\", \"prominent\", \"ptdrrr_le\", \"pvda\", \"pvv\", \"raadgevend\", \"raakt_kant\", \"raakt_kant\", \"raakt_kant\", \"raakt_kant\", \"racisme\", \"racisme\", \"racistische_opmerkingen\", \"racistische_opmerkingen\", \"racistische_opmerkingen\", \"racistische_opmerkingen\", \"ras\", \"reactie\", \"referenda\", \"referenda_vandaan\", \"referenda_vandaan\", \"referendum\", \"regering\", \"roepers\", \"rotterdam\", \"rt\", \"rutte\", \"samenleving\", \"schaffen\", \"schoot_gezeten\", \"senaat\", \"senaat\", \"senaat\", \"senaat\", \"senator\", \"senator\", \"senator\", \"sketch\", \"sleepwet\", \"sluit\", \"spreekt\", \"staan\", \"staat\", \"steeds\", \"stem\", \"stemmen\", \"sterk\", \"suddeutsche_zeitung\", \"suggesties_wekt\", \"tegenover\", \"theo_hiddema\", \"tijd\", \"tip\", \"toe\", \"totaal\", \"trop_fort\", \"trots\", \"trotse_eigenaar\", \"ubivlrqvup\", \"ui\", \"uitspraken\", \"vakantie\", \"vast\", \"vastgoedbaas_wybren\", \"vastgoedbaas_wybren\", \"vastgoedbaas_wybren\", \"vastgoedbaas_wybren\", \"vastgoedbaas_wybren\", \"veenendaal\", \"veil\", \"verbeter\", \"vergiftigde_grond\", \"verkiezingstijd_neerst\", \"via\", \"vind\", \"vingerwapperen_artikel\", \"visie\", \"vol_onterechte\", \"volkskrant\", \"vooral\", \"voortbestaan\", \"vormen\", \"vvd\", \"vvd\", \"waar\", \"waarde\", \"waarde\", \"waarom\", \"wal\", \"ware_opvolger\", \"weer\", \"weg\", \"weg_terug\", \"wel\", \"wel\", \"wensen\", \"wenst\", \"wenst\", \"wenst\", \"wenst\", \"wenst\", \"wenst\", \"wervelende_week\", \"wethouder\", \"willen\", \"woord\", \"xa\", \"yermaz_zei\", \"yermaz_zei\", \"yermaz_zei\", \"yermaz_zei\", \"yernaz\", \"yernaz_ramautarsing\", \"zeg\", \"zeggen\", \"zegt_schiet\", \"zelfs\", \"zetten_nieuwsuur\", \"zie\", \"zieltogende\", \"zien\", \"zit\", \"zomers\", \"zon\", \"zorg\", \"zorg_nsure\", \"zorgelijk\", \"ztcwjbeker\", \"zullen\"]}, \"R\": 30, \"lambda.step\": 0.01, \"plot.opts\": {\"xlab\": \"PC1\", \"ylab\": \"PC2\"}, \"topic.order\": [4, 7, 1, 8, 10, 3, 9, 5, 2, 6]};\n",
       "\n",
       "function LDAvis_load_lib(url, callback){\n",
       "  var s = document.createElement('script');\n",
       "  s.src = url;\n",
       "  s.async = true;\n",
       "  s.onreadystatechange = s.onload = callback;\n",
       "  s.onerror = function(){console.warn(\"failed to load library \" + url);};\n",
       "  document.getElementsByTagName(\"head\")[0].appendChild(s);\n",
       "}\n",
       "\n",
       "if(typeof(LDAvis) !== \"undefined\"){\n",
       "   // already loaded: just create the visualization\n",
       "   !function(LDAvis){\n",
       "       new LDAvis(\"#\" + \"ldavis_el697219465926775843514464719\", ldavis_el697219465926775843514464719_data);\n",
       "   }(LDAvis);\n",
       "}else if(typeof define === \"function\" && define.amd){\n",
       "   // require.js is available: use it to load d3/LDAvis\n",
       "   require.config({paths: {d3: \"https://cdnjs.cloudflare.com/ajax/libs/d3/3.5.5/d3.min\"}});\n",
       "   require([\"d3\"], function(d3){\n",
       "      window.d3 = d3;\n",
       "      LDAvis_load_lib(\"https://cdn.rawgit.com/bmabey/pyLDAvis/files/ldavis.v1.0.0.js\", function(){\n",
       "        new LDAvis(\"#\" + \"ldavis_el697219465926775843514464719\", ldavis_el697219465926775843514464719_data);\n",
       "      });\n",
       "    });\n",
       "}else{\n",
       "    // require.js not available: dynamically load d3 & LDAvis\n",
       "    LDAvis_load_lib(\"https://cdnjs.cloudflare.com/ajax/libs/d3/3.5.5/d3.min.js\", function(){\n",
       "         LDAvis_load_lib(\"https://cdn.rawgit.com/bmabey/pyLDAvis/files/ldavis.v1.0.0.js\", function(){\n",
       "                 new LDAvis(\"#\" + \"ldavis_el697219465926775843514464719\", ldavis_el697219465926775843514464719_data);\n",
       "            })\n",
       "         });\n",
       "}\n",
       "</script>"
      ],
      "text/plain": [
       "PreparedData(topic_coordinates=            Freq  cluster  topics         x         y\n",
       "topic                                                \n",
       "3      14.208471        1       1  0.312178 -0.003845\n",
       "6      12.012739        1       2  0.204223 -0.019000\n",
       "0      10.645026        1       3 -0.089848  0.380279\n",
       "7      10.387444        1       4 -0.110486 -0.135900\n",
       "9      10.173903        1       5 -0.047922 -0.064508\n",
       "2       8.977041        1       6  0.088315  0.043885\n",
       "8       8.544526        1       7 -0.102245 -0.045733\n",
       "4       8.480484        1       8 -0.099838 -0.037474\n",
       "1       8.457304        1       9 -0.066007 -0.069451\n",
       "5       8.113062        1      10 -0.088369 -0.048253, topic_info=     Category         Freq                    Term        Total  loglift  \\\n",
       "term                                                                       \n",
       "83    Default   965.000000                 racisme   965.000000  30.0000   \n",
       "49    Default   798.000000                  baudet   798.000000  29.0000   \n",
       "20    Default  1434.000000                      co  1434.000000  28.0000   \n",
       "339   Default   669.000000                  gewoon   669.000000  27.0000   \n",
       "674   Default   833.000000              referendum   833.000000  26.0000   \n",
       "648   Default   702.000000                     mee   702.000000  25.0000   \n",
       "476   Default   628.000000                pechtold   628.000000  24.0000   \n",
       "241   Default   621.000000              uitspraken   621.000000  23.0000   \n",
       "323   Default   590.000000                   media   590.000000  22.0000   \n",
       "36    Default   670.000000                gemeente   670.000000  21.0000   \n",
       "51    Default   568.000000                     fvd   568.000000  20.0000   \n",
       "138   Default   554.000000                    doet   554.000000  19.0000   \n",
       "60    Default   573.000000                     mag   573.000000  18.0000   \n",
       "182   Default   607.000000                    weer   607.000000  17.0000   \n",
       "65    Default   485.000000                    keer   485.000000  16.0000   \n",
       "346   Default   440.000000                    pvda   440.000000  15.0000   \n",
       "86    Default   547.000000                    gaat   547.000000  14.0000   \n",
       "1758  Default   498.000000                      nl   498.000000  13.0000   \n",
       "756   Default   497.000000                      af   497.000000  12.0000   \n",
       "11    Default   418.000000                   rutte   418.000000  11.0000   \n",
       "1756  Default   477.000000                   hallo   477.000000  10.0000   \n",
       "1755  Default   475.000000       detailhandel_werk   475.000000   9.0000   \n",
       "1779  Default   475.000000                    veil   475.000000   8.0000   \n",
       "288   Default   396.000000                leefbaar   396.000000   7.0000   \n",
       "184   Default   379.000000                donorwet   379.000000   6.0000   \n",
       "75    Default   433.000000                 kabinet   433.000000   5.0000   \n",
       "69    Default   385.000000                    vind   385.000000   4.0000   \n",
       "219   Default   353.000000           discriminatie   353.000000   3.0000   \n",
       "70    Default   375.000000               zorgelijk   375.000000   2.0000   \n",
       "6147  Default   416.000000                schaffen   416.000000   1.0000   \n",
       "...       ...          ...                     ...          ...      ...   \n",
       "7704  Topic10   112.566224               weg_terug   113.434647   2.5040   \n",
       "7702  Topic10   112.566224  nederland_afgeschreven   113.434647   2.5040   \n",
       "945   Topic10    91.426533               interview    92.253763   2.5027   \n",
       "478   Topic10    85.806876              debatteren    86.635371   2.5021   \n",
       "213   Topic10    68.866464                     net    69.693759   2.4998   \n",
       "1274  Topic10    60.898011                    kijk    61.725429   2.4982   \n",
       "8956  Topic10    66.490697                verbeter    67.425146   2.4977   \n",
       "8955  Topic10    66.490697        halfbakken_motie    67.425146   2.4977   \n",
       "8954  Topic10    66.490697           buhne_deining    67.425146   2.4977   \n",
       "348   Topic10    48.027637                     zie    48.854733   2.4946   \n",
       "151   Topic10    45.351066                   eerst    46.178149   2.4936   \n",
       "1193  Topic10    42.028542           haga_bedreigt    42.856232   2.4922   \n",
       "1194  Topic10    42.028542            voortbestaan    42.856232   2.4922   \n",
       "2280  Topic10    39.965827                   leden    40.792985   2.4912   \n",
       "4218  Topic10    38.156933              veenendaal    38.984797   2.4902   \n",
       "345   Topic10    37.643584                  nieuwe    38.470729   2.4900   \n",
       "2524  Topic10    34.612373               kandidaat    35.439545   2.4881   \n",
       "3351  Topic10    30.769960              aanvoering    31.596965   2.4852   \n",
       "1378  Topic10    30.700729     gevestigde_partijen    31.527734   2.4851   \n",
       "3352  Topic10    30.693224              dodenlijst    31.520229   2.4851   \n",
       "3353  Topic10    30.693224      explosief_gegroeid    31.520229   2.4851   \n",
       "3355  Topic10    30.693224              onverwacht    31.520229   2.4851   \n",
       "3389  Topic10    30.690854             msm_probere    31.517859   2.4851   \n",
       "54    Topic10    29.106704               ollongren    29.934017   2.4837   \n",
       "689   Topic10    23.105211                  mening    23.940268   2.4762   \n",
       "8161  Topic10    42.287076                 nijboer    44.800023   2.4540   \n",
       "8924  Topic10    83.438751                  senaat   103.482977   2.2964   \n",
       "9019  Topic10    42.683686                   wenst    82.457603   1.8532   \n",
       "32    Topic10    67.066237                     vvd   345.231039   0.8732   \n",
       "9017  Topic10    32.055870                misdrijf    61.782143   1.8556   \n",
       "\n",
       "      logprob  \n",
       "term           \n",
       "83    30.0000  \n",
       "49    29.0000  \n",
       "20    28.0000  \n",
       "339   27.0000  \n",
       "674   26.0000  \n",
       "648   25.0000  \n",
       "476   24.0000  \n",
       "241   23.0000  \n",
       "323   22.0000  \n",
       "36    21.0000  \n",
       "51    20.0000  \n",
       "138   19.0000  \n",
       "60    18.0000  \n",
       "182   17.0000  \n",
       "65    16.0000  \n",
       "346   15.0000  \n",
       "86    14.0000  \n",
       "1758  13.0000  \n",
       "756   12.0000  \n",
       "11    11.0000  \n",
       "1756  10.0000  \n",
       "1755   9.0000  \n",
       "1779   8.0000  \n",
       "288    7.0000  \n",
       "184    6.0000  \n",
       "75     5.0000  \n",
       "69     4.0000  \n",
       "219    3.0000  \n",
       "70     2.0000  \n",
       "6147   1.0000  \n",
       "...       ...  \n",
       "7704  -3.9427  \n",
       "7702  -3.9427  \n",
       "945   -4.1507  \n",
       "478   -4.2141  \n",
       "213   -4.4341  \n",
       "1274  -4.5570  \n",
       "8956  -4.4692  \n",
       "8955  -4.4692  \n",
       "8954  -4.4692  \n",
       "348   -4.7945  \n",
       "151   -4.8518  \n",
       "1193  -4.9279  \n",
       "1194  -4.9279  \n",
       "2280  -4.9782  \n",
       "4218  -5.0245  \n",
       "345   -5.0381  \n",
       "2524  -5.1220  \n",
       "3351  -5.2397  \n",
       "1378  -5.2420  \n",
       "3352  -5.2422  \n",
       "3353  -5.2422  \n",
       "3355  -5.2422  \n",
       "3389  -5.2423  \n",
       "54    -5.2953  \n",
       "689   -5.5262  \n",
       "8161  -4.9218  \n",
       "8924  -4.2421  \n",
       "9019  -4.9124  \n",
       "32    -4.4606  \n",
       "9017  -5.1988  \n",
       "\n",
       "[377 rows x 6 columns], token_table=      Topic      Freq                 Term\n",
       "term                                      \n",
       "3239      3  0.998484         aantijgingen\n",
       "3351     10  0.981107           aanvoering\n",
       "756       2  0.999310                   af\n",
       "33        7  0.971840       afgerekend_ton\n",
       "6581      6  0.961383              afgrond\n",
       "1500      2  0.989240           afschaffen\n",
       "6127      1  0.996213          afschaffing\n",
       "1140      6  0.982421              afstand\n",
       "3040      8  0.969965            alexander\n",
       "787       5  0.993934               alleen\n",
       "292       1  0.996589            amsterdam\n",
       "5113      1  0.990699         amsterdammer\n",
       "1461      1  0.996020                angst\n",
       "3366      7  0.996581                armoe\n",
       "1833      2  0.978202           arrogantie\n",
       "49        3  0.999380               baudet\n",
       "8729      1  0.041598              bedenkt\n",
       "8729      2  0.062396              bedenkt\n",
       "8729      4  0.041598              bedenkt\n",
       "8729      7  0.124793              bedenkt\n",
       "8729      8  0.644763              bedenkt\n",
       "8729      9  0.062396              bedenkt\n",
       "8487      2  0.022621             beet_kop\n",
       "8487      4  0.022621             beet_kop\n",
       "8487      7  0.904830             beet_kop\n",
       "8487      8  0.022621             beet_kop\n",
       "8487     10  0.022621             beet_kop\n",
       "1205      4  0.990181               beetje\n",
       "6505      8  0.973658       beetje_inzicht\n",
       "1931      5  0.994277   begint_gevaarlijke\n",
       "...     ...       ...                  ...\n",
       "9019      6  0.048510                wenst\n",
       "9019      8  0.024255                wenst\n",
       "9019     10  0.521480                wenst\n",
       "6669      3  0.998497      wervelende_week\n",
       "769       2  0.979019            wethouder\n",
       "170       3  0.984021               willen\n",
       "224       9  0.964767                woord\n",
       "1623      7  0.990837                   xa\n",
       "8570      1  0.023951           yermaz_zei\n",
       "8570      4  0.023951           yermaz_zei\n",
       "8570      7  0.934095           yermaz_zei\n",
       "8570     10  0.023951           yermaz_zei\n",
       "960       8  0.935519               yernaz\n",
       "2324     10  0.998472  yernaz_ramautarsing\n",
       "1323      8  0.969581                  zeg\n",
       "226       6  0.973469               zeggen\n",
       "7951      5  0.978792          zegt_schiet\n",
       "1860      6  0.982199                zelfs\n",
       "7324      5  0.991935     zetten_nieuwsuur\n",
       "348      10  0.982505                  zie\n",
       "7706     10  0.990829          zieltogende\n",
       "1104      6  0.981039                 zien\n",
       "751       5  0.996178                  zit\n",
       "5372      6  0.981101               zomers\n",
       "2331      9  0.982057                  zon\n",
       "1679      5  0.997714                 zorg\n",
       "6648      5  0.991513           zorg_nsure\n",
       "70        5  0.996981            zorgelijk\n",
       "7877      3  0.983935           ztcwjbeker\n",
       "2677      9  0.980771               zullen\n",
       "\n",
       "[430 rows x 3 columns], R=30, lambda_step=0.01, plot_opts={'xlab': 'PC1', 'ylab': 'PC2'}, topic_order=[4, 7, 1, 8, 10, 3, 9, 5, 2, 6])"
      ]
     },
     "execution_count": 28,
     "metadata": {},
     "output_type": "execute_result"
    }
   ],
   "source": [
    "# Visualize the topics\n",
    "pyLDAvis.enable_notebook()\n",
    "vis = pyLDAvis.gensim.prepare(lda_model, corpus, id2word)\n",
    "vis"
   ]
  },
  {
   "cell_type": "markdown",
   "metadata": {},
   "source": [
    "### LDA Mallet Model"
   ]
  }
 ],
 "metadata": {
  "kernelspec": {
   "display_name": "Python 3",
   "language": "python",
   "name": "python3"
  },
  "language_info": {
   "codemirror_mode": {
    "name": "ipython",
    "version": 3
   },
   "file_extension": ".py",
   "mimetype": "text/x-python",
   "name": "python",
   "nbconvert_exporter": "python",
   "pygments_lexer": "ipython3",
   "version": "3.6.2"
  }
 },
 "nbformat": 4,
 "nbformat_minor": 2
}
