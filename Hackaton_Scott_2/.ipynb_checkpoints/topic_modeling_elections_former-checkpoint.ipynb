{
 "cells": [
  {
   "cell_type": "markdown",
   "metadata": {},
   "source": [
    "### Gensim LDA"
   ]
  },
  {
   "cell_type": "code",
   "execution_count": 1,
   "metadata": {},
   "outputs": [
    {
     "name": "stderr",
     "output_type": "stream",
     "text": [
      "C:\\Users\\Mikhail\\Anaconda3\\lib\\site-packages\\gensim\\utils.py:1197: UserWarning: detected Windows; aliasing chunkize to chunkize_serial\n",
      "  warnings.warn(\"detected Windows; aliasing chunkize to chunkize_serial\")\n"
     ]
    }
   ],
   "source": [
    "import re, os, time\n",
    "import numpy as np\n",
    "import pandas as pd\n",
    "from pprint import pprint\n",
    "\n",
    "# Gensim\n",
    "from gensim.models.ldamodel import LdaModel\n",
    "from gensim.models import Phrases\n",
    "from gensim.models.phrases import Phraser\n",
    "import gensim.corpora as corpora\n",
    "from gensim.utils import simple_preprocess\n",
    "from gensim.models import CoherenceModel\n",
    "\n",
    "# Import nltk stopwords and spacy for lemmatization\n",
    "from nltk.corpus import stopwords\n",
    "\n",
    "# Plotting tools\n",
    "import pyLDAvis\n",
    "import pyLDAvis.gensim  # don't skip this\n",
    "import matplotlib.pyplot as plt\n",
    "import spacy\n",
    "%matplotlib inline\n",
    "\n",
    "# Enable logging for Gensim - optional\n",
    "import logging\n",
    "logging.basicConfig(format='%(asctime)s : %(levelname)s : %(message)s', level=logging.ERROR)\n",
    "\n",
    "import warnings\n",
    "warnings.filterwarnings('ignore',category=DeprecationWarning)"
   ]
  },
  {
   "cell_type": "code",
   "execution_count": 2,
   "metadata": {
    "collapsed": true
   },
   "outputs": [],
   "source": [
    "current_dir = os.getcwd()\n",
    "os.chdir(current_dir)"
   ]
  },
  {
   "cell_type": "markdown",
   "metadata": {},
   "source": [
    "#### 1. Import dataset"
   ]
  },
  {
   "cell_type": "markdown",
   "metadata": {},
   "source": [
    "#### Dutch elections dataset"
   ]
  },
  {
   "cell_type": "markdown",
   "metadata": {},
   "source": [
    "First of all, we need to load and preprocess the data. All Tweets were collected and stored in _JSON_ (JavaScript Object Notation) format. As reference: \"JSON is a lightweight data-interchange format. It is easy for humans to read and write. It is easy for machines to parse and generate.\". After loading it, we want to manipulate the data in _lists_ and _dictionaries_. In addition, we will collect statistics about the dataset."
   ]
  },
  {
   "cell_type": "code",
   "execution_count": 3,
   "metadata": {
    "collapsed": true
   },
   "outputs": [],
   "source": [
    "# Collect names of Tweet files\n",
    "from os import listdir\n",
    "from os.path import isfile, join\n",
    "\n",
    "mypath = 'data/elections'\n",
    "onlyfiles = [f for f in listdir(mypath) if isfile(join(mypath, f))]"
   ]
  },
  {
   "cell_type": "code",
   "execution_count": 4,
   "metadata": {
    "collapsed": true
   },
   "outputs": [],
   "source": [
    "# Collect all Tweets available and store them as list of dicts\n",
    "import json\n",
    "all_tweets = []\n",
    "\n",
    "for f in onlyfiles:\n",
    "    full_name = mypath+'/'+f\n",
    "\n",
    "    with open(full_name, 'r') as f:\n",
    "        data = json.load(f)\n",
    "        all_tweets.extend(data)"
   ]
  },
  {
   "cell_type": "code",
   "execution_count": 5,
   "metadata": {
    "collapsed": true
   },
   "outputs": [],
   "source": [
    "# # Save collected Tweets\n",
    "# with open('elections_tweets', 'w') as fout:\n",
    "#     json.dump(all_tweets, fout)"
   ]
  },
  {
   "cell_type": "code",
   "execution_count": 4,
   "metadata": {
    "collapsed": true
   },
   "outputs": [],
   "source": [
    "# Load collected Tweets\n",
    "import json\n",
    "with open('elections_tweets', 'r') as fout:\n",
    "        all_tweets = json.load(fout)"
   ]
  },
  {
   "cell_type": "code",
   "execution_count": 9,
   "metadata": {},
   "outputs": [
    {
     "name": "stdout",
     "output_type": "stream",
     "text": [
      "Sample of a Tweet: RT @Derksen_Gelul: Nederlands bekendste droogkloot, Marcel van Roosmalen sloopt D66 helemaal de moeder!! Luister zelf naar deze topper en g… \n",
      "\n",
      "Number of fields available: 28 \n",
      "\n",
      "Fields available in a Tweet: \n",
      " ['created_at', 'id', 'id_str', 'text', 'source', 'truncated', 'in_reply_to_status_id', 'in_reply_to_status_id_str', 'in_reply_to_user_id', 'in_reply_to_user_id_str', 'in_reply_to_screen_name', 'user', 'geo', 'coordinates', 'place', 'contributors', 'retweeted_status', 'is_quote_status', 'quote_count', 'reply_count', 'retweet_count', 'favorite_count', 'entities', 'favorited', 'retweeted', 'filter_level', 'lang', 'timestamp_ms'] \n",
      "\n",
      "Info avaialable in the whole set: \n",
      " ['contributors' 'coordinates' 'created_at' 'display_text_range' 'entities'\n",
      " 'extended_tweet' 'favorite_count' 'favorited' 'filter_level' 'geo' 'id'\n",
      " 'id_str' 'in_reply_to_screen_name' 'in_reply_to_status_id'\n",
      " 'in_reply_to_status_id_str' 'in_reply_to_user_id'\n",
      " 'in_reply_to_user_id_str' 'is_quote_status' 'lang' 'place'\n",
      " 'possibly_sensitive' 'quote_count' 'quoted_status' 'quoted_status_id'\n",
      " 'quoted_status_id_str' 'reply_count' 'retweet_count' 'retweeted'\n",
      " 'retweeted_status' 'source' 'text' 'timestamp_ms' 'truncated' 'user']\n"
     ]
    }
   ],
   "source": [
    "# Statistics\n",
    "print('Sample of a Tweet:', all_tweets[0]['text'], '\\n')\n",
    "print('Number of fields available:', len(all_tweets[0].keys()), '\\n')\n",
    "print('Fields available in a Tweet:', '\\n', [*all_tweets[0]], '\\n')\n",
    "print('Info avaialable in the whole set:', '\\n', pd.DataFrame(all_tweets[:10]).columns.values)"
   ]
  },
  {
   "cell_type": "code",
   "execution_count": 10,
   "metadata": {
    "collapsed": true,
    "scrolled": true
   },
   "outputs": [],
   "source": [
    "# Extract the data (id and text), and put it into dict and list\n",
    "text_dict = {} \n",
    "text_list = []\n",
    "id_list = []\n",
    "missing_tweets = 0\n",
    "\n",
    "for tweet in all_tweets:\n",
    "    if ('text' in tweet.keys()):\n",
    "        if ('id' in tweet.keys()):\n",
    "            my_id = tweet['id']\n",
    "            if (tweet['text'] != None):\n",
    "                text_dict[my_id] = tweet['text']\n",
    "                id_list.append(my_id)\n",
    "                text_list.append([tweet['text']])\n",
    "                \n",
    "            elif (tweet['text'] == None):\n",
    "                missing_values = missing_tweets + 1"
   ]
  },
  {
   "cell_type": "code",
   "execution_count": 4,
   "metadata": {
    "collapsed": true
   },
   "outputs": [],
   "source": [
    "# # Save processed Tweets\n",
    "# import pickle\n",
    "\n",
    "# with open('elections_text_list', 'wb') as fp:\n",
    "#     pickle.dump(text_list, fp)\n",
    "    \n",
    "# with open('elections_text_dict', 'wb') as fp:\n",
    "#     pickle.dump(text_dict, fp, protocol=pickle.HIGHEST_PROTOCOL)"
   ]
  },
  {
   "cell_type": "code",
   "execution_count": 3,
   "metadata": {
    "collapsed": true
   },
   "outputs": [],
   "source": [
    "# Load processed Tweets\n",
    "import pickle\n",
    "with open('elections_text_list', 'rb') as fp:\n",
    "    text_list = pickle.load(fp)\n",
    "    \n",
    "with open('elections_text_dict', 'rb') as fp:\n",
    "    text_dict = pickle.load(fp)"
   ]
  },
  {
   "cell_type": "code",
   "execution_count": 4,
   "metadata": {},
   "outputs": [
    {
     "name": "stdout",
     "output_type": "stream",
     "text": [
      "In total 795867 Tweets collected\n",
      "On average Tweet is 124 charachters long \n",
      "\n",
      "Longest Tweet is: ['@tacticsoftuchel Courtois&gt;Karius\\nAzpi&gt;Clyne \\nChristensen&lt;VVD (for now)\\nZouma/Rudiger&gt;&gt;&gt;&gt;&gt;&gt;\\nEmerson/Alonso&lt;Robertson… https://t.co/5YNNJog70t'] \n",
      "\n",
      "It is 170 characters long\n"
     ]
    }
   ],
   "source": [
    "# Statistics\n",
    "t = len(text_dict)\n",
    "max_length = 0\n",
    "average_length = 0\n",
    "\n",
    "for tweet in text_list : \n",
    "    average_length = average_length + sum(len(i) for i in tweet) \n",
    "    if (sum(len(i) for i in tweet) > max_length) : \n",
    "        max_length = sum(len(i) for i in tweet)\n",
    "        max_tweet = tweet\n",
    "\n",
    "print('In total ' + str(t) + ' Tweets collected')\n",
    "print('On average Tweet is ' + str(round(average_length / t)) + ' charachters long', '\\n')\n",
    "print('Longest Tweet is:', max_tweet, '\\n')\n",
    "print('It is', sum(len(i) for i in max_tweet), 'characters long')"
   ]
  },
  {
   "cell_type": "code",
   "execution_count": 5,
   "metadata": {},
   "outputs": [
    {
     "data": {
      "text/html": [
       "<div>\n",
       "<style scoped>\n",
       "    .dataframe tbody tr th:only-of-type {\n",
       "        vertical-align: middle;\n",
       "    }\n",
       "\n",
       "    .dataframe tbody tr th {\n",
       "        vertical-align: top;\n",
       "    }\n",
       "\n",
       "    .dataframe thead th {\n",
       "        text-align: right;\n",
       "    }\n",
       "</style>\n",
       "<table border=\"1\" class=\"dataframe\">\n",
       "  <thead>\n",
       "    <tr style=\"text-align: right;\">\n",
       "      <th></th>\n",
       "      <th>0</th>\n",
       "    </tr>\n",
       "  </thead>\n",
       "  <tbody>\n",
       "    <tr>\n",
       "      <th>0</th>\n",
       "      <td>RT @Derksen_Gelul: Nederlands bekendste droogk...</td>\n",
       "    </tr>\n",
       "    <tr>\n",
       "      <th>1</th>\n",
       "      <td>RT @GerBStruik: Niet alleen Ollongren, maar ni...</td>\n",
       "    </tr>\n",
       "    <tr>\n",
       "      <th>2</th>\n",
       "      <td>@JoostNiemoller Joost, trap er toch niet in. H...</td>\n",
       "    </tr>\n",
       "    <tr>\n",
       "      <th>3</th>\n",
       "      <td>@EenVandaag @thierrybaudet @D66 @APechtold Ald...</td>\n",
       "    </tr>\n",
       "    <tr>\n",
       "      <th>4</th>\n",
       "      <td>Dolhuysbrug moet na tien jaar definitief van t...</td>\n",
       "    </tr>\n",
       "  </tbody>\n",
       "</table>\n",
       "</div>"
      ],
      "text/plain": [
       "                                                   0\n",
       "0  RT @Derksen_Gelul: Nederlands bekendste droogk...\n",
       "1  RT @GerBStruik: Niet alleen Ollongren, maar ni...\n",
       "2  @JoostNiemoller Joost, trap er toch niet in. H...\n",
       "3  @EenVandaag @thierrybaudet @D66 @APechtold Ald...\n",
       "4  Dolhuysbrug moet na tien jaar definitief van t..."
      ]
     },
     "execution_count": 5,
     "metadata": {},
     "output_type": "execute_result"
    }
   ],
   "source": [
    "# Let's inspect the Tweets\n",
    "pd.DataFrame(text_list[:5])"
   ]
  },
  {
   "cell_type": "markdown",
   "metadata": {},
   "source": [
    "#### 2. Remove emails and newline characters "
   ]
  },
  {
   "cell_type": "markdown",
   "metadata": {},
   "source": [
    "Now it is time to preprocess the Tweets. We will exclude some symbols, links, etc. Thereafter for algorithmic purposes, we need to split each Tweet (a combination of sentences) into a combination of words."
   ]
  },
  {
   "cell_type": "code",
   "execution_count": 144,
   "metadata": {},
   "outputs": [
    {
     "name": "stdout",
     "output_type": "stream",
     "text": [
      "[['RT @Derksen_Gelul: Nederlands bekendste droogkloot, Marcel van Roosmalen '\n",
      "  'sloopt D66 helemaal de moeder!! Luister zelf naar deze topper en g…'],\n",
      " ['RT @GerBStruik: Niet alleen Ollongren, maar niemand in #Rutte3 heeft '\n",
      "  'kennelijk enig benul van staatsrecht. Een minister die als minister ee…'],\n",
      " ['@JoostNiemoller Joost, trap er toch niet in. Hier is één grote minne '\n",
      "  'manipulatie aan de gang tegen FVD. Deze heeft… https://t.co/lVFOuFFYF3']]\n"
     ]
    }
   ],
   "source": [
    "# Before\n",
    "pprint(text_list[:3])"
   ]
  },
  {
   "cell_type": "code",
   "execution_count": 158,
   "metadata": {
    "collapsed": true
   },
   "outputs": [],
   "source": [
    "data = text_list\n",
    "# data = text_list[-int(1e5):]\n",
    "\n",
    "# Remove Emails and links to users\n",
    "data = [re.sub('\\S*@\\S*\\s?', '', str(sent)) for sent in data]\n",
    "\n",
    "# Remove new line characters\n",
    "data = [re.sub('\\s+', ' ', str(sent)) for sent in data]\n",
    "\n",
    "# Remove distracting single quotes\n",
    "data = [re.sub(\"\\'\", \"\", str(sent)) for sent in data]\n",
    "\n",
    "# Remove https and links\n",
    "data = [re.sub(r\"https\\S+\", \"\", str(sent)) for sent in data]"
   ]
  },
  {
   "cell_type": "code",
   "execution_count": 159,
   "metadata": {},
   "outputs": [
    {
     "name": "stdout",
     "output_type": "stream",
     "text": [
      "['[RT Nederlands bekendste droogkloot, Marcel van Roosmalen sloopt D66 '\n",
      " 'helemaal de moeder!! Luister zelf naar deze topper en g…]',\n",
      " '[RT Niet alleen Ollongren, maar niemand in #Rutte3 heeft kennelijk enig '\n",
      " 'benul van staatsrecht. Een minister die als minister ee…]',\n",
      " 'Joost, trap er toch niet in. Hier is één grote minne manipulatie aan de gang '\n",
      " 'tegen FVD. Deze heeft… ']\n"
     ]
    }
   ],
   "source": [
    "# After\n",
    "pprint(data[:3])\n",
    "# TODO: take care of \\\\n"
   ]
  },
  {
   "cell_type": "markdown",
   "metadata": {},
   "source": [
    "#### 3. Tokenize words and Clean-up text"
   ]
  },
  {
   "cell_type": "code",
   "execution_count": 160,
   "metadata": {},
   "outputs": [
    {
     "data": {
      "text/html": [
       "<div>\n",
       "<style scoped>\n",
       "    .dataframe tbody tr th:only-of-type {\n",
       "        vertical-align: middle;\n",
       "    }\n",
       "\n",
       "    .dataframe tbody tr th {\n",
       "        vertical-align: top;\n",
       "    }\n",
       "\n",
       "    .dataframe thead th {\n",
       "        text-align: right;\n",
       "    }\n",
       "</style>\n",
       "<table border=\"1\" class=\"dataframe\">\n",
       "  <thead>\n",
       "    <tr style=\"text-align: right;\">\n",
       "      <th></th>\n",
       "      <th>0</th>\n",
       "      <th>1</th>\n",
       "      <th>2</th>\n",
       "      <th>3</th>\n",
       "      <th>4</th>\n",
       "      <th>5</th>\n",
       "      <th>6</th>\n",
       "      <th>7</th>\n",
       "      <th>8</th>\n",
       "      <th>9</th>\n",
       "      <th>10</th>\n",
       "      <th>11</th>\n",
       "      <th>12</th>\n",
       "      <th>13</th>\n",
       "      <th>14</th>\n",
       "      <th>15</th>\n",
       "      <th>16</th>\n",
       "      <th>17</th>\n",
       "      <th>18</th>\n",
       "      <th>19</th>\n",
       "    </tr>\n",
       "  </thead>\n",
       "  <tbody>\n",
       "    <tr>\n",
       "      <th>0</th>\n",
       "      <td>rt</td>\n",
       "      <td>nederlands</td>\n",
       "      <td>bekendste</td>\n",
       "      <td>droogkloot</td>\n",
       "      <td>marcel</td>\n",
       "      <td>van</td>\n",
       "      <td>roosmalen</td>\n",
       "      <td>sloopt</td>\n",
       "      <td>helemaal</td>\n",
       "      <td>de</td>\n",
       "      <td>moeder</td>\n",
       "      <td>luister</td>\n",
       "      <td>zelf</td>\n",
       "      <td>naar</td>\n",
       "      <td>deze</td>\n",
       "      <td>topper</td>\n",
       "      <td>en</td>\n",
       "      <td>None</td>\n",
       "      <td>None</td>\n",
       "      <td>None</td>\n",
       "    </tr>\n",
       "    <tr>\n",
       "      <th>1</th>\n",
       "      <td>rt</td>\n",
       "      <td>niet</td>\n",
       "      <td>alleen</td>\n",
       "      <td>ollongren</td>\n",
       "      <td>maar</td>\n",
       "      <td>niemand</td>\n",
       "      <td>in</td>\n",
       "      <td>rutte</td>\n",
       "      <td>heeft</td>\n",
       "      <td>kennelijk</td>\n",
       "      <td>enig</td>\n",
       "      <td>benul</td>\n",
       "      <td>van</td>\n",
       "      <td>staatsrecht</td>\n",
       "      <td>een</td>\n",
       "      <td>minister</td>\n",
       "      <td>die</td>\n",
       "      <td>als</td>\n",
       "      <td>minister</td>\n",
       "      <td>ee</td>\n",
       "    </tr>\n",
       "    <tr>\n",
       "      <th>2</th>\n",
       "      <td>joost</td>\n",
       "      <td>trap</td>\n",
       "      <td>er</td>\n",
       "      <td>toch</td>\n",
       "      <td>niet</td>\n",
       "      <td>in</td>\n",
       "      <td>hier</td>\n",
       "      <td>is</td>\n",
       "      <td>een</td>\n",
       "      <td>grote</td>\n",
       "      <td>minne</td>\n",
       "      <td>manipulatie</td>\n",
       "      <td>aan</td>\n",
       "      <td>de</td>\n",
       "      <td>gang</td>\n",
       "      <td>tegen</td>\n",
       "      <td>fvd</td>\n",
       "      <td>deze</td>\n",
       "      <td>heeft</td>\n",
       "      <td>None</td>\n",
       "    </tr>\n",
       "    <tr>\n",
       "      <th>3</th>\n",
       "      <td>aldus</td>\n",
       "      <td>leugenaar</td>\n",
       "      <td>hoe</td>\n",
       "      <td>durft</td>\n",
       "      <td>deze</td>\n",
       "      <td>partij</td>\n",
       "      <td>nog</td>\n",
       "      <td>de</td>\n",
       "      <td>van</td>\n",
       "      <td>None</td>\n",
       "      <td>None</td>\n",
       "      <td>None</td>\n",
       "      <td>None</td>\n",
       "      <td>None</td>\n",
       "      <td>None</td>\n",
       "      <td>None</td>\n",
       "      <td>None</td>\n",
       "      <td>None</td>\n",
       "      <td>None</td>\n",
       "      <td>None</td>\n",
       "    </tr>\n",
       "    <tr>\n",
       "      <th>4</th>\n",
       "      <td>dolhuysbrug</td>\n",
       "      <td>moet</td>\n",
       "      <td>na</td>\n",
       "      <td>tien</td>\n",
       "      <td>jaar</td>\n",
       "      <td>definitief</td>\n",
       "      <td>van</td>\n",
       "      <td>tafel</td>\n",
       "      <td>vvd</td>\n",
       "      <td>haarlem</td>\n",
       "      <td>uw</td>\n",
       "      <td>eigen</td>\n",
       "      <td>filter</td>\n",
       "      <td>ove</td>\n",
       "      <td>None</td>\n",
       "      <td>None</td>\n",
       "      <td>None</td>\n",
       "      <td>None</td>\n",
       "      <td>None</td>\n",
       "      <td>None</td>\n",
       "    </tr>\n",
       "  </tbody>\n",
       "</table>\n",
       "</div>"
      ],
      "text/plain": [
       "            0           1          2           3       4           5   \\\n",
       "0           rt  nederlands  bekendste  droogkloot  marcel         van   \n",
       "1           rt        niet     alleen   ollongren    maar     niemand   \n",
       "2        joost        trap         er        toch    niet          in   \n",
       "3        aldus   leugenaar        hoe       durft    deze      partij   \n",
       "4  dolhuysbrug        moet         na        tien    jaar  definitief   \n",
       "\n",
       "          6       7         8          9       10           11      12  \\\n",
       "0  roosmalen  sloopt  helemaal         de  moeder      luister    zelf   \n",
       "1         in   rutte     heeft  kennelijk    enig        benul     van   \n",
       "2       hier      is       een      grote   minne  manipulatie     aan   \n",
       "3        nog      de       van       None    None         None    None   \n",
       "4        van   tafel       vvd    haarlem      uw        eigen  filter   \n",
       "\n",
       "            13    14        15    16    17        18    19  \n",
       "0         naar  deze    topper    en  None      None  None  \n",
       "1  staatsrecht   een  minister   die   als  minister    ee  \n",
       "2           de  gang     tegen   fvd  deze     heeft  None  \n",
       "3         None  None      None  None  None      None  None  \n",
       "4          ove  None      None  None  None      None  None  "
      ]
     },
     "execution_count": 160,
     "metadata": {},
     "output_type": "execute_result"
    }
   ],
   "source": [
    "def sent_to_words(sentences) :\n",
    "    '''Split sentences into words'''\n",
    "    for sentence in sentences :\n",
    "        # The main function here is Gensim's simple_preprocess\n",
    "        yield(simple_preprocess(str(sentence), deacc=True))  # deacc=True removes punctuations\n",
    "\n",
    "data_words = list(sent_to_words(data))\n",
    "\n",
    "# Let's explore what do we have now\n",
    "pd.DataFrame(data_words[:5])"
   ]
  },
  {
   "cell_type": "markdown",
   "metadata": {},
   "source": [
    "#### 4. Remove Stopwords, Make Bigrams and Lemmatize"
   ]
  },
  {
   "cell_type": "markdown",
   "metadata": {},
   "source": [
    "Here we're continuing to preprocess the Tweets by excluding so-called stopwords - just a set of common used words such as 'and', 'so', etc. in English. NLTK package has a collections of stopwords for Dutch language as well. Also, we can extend the set by adding words that should be considered as redundant ones."
   ]
  },
  {
   "cell_type": "code",
   "execution_count": 161,
   "metadata": {
    "collapsed": true
   },
   "outputs": [],
   "source": [
    "# NLTK stop words collection\n",
    "stop_words = stopwords.words('dutch')\n",
    "\n",
    "# TODO: Extend stop words collection using native speaker knowledge\n",
    "# stop_words.extend(['from', 'subject', 're', 'edu', 'use'])"
   ]
  },
  {
   "cell_type": "code",
   "execution_count": 162,
   "metadata": {},
   "outputs": [
    {
     "name": "stdout",
     "output_type": "stream",
     "text": [
      "The number of Dutch stop words avaialable: 101 \n",
      "\n",
      "['de', 'en', 'van', 'ik', 'te', 'dat', 'die', 'in', 'een', 'hij', 'het', 'niet', 'zijn', 'is', 'was', 'op', 'aan', 'met', 'als', 'voor', 'had', 'er', 'maar', 'om', 'hem', 'dan', 'zou', 'of', 'wat', 'mijn', 'men', 'dit', 'zo', 'door', 'over', 'ze', 'zich', 'bij', 'ook', 'tot', 'je', 'mij', 'uit', 'der', 'daar', 'haar', 'naar', 'heb', 'hoe', 'heeft', 'hebben', 'deze', 'u', 'want', 'nog', 'zal', 'me', 'zij', 'nu', 'ge', 'geen', 'omdat', 'iets', 'worden', 'toch', 'al', 'waren', 'veel', 'meer', 'doen', 'toen', 'moet', 'ben', 'zonder', 'kan', 'hun', 'dus', 'alles', 'onder', 'ja', 'eens', 'hier', 'wie', 'werd', 'altijd', 'doch', 'wordt', 'wezen', 'kunnen', 'ons', 'zelf', 'tegen', 'na', 'reeds', 'wil', 'kon', 'niets', 'uw', 'iemand', 'geweest', 'andere']\n"
     ]
    }
   ],
   "source": [
    "print('The number of Dutch stop words avaialable:', len(stop_words), '\\n')\n",
    "print(stop_words)"
   ]
  },
  {
   "cell_type": "markdown",
   "metadata": {},
   "source": [
    "Thereafter, we need to identify combinations of words that frequently appear together. For these purposes, we need to create so-called 'bigrams ' and 'trigrams'. Bigrams are two words frequently occurring together in the document. Trigrams are 3 words frequently occurring."
   ]
  },
  {
   "cell_type": "code",
   "execution_count": 163,
   "metadata": {},
   "outputs": [
    {
     "name": "stderr",
     "output_type": "stream",
     "text": [
      "C:\\Users\\Mikhail\\Anaconda3\\lib\\site-packages\\gensim\\models\\phrases.py:494: UserWarning: For a faster implementation, use the gensim.models.phrases.Phraser class\n",
      "  warnings.warn(\"For a faster implementation, use the gensim.models.phrases.Phraser class\")\n"
     ]
    },
    {
     "name": "stdout",
     "output_type": "stream",
     "text": [
      "Algorithm time = 3 min\n",
      "['rt', 'niet', 'alleen', 'ollongren', 'maar', 'niemand', 'in', 'rutte', 'heeft_kennelijk_enig', 'benul', 'van', 'staatsrecht', 'een', 'minister', 'die', 'als', 'minister', 'ee']\n"
     ]
    }
   ],
   "source": [
    "# Build the bigram and trigram models\n",
    "\n",
    "# One of the most important parameters here is min_count \n",
    "# If set up, for example, as 5, then only those bigrams and trigrams will be stored that appear 5 times or more\n",
    "\n",
    "# Threshold is \n",
    "# TODO: set up various parameters for min_count and threshold\n",
    "start = time.time()\n",
    "bigram = Phrases(data_words, min_count=5, threshold=10) \n",
    "trigram = Phrases(bigram[data_words], threshold=10)  \n",
    "\n",
    "# Faster way to get a sentence clubbed as a trigram/bigram\n",
    "bigram_mod = Phraser(bigram)\n",
    "trigram_mod = Phraser(trigram)\n",
    "end = time.time()\n",
    "print('Algorithm time =', round((end-start)/60), 'min')\n",
    "\n",
    "# See trigram example\n",
    "print(trigram_mod[bigram_mod[data_words[5]]])"
   ]
  },
  {
   "cell_type": "markdown",
   "metadata": {},
   "source": [
    "Lemmatization is converting a word to its root word. Spacy NLP package responsible for that. Thanks we have Dutch language version."
   ]
  },
  {
   "cell_type": "code",
   "execution_count": 164,
   "metadata": {
    "collapsed": true
   },
   "outputs": [],
   "source": [
    "# Define functions for stopwords, bigrams, trigrams and lemmatization\n",
    "def remove_stopwords(texts) :\n",
    "    return [[word for word in simple_preprocess(str(doc)) if word not in stop_words] for doc in texts]\n",
    "\n",
    "def make_bigrams(texts) :\n",
    "    return [bigram_mod[doc] for doc in texts]\n",
    "\n",
    "def make_trigrams(texts) :\n",
    "    return [trigram_mod[bigram_mod[doc]] for doc in texts]\n",
    "\n",
    "def lemmatization(texts, allowed_postags=['NOUN', 'ADJ', 'VERB', 'ADV']) :\n",
    "    texts_out = []\n",
    "    for sent in texts :\n",
    "        doc = nlp(\" \".join(sent)) \n",
    "        texts_out.append([token.lemma_ for token in doc if token.pos_ in allowed_postags])\n",
    "    return texts_out"
   ]
  },
  {
   "cell_type": "code",
   "execution_count": 165,
   "metadata": {
    "collapsed": true
   },
   "outputs": [],
   "source": [
    "# Remove stop words\n",
    "start = time.time()\n",
    "data_words_nostops = remove_stopwords(data_words)\n",
    "\n",
    "# Form bigrams\n",
    "data_words_bigrams = make_bigrams(data_words_nostops)\n",
    "\n",
    "nlp = spacy.load('nl', disable=['parser', 'ner'])\n",
    "\n",
    "# Do lemmatization keeping only noun, adj, vb, adv\n",
    "data_lemmatized = lemmatization(data_words_bigrams, allowed_postags=['NOUN', 'ADJ', 'VERB', 'ADV'])\n",
    "\n",
    "end = time.time()"
   ]
  },
  {
   "cell_type": "code",
   "execution_count": 166,
   "metadata": {},
   "outputs": [
    {
     "name": "stdout",
     "output_type": "stream",
     "text": [
      "Algorithm time = 64 min\n",
      "[['rt', 'nederlands', 'bekendste', 'droogkloot', 'marcel', 'van', 'roosmalen', 'sloopt', 'helemaal', 'de', 'moeder', 'luister', 'zelf', 'naar', 'deze', 'topper', 'en']]\n",
      "[['rt', 'nederlands', 'bekendste', 'droogkloot', 'marcel', 'roosmalen', 'sloopt', 'helemaal', 'moeder', 'luister', 'topper']]\n",
      "[['rt', 'nederlands_bekendste', 'droogkloot_marcel', 'roosmalen_sloopt', 'helemaal', 'moeder_luister', 'topper']]\n",
      "[['nederlands_bekendste', 'droogkloot_marcel', 'roosmalen_sloopt', 'helemaal', 'moeder_luister', 'topper']]\n"
     ]
    }
   ],
   "source": [
    "print('Algorithm time =', round((end-start)/60), 'min')\n",
    "print(data_words[:1])\n",
    "print(data_words_nostops[:1])\n",
    "print(data_words_bigrams[:1])\n",
    "print(data_lemmatized[:1])"
   ]
  },
  {
   "cell_type": "code",
   "execution_count": 91,
   "metadata": {
    "collapsed": true
   },
   "outputs": [],
   "source": [
    "# # Save results\n",
    "# with open('elections_data_lemmatized', 'wb') as fp:\n",
    "#     pickle.dump(data_lemmatized, fp)"
   ]
  },
  {
   "cell_type": "code",
   "execution_count": 92,
   "metadata": {
    "collapsed": true
   },
   "outputs": [],
   "source": [
    "# Load results\n",
    "with open('elections_data_lemmatized', 'rb') as fp:\n",
    "    data_lemmatized = pickle.load(fp)"
   ]
  },
  {
   "cell_type": "markdown",
   "metadata": {},
   "source": [
    "#### 6. Create the Dictionary and Corpus needed for Topic Modeling"
   ]
  },
  {
   "cell_type": "code",
   "execution_count": 167,
   "metadata": {},
   "outputs": [
    {
     "name": "stdout",
     "output_type": "stream",
     "text": [
      "        0       1       2       3       4       5\n",
      "0  (0, 1)  (1, 1)  (2, 1)  (3, 1)  (4, 1)  (5, 1)\n"
     ]
    }
   ],
   "source": [
    "# Create Dictionary\n",
    "dictionary = corpora.Dictionary(data_lemmatized)\n",
    "\n",
    "# Filter out words that occur less than 20 documents, or more than 50% of the documents\n",
    "# dictionary.filter_extremes(no_below=20, no_above=0.5)\n",
    "\n",
    "# Create Corpus\n",
    "texts = data_lemmatized\n",
    "\n",
    "# Term Document Frequency\n",
    "corpus = [dictionary.doc2bow(text) for text in texts]\n",
    "\n",
    "# Corpus contains pairs - a unique id for each word in the document and its frequency (word_id, word_frequency).\n",
    "print(pd.DataFrame(corpus[:1]))"
   ]
  },
  {
   "cell_type": "code",
   "execution_count": 168,
   "metadata": {},
   "outputs": [
    {
     "name": "stdout",
     "output_type": "stream",
     "text": [
      "[[(0, 1), (1, 1), (2, 1), (3, 1), (4, 1), (5, 1)]]\n",
      "droogkloot_marcel\n"
     ]
    }
   ],
   "source": [
    "# We also can check what was the word from the dictionary - dictionary\n",
    "pprint(corpus[:1])\n",
    "print(dictionary[0])"
   ]
  },
  {
   "cell_type": "code",
   "execution_count": 169,
   "metadata": {
    "scrolled": false
   },
   "outputs": [
    {
     "data": {
      "text/plain": [
       "[[('droogkloot_marcel', 1),\n",
       "  ('helemaal', 1),\n",
       "  ('moeder_luister', 1),\n",
       "  ('nederlands_bekendste', 1),\n",
       "  ('roosmalen_sloopt', 1),\n",
       "  ('topper', 1)]]"
      ]
     },
     "execution_count": 169,
     "metadata": {},
     "output_type": "execute_result"
    }
   ],
   "source": [
    "# Readable format\n",
    "[[(dictionary[id], freq) for id, freq in cp] for cp in corpus[:1]]"
   ]
  },
  {
   "cell_type": "code",
   "execution_count": 170,
   "metadata": {},
   "outputs": [
    {
     "name": "stdout",
     "output_type": "stream",
     "text": [
      "Number of unique tokens (words + bigrams + trigrams): 159876\n",
      "Number of documents: 796460\n"
     ]
    }
   ],
   "source": [
    "print('Number of unique tokens (words + bigrams + trigrams): %d' % len(dictionary))\n",
    "print('Number of documents: %d' % len(corpus))"
   ]
  },
  {
   "cell_type": "markdown",
   "metadata": {},
   "source": [
    "#### 7. Build the model"
   ]
  },
  {
   "cell_type": "code",
   "execution_count": 27,
   "metadata": {
    "collapsed": true
   },
   "outputs": [],
   "source": [
    "# # Build Gensim LDA model\n",
    "# start = time.time()\n",
    "# lda_model = gensim.models.ldamodel.LdaModel(corpus=corpus, # corpus\n",
    "#                                            dictionary=dictionary, # dict\n",
    "#                                            num_topics=10, # number of topic to be extracted\n",
    "#                                            random_state=100,\n",
    "#                                            update_every=1, #\n",
    "#                                            chunksize=100, # \n",
    "#                                            passes=10, # \n",
    "#                                            alpha='auto', # \n",
    "#                                            per_word_topics=True) # \n",
    "# end = time.time()\n",
    "# print('Algorithm time =', round((end-start)/60), 'min')"
   ]
  },
  {
   "cell_type": "code",
   "execution_count": null,
   "metadata": {
    "collapsed": true
   },
   "outputs": [],
   "source": [
    "# Gensim LDA with Multiprocessing\n",
    "from gensim.models import LdaMulticore\n",
    "\n",
    "num_topics = 10\n",
    "chunksize = 100\n",
    "passes = 10\n",
    "%time lda_model = LdaMulticore(corpus=corpus, \\\n",
    "                       id2word=dictionary.id2token, \\\n",
    "                       num_topics=num_topics, \\\n",
    "                       random_state=100, \\\n",
    "                       chunksize=chunksize, \\\n",
    "                       passes=passes, \\\n",
    "                       per_word_topics=True)"
   ]
  },
  {
   "cell_type": "code",
   "execution_count": 100,
   "metadata": {
    "collapsed": true
   },
   "outputs": [],
   "source": [
    "# Save the model for further usage\n",
    "from gensim.test.utils import datapath\n",
    "temp_file = datapath('lda_model_300k') \n",
    "lda_model.save(temp_file)"
   ]
  },
  {
   "cell_type": "code",
   "execution_count": 99,
   "metadata": {
    "collapsed": true
   },
   "outputs": [],
   "source": [
    "# Load a potentially pretrained model\n",
    "from gensim.test.utils import datapath\n",
    "temp_file = datapath('lda_model_300k') \n",
    "lda_model = LdaModel.load(temp_file)"
   ]
  },
  {
   "cell_type": "markdown",
   "metadata": {},
   "source": [
    "#### 8. Print the topics"
   ]
  },
  {
   "cell_type": "code",
   "execution_count": 92,
   "metadata": {},
   "outputs": [
    {
     "data": {
      "text/plain": [
       "[('pechtold', 0.023490172),\n",
       " ('ollongren', 0.01783901),\n",
       " ('debat', 0.017186902),\n",
       " ('aangifte', 0.01662834),\n",
       " ('grootste', 0.010771453),\n",
       " ('doe', 0.010578313),\n",
       " ('ver', 0.010456759),\n",
       " ('keer', 0.010224739),\n",
       " ('zinnen_komt', 0.010056054),\n",
       " ('zegt', 0.009836103)]"
      ]
     },
     "execution_count": 92,
     "metadata": {},
     "output_type": "execute_result"
    }
   ],
   "source": [
    "# Print one topic\n",
    "lda_model.show_topic(0)"
   ]
  },
  {
   "cell_type": "code",
   "execution_count": 93,
   "metadata": {},
   "outputs": [
    {
     "name": "stdout",
     "output_type": "stream",
     "text": [
      "[(0,\n",
      "  '0.023*\"pechtold\" + 0.018*\"ollongren\" + 0.017*\"debat\" + 0.017*\"aangifte\" + '\n",
      "  '0.011*\"grootste\" + 0.011*\"doe\" + 0.010*\"ver\" + 0.010*\"keer\" + '\n",
      "  '0.010*\"zinnen_komt\" + 0.010*\"zegt\"'),\n",
      " (1,\n",
      "  '0.036*\"stem\" + 0.029*\"pvv\" + 0.019*\"sleepwet\" + 0.018*\"maart\" + '\n",
      "  '0.017*\"stemmen\" + 0.014*\"doet\" + 0.014*\"groenlinks\" + 0.013*\"waarom\" + '\n",
      "  '0.013*\"pvda\" + 0.013*\"gaat\"'),\n",
      " (2,\n",
      "  '0.106*\"vvd\" + 0.021*\"cda\" + 0.017*\"pvda\" + 0.013*\"jaar\" + 0.012*\"rutte\" + '\n",
      "  '0.012*\"partijen\" + 0.011*\"kabinet\" + 0.008*\"via\" + 0.007*\"mark_rutte\" + '\n",
      "  '0.007*\"partij\"'),\n",
      " (3,\n",
      "  '0.028*\"baudet\" + 0.024*\"wilders\" + 0.020*\"mensen\" + 0.015*\"cda\" + '\n",
      "  '0.012*\"stemzeweg\" + 0.011*\"eu\" + 0.008*\"lid\" + 0.006*\"nodig\" + '\n",
      "  '0.005*\"gedaan\" + 0.005*\"pvda\"'),\n",
      " (4,\n",
      "  '0.025*\"vandaag\" + 0.017*\"geert_wilders\" + 0.014*\"pauw\" + '\n",
      "  '0.011*\"christenunie\" + 0.011*\"laat\" + 0.011*\"beter\" + 0.010*\"steun\" + '\n",
      "  '0.010*\"islam\" + 0.009*\"blijft\" + 0.008*\"jaren\"'),\n",
      " (5,\n",
      "  '0.028*\"tijd\" + 0.014*\"kinderen\" + 0.014*\"pechtold\" + 0.013*\"terug\" + '\n",
      "  '0.011*\"krijgt\" + 0.010*\"minister\" + 0.010*\"motie\" + 0.009*\"kandidaat\" + '\n",
      "  '0.009*\"zelfs\" + 0.008*\"laatste\"'),\n",
      " (6,\n",
      "  '0.056*\"referendum\" + 0.036*\"cda\" + 0.017*\"even\" + 0.014*\"afschaffen\" + '\n",
      "  '0.013*\"alleen\" + 0.012*\"gr\" + 0.011*\"demoniseren\" + 0.009*\"stemt\" + '\n",
      "  '0.008*\"cu\" + 0.007*\"politieke_tegenstanders\"'),\n",
      " (7,\n",
      "  '0.028*\"pvda\" + 0.021*\"amsterdam\" + 0.013*\"pvv\" + 0.011*\"weg\" + '\n",
      "  '0.011*\"campagne\" + 0.008*\"cda\" + 0.008*\"denk\" + 0.008*\"weet\" + '\n",
      "  '0.007*\"krijgen\" + 0.007*\"verkiezingen\"'),\n",
      " (8,\n",
      "  '0.033*\"pechtold\" + 0.023*\"democratie\" + 0.022*\"fvd\" + 0.018*\"forum\" + '\n",
      "  '0.017*\"wel\" + 0.014*\"partij\" + 0.011*\"pvv\" + 0.010*\"baudet\" + 0.009*\"nooit\" '\n",
      "  '+ 0.008*\"lijsttrekker\"'),\n",
      " (9,\n",
      "  '0.011*\"kijk\" + 0.011*\"nederland\" + 0.011*\"partij\" + 0.011*\"mensen\" + '\n",
      "  '0.011*\"zetels\" + 0.011*\"steeds\" + 0.010*\"heel\" + 0.009*\"vraag\" + '\n",
      "  '0.008*\"alleen\" + 0.008*\"referendum\"')]\n"
     ]
    }
   ],
   "source": [
    "# Print all topics\n",
    "pprint(lda_model.print_topics())\n",
    "doc_lda = lda_model[corpus]"
   ]
  },
  {
   "cell_type": "markdown",
   "metadata": {},
   "source": [
    "#### 9. Compute Model Perplexity and Coherence Score"
   ]
  },
  {
   "cell_type": "markdown",
   "metadata": {},
   "source": [
    "To measure perfomance there are two metrics: perplexity and coherence score. "
   ]
  },
  {
   "cell_type": "code",
   "execution_count": 95,
   "metadata": {
    "scrolled": false
   },
   "outputs": [
    {
     "name": "stdout",
     "output_type": "stream",
     "text": [
      "\n",
      "Perplexity:  -8.944714243546311\n",
      "\n",
      "Coherence Score c_v measure:  0.37746931071361867\n",
      "\n",
      "Coherence Score UMass measure:  -8.424788888711067\n"
     ]
    }
   ],
   "source": [
    "# Compute Perplexity\n",
    "print('\\nPerplexity: ', lda_model.log_perplexity(corpus))  # a measure of how good the model is. lower the better.\n",
    "\n",
    "# Compute Coherence Scores\n",
    "coherence_model_lda = CoherenceModel(model=lda_model, texts=data_lemmatized, dictionary=dictionary, coherence='c_v')\n",
    "coherence_lda = coherence_model_lda.get_coherence()\n",
    "print('\\nCoherence Score c_v measure: ', coherence_lda)\n",
    "\n",
    "coherence_model_lda = CoherenceModel(model=lda_model, texts=data_lemmatized, dictionary=dictionary, coherence='u_mass')\n",
    "coherence_lda = coherence_model_lda.get_coherence()\n",
    "print('\\nCoherence Score UMass measure: ', coherence_lda)"
   ]
  },
  {
   "cell_type": "code",
   "execution_count": 155,
   "metadata": {
    "collapsed": true
   },
   "outputs": [],
   "source": [
    "def compute_coherence_values(dictionary, corpus, texts, limit, start=2, step=3):\n",
    "    \"\"\"\n",
    "    Compute c_v coherence for various number of topics\n",
    "\n",
    "    Parameters:\n",
    "    ----------\n",
    "    dictionary : Gensim dictionary\n",
    "    corpus : Gensim corpus\n",
    "    texts : List of input texts\n",
    "    limit : Max num of topics\n",
    "\n",
    "    Returns:\n",
    "    -------\n",
    "    model_list : List of LDA topic models\n",
    "    coherence_values : Coherence values corresponding to the LDA model with respective number of topics\n",
    "    \"\"\"\n",
    "    coherence_values = []\n",
    "    model_list = []\n",
    "    for num_topics in range(start, limit, step):\n",
    "        model=LdaMulticore(corpus=corpus, \n",
    "                       id2word=dictionary, \n",
    "                       num_topics=num_topics, \n",
    "                       random_state=100,\n",
    "                       chunksize=chunksize, \n",
    "                       passes=passes,\n",
    "                       per_word_topics=True)\n",
    "        print('Model with', num_topics, 'topics done')\n",
    "        model_list.append(model)\n",
    "        coherencemodel = CoherenceModel(model=model, texts=texts, dictionary=dictionary, coherence='c_v')\n",
    "        coherence_values.append(coherencemodel.get_coherence())\n",
    "\n",
    "    return model_list, coherence_values"
   ]
  },
  {
   "cell_type": "code",
   "execution_count": 156,
   "metadata": {},
   "outputs": [
    {
     "name": "stdout",
     "output_type": "stream",
     "text": [
      "Model with 3 topics done\n",
      "Model with 4 topics done\n",
      "Model with 5 topics done\n",
      "Model with 6 topics done\n",
      "Model with 7 topics done\n",
      "Model with 8 topics done\n",
      "Model with 9 topics done\n",
      "Model with 10 topics done\n",
      "Model with 11 topics done\n",
      "Model with 12 topics done\n",
      "Model with 13 topics done\n",
      "Model with 14 topics done\n",
      "Model with 15 topics done\n",
      "Model with 16 topics done\n",
      "Model with 17 topics done\n",
      "Model with 18 topics done\n",
      "Model with 19 topics done\n"
     ]
    },
    {
     "data": {
      "image/png": "[encoded data removed]",
      "text/plain": [
       "<Figure size 432x288 with 1 Axes>"
      ]
     },
     "metadata": {},
     "output_type": "display_data"
    }
   ],
   "source": [
    "start = 3\n",
    "limit = 20\n",
    "step = 1\n",
    "model_list, coherence_values = compute_coherence_values(dictionary=dictionary, corpus=corpus, texts=data_lemmatized, start=start, limit=limit, step=step)\n",
    "\n",
    "# Show graph\n",
    "import matplotlib.pyplot as plt\n",
    "limit=limit; start=start; step=step;\n",
    "x = range(start, limit, step)\n",
    "plt.plot(x, coherence_values)\n",
    "plt.xlabel(\"Num Topics\")\n",
    "plt.ylabel(\"Coherence score\")\n",
    "plt.legend((\"coherence_values\"), loc='best')\n",
    "plt.show()"
   ]
  },
  {
   "cell_type": "code",
   "execution_count": 96,
   "metadata": {
    "scrolled": false
   },
   "outputs": [
    {
     "name": "stdout",
     "output_type": "stream",
     "text": [
      "Average topic coherence: -6.1626.\n",
      "[([(0.03619494, 'stem'),\n",
      "   (0.029488755, 'pvv'),\n",
      "   (0.019038644, 'sleepwet'),\n",
      "   (0.01795713, 'maart'),\n",
      "   (0.01678477, 'stemmen'),\n",
      "   (0.014039426, 'doet'),\n",
      "   (0.013508321, 'groenlinks'),\n",
      "   (0.0131597435, 'waarom'),\n",
      "   (0.013085796, 'pvda'),\n",
      "   (0.012746316, 'gaat')],\n",
      "  -3.569986487931839),\n",
      " ([(0.033163823, 'pechtold'),\n",
      "   (0.023340285, 'democratie'),\n",
      "   (0.021548947, 'fvd'),\n",
      "   (0.018218672, 'forum'),\n",
      "   (0.017457921, 'wel'),\n",
      "   (0.013512716, 'partij'),\n",
      "   (0.01097939, 'pvv'),\n",
      "   (0.009984469, 'baudet'),\n",
      "   (0.008731074, 'nooit'),\n",
      "   (0.008440935, 'lijsttrekker')],\n",
      "  -4.1359672103696665),\n",
      " ([(0.0113342935, 'kijk'),\n",
      "   (0.011271811, 'nederland'),\n",
      "   (0.010835423, 'partij'),\n",
      "   (0.01066448, 'mensen'),\n",
      "   (0.010663759, 'zetels'),\n",
      "   (0.01066214, 'steeds'),\n",
      "   (0.009922769, 'heel'),\n",
      "   (0.0089364005, 'vraag'),\n",
      "   (0.008071093, 'alleen'),\n",
      "   (0.007904604, 'referendum')],\n",
      "  -4.358221851806913),\n",
      " ([(0.028255137, 'pvda'),\n",
      "   (0.02109572, 'amsterdam'),\n",
      "   (0.01329494, 'pvv'),\n",
      "   (0.011139045, 'weg'),\n",
      "   (0.011090971, 'campagne'),\n",
      "   (0.008267506, 'cda'),\n",
      "   (0.008159815, 'denk'),\n",
      "   (0.007788368, 'weet'),\n",
      "   (0.006812275, 'krijgen'),\n",
      "   (0.0067770253, 'verkiezingen')],\n",
      "  -4.874844280258876),\n",
      " ([(0.106353804, 'vvd'),\n",
      "   (0.021446938, 'cda'),\n",
      "   (0.017479433, 'pvda'),\n",
      "   (0.013066084, 'jaar'),\n",
      "   (0.012469206, 'rutte'),\n",
      "   (0.011900939, 'partijen'),\n",
      "   (0.010564328, 'kabinet'),\n",
      "   (0.007925675, 'via'),\n",
      "   (0.0070828414, 'mark_rutte'),\n",
      "   (0.0069224085, 'partij')],\n",
      "  -5.341610781790529),\n",
      " ([(0.028377954, 'baudet'),\n",
      "   (0.024485825, 'wilders'),\n",
      "   (0.020008162, 'mensen'),\n",
      "   (0.014825322, 'cda'),\n",
      "   (0.012417843, 'stemzeweg'),\n",
      "   (0.011105609, 'eu'),\n",
      "   (0.008315603, 'lid'),\n",
      "   (0.0060721636, 'nodig'),\n",
      "   (0.0054499535, 'gedaan'),\n",
      "   (0.005420461, 'pvda')],\n",
      "  -6.7265683748058915),\n",
      " ([(0.02756816, 'tijd'),\n",
      "   (0.013638715, 'kinderen'),\n",
      "   (0.013614111, 'pechtold'),\n",
      "   (0.012916683, 'terug'),\n",
      "   (0.010761728, 'krijgt'),\n",
      "   (0.01029841, 'minister'),\n",
      "   (0.010077244, 'motie'),\n",
      "   (0.009002513, 'kandidaat'),\n",
      "   (0.0089438, 'zelfs'),\n",
      "   (0.007628123, 'laatste')],\n",
      "  -7.030298002176091),\n",
      " ([(0.024985561, 'vandaag'),\n",
      "   (0.017350089, 'geert_wilders'),\n",
      "   (0.013517927, 'pauw'),\n",
      "   (0.01125258, 'christenunie'),\n",
      "   (0.011016547, 'laat'),\n",
      "   (0.0109948395, 'beter'),\n",
      "   (0.009890459, 'steun'),\n",
      "   (0.009734932, 'islam'),\n",
      "   (0.009251804, 'blijft'),\n",
      "   (0.007890189, 'jaren')],\n",
      "  -7.156359413222372),\n",
      " ([(0.056150977, 'referendum'),\n",
      "   (0.0360121, 'cda'),\n",
      "   (0.016633129, 'even'),\n",
      "   (0.014162493, 'afschaffen'),\n",
      "   (0.012775077, 'alleen'),\n",
      "   (0.0124663, 'gr'),\n",
      "   (0.010577678, 'demoniseren'),\n",
      "   (0.009095764, 'stemt'),\n",
      "   (0.008109358, 'cu'),\n",
      "   (0.0071641016, 'politieke_tegenstanders')],\n",
      "  -8.817097283741829),\n",
      " ([(0.023490166, 'pechtold'),\n",
      "   (0.017839007, 'ollongren'),\n",
      "   (0.017186899, 'debat'),\n",
      "   (0.016628336, 'aangifte'),\n",
      "   (0.010771451, 'grootste'),\n",
      "   (0.01057831, 'doe'),\n",
      "   (0.010456756, 'ver'),\n",
      "   (0.010224736, 'keer'),\n",
      "   (0.010056051, 'zinnen_komt'),\n",
      "   (0.0098361, 'zegt')],\n",
      "  -9.614845540207025)]\n"
     ]
    }
   ],
   "source": [
    "# We can decrease the number of words per topic and show them separately\n",
    "\n",
    "topn = 10 # to keep it readable\n",
    "top_topics = lda_model.top_topics(corpus=corpus, dictionary=dictionary, topn=topn)\n",
    "\n",
    "# Average topic coherence is the sum of topic coherences of all topics, divided by the number of topics.\n",
    "avg_topic_coherence = sum([t[1] for t in top_topics]) / num_topics\n",
    "print('Average topic coherence: %.4f.' % avg_topic_coherence)\n",
    "\n",
    "pprint(top_topics)"
   ]
  },
  {
   "cell_type": "markdown",
   "metadata": {},
   "source": [
    "#### 10. Visualize topics-keywords"
   ]
  },
  {
   "cell_type": "markdown",
   "metadata": {},
   "source": [
    "Each bubble is a topic. The larger the bubble, the more prevalent the topic."
   ]
  },
  {
   "cell_type": "code",
   "execution_count": 157,
   "metadata": {
    "scrolled": false
   },
   "outputs": [
    {
     "ename": "ValidationError",
     "evalue": "\n * Not all rows (distributions) in topic_term_dists sum to 1.",
     "output_type": "error",
     "traceback": [
      "\u001b[1;31m---------------------------------------------------------------------------\u001b[0m",
      "\u001b[1;31mValidationError\u001b[0m                           Traceback (most recent call last)",
      "\u001b[1;32m<ipython-input-157-7dbad69d78ab>\u001b[0m in \u001b[0;36m<module>\u001b[1;34m()\u001b[0m\n\u001b[0;32m      1\u001b[0m \u001b[1;31m# Visualize the topics\u001b[0m\u001b[1;33m\u001b[0m\u001b[1;33m\u001b[0m\u001b[0m\n\u001b[0;32m      2\u001b[0m \u001b[0mpyLDAvis\u001b[0m\u001b[1;33m.\u001b[0m\u001b[0menable_notebook\u001b[0m\u001b[1;33m(\u001b[0m\u001b[1;33m)\u001b[0m\u001b[1;33m\u001b[0m\u001b[0m\n\u001b[1;32m----> 3\u001b[1;33m \u001b[0mvis\u001b[0m \u001b[1;33m=\u001b[0m \u001b[0mpyLDAvis\u001b[0m\u001b[1;33m.\u001b[0m\u001b[0mgensim\u001b[0m\u001b[1;33m.\u001b[0m\u001b[0mprepare\u001b[0m\u001b[1;33m(\u001b[0m\u001b[0mlda_model\u001b[0m\u001b[1;33m,\u001b[0m \u001b[0mcorpus\u001b[0m\u001b[1;33m,\u001b[0m \u001b[0mdictionary\u001b[0m\u001b[1;33m)\u001b[0m\u001b[1;33m\u001b[0m\u001b[0m\n\u001b[0m\u001b[0;32m      4\u001b[0m \u001b[0mvis\u001b[0m\u001b[1;33m\u001b[0m\u001b[0m\n",
      "\u001b[1;32m~\\Anaconda3\\lib\\site-packages\\pyLDAvis\\gensim.py\u001b[0m in \u001b[0;36mprepare\u001b[1;34m(topic_model, corpus, dictionary, doc_topic_dist, **kwargs)\u001b[0m\n\u001b[0;32m    117\u001b[0m     \"\"\"\n\u001b[0;32m    118\u001b[0m     \u001b[0mopts\u001b[0m \u001b[1;33m=\u001b[0m \u001b[0mfp\u001b[0m\u001b[1;33m.\u001b[0m\u001b[0mmerge\u001b[0m\u001b[1;33m(\u001b[0m\u001b[0m_extract_data\u001b[0m\u001b[1;33m(\u001b[0m\u001b[0mtopic_model\u001b[0m\u001b[1;33m,\u001b[0m \u001b[0mcorpus\u001b[0m\u001b[1;33m,\u001b[0m \u001b[0mdictionary\u001b[0m\u001b[1;33m,\u001b[0m \u001b[0mdoc_topic_dist\u001b[0m\u001b[1;33m)\u001b[0m\u001b[1;33m,\u001b[0m \u001b[0mkwargs\u001b[0m\u001b[1;33m)\u001b[0m\u001b[1;33m\u001b[0m\u001b[0m\n\u001b[1;32m--> 119\u001b[1;33m     \u001b[1;32mreturn\u001b[0m \u001b[0mvis_prepare\u001b[0m\u001b[1;33m(\u001b[0m\u001b[1;33m**\u001b[0m\u001b[0mopts\u001b[0m\u001b[1;33m)\u001b[0m\u001b[1;33m\u001b[0m\u001b[0m\n\u001b[0m",
      "\u001b[1;32m~\\Anaconda3\\lib\\site-packages\\pyLDAvis\\_prepare.py\u001b[0m in \u001b[0;36mprepare\u001b[1;34m(topic_term_dists, doc_topic_dists, doc_lengths, vocab, term_frequency, R, lambda_step, mds, n_jobs, plot_opts, sort_topics)\u001b[0m\n\u001b[0;32m    372\u001b[0m    \u001b[0mdoc_lengths\u001b[0m      \u001b[1;33m=\u001b[0m \u001b[0m_series_with_name\u001b[0m\u001b[1;33m(\u001b[0m\u001b[0mdoc_lengths\u001b[0m\u001b[1;33m,\u001b[0m \u001b[1;34m'doc_length'\u001b[0m\u001b[1;33m)\u001b[0m\u001b[1;33m\u001b[0m\u001b[0m\n\u001b[0;32m    373\u001b[0m    \u001b[0mvocab\u001b[0m            \u001b[1;33m=\u001b[0m \u001b[0m_series_with_name\u001b[0m\u001b[1;33m(\u001b[0m\u001b[0mvocab\u001b[0m\u001b[1;33m,\u001b[0m \u001b[1;34m'vocab'\u001b[0m\u001b[1;33m)\u001b[0m\u001b[1;33m\u001b[0m\u001b[0m\n\u001b[1;32m--> 374\u001b[1;33m    \u001b[0m_input_validate\u001b[0m\u001b[1;33m(\u001b[0m\u001b[0mtopic_term_dists\u001b[0m\u001b[1;33m,\u001b[0m \u001b[0mdoc_topic_dists\u001b[0m\u001b[1;33m,\u001b[0m \u001b[0mdoc_lengths\u001b[0m\u001b[1;33m,\u001b[0m \u001b[0mvocab\u001b[0m\u001b[1;33m,\u001b[0m \u001b[0mterm_frequency\u001b[0m\u001b[1;33m)\u001b[0m\u001b[1;33m\u001b[0m\u001b[0m\n\u001b[0m\u001b[0;32m    375\u001b[0m    \u001b[0mR\u001b[0m \u001b[1;33m=\u001b[0m \u001b[0mmin\u001b[0m\u001b[1;33m(\u001b[0m\u001b[0mR\u001b[0m\u001b[1;33m,\u001b[0m \u001b[0mlen\u001b[0m\u001b[1;33m(\u001b[0m\u001b[0mvocab\u001b[0m\u001b[1;33m)\u001b[0m\u001b[1;33m)\u001b[0m\u001b[1;33m\u001b[0m\u001b[0m\n\u001b[0;32m    376\u001b[0m \u001b[1;33m\u001b[0m\u001b[0m\n",
      "\u001b[1;32m~\\Anaconda3\\lib\\site-packages\\pyLDAvis\\_prepare.py\u001b[0m in \u001b[0;36m_input_validate\u001b[1;34m(*args)\u001b[0m\n\u001b[0;32m     63\u001b[0m    \u001b[0mres\u001b[0m \u001b[1;33m=\u001b[0m \u001b[0m_input_check\u001b[0m\u001b[1;33m(\u001b[0m\u001b[1;33m*\u001b[0m\u001b[0margs\u001b[0m\u001b[1;33m)\u001b[0m\u001b[1;33m\u001b[0m\u001b[0m\n\u001b[0;32m     64\u001b[0m    \u001b[1;32mif\u001b[0m \u001b[0mres\u001b[0m\u001b[1;33m:\u001b[0m\u001b[1;33m\u001b[0m\u001b[0m\n\u001b[1;32m---> 65\u001b[1;33m       \u001b[1;32mraise\u001b[0m \u001b[0mValidationError\u001b[0m\u001b[1;33m(\u001b[0m\u001b[1;34m'\\n'\u001b[0m \u001b[1;33m+\u001b[0m \u001b[1;34m'\\n'\u001b[0m\u001b[1;33m.\u001b[0m\u001b[0mjoin\u001b[0m\u001b[1;33m(\u001b[0m\u001b[1;33m[\u001b[0m\u001b[1;34m' * '\u001b[0m \u001b[1;33m+\u001b[0m \u001b[0ms\u001b[0m \u001b[1;32mfor\u001b[0m \u001b[0ms\u001b[0m \u001b[1;32min\u001b[0m \u001b[0mres\u001b[0m\u001b[1;33m]\u001b[0m\u001b[1;33m)\u001b[0m\u001b[1;33m)\u001b[0m\u001b[1;33m\u001b[0m\u001b[0m\n\u001b[0m\u001b[0;32m     66\u001b[0m \u001b[1;33m\u001b[0m\u001b[0m\n\u001b[0;32m     67\u001b[0m \u001b[1;33m\u001b[0m\u001b[0m\n",
      "\u001b[1;31mValidationError\u001b[0m: \n * Not all rows (distributions) in topic_term_dists sum to 1."
     ]
    }
   ],
   "source": [
    "# Visualize the topics\n",
    "pyLDAvis.enable_notebook()\n",
    "vis = pyLDAvis.gensim.prepare(lda_model, corpus, dictionary)\n",
    "vis"
   ]
  }
 ],
 "metadata": {
  "kernelspec": {
   "display_name": "Python 3",
   "language": "python",
   "name": "python3"
  },
  "language_info": {
   "codemirror_mode": {
    "name": "ipython",
    "version": 3
   },
   "file_extension": ".py",
   "mimetype": "text/x-python",
   "name": "python",
   "nbconvert_exporter": "python",
   "pygments_lexer": "ipython3",
   "version": "3.6.2"
  }
 },
 "nbformat": 4,
 "nbformat_minor": 2
}
