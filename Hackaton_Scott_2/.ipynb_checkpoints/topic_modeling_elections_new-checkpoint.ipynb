{
 "cells": [
  {
   "cell_type": "markdown",
   "metadata": {},
   "source": [
    "### Gensim LDA"
   ]
  },
  {
   "cell_type": "markdown",
   "metadata": {
    "heading_collapsed": true
   },
   "source": [
    "#### Imports"
   ]
  },
  {
   "cell_type": "code",
   "execution_count": 4,
   "metadata": {
    "hidden": true
   },
   "outputs": [
    {
     "name": "stderr",
     "output_type": "stream",
     "text": [
      "C:\\Users\\Mikhail\\Anaconda3\\lib\\site-packages\\gensim\\utils.py:1197: UserWarning: detected Windows; aliasing chunkize to chunkize_serial\n",
      "  warnings.warn(\"detected Windows; aliasing chunkize to chunkize_serial\")\n"
     ]
    }
   ],
   "source": [
    "import re, os, time\n",
    "import numpy as np\n",
    "import pandas as pd\n",
    "from pprint import pprint\n",
    "\n",
    "# Gensim\n",
    "from gensim.models.ldamodel import LdaModel\n",
    "from gensim.models import Phrases\n",
    "from gensim.models.phrases import Phraser\n",
    "import gensim.corpora as corpora\n",
    "from gensim.utils import simple_preprocess\n",
    "from gensim.models import CoherenceModel\n",
    "\n",
    "# Import nltk stopwords and spacy for lemmatization\n",
    "from nltk.corpus import stopwords\n",
    "\n",
    "# Plotting tools\n",
    "import pyLDAvis\n",
    "import pyLDAvis.gensim  # don't skip this\n",
    "import matplotlib.pyplot as plt\n",
    "import spacy\n",
    "%matplotlib inline\n",
    "\n",
    "import warnings\n",
    "warnings.filterwarnings('ignore',category=DeprecationWarning)"
   ]
  },
  {
   "cell_type": "code",
   "execution_count": 2,
   "metadata": {
    "collapsed": true,
    "hidden": true
   },
   "outputs": [],
   "source": [
    "current_dir = os.getcwd()\n",
    "os.chdir(current_dir)"
   ]
  },
  {
   "cell_type": "markdown",
   "metadata": {
    "heading_collapsed": true
   },
   "source": [
    "#### 1. Import and preprocess dataset "
   ]
  },
  {
   "cell_type": "markdown",
   "metadata": {
    "hidden": true
   },
   "source": [
    "First of all, we need to load and preprocess the data. All Tweets were collected and stored in _JSON_ (JavaScript Object Notation) format. As reference: \"JSON is a lightweight data-interchange format. It is easy for humans to read and write. It is easy for machines to parse and generate.\". After loading it, we want to manipulate the data in _lists_ and _dictionaries_. In addition, we will collect statistics about the dataset."
   ]
  },
  {
   "cell_type": "code",
   "execution_count": 3,
   "metadata": {
    "collapsed": true,
    "hidden": true
   },
   "outputs": [],
   "source": [
    "# Collect names of Tweet files\n",
    "from os import listdir\n",
    "from os.path import isfile, join\n",
    "\n",
    "mypath = 'data/elections'\n",
    "onlyfiles = [f for f in listdir(mypath) if isfile(join(mypath, f))]"
   ]
  },
  {
   "cell_type": "code",
   "execution_count": 4,
   "metadata": {
    "collapsed": true,
    "hidden": true
   },
   "outputs": [],
   "source": [
    "# Collect all Tweets available and store them as list of dicts\n",
    "import json\n",
    "all_tweets = []\n",
    "\n",
    "for f in onlyfiles:\n",
    "    full_name = mypath+'/'+f\n",
    "\n",
    "    with open(full_name, 'r') as f:\n",
    "        data = json.load(f)\n",
    "        all_tweets.extend(data)"
   ]
  },
  {
   "cell_type": "code",
   "execution_count": 5,
   "metadata": {
    "collapsed": true,
    "hidden": true
   },
   "outputs": [],
   "source": [
    "# # Save collected Tweets\n",
    "# import json\n",
    "# with open('elections_tweets', 'w') as fout:\n",
    "#     json.dump(all_tweets, fout)"
   ]
  },
  {
   "cell_type": "code",
   "execution_count": 7,
   "metadata": {
    "collapsed": true,
    "hidden": true
   },
   "outputs": [],
   "source": [
    "# Load collected Tweets\n",
    "import json\n",
    "with open('elections_tweets_all_lang', 'r') as fout:\n",
    "        all_tweets = json.load(fout)"
   ]
  },
  {
   "cell_type": "code",
   "execution_count": 8,
   "metadata": {
    "collapsed": true,
    "hidden": true
   },
   "outputs": [],
   "source": [
    "# # Load collected Tweets sorted by political party\n",
    "# import json\n",
    "# with open('dutch_only_party_text.json', 'r') as fout:\n",
    "#         tweets_by_party = json.load(fout)\n",
    "# tweets_by_party.keys()"
   ]
  },
  {
   "cell_type": "markdown",
   "metadata": {
    "hidden": true
   },
   "source": [
    "It turned out that some Tweets are non-Dutch. For the algorithm it is important to have words from a single language. So, before proceed further we need to clean up the dataset."
   ]
  },
  {
   "cell_type": "code",
   "execution_count": 9,
   "metadata": {
    "hidden": true
   },
   "outputs": [
    {
     "name": "stdout",
     "output_type": "stream",
     "text": [
      "796460 Tweets collected\n",
      "80792 out of them are non-Dutch\n",
      "Thus, we have 715668 Dutch Tweets\n"
     ]
    }
   ],
   "source": [
    "# Let's see how many of them in Dutch\n",
    "l = []\n",
    "k = 0\n",
    "for i in range(len(all_tweets)) : \n",
    "    if (all_tweets[i]['lang'] != 'nl') : \n",
    "        k = k + 1\n",
    "        l.append(all_tweets[i]['lang'])\n",
    "print(len(all_tweets), 'Tweets collected')\n",
    "print(k, 'out of them are non-Dutch')\n",
    "print('Thus, we have', len(all_tweets) - len(l), 'Dutch Tweets')"
   ]
  },
  {
   "cell_type": "code",
   "execution_count": 3,
   "metadata": {
    "collapsed": true,
    "hidden": true
   },
   "outputs": [],
   "source": [
    "# Here we can see their language\n",
    "# pprint(set(l))"
   ]
  },
  {
   "cell_type": "code",
   "execution_count": 10,
   "metadata": {
    "collapsed": true,
    "hidden": true
   },
   "outputs": [],
   "source": [
    "# Let's exclude non-Dutch Tweets\n",
    "dutch_tweets = []\n",
    "for i in range(len(all_tweets)) : \n",
    "    if (all_tweets[i]['lang'] == 'nl') :\n",
    "        dutch_tweets.append(all_tweets[i])"
   ]
  },
  {
   "cell_type": "code",
   "execution_count": 11,
   "metadata": {
    "hidden": true
   },
   "outputs": [
    {
     "data": {
      "text/plain": [
       "dict_keys(['und', 'fr', 'en', 'hi', 'tr', 'sv', 'da', 'es', 'et', 'in', 'ru', 'de', 'fi', 'tl', 'ht', 'it', 'hu', 'ja', 'no', 'lt', 'pt', 'eu', 'cy', 'pl', 'lv', 'vi', 'cs', 'ro', 'ca', 'th', 'ko', 'sl', 'is', 'ar', 'ur', 'iw', 'zh', 'bg', 'uk', 'el', 'fa', 'hy'])"
      ]
     },
     "execution_count": 11,
     "metadata": {},
     "output_type": "execute_result"
    }
   ],
   "source": [
    "from collections import Counter\n",
    "Counter(l).keys() # see languages"
   ]
  },
  {
   "cell_type": "code",
   "execution_count": 12,
   "metadata": {
    "hidden": true
   },
   "outputs": [
    {
     "data": {
      "text/plain": [
       "dict_values([19042, 2701, 15414, 56, 1923, 279, 643, 8220, 442, 1355, 76, 2502, 202, 190, 247, 4719, 52, 12359, 906, 34, 6246, 77, 51, 915, 55, 18, 279, 120, 109, 645, 329, 75, 16, 423, 10, 2, 31, 5, 11, 11, 1, 1])"
      ]
     },
     "execution_count": 12,
     "metadata": {},
     "output_type": "execute_result"
    }
   ],
   "source": [
    "Counter(l).values() # how many per language"
   ]
  },
  {
   "cell_type": "code",
   "execution_count": 7,
   "metadata": {
    "collapsed": true,
    "hidden": true
   },
   "outputs": [],
   "source": [
    "# # Save Dutch-only Tweets\n",
    "# with open('elections_tweets_dutch', 'w') as fout:\n",
    "#     json.dump(dutch_tweets, fout)"
   ]
  },
  {
   "cell_type": "code",
   "execution_count": 2,
   "metadata": {
    "collapsed": true,
    "hidden": true
   },
   "outputs": [],
   "source": [
    "# Load Dutch-only Tweets\n",
    "import json\n",
    "with open('elections_tweets_dutch_only', 'r') as fout:\n",
    "        all_tweets = json.load(fout)"
   ]
  },
  {
   "cell_type": "code",
   "execution_count": 5,
   "metadata": {
    "hidden": true
   },
   "outputs": [
    {
     "name": "stdout",
     "output_type": "stream",
     "text": [
      "Sample of a Tweet: RT @Derksen_Gelul: Nederlands bekendste droogkloot, Marcel van Roosmalen sloopt D66 helemaal de moeder!! Luister zelf naar deze topper en g… \n",
      "\n",
      "Number of fields available: 28 \n",
      "\n",
      "Fields available in a Tweet: \n",
      " ['created_at', 'id', 'id_str', 'text', 'source', 'truncated', 'in_reply_to_status_id', 'in_reply_to_status_id_str', 'in_reply_to_user_id', 'in_reply_to_user_id_str', 'in_reply_to_screen_name', 'user', 'geo', 'coordinates', 'place', 'contributors', 'retweeted_status', 'is_quote_status', 'quote_count', 'reply_count', 'retweet_count', 'favorite_count', 'entities', 'favorited', 'retweeted', 'filter_level', 'lang', 'timestamp_ms'] \n",
      "\n",
      "Info avaialable in the whole set: \n",
      " ['contributors' 'coordinates' 'created_at' 'display_text_range' 'entities'\n",
      " 'extended_tweet' 'favorite_count' 'favorited' 'filter_level' 'geo' 'id'\n",
      " 'id_str' 'in_reply_to_screen_name' 'in_reply_to_status_id'\n",
      " 'in_reply_to_status_id_str' 'in_reply_to_user_id'\n",
      " 'in_reply_to_user_id_str' 'is_quote_status' 'lang' 'place'\n",
      " 'possibly_sensitive' 'quote_count' 'quoted_status' 'quoted_status_id'\n",
      " 'quoted_status_id_str' 'reply_count' 'retweet_count' 'retweeted'\n",
      " 'retweeted_status' 'source' 'text' 'timestamp_ms' 'truncated' 'user']\n"
     ]
    }
   ],
   "source": [
    "# Statistics\n",
    "print('Sample of a Tweet:', all_tweets[0]['text'], '\\n')\n",
    "print('Number of fields available:', len(all_tweets[0].keys()), '\\n')\n",
    "print('Fields available in a Tweet:', '\\n', [*all_tweets[0]], '\\n')\n",
    "print('Info avaialable in the whole set:', '\\n', pd.DataFrame(all_tweets[:10]).columns.values)"
   ]
  },
  {
   "cell_type": "code",
   "execution_count": 5,
   "metadata": {
    "collapsed": true,
    "hidden": true,
    "scrolled": true
   },
   "outputs": [],
   "source": [
    "# Extract the data (id and text), and put it into dict and list\n",
    "text_dict = {} \n",
    "text_list = []\n",
    "id_list = []\n",
    "missing_tweets = 0\n",
    "\n",
    "for tweet in all_tweets:\n",
    "    if ('text' in tweet.keys()):\n",
    "        if ('id' in tweet.keys()):\n",
    "            my_id = tweet['id']\n",
    "            if (tweet['text'] != None):\n",
    "                text_dict[my_id] = tweet['text']\n",
    "                id_list.append(my_id)\n",
    "                text_list.append([tweet['text']])\n",
    "                \n",
    "            elif (tweet['text'] == None):\n",
    "                missing_values = missing_tweets + 1"
   ]
  },
  {
   "cell_type": "code",
   "execution_count": 8,
   "metadata": {
    "collapsed": true,
    "hidden": true
   },
   "outputs": [],
   "source": [
    "# # Save processed Tweets\n",
    "# import pickle\n",
    "\n",
    "# with open('elections_text_list', 'wb') as fp:\n",
    "#     pickle.dump(text_list, fp)\n",
    "    \n",
    "# with open('elections_text_dict', 'wb') as fp:\n",
    "#     pickle.dump(text_dict, fp, protocol=pickle.HIGHEST_PROTOCOL)"
   ]
  },
  {
   "cell_type": "code",
   "execution_count": 1,
   "metadata": {
    "collapsed": true,
    "hidden": true
   },
   "outputs": [],
   "source": [
    "# Load processed Tweets\n",
    "import pickle\n",
    "with open('elections_text_list', 'rb') as fp:\n",
    "    text_list = pickle.load(fp)\n",
    "    \n",
    "with open('elections_text_dict', 'rb') as fp:\n",
    "    text_dict = pickle.load(fp)"
   ]
  },
  {
   "cell_type": "code",
   "execution_count": 2,
   "metadata": {
    "hidden": true
   },
   "outputs": [
    {
     "name": "stdout",
     "output_type": "stream",
     "text": [
      "In total 715155 Tweets to be processed\n",
      "On average Tweet is 126 charachters long \n",
      "\n",
      "Longest Tweet is: ['RT @RoosjeXS: &amp;#39;Als angst mijn&amp;nbsp;raadgever wordt,&amp;nbsp;dan moet ik&amp;nbsp;meteen iets anders&amp;nbsp;gaan doen.&amp;#39; - Sigrid Kaag https:/…'] \n",
      "\n",
      "It is 164 characters long\n"
     ]
    }
   ],
   "source": [
    "# Statistics\n",
    "t = len(text_dict)\n",
    "max_length = 0\n",
    "average_length = 0\n",
    "\n",
    "for tweet in text_list : \n",
    "    average_length = average_length + sum(len(i) for i in tweet) \n",
    "    if (sum(len(i) for i in tweet) > max_length) : \n",
    "        max_length = sum(len(i) for i in tweet)\n",
    "        max_tweet = tweet\n",
    "\n",
    "print('In total ' + str(t) + ' Tweets to be processed')\n",
    "print('On average Tweet is ' + str(round(average_length / t)) + ' charachters long', '\\n')\n",
    "print('Longest Tweet is:', max_tweet, '\\n')\n",
    "print('It is', sum(len(i) for i in max_tweet), 'characters long')"
   ]
  },
  {
   "cell_type": "code",
   "execution_count": 5,
   "metadata": {
    "hidden": true
   },
   "outputs": [
    {
     "data": {
      "text/html": [
       "<div>\n",
       "<style scoped>\n",
       "    .dataframe tbody tr th:only-of-type {\n",
       "        vertical-align: middle;\n",
       "    }\n",
       "\n",
       "    .dataframe tbody tr th {\n",
       "        vertical-align: top;\n",
       "    }\n",
       "\n",
       "    .dataframe thead th {\n",
       "        text-align: right;\n",
       "    }\n",
       "</style>\n",
       "<table border=\"1\" class=\"dataframe\">\n",
       "  <thead>\n",
       "    <tr style=\"text-align: right;\">\n",
       "      <th></th>\n",
       "      <th>0</th>\n",
       "    </tr>\n",
       "  </thead>\n",
       "  <tbody>\n",
       "    <tr>\n",
       "      <th>0</th>\n",
       "      <td>RT @Derksen_Gelul: Nederlands bekendste droogk...</td>\n",
       "    </tr>\n",
       "    <tr>\n",
       "      <th>1</th>\n",
       "      <td>RT @GerBStruik: Niet alleen Ollongren, maar ni...</td>\n",
       "    </tr>\n",
       "    <tr>\n",
       "      <th>2</th>\n",
       "      <td>@JoostNiemoller Joost, trap er toch niet in. H...</td>\n",
       "    </tr>\n",
       "    <tr>\n",
       "      <th>3</th>\n",
       "      <td>@EenVandaag @thierrybaudet @D66 @APechtold Ald...</td>\n",
       "    </tr>\n",
       "    <tr>\n",
       "      <th>4</th>\n",
       "      <td>Dolhuysbrug moet na tien jaar definitief van t...</td>\n",
       "    </tr>\n",
       "  </tbody>\n",
       "</table>\n",
       "</div>"
      ],
      "text/plain": [
       "                                                   0\n",
       "0  RT @Derksen_Gelul: Nederlands bekendste droogk...\n",
       "1  RT @GerBStruik: Niet alleen Ollongren, maar ni...\n",
       "2  @JoostNiemoller Joost, trap er toch niet in. H...\n",
       "3  @EenVandaag @thierrybaudet @D66 @APechtold Ald...\n",
       "4  Dolhuysbrug moet na tien jaar definitief van t..."
      ]
     },
     "execution_count": 5,
     "metadata": {},
     "output_type": "execute_result"
    }
   ],
   "source": [
    "# Let's inspect the Tweets\n",
    "pd.DataFrame(text_list[:5])"
   ]
  },
  {
   "cell_type": "markdown",
   "metadata": {
    "heading_collapsed": true
   },
   "source": [
    "#### 2. Remove emails and newline characters "
   ]
  },
  {
   "cell_type": "markdown",
   "metadata": {
    "hidden": true
   },
   "source": [
    "Now it is time to preprocess the Tweets. We will exclude some symbols, links, etc. Thereafter for algorithmic purposes, we need to split each Tweet (a combination of sentences) into a combination of words."
   ]
  },
  {
   "cell_type": "code",
   "execution_count": 6,
   "metadata": {
    "hidden": true
   },
   "outputs": [
    {
     "name": "stdout",
     "output_type": "stream",
     "text": [
      "[['RT @Derksen_Gelul: Nederlands bekendste droogkloot, Marcel van Roosmalen '\n",
      "  'sloopt D66 helemaal de moeder!! Luister zelf naar deze topper en g…'],\n",
      " ['RT @GerBStruik: Niet alleen Ollongren, maar niemand in #Rutte3 heeft '\n",
      "  'kennelijk enig benul van staatsrecht. Een minister die als minister ee…'],\n",
      " ['@JoostNiemoller Joost, trap er toch niet in. Hier is één grote minne '\n",
      "  'manipulatie aan de gang tegen FVD. Deze heeft… https://t.co/lVFOuFFYF3']]\n"
     ]
    }
   ],
   "source": [
    "# Before\n",
    "pprint(text_list[:3])"
   ]
  },
  {
   "cell_type": "code",
   "execution_count": 7,
   "metadata": {
    "collapsed": true,
    "hidden": true
   },
   "outputs": [],
   "source": [
    "data = text_list\n",
    "# data = text_list[-int(1e5):]\n",
    "\n",
    "# Remove Emails and links to users\n",
    "data = [re.sub('\\S*@\\S*\\s?', '', str(sent)) for sent in data]\n",
    "\n",
    "# Remove new line characters\n",
    "data = [re.sub('\\s+', ' ', str(sent)) for sent in data]\n",
    "\n",
    "# Remove distracting single quotes\n",
    "data = [re.sub(\"\\'\", \"\", str(sent)) for sent in data]\n",
    "\n",
    "# Remove https and links\n",
    "data = [re.sub(r\"https\\S+\", \"\", str(sent)) for sent in data]"
   ]
  },
  {
   "cell_type": "code",
   "execution_count": 8,
   "metadata": {
    "hidden": true
   },
   "outputs": [
    {
     "name": "stdout",
     "output_type": "stream",
     "text": [
      "['[RT Nederlands bekendste droogkloot, Marcel van Roosmalen sloopt D66 '\n",
      " 'helemaal de moeder!! Luister zelf naar deze topper en g…]',\n",
      " '[RT Niet alleen Ollongren, maar niemand in #Rutte3 heeft kennelijk enig '\n",
      " 'benul van staatsrecht. Een minister die als minister ee…]',\n",
      " 'Joost, trap er toch niet in. Hier is één grote minne manipulatie aan de gang '\n",
      " 'tegen FVD. Deze heeft… ']\n"
     ]
    }
   ],
   "source": [
    "# After\n",
    "pprint(data[:3])"
   ]
  },
  {
   "cell_type": "markdown",
   "metadata": {
    "heading_collapsed": true
   },
   "source": [
    "#### 3. Tokenize words and Clean-up text"
   ]
  },
  {
   "cell_type": "code",
   "execution_count": 9,
   "metadata": {
    "hidden": true
   },
   "outputs": [
    {
     "data": {
      "text/html": [
       "<div>\n",
       "<style scoped>\n",
       "    .dataframe tbody tr th:only-of-type {\n",
       "        vertical-align: middle;\n",
       "    }\n",
       "\n",
       "    .dataframe tbody tr th {\n",
       "        vertical-align: top;\n",
       "    }\n",
       "\n",
       "    .dataframe thead th {\n",
       "        text-align: right;\n",
       "    }\n",
       "</style>\n",
       "<table border=\"1\" class=\"dataframe\">\n",
       "  <thead>\n",
       "    <tr style=\"text-align: right;\">\n",
       "      <th></th>\n",
       "      <th>0</th>\n",
       "      <th>1</th>\n",
       "      <th>2</th>\n",
       "      <th>3</th>\n",
       "      <th>4</th>\n",
       "      <th>5</th>\n",
       "      <th>6</th>\n",
       "      <th>7</th>\n",
       "      <th>8</th>\n",
       "      <th>9</th>\n",
       "      <th>10</th>\n",
       "      <th>11</th>\n",
       "      <th>12</th>\n",
       "      <th>13</th>\n",
       "      <th>14</th>\n",
       "      <th>15</th>\n",
       "      <th>16</th>\n",
       "      <th>17</th>\n",
       "      <th>18</th>\n",
       "      <th>19</th>\n",
       "    </tr>\n",
       "  </thead>\n",
       "  <tbody>\n",
       "    <tr>\n",
       "      <th>0</th>\n",
       "      <td>rt</td>\n",
       "      <td>nederlands</td>\n",
       "      <td>bekendste</td>\n",
       "      <td>droogkloot</td>\n",
       "      <td>marcel</td>\n",
       "      <td>van</td>\n",
       "      <td>roosmalen</td>\n",
       "      <td>sloopt</td>\n",
       "      <td>helemaal</td>\n",
       "      <td>de</td>\n",
       "      <td>moeder</td>\n",
       "      <td>luister</td>\n",
       "      <td>zelf</td>\n",
       "      <td>naar</td>\n",
       "      <td>deze</td>\n",
       "      <td>topper</td>\n",
       "      <td>en</td>\n",
       "      <td>None</td>\n",
       "      <td>None</td>\n",
       "      <td>None</td>\n",
       "    </tr>\n",
       "    <tr>\n",
       "      <th>1</th>\n",
       "      <td>rt</td>\n",
       "      <td>niet</td>\n",
       "      <td>alleen</td>\n",
       "      <td>ollongren</td>\n",
       "      <td>maar</td>\n",
       "      <td>niemand</td>\n",
       "      <td>in</td>\n",
       "      <td>rutte</td>\n",
       "      <td>heeft</td>\n",
       "      <td>kennelijk</td>\n",
       "      <td>enig</td>\n",
       "      <td>benul</td>\n",
       "      <td>van</td>\n",
       "      <td>staatsrecht</td>\n",
       "      <td>een</td>\n",
       "      <td>minister</td>\n",
       "      <td>die</td>\n",
       "      <td>als</td>\n",
       "      <td>minister</td>\n",
       "      <td>ee</td>\n",
       "    </tr>\n",
       "    <tr>\n",
       "      <th>2</th>\n",
       "      <td>joost</td>\n",
       "      <td>trap</td>\n",
       "      <td>er</td>\n",
       "      <td>toch</td>\n",
       "      <td>niet</td>\n",
       "      <td>in</td>\n",
       "      <td>hier</td>\n",
       "      <td>is</td>\n",
       "      <td>een</td>\n",
       "      <td>grote</td>\n",
       "      <td>minne</td>\n",
       "      <td>manipulatie</td>\n",
       "      <td>aan</td>\n",
       "      <td>de</td>\n",
       "      <td>gang</td>\n",
       "      <td>tegen</td>\n",
       "      <td>fvd</td>\n",
       "      <td>deze</td>\n",
       "      <td>heeft</td>\n",
       "      <td>None</td>\n",
       "    </tr>\n",
       "    <tr>\n",
       "      <th>3</th>\n",
       "      <td>aldus</td>\n",
       "      <td>leugenaar</td>\n",
       "      <td>hoe</td>\n",
       "      <td>durft</td>\n",
       "      <td>deze</td>\n",
       "      <td>partij</td>\n",
       "      <td>nog</td>\n",
       "      <td>de</td>\n",
       "      <td>van</td>\n",
       "      <td>None</td>\n",
       "      <td>None</td>\n",
       "      <td>None</td>\n",
       "      <td>None</td>\n",
       "      <td>None</td>\n",
       "      <td>None</td>\n",
       "      <td>None</td>\n",
       "      <td>None</td>\n",
       "      <td>None</td>\n",
       "      <td>None</td>\n",
       "      <td>None</td>\n",
       "    </tr>\n",
       "    <tr>\n",
       "      <th>4</th>\n",
       "      <td>dolhuysbrug</td>\n",
       "      <td>moet</td>\n",
       "      <td>na</td>\n",
       "      <td>tien</td>\n",
       "      <td>jaar</td>\n",
       "      <td>definitief</td>\n",
       "      <td>van</td>\n",
       "      <td>tafel</td>\n",
       "      <td>vvd</td>\n",
       "      <td>haarlem</td>\n",
       "      <td>uw</td>\n",
       "      <td>eigen</td>\n",
       "      <td>filter</td>\n",
       "      <td>ove</td>\n",
       "      <td>None</td>\n",
       "      <td>None</td>\n",
       "      <td>None</td>\n",
       "      <td>None</td>\n",
       "      <td>None</td>\n",
       "      <td>None</td>\n",
       "    </tr>\n",
       "  </tbody>\n",
       "</table>\n",
       "</div>"
      ],
      "text/plain": [
       "            0           1          2           3       4           5   \\\n",
       "0           rt  nederlands  bekendste  droogkloot  marcel         van   \n",
       "1           rt        niet     alleen   ollongren    maar     niemand   \n",
       "2        joost        trap         er        toch    niet          in   \n",
       "3        aldus   leugenaar        hoe       durft    deze      partij   \n",
       "4  dolhuysbrug        moet         na        tien    jaar  definitief   \n",
       "\n",
       "          6       7         8          9       10           11      12  \\\n",
       "0  roosmalen  sloopt  helemaal         de  moeder      luister    zelf   \n",
       "1         in   rutte     heeft  kennelijk    enig        benul     van   \n",
       "2       hier      is       een      grote   minne  manipulatie     aan   \n",
       "3        nog      de       van       None    None         None    None   \n",
       "4        van   tafel       vvd    haarlem      uw        eigen  filter   \n",
       "\n",
       "            13    14        15    16    17        18    19  \n",
       "0         naar  deze    topper    en  None      None  None  \n",
       "1  staatsrecht   een  minister   die   als  minister    ee  \n",
       "2           de  gang     tegen   fvd  deze     heeft  None  \n",
       "3         None  None      None  None  None      None  None  \n",
       "4          ove  None      None  None  None      None  None  "
      ]
     },
     "execution_count": 9,
     "metadata": {},
     "output_type": "execute_result"
    }
   ],
   "source": [
    "def sent_to_words(sentences) :\n",
    "    '''Split sentences into words'''\n",
    "    for sentence in sentences :\n",
    "        # The main function here is Gensim's simple_preprocess\n",
    "        yield(simple_preprocess(str(sentence), deacc=True))  # deacc=True removes punctuations\n",
    "\n",
    "data_words = list(sent_to_words(data))\n",
    "\n",
    "# Let's explore what do we have now\n",
    "pd.DataFrame(data_words[:5])"
   ]
  },
  {
   "cell_type": "markdown",
   "metadata": {},
   "source": [
    "#### 4. Remove Stopwords, Make Bigrams and Lemmatize"
   ]
  },
  {
   "cell_type": "markdown",
   "metadata": {},
   "source": [
    "Here we're continuing to preprocess the Tweets by excluding so-called stopwords - just a set of common used words such as 'and', 'so', etc. in English. NLTK package has a collections of stopwords for Dutch language as well. Also, we can extend the set by adding words that should be considered as redundant ones."
   ]
  },
  {
   "cell_type": "code",
   "execution_count": 10,
   "metadata": {
    "collapsed": true
   },
   "outputs": [],
   "source": [
    "# NLTK stop words collection\n",
    "stop_words = stopwords.words('dutch')\n",
    "\n",
    "# TODO: Extend stop words collection using native speaker knowledge\n",
    "# rt - probably retweet?\n",
    "# htt - left out from https?\n",
    "# via - via, seems useless\n",
    "# af - off, same\n",
    "# cu - cu, have no idea what's that\n",
    "# ers - same\n",
    "\n",
    "\n",
    "# Second line is about politicians\n",
    "# instead of having 2 tokens: name and name_sunrame of a politician, we're excluding name\n",
    "# to operate only with surname \n",
    "stop_words.extend(['rt', 'htt', 'via', 'cu', 'ers', 'af',\n",
    "                   'geert', 'kajsa', 'alexander', 'alex', 'theo', 'jan', 'mark', 'sigrid', 'halbe'])                  ])"
   ]
  },
  {
   "cell_type": "code",
   "execution_count": 11,
   "metadata": {},
   "outputs": [
    {
     "name": "stdout",
     "output_type": "stream",
     "text": [
      "The number of Dutch stop words avaialable: 115 \n",
      "\n",
      "['de', 'en', 'van', 'ik', 'te', 'dat', 'die', 'in', 'een', 'hij', 'het', 'niet', 'zijn', 'is', 'was', 'op', 'aan', 'met', 'als', 'voor', 'had', 'er', 'maar', 'om', 'hem', 'dan', 'zou', 'of', 'wat', 'mijn', 'men', 'dit', 'zo', 'door', 'over', 'ze', 'zich', 'bij', 'ook', 'tot', 'je', 'mij', 'uit', 'der', 'daar', 'haar', 'naar', 'heb', 'hoe', 'heeft', 'hebben', 'deze', 'u', 'want', 'nog', 'zal', 'me', 'zij', 'nu', 'ge', 'geen', 'omdat', 'iets', 'worden', 'toch', 'al', 'waren', 'veel', 'meer', 'doen', 'toen', 'moet', 'ben', 'zonder', 'kan', 'hun', 'dus', 'alles', 'onder', 'ja', 'eens', 'hier', 'wie', 'werd', 'altijd', 'doch', 'wordt', 'wezen', 'kunnen', 'ons', 'zelf', 'tegen', 'na', 'reeds', 'wil', 'kon', 'niets', 'uw', 'iemand', 'geweest', 'andere', 'rt', 'htt', 'via', 'cu', 'ers', 'geert', 'kajsa', 'alexander', 'alex', 'theo', 'jan', 'mark', 'sigrid', 'halbe']\n"
     ]
    }
   ],
   "source": [
    "print('The number of Dutch stop words avaialable:', len(stop_words), '\\n')\n",
    "print(stop_words)"
   ]
  },
  {
   "cell_type": "markdown",
   "metadata": {},
   "source": [
    "Thereafter, we need to identify combinations of words that frequently appear together. For these purposes, we need to create so-called 'bigrams ' and 'trigrams'. Bigrams are two words frequently occurring together in the document. Trigrams are 3 words frequently occurring."
   ]
  },
  {
   "cell_type": "code",
   "execution_count": 14,
   "metadata": {},
   "outputs": [
    {
     "name": "stderr",
     "output_type": "stream",
     "text": [
      "C:\\Users\\Mikhail\\Anaconda3\\lib\\site-packages\\gensim\\models\\phrases.py:494: UserWarning: For a faster implementation, use the gensim.models.phrases.Phraser class\n",
      "  warnings.warn(\"For a faster implementation, use the gensim.models.phrases.Phraser class\")\n"
     ]
    },
    {
     "name": "stdout",
     "output_type": "stream",
     "text": [
      "['rt', 'niet', 'alleen', 'ollongren', 'maar', 'niemand', 'in', 'rutte', 'heeft_kennelijk_enig', 'benul', 'van', 'staatsrecht', 'een', 'minister', 'die', 'als', 'minister', 'ee']\n"
     ]
    }
   ],
   "source": [
    "# Build the bigram and trigram models\n",
    "\n",
    "# One of the most important parameters here is min_count \n",
    "# If set up, for example, as 5, then only those bigrams and trigrams will be stored that appear 5 times or more\n",
    "\n",
    "# Threshold is \n",
    "# TODO: set up various parameters for min_count and threshold\n",
    "bigram = Phrases(data_words, min_count=25, threshold=25) \n",
    "trigram = Phrases(bigram[data_words], threshold=25)  \n",
    "\n",
    "# Faster way to get a sentence clubbed as a trigram/bigram\n",
    "bigram_mod = Phraser(bigram)\n",
    "trigram_mod = Phraser(trigram)\n",
    "\n",
    "# See trigram example\n",
    "print(trigram_mod[bigram_mod[data_words[5]]])"
   ]
  },
  {
   "cell_type": "markdown",
   "metadata": {},
   "source": [
    "Lemmatization is converting a word to its root word. Spacy NLP package responsible for that. Thanks we have Dutch language version."
   ]
  },
  {
   "cell_type": "code",
   "execution_count": 15,
   "metadata": {
    "collapsed": true
   },
   "outputs": [],
   "source": [
    "# Define functions for stopwords, bigrams, trigrams and lemmatization\n",
    "def remove_stopwords(texts) :\n",
    "    return [[word for word in simple_preprocess(str(doc)) if word not in stop_words] for doc in texts]\n",
    "\n",
    "def make_bigrams(texts) :\n",
    "    return [bigram_mod[doc] for doc in texts]\n",
    "\n",
    "def make_trigrams(texts) :\n",
    "    return [trigram_mod[bigram_mod[doc]] for doc in texts]\n",
    "\n",
    "def lemmatization(texts, allowed_postags=['NOUN', 'ADJ', 'VERB', 'ADV']) :\n",
    "    texts_out = []\n",
    "    for sent in texts :\n",
    "        doc = nlp(\" \".join(sent)) \n",
    "        texts_out.append([token.lemma_ for token in doc if token.pos_ in allowed_postags])\n",
    "    return texts_out"
   ]
  },
  {
   "cell_type": "code",
   "execution_count": 16,
   "metadata": {},
   "outputs": [
    {
     "name": "stdout",
     "output_type": "stream",
     "text": [
      "Wall time: 24min 7s\n"
     ]
    }
   ],
   "source": [
    "# Remove stop words\n",
    "data_words_nostops = remove_stopwords(data_words)\n",
    "\n",
    "# Form bigrams\n",
    "data_words_bigrams = make_bigrams(data_words_nostops)\n",
    "\n",
    "nlp = spacy.load('nl', disable=['parser', 'ner'])\n",
    "\n",
    "# Do lemmatization keeping only noun, adj, vb, adv\n",
    "%time data_lemmatized = lemmatization(data_words_bigrams, allowed_postags=['NOUN', 'ADJ', 'VERB', 'ADV'])"
   ]
  },
  {
   "cell_type": "code",
   "execution_count": 18,
   "metadata": {},
   "outputs": [
    {
     "name": "stdout",
     "output_type": "stream",
     "text": [
      "[['rt', 'nederlands', 'bekendste', 'droogkloot', 'marcel', 'van', 'roosmalen', 'sloopt', 'helemaal', 'de', 'moeder', 'luister', 'zelf', 'naar', 'deze', 'topper', 'en']]\n",
      "[['nederlands', 'bekendste', 'droogkloot', 'marcel', 'roosmalen', 'sloopt', 'helemaal', 'moeder', 'luister', 'topper']]\n",
      "[['nederlands', 'bekendste', 'droogkloot', 'marcel', 'roosmalen_sloopt', 'helemaal', 'moeder', 'luister', 'topper']]\n",
      "[['nederlands', 'bekendste', 'droogkloot', 'marcel', 'roosmalen_sloopt', 'helemaal', 'moeder', 'luister', 'topper']]\n"
     ]
    }
   ],
   "source": [
    "print(data_words[:1])\n",
    "print(data_words_nostops[:1])\n",
    "print(data_words_bigrams[:1])\n",
    "print(data_lemmatized[:1])"
   ]
  },
  {
   "cell_type": "code",
   "execution_count": 19,
   "metadata": {
    "collapsed": true
   },
   "outputs": [],
   "source": [
    "# Save results\n",
    "with open('elections_data_lemmatized', 'wb') as fp:\n",
    "    pickle.dump(data_lemmatized, fp)"
   ]
  },
  {
   "cell_type": "code",
   "execution_count": 20,
   "metadata": {
    "collapsed": true
   },
   "outputs": [],
   "source": [
    "# # Load results\n",
    "# with open('elections_data_lemmatized', 'rb') as fp:\n",
    "#     data_lemmatized = pickle.load(fp)"
   ]
  },
  {
   "cell_type": "markdown",
   "metadata": {},
   "source": [
    "#### 6. Create the Dictionary and Corpus needed for Topic Modeling"
   ]
  },
  {
   "cell_type": "code",
   "execution_count": 21,
   "metadata": {},
   "outputs": [
    {
     "name": "stdout",
     "output_type": "stream",
     "text": [
      "        0       1       2       3       4       5       6       7       8\n",
      "0  (0, 1)  (1, 1)  (2, 1)  (3, 1)  (4, 1)  (5, 1)  (6, 1)  (7, 1)  (8, 1)\n"
     ]
    }
   ],
   "source": [
    "# Create Dictionary\n",
    "dictionary = corpora.Dictionary(data_lemmatized)\n",
    "\n",
    "# Filter out words that occur less than 20 documents, or more than 50% of the documents\n",
    "# dictionary.filter_extremes(no_below=20, no_above=0.5)\n",
    "\n",
    "# Create Corpus\n",
    "texts = data_lemmatized\n",
    "\n",
    "# Term Document Frequency\n",
    "corpus = [dictionary.doc2bow(text) for text in texts]\n",
    "\n",
    "# Corpus contains pairs - a unique id for each word in the document and its frequency (word_id, word_frequency).\n",
    "print(pd.DataFrame(corpus[:1]))"
   ]
  },
  {
   "cell_type": "code",
   "execution_count": 22,
   "metadata": {},
   "outputs": [
    {
     "name": "stdout",
     "output_type": "stream",
     "text": [
      "[[(0, 1), (1, 1), (2, 1), (3, 1), (4, 1), (5, 1), (6, 1), (7, 1), (8, 1)]]\n",
      "bekendste\n"
     ]
    }
   ],
   "source": [
    "# We also can check what was the word from the dictionary - dictionary\n",
    "pprint(corpus[:1])\n",
    "print(dictionary[0])"
   ]
  },
  {
   "cell_type": "code",
   "execution_count": 23,
   "metadata": {
    "scrolled": false
   },
   "outputs": [
    {
     "data": {
      "text/plain": [
       "[[('bekendste', 1),\n",
       "  ('droogkloot', 1),\n",
       "  ('helemaal', 1),\n",
       "  ('luister', 1),\n",
       "  ('marcel', 1),\n",
       "  ('moeder', 1),\n",
       "  ('nederlands', 1),\n",
       "  ('roosmalen_sloopt', 1),\n",
       "  ('topper', 1)]]"
      ]
     },
     "execution_count": 23,
     "metadata": {},
     "output_type": "execute_result"
    }
   ],
   "source": [
    "# Readable format\n",
    "[[(dictionary[id], freq) for id, freq in cp] for cp in corpus[:1]]"
   ]
  },
  {
   "cell_type": "code",
   "execution_count": 24,
   "metadata": {},
   "outputs": [
    {
     "name": "stdout",
     "output_type": "stream",
     "text": [
      "Number of unique tokens (words + bigrams + trigrams): 102983\n",
      "Number of documents: 715668\n"
     ]
    }
   ],
   "source": [
    "print('Number of unique tokens (words + bigrams + trigrams): %d' % len(dictionary))\n",
    "print('Number of documents: %d' % len(corpus))"
   ]
  },
  {
   "cell_type": "markdown",
   "metadata": {},
   "source": [
    "#### 7. Build the model"
   ]
  },
  {
   "cell_type": "code",
   "execution_count": 27,
   "metadata": {
    "collapsed": true
   },
   "outputs": [],
   "source": [
    "# # Build Gensim LDA model\n",
    "# start = time.time()\n",
    "# lda_model = gensim.models.ldamodel.LdaModel(corpus=corpus, # corpus\n",
    "#                                            dictionary=dictionary, # dict\n",
    "#                                            num_topics=10, # number of topic to be extracted\n",
    "#                                            random_state=100,\n",
    "#                                            update_every=1, #\n",
    "#                                            chunksize=100, # \n",
    "#                                            passes=10, # \n",
    "#                                            alpha='auto', # \n",
    "#                                            per_word_topics=True) # \n",
    "# end = time.time()\n",
    "# print('Algorithm time =', round((end-start)/60), 'min')"
   ]
  },
  {
   "cell_type": "code",
   "execution_count": 25,
   "metadata": {},
   "outputs": [
    {
     "name": "stdout",
     "output_type": "stream",
     "text": [
      "Wall time: 10h 2min 36s\n"
     ]
    }
   ],
   "source": [
    "# Gensim LDA with Multiprocessing\n",
    "from gensim.models import LdaMulticore\n",
    "import logging\n",
    "logging.basicConfig(filename='gensim.log', format='%(asctime)s:%(levelname)s:%(message)s', level=logging.INFO)\n",
    "logging.root.level = logging.INFO \n",
    "\n",
    "num_topics = 10\n",
    "chunksize = 100\n",
    "passes = 10\n",
    "%time lda_model = LdaMulticore(corpus=corpus, \\\n",
    "                       id2word=dictionary.id2token, \\\n",
    "                       num_topics=num_topics, \\\n",
    "                       random_state=100, \\\n",
    "                       chunksize=chunksize, \\\n",
    "                       passes=passes, \\\n",
    "                       per_word_topics=True)"
   ]
  },
  {
   "cell_type": "code",
   "execution_count": 32,
   "metadata": {
    "collapsed": true
   },
   "outputs": [],
   "source": [
    "# Save the model for further usage\n",
    "from gensim.test.utils import datapath\n",
    "temp_file = datapath('lda_model_2d') \n",
    "lda_model.save(temp_file)"
   ]
  },
  {
   "cell_type": "code",
   "execution_count": 43,
   "metadata": {
    "collapsed": true
   },
   "outputs": [],
   "source": [
    "# Load a potentially pretrained model\n",
    "from gensim.test.utils import datapath\n",
    "temp_file = datapath('lda_model_2d') \n",
    "lda_model = LdaModel.load(temp_file)"
   ]
  },
  {
   "cell_type": "markdown",
   "metadata": {},
   "source": [
    "#### 8. Print the topics"
   ]
  },
  {
   "cell_type": "code",
   "execution_count": 26,
   "metadata": {},
   "outputs": [
    {
     "data": {
      "text/plain": [
       "[('ollongren', 0.032236762),\n",
       " ('minister', 0.029289922),\n",
       " ('gewoon', 0.02497524),\n",
       " ('doet', 0.020300405),\n",
       " ('mee', 0.019801406),\n",
       " ('pechtold', 0.018771656),\n",
       " ('partij', 0.014880281),\n",
       " ('kaag', 0.014804556),\n",
       " ('nooit', 0.013891142),\n",
       " ('maakt', 0.012065151)]"
      ]
     },
     "execution_count": 26,
     "metadata": {},
     "output_type": "execute_result"
    }
   ],
   "source": [
    "# Print one topic\n",
    "lda_model.show_topic(0)"
   ]
  },
  {
   "cell_type": "code",
   "execution_count": 27,
   "metadata": {},
   "outputs": [
    {
     "name": "stdout",
     "output_type": "stream",
     "text": [
      "[(0,\n",
      "  '0.032*\"ollongren\" + 0.029*\"minister\" + 0.025*\"gewoon\" + 0.020*\"doet\" + '\n",
      "  '0.020*\"mee\" + 0.019*\"pechtold\" + 0.015*\"partij\" + 0.015*\"kaag\" + '\n",
      "  '0.014*\"nooit\" + 0.012*\"maakt\"'),\n",
      " (1,\n",
      "  '0.027*\"democratie\" + 0.023*\"wilders\" + 0.022*\"partij\" + 0.016*\"forum\" + '\n",
      "  '0.013*\"zetels\" + 0.012*\"lijsttrekker\" + 0.011*\"amsterdam\" + 0.010*\"land\" + '\n",
      "  '0.009*\"zit\" + 0.009*\"vandaag\"'),\n",
      " (2,\n",
      "  '0.037*\"vvd\" + 0.017*\"partij\" + 0.015*\"pvda\" + 0.011*\"geld\" + 0.010*\"lokale\" '\n",
      "  '+ 0.009*\"zie\" + 0.009*\"den_haag\" + 0.008*\"kuzu\" + 0.008*\"leugens\" + '\n",
      "  '0.008*\"daarom\"'),\n",
      " (3,\n",
      "  '0.032*\"vvd\" + 0.018*\"pvda\" + 0.015*\"gaat\" + 0.015*\"rutte\" + '\n",
      "  '0.013*\"kamerlid\" + 0.012*\"af\" + 0.010*\"groenlinks\" + 0.010*\"goed\" + '\n",
      "  '0.009*\"verkiezingen\" + 0.009*\"tijd\"'),\n",
      " (4,\n",
      "  '0.110*\"pvv\" + 0.045*\"stem\" + 0.039*\"stemmen\" + 0.026*\"maart\" + '\n",
      "  '0.015*\"lijst\" + 0.014*\"vvd\" + 0.010*\"denk\" + 0.009*\"weer\" + 0.008*\"vandaag\" '\n",
      "  '+ 0.008*\"rotterdam\"'),\n",
      " (5,\n",
      "  '0.070*\"vvd\" + 0.061*\"rutte\" + 0.043*\"zijlstra\" + 0.017*\"minister\" + '\n",
      "  '0.013*\"weer\" + 0.011*\"motie\" + 0.011*\"eu\" + 0.009*\"referendum\" + '\n",
      "  '0.009*\"wel\" + 0.008*\"nepnieuws\"'),\n",
      " (6,\n",
      "  '0.019*\"vvd\" + 0.016*\"denk\" + 0.015*\"wel\" + 0.013*\"pvda\" + 0.013*\"samen\" + '\n",
      "  '0.011*\"lid\" + 0.010*\"groenlinks\" + 0.009*\"doe\" + 0.009*\"nederland\" + '\n",
      "  '0.008*\"waar\"'),\n",
      " (7,\n",
      "  '0.025*\"pvda\" + 0.021*\"even\" + 0.018*\"rotterdam\" + 0.013*\"sp\" + '\n",
      "  '0.012*\"nieuws\" + 0.010*\"gaat\" + 0.010*\"links\" + 0.009*\"denk\" + 0.009*\"nida\" '\n",
      "  '+ 0.007*\"politici\"'),\n",
      " (8,\n",
      "  '0.073*\"cda\" + 0.049*\"vvd\" + 0.016*\"weg\" + 0.013*\"zijlstra\" + 0.012*\"pvda\" + '\n",
      "  '0.011*\"blijft\" + 0.009*\"sgp\" + 0.008*\"campagne\" + 0.007*\"vanavond\" + '\n",
      "  '0.006*\"kamer\"'),\n",
      " (9,\n",
      "  '0.019*\"nederland\" + 0.019*\"willen\" + 0.014*\"christenunie\" + 0.013*\"zeggen\" '\n",
      "  '+ 0.012*\"vvd\" + 0.011*\"zeker\" + 0.010*\"nederlandse\" + 0.008*\"zeg\" + '\n",
      "  '0.008*\"leugen\" + 0.008*\"liegen\"')]\n"
     ]
    }
   ],
   "source": [
    "# Print all topics\n",
    "pprint(lda_model.print_topics())\n",
    "doc_lda = lda_model[corpus]"
   ]
  },
  {
   "cell_type": "markdown",
   "metadata": {},
   "source": [
    "#### 9. Compute Model Perplexity and Coherence Score"
   ]
  },
  {
   "cell_type": "markdown",
   "metadata": {},
   "source": [
    "To measure perfomance there are two metrics: perplexity and coherence score. "
   ]
  },
  {
   "cell_type": "code",
   "execution_count": 28,
   "metadata": {
    "scrolled": false
   },
   "outputs": [
    {
     "name": "stdout",
     "output_type": "stream",
     "text": [
      "\n",
      "Perplexity:  -8.92406462107749\n",
      "\n",
      "Coherence Score c_v measure:  0.17569051902466468\n",
      "\n",
      "Coherence Score UMass measure:  -5.380392966744879\n"
     ]
    }
   ],
   "source": [
    "# Compute Perplexity\n",
    "print('\\nPerplexity: ', lda_model.log_perplexity(corpus))  # a measure of how good the model is. lower the better.\n",
    "\n",
    "# Compute Coherence Scores\n",
    "coherence_model_lda = CoherenceModel(model=lda_model, texts=data_lemmatized, dictionary=dictionary, coherence='c_v')\n",
    "coherence_lda = coherence_model_lda.get_coherence() # bigger the better\n",
    "print('\\nCoherence Score c_v measure: ', coherence_lda)\n",
    "\n",
    "coherence_model_lda = CoherenceModel(model=lda_model, texts=data_lemmatized, dictionary=dictionary, coherence='u_mass')\n",
    "coherence_lda = coherence_model_lda.get_coherence()\n",
    "print('\\nCoherence Score UMass measure: ', coherence_lda)"
   ]
  },
  {
   "cell_type": "code",
   "execution_count": 155,
   "metadata": {
    "collapsed": true
   },
   "outputs": [],
   "source": [
    "# def compute_coherence_values(dictionary, corpus, texts, limit, start=2, step=3):\n",
    "#     coherence_values = []\n",
    "#     model_list = []\n",
    "#     for num_topics in range(start, limit, step):\n",
    "#         model=LdaMulticore(corpus=corpus, \n",
    "#                        id2word=dictionary, \n",
    "#                        num_topics=num_topics, \n",
    "#                        random_state=100,\n",
    "#                        chunksize=chunksize, \n",
    "#                        passes=passes,\n",
    "#                        per_word_topics=True)\n",
    "#         print('Model with', num_topics, 'topics done')\n",
    "#         model_list.append(model)\n",
    "#         coherencemodel = CoherenceModel(model=model, texts=texts, dictionary=dictionary, coherence='c_v')\n",
    "#         coherence_values.append(coherencemodel.get_coherence())\n",
    "\n",
    "#     return model_list, coherence_values"
   ]
  },
  {
   "cell_type": "code",
   "execution_count": 156,
   "metadata": {},
   "outputs": [
    {
     "name": "stdout",
     "output_type": "stream",
     "text": [
      "Model with 3 topics done\n",
      "Model with 4 topics done\n",
      "Model with 5 topics done\n",
      "Model with 6 topics done\n",
      "Model with 7 topics done\n",
      "Model with 8 topics done\n",
      "Model with 9 topics done\n",
      "Model with 10 topics done\n",
      "Model with 11 topics done\n",
      "Model with 12 topics done\n",
      "Model with 13 topics done\n",
      "Model with 14 topics done\n",
      "Model with 15 topics done\n",
      "Model with 16 topics done\n",
      "Model with 17 topics done\n",
      "Model with 18 topics done\n",
      "Model with 19 topics done\n"
     ]
    },
    {
     "data": {
      "image/png": "[encoded data removed]",
      "text/plain": [
       "<Figure size 432x288 with 1 Axes>"
      ]
     },
     "metadata": {},
     "output_type": "display_data"
    }
   ],
   "source": [
    "# start = 3\n",
    "# limit = 20\n",
    "# step = 1\n",
    "# model_list, coherence_values = compute_coherence_values(dictionary=dictionary, corpus=corpus, texts=data_lemmatized, start=start, limit=limit, step=step)\n",
    "\n",
    "# # Show graph\n",
    "# import matplotlib.pyplot as plt\n",
    "# limit=limit; start=start; step=step;\n",
    "# x = range(start, limit, step)\n",
    "# plt.plot(x, coherence_values)\n",
    "# plt.xlabel(\"Num Topics\")\n",
    "# plt.ylabel(\"Coherence score\")\n",
    "# plt.legend((\"coherence_values\"), loc='best')\n",
    "# plt.show()"
   ]
  },
  {
   "cell_type": "code",
   "execution_count": 29,
   "metadata": {
    "scrolled": false
   },
   "outputs": [
    {
     "name": "stdout",
     "output_type": "stream",
     "text": [
      "Average topic coherence: -4.4855.\n",
      "[([(0.109686546, 'pvv'),\n",
      "   (0.0451312, 'stem'),\n",
      "   (0.039113253, 'stemmen'),\n",
      "   (0.025850216, 'maart'),\n",
      "   (0.015224031, 'lijst'),\n",
      "   (0.013537075, 'vvd'),\n",
      "   (0.009524018, 'denk'),\n",
      "   (0.009053747, 'weer'),\n",
      "   (0.008326752, 'vandaag'),\n",
      "   (0.008180459, 'rotterdam')],\n",
      "  -3.369015106150296),\n",
      " ([(0.070300214, 'vvd'),\n",
      "   (0.06133589, 'rutte'),\n",
      "   (0.043385897, 'zijlstra'),\n",
      "   (0.016708223, 'minister'),\n",
      "   (0.012693101, 'weer'),\n",
      "   (0.011157309, 'motie'),\n",
      "   (0.010771228, 'eu'),\n",
      "   (0.009022405, 'referendum'),\n",
      "   (0.008835482, 'wel'),\n",
      "   (0.008481288, 'nepnieuws')],\n",
      "  -4.14530458672295),\n",
      " ([(0.03163312, 'vvd'),\n",
      "   (0.017876908, 'pvda'),\n",
      "   (0.015311725, 'gaat'),\n",
      "   (0.014643145, 'rutte'),\n",
      "   (0.013430973, 'kamerlid'),\n",
      "   (0.011813146, 'af'),\n",
      "   (0.009829851, 'groenlinks'),\n",
      "   (0.009544577, 'goed'),\n",
      "   (0.009110807, 'verkiezingen'),\n",
      "   (0.009093776, 'tijd')],\n",
      "  -4.156546395619381),\n",
      " ([(0.027257258, 'democratie'),\n",
      "   (0.022732694, 'wilders'),\n",
      "   (0.02207372, 'partij'),\n",
      "   (0.015796114, 'forum'),\n",
      "   (0.013136907, 'zetels'),\n",
      "   (0.01173176, 'lijsttrekker'),\n",
      "   (0.011268785, 'amsterdam'),\n",
      "   (0.01016745, 'land'),\n",
      "   (0.009342169, 'zit'),\n",
      "   (0.009262485, 'vandaag')],\n",
      "  -4.248584369588109),\n",
      " ([(0.01869201, 'vvd'),\n",
      "   (0.015625155, 'denk'),\n",
      "   (0.01527852, 'wel'),\n",
      "   (0.013095097, 'pvda'),\n",
      "   (0.012723742, 'samen'),\n",
      "   (0.010733222, 'lid'),\n",
      "   (0.010280033, 'groenlinks'),\n",
      "   (0.009335918, 'doe'),\n",
      "   (0.008996399, 'nederland'),\n",
      "   (0.007919967, 'waar')],\n",
      "  -4.293203375213904),\n",
      " ([(0.025475748, 'pvda'),\n",
      "   (0.020737164, 'even'),\n",
      "   (0.017903445, 'rotterdam'),\n",
      "   (0.013023747, 'sp'),\n",
      "   (0.011757915, 'nieuws'),\n",
      "   (0.010420131, 'gaat'),\n",
      "   (0.009869635, 'links'),\n",
      "   (0.009479331, 'denk'),\n",
      "   (0.008984918, 'nida'),\n",
      "   (0.007146103, 'politici')],\n",
      "  -4.317792913214463),\n",
      " ([(0.032236762, 'ollongren'),\n",
      "   (0.029289922, 'minister'),\n",
      "   (0.02497524, 'gewoon'),\n",
      "   (0.020300405, 'doet'),\n",
      "   (0.019801406, 'mee'),\n",
      "   (0.018771656, 'pechtold'),\n",
      "   (0.014880281, 'partij'),\n",
      "   (0.014804556, 'kaag'),\n",
      "   (0.013891142, 'nooit'),\n",
      "   (0.012065151, 'maakt')],\n",
      "  -4.3573184141171355),\n",
      " ([(0.073092215, 'cda'),\n",
      "   (0.04930643, 'vvd'),\n",
      "   (0.015892666, 'weg'),\n",
      "   (0.013060885, 'zijlstra'),\n",
      "   (0.01246965, 'pvda'),\n",
      "   (0.010830818, 'blijft'),\n",
      "   (0.009390477, 'sgp'),\n",
      "   (0.008379506, 'campagne'),\n",
      "   (0.0068181553, 'vanavond'),\n",
      "   (0.0064424477, 'kamer')],\n",
      "  -4.750076146702649),\n",
      " ([(0.019299695, 'nederland'),\n",
      "   (0.018867742, 'willen'),\n",
      "   (0.013812202, 'christenunie'),\n",
      "   (0.012545205, 'zeggen'),\n",
      "   (0.012397225, 'vvd'),\n",
      "   (0.010710515, 'zeker'),\n",
      "   (0.010252238, 'nederlandse'),\n",
      "   (0.008373496, 'zeg'),\n",
      "   (0.008350833, 'leugen'),\n",
      "   (0.008219867, 'liegen')],\n",
      "  -5.188815982356561),\n",
      " ([(0.036530167, 'vvd'),\n",
      "   (0.016709382, 'partij'),\n",
      "   (0.014521678, 'pvda'),\n",
      "   (0.011127521, 'geld'),\n",
      "   (0.009513673, 'lokale'),\n",
      "   (0.009372034, 'zie'),\n",
      "   (0.009259702, 'den_haag'),\n",
      "   (0.008282586, 'kuzu'),\n",
      "   (0.007963373, 'leugens'),\n",
      "   (0.007911073, 'daarom')],\n",
      "  -6.028262434084067)]\n"
     ]
    }
   ],
   "source": [
    "# We can decrease the number of words per topic and show them separately\n",
    "\n",
    "topn = 10 # to keep it readable\n",
    "top_topics = lda_model.top_topics(corpus=corpus, dictionary=dictionary, topn=topn)\n",
    "\n",
    "# Average topic coherence is the sum of topic coherences of all topics, divided by the number of topics.\n",
    "avg_topic_coherence = sum([t[1] for t in top_topics]) / num_topics\n",
    "print('Average topic coherence: %.4f.' % avg_topic_coherence)\n",
    "\n",
    "pprint(top_topics)"
   ]
  },
  {
   "cell_type": "markdown",
   "metadata": {},
   "source": [
    "#### 10. Visualize topics-keywords"
   ]
  },
  {
   "cell_type": "code",
   "execution_count": 33,
   "metadata": {
    "collapsed": true
   },
   "outputs": [],
   "source": [
    "# Get frequencies\n",
    "n = 10\n",
    "m = 10\n",
    "f = []\n",
    "freq = []\n",
    "for i in range(0, n) : \n",
    "    for j in range(0, m) : \n",
    "        f.append(lda_model.show_topic(i)[j][1])\n",
    "    freq.append(f)\n",
    "    f = []"
   ]
  },
  {
   "cell_type": "code",
   "execution_count": 34,
   "metadata": {
    "collapsed": true
   },
   "outputs": [],
   "source": [
    "# Normalize frequencies\n",
    "from sklearn import preprocessing\n",
    "norm = []\n",
    "for i in range(0, n) : \n",
    "    X_train = np.asarray(freq[i]).reshape(-1, 1)\n",
    "    min_max_scaler = preprocessing.MinMaxScaler(feature_range=(0.01, 0.99))\n",
    "    X_train_minmax = min_max_scaler.fit_transform(X_train)\n",
    "    norm.append(X_train_minmax)"
   ]
  },
  {
   "cell_type": "code",
   "execution_count": 35,
   "metadata": {
    "collapsed": true
   },
   "outputs": [],
   "source": [
    "# Create token - frequency dict\n",
    "a = []\n",
    "t = {}\n",
    "for i in range(0, n) :\n",
    "    for j in range(0, m) : \n",
    "        token = lda_model.show_topic(i)[j][0]\n",
    "        freq = norm[i].tolist()[j][0]\n",
    "        t[token] = freq\n",
    "    a.append(t)\n",
    "    t = {}"
   ]
  },
  {
   "cell_type": "code",
   "execution_count": 36,
   "metadata": {},
   "outputs": [
    {
     "data": {
      "image/png": "[encoded data removed]",
      "text/plain": [
       "<Figure size 576x576 with 1 Axes>"
      ]
     },
     "metadata": {},
     "output_type": "display_data"
    }
   ],
   "source": [
    "# Plot wordcloud\n",
    "from wordcloud import WordCloud\n",
    "wordcloud = WordCloud(background_color='white', colormap='winter').generate_from_frequencies(a[0])\n",
    "plt.figure(figsize=(8, 8))\n",
    "plt.imshow(wordcloud, interpolation='bilinear')\n",
    "plt.axis('off')\n",
    "plt.show()"
   ]
  },
  {
   "cell_type": "markdown",
   "metadata": {},
   "source": [
    "Each bubble is a topic. The larger the bubble, the more prevalent the topic."
   ]
  },
  {
   "cell_type": "code",
   "execution_count": null,
   "metadata": {
    "collapsed": true
   },
   "outputs": [],
   "source": [
    "# Synonyms\n",
    "# vvder - vvd?\n",
    "# ga - gaat\n",
    "# "
   ]
  },
  {
   "cell_type": "code",
   "execution_count": null,
   "metadata": {
    "collapsed": true
   },
   "outputs": [],
   "source": [
    "# Nonsense words\n",
    "# ga - go\n",
    "# ..."
   ]
  },
  {
   "cell_type": "code",
   "execution_count": null,
   "metadata": {
    "collapsed": true
   },
   "outputs": [],
   "source": [
    "# Topic 3 vocab\n",
    "# stem - voice\n",
    "# maart - March\n",
    "# stemmen - to vote\n",
    "# lijst - list\n",
    "# nida - political party\n",
    "# ga - go\n",
    "# waar - true\n",
    "# zorg - care\n",
    "# zon - such as\n",
    "# tweede kamerlid - member of parliament\n",
    "# kom - come\n",
    "# vrijheid - freedom\n",
    "# kies - choice\n",
    "# opgericht - established"
   ]
  },
  {
   "cell_type": "code",
   "execution_count": null,
   "metadata": {
    "collapsed": true
   },
   "outputs": [],
   "source": [
    "# Topic 6 vocab\n",
    "# waar - true\n",
    "# ..."
   ]
  },
  {
   "cell_type": "code",
   "execution_count": null,
   "metadata": {
    "collapsed": true
   },
   "outputs": [],
   "source": [
    "# Case specific vocab\n",
    "# nida - political party\n",
    "# tweede kamerlid - member of parliament\n",
    "# vrijheid -freedom\n",
    "\n",
    "# vvder - a member of vvd\n",
    "# geert_wilders - Dutch politician\n",
    "# kajsa_ollongren - Dutch politician\n",
    "# theo_hiddema - ...\n",
    "# jan_terlouw - ...\n",
    "# pechtold - alexander_pechtold - alex_pechtold?\n",
    "# rutte - mark_rutte\n",
    "# baudet - therry_baudet?\n",
    "# sigrid_kaag"
   ]
  },
  {
   "cell_type": "code",
   "execution_count": 30,
   "metadata": {
    "scrolled": false
   },
   "outputs": [
    {
     "name": "stderr",
     "output_type": "stream",
     "text": [
      "C:\\Users\\Mikhail\\Anaconda3\\lib\\site-packages\\pyLDAvis\\_prepare.py:257: FutureWarning: Sorting because non-concatenation axis is not aligned. A future version\n",
      "of pandas will change to not sort by default.\n",
      "\n",
      "To accept the future behavior, pass 'sort=True'.\n",
      "\n",
      "To retain the current behavior and silence the warning, pass sort=False\n",
      "\n",
      "  return pd.concat([default_term_info] + list(topic_dfs))\n"
     ]
    },
    {
     "data": {
      "text/html": [
       "\n",
       "<link rel=\"stylesheet\" type=\"text/css\" href=\"https://cdn.rawgit.com/bmabey/pyLDAvis/files/ldavis.v1.0.0.css\">\n",
       "\n",
       "\n",
       "<div id=\"ldavis_el13236188066703077664963492\"></div>\n",
       "<script type=\"text/javascript\">\n",
       "\n",
       "var ldavis_el13236188066703077664963492_data = {\"mdsDat\": {\"x\": [-0.2357271944907868, 0.0731688090357871, -0.18737918994036765, -0.18023533048477197, 0.09796204783076319, 0.05307304273796747, 0.0314214553964744, -0.049468161512789946, 0.12855040344465474, 0.26863411798306863], \"y\": [-0.019870742287512084, -0.023925605307237446, 0.08026351179541844, -0.164372787143817, -0.12124305336406739, 0.04295639829587277, 0.10873908104259965, -0.021869926145711913, 0.3174888269529642, -0.19816570383850926], \"topics\": [1, 2, 3, 4, 5, 6, 7, 8, 9, 10], \"cluster\": [1, 1, 1, 1, 1, 1, 1, 1, 1, 1], \"Freq\": [11.40644359588623, 10.991836547851562, 10.186019897460938, 10.16375732421875, 10.113652229309082, 10.02682113647461, 9.755650520324707, 9.735170364379883, 8.98066520690918, 8.639982223510742]}, \"tinfo\": {\"Category\": [\"Default\", \"Default\", \"Default\", \"Default\", \"Default\", \"Default\", \"Default\", \"Default\", \"Default\", \"Default\", \"Default\", \"Default\", \"Default\", \"Default\", \"Default\", \"Default\", \"Default\", \"Default\", \"Default\", \"Default\", \"Default\", \"Default\", \"Default\", \"Default\", \"Default\", \"Default\", \"Default\", \"Default\", \"Default\", \"Default\", \"Topic1\", \"Topic1\", \"Topic1\", \"Topic1\", \"Topic1\", \"Topic1\", \"Topic1\", \"Topic1\", \"Topic1\", \"Topic1\", \"Topic1\", \"Topic1\", \"Topic1\", \"Topic1\", \"Topic1\", \"Topic1\", \"Topic1\", \"Topic1\", \"Topic1\", \"Topic1\", \"Topic1\", \"Topic1\", \"Topic1\", \"Topic1\", \"Topic1\", \"Topic1\", \"Topic1\", \"Topic1\", \"Topic1\", \"Topic1\", \"Topic1\", \"Topic1\", \"Topic1\", \"Topic1\", \"Topic1\", \"Topic1\", \"Topic1\", \"Topic1\", \"Topic1\", \"Topic1\", \"Topic1\", \"Topic1\", \"Topic1\", \"Topic1\", \"Topic1\", \"Topic1\", \"Topic1\", \"Topic1\", \"Topic2\", \"Topic2\", \"Topic2\", \"Topic2\", \"Topic2\", \"Topic2\", \"Topic2\", \"Topic2\", \"Topic2\", \"Topic2\", \"Topic2\", \"Topic2\", \"Topic2\", \"Topic2\", \"Topic2\", \"Topic2\", \"Topic2\", \"Topic2\", \"Topic2\", \"Topic2\", \"Topic2\", \"Topic2\", \"Topic2\", \"Topic2\", \"Topic2\", \"Topic2\", \"Topic2\", \"Topic2\", \"Topic2\", \"Topic2\", \"Topic2\", \"Topic2\", \"Topic2\", \"Topic2\", \"Topic2\", \"Topic2\", \"Topic2\", \"Topic2\", \"Topic2\", \"Topic2\", \"Topic2\", \"Topic2\", \"Topic2\", \"Topic2\", \"Topic2\", \"Topic2\", \"Topic2\", \"Topic2\", \"Topic2\", \"Topic2\", \"Topic2\", \"Topic3\", \"Topic3\", \"Topic3\", \"Topic3\", \"Topic3\", \"Topic3\", \"Topic3\", \"Topic3\", \"Topic3\", \"Topic3\", \"Topic3\", \"Topic3\", \"Topic3\", \"Topic3\", \"Topic3\", \"Topic3\", \"Topic3\", \"Topic3\", \"Topic3\", \"Topic3\", \"Topic3\", \"Topic3\", \"Topic3\", \"Topic3\", \"Topic3\", \"Topic3\", \"Topic3\", \"Topic3\", \"Topic3\", \"Topic3\", \"Topic3\", \"Topic3\", \"Topic3\", \"Topic3\", \"Topic3\", \"Topic3\", \"Topic3\", \"Topic3\", \"Topic3\", \"Topic3\", \"Topic3\", \"Topic3\", \"Topic3\", \"Topic3\", \"Topic3\", \"Topic3\", \"Topic3\", \"Topic3\", \"Topic3\", \"Topic3\", \"Topic3\", \"Topic3\", \"Topic3\", \"Topic3\", \"Topic3\", \"Topic4\", \"Topic4\", \"Topic4\", \"Topic4\", \"Topic4\", \"Topic4\", \"Topic4\", \"Topic4\", \"Topic4\", \"Topic4\", \"Topic4\", \"Topic4\", \"Topic4\", \"Topic4\", \"Topic4\", \"Topic4\", \"Topic4\", \"Topic4\", \"Topic4\", \"Topic4\", \"Topic4\", \"Topic4\", \"Topic4\", \"Topic4\", \"Topic4\", \"Topic4\", \"Topic4\", \"Topic4\", \"Topic4\", \"Topic4\", \"Topic4\", \"Topic4\", \"Topic4\", \"Topic4\", \"Topic4\", \"Topic4\", \"Topic4\", \"Topic4\", \"Topic4\", \"Topic4\", \"Topic4\", \"Topic4\", \"Topic4\", \"Topic4\", \"Topic4\", \"Topic4\", \"Topic4\", \"Topic4\", \"Topic4\", \"Topic4\", \"Topic4\", \"Topic5\", \"Topic5\", \"Topic5\", \"Topic5\", \"Topic5\", \"Topic5\", \"Topic5\", \"Topic5\", \"Topic5\", \"Topic5\", \"Topic5\", \"Topic5\", \"Topic5\", \"Topic5\", \"Topic5\", \"Topic5\", \"Topic5\", \"Topic5\", \"Topic5\", \"Topic5\", \"Topic5\", \"Topic5\", \"Topic5\", \"Topic5\", \"Topic5\", \"Topic5\", \"Topic5\", \"Topic5\", \"Topic5\", \"Topic5\", \"Topic5\", \"Topic5\", \"Topic5\", \"Topic5\", \"Topic5\", \"Topic5\", \"Topic5\", \"Topic5\", \"Topic5\", \"Topic5\", \"Topic5\", \"Topic5\", \"Topic5\", \"Topic5\", \"Topic5\", \"Topic5\", \"Topic5\", \"Topic5\", \"Topic6\", \"Topic6\", \"Topic6\", \"Topic6\", \"Topic6\", \"Topic6\", \"Topic6\", \"Topic6\", \"Topic6\", \"Topic6\", \"Topic6\", \"Topic6\", \"Topic6\", \"Topic6\", \"Topic6\", \"Topic6\", \"Topic6\", \"Topic6\", \"Topic6\", \"Topic6\", \"Topic6\", \"Topic6\", \"Topic6\", \"Topic6\", \"Topic6\", \"Topic6\", \"Topic6\", \"Topic6\", \"Topic6\", \"Topic6\", \"Topic6\", \"Topic6\", \"Topic6\", \"Topic6\", \"Topic6\", \"Topic6\", \"Topic6\", \"Topic6\", \"Topic6\", \"Topic6\", \"Topic6\", \"Topic6\", \"Topic6\", \"Topic6\", \"Topic6\", \"Topic6\", \"Topic6\", \"Topic6\", \"Topic6\", \"Topic7\", \"Topic7\", \"Topic7\", \"Topic7\", \"Topic7\", \"Topic7\", \"Topic7\", \"Topic7\", \"Topic7\", \"Topic7\", \"Topic7\", \"Topic7\", \"Topic7\", \"Topic7\", \"Topic7\", \"Topic7\", \"Topic7\", \"Topic7\", \"Topic7\", \"Topic7\", \"Topic7\", \"Topic7\", \"Topic7\", \"Topic7\", \"Topic7\", \"Topic7\", \"Topic7\", \"Topic7\", \"Topic7\", \"Topic7\", \"Topic7\", \"Topic7\", \"Topic7\", \"Topic7\", \"Topic7\", \"Topic7\", \"Topic7\", \"Topic7\", \"Topic7\", \"Topic7\", \"Topic7\", \"Topic7\", \"Topic7\", \"Topic7\", \"Topic7\", \"Topic7\", \"Topic7\", \"Topic7\", \"Topic7\", \"Topic7\", \"Topic7\", \"Topic7\", \"Topic7\", \"Topic8\", \"Topic8\", \"Topic8\", \"Topic8\", \"Topic8\", \"Topic8\", \"Topic8\", \"Topic8\", \"Topic8\", \"Topic8\", \"Topic8\", \"Topic8\", \"Topic8\", \"Topic8\", \"Topic8\", \"Topic8\", \"Topic8\", \"Topic8\", \"Topic8\", \"Topic8\", \"Topic8\", \"Topic8\", \"Topic8\", \"Topic8\", \"Topic8\", \"Topic8\", \"Topic8\", \"Topic8\", \"Topic8\", \"Topic8\", \"Topic8\", \"Topic8\", \"Topic8\", \"Topic8\", \"Topic8\", \"Topic8\", \"Topic8\", \"Topic8\", \"Topic8\", \"Topic8\", \"Topic8\", \"Topic8\", \"Topic8\", \"Topic8\", \"Topic8\", \"Topic8\", \"Topic8\", \"Topic9\", \"Topic9\", \"Topic9\", \"Topic9\", \"Topic9\", \"Topic9\", \"Topic9\", \"Topic9\", \"Topic9\", \"Topic9\", \"Topic9\", \"Topic9\", \"Topic9\", \"Topic9\", \"Topic9\", \"Topic9\", \"Topic9\", \"Topic9\", \"Topic9\", \"Topic9\", \"Topic9\", \"Topic9\", \"Topic9\", \"Topic9\", \"Topic9\", \"Topic9\", \"Topic9\", \"Topic9\", \"Topic9\", \"Topic9\", \"Topic9\", \"Topic9\", \"Topic9\", \"Topic9\", \"Topic9\", \"Topic9\", \"Topic9\", \"Topic9\", \"Topic9\", \"Topic9\", \"Topic9\", \"Topic9\", \"Topic9\", \"Topic9\", \"Topic9\", \"Topic9\", \"Topic10\", \"Topic10\", \"Topic10\", \"Topic10\", \"Topic10\", \"Topic10\", \"Topic10\", \"Topic10\", \"Topic10\", \"Topic10\", \"Topic10\", \"Topic10\", \"Topic10\", \"Topic10\", \"Topic10\", \"Topic10\", \"Topic10\", \"Topic10\", \"Topic10\", \"Topic10\", \"Topic10\", \"Topic10\", \"Topic10\", \"Topic10\", \"Topic10\", \"Topic10\", \"Topic10\", \"Topic10\", \"Topic10\", \"Topic10\", \"Topic10\", \"Topic10\", \"Topic10\", \"Topic10\", \"Topic10\", \"Topic10\", \"Topic10\", \"Topic10\", \"Topic10\", \"Topic10\", \"Topic10\", \"Topic10\", \"Topic10\", \"Topic10\", \"Topic10\", \"Topic10\", \"Topic10\"], \"Freq\": [52074.0, 39475.0, 36582.0, 113552.0, 21426.0, 27933.0, 18569.0, 20023.0, 13188.0, 14186.0, 12273.0, 39824.0, 10217.0, 13786.0, 8818.0, 15458.0, 34142.0, 8305.0, 11497.0, 8101.0, 10401.0, 8221.0, 9881.0, 7228.0, 20727.0, 8417.0, 6614.0, 6478.0, 24166.0, 8149.0, 39474.74609375, 5849.37548828125, 4525.5009765625, 3682.265869140625, 3000.144775390625, 2878.3134765625, 2784.094970703125, 2765.41748046875, 2406.785888671875, 2285.924560546875, 2126.883544921875, 2066.859130859375, 1995.963623046875, 1971.1683349609375, 1808.15673828125, 1560.9027099609375, 1543.5592041015625, 1537.4703369140625, 1535.6610107421875, 1535.6610107421875, 1483.9222412109375, 1477.767333984375, 1464.77783203125, 1402.6295166015625, 1318.7049560546875, 1262.058837890625, 1221.4365234375, 1193.7630615234375, 1193.445068359375, 1179.352783203125, 8583.1162109375, 5071.49365234375, 2779.480712890625, 2193.933837890625, 3479.358154296875, 26628.8125, 2785.969482421875, 7053.7626953125, 6734.4560546875, 2417.898193359375, 2573.668212890625, 2439.0595703125, 2883.51953125, 2532.09423828125, 3006.93798828125, 2299.775634765625, 2100.241943359375, 2079.826904296875, 14185.6875, 8220.8828125, 6105.642578125, 4251.0234375, 4058.045166015625, 3485.098388671875, 3322.896240234375, 3133.435302734375, 2978.027099609375, 2836.248779296875, 2558.736328125, 2374.149658203125, 2348.288330078125, 2194.161865234375, 2142.434814453125, 2064.29248046875, 1881.16796875, 1766.1572265625, 1616.430419921875, 1606.0074462890625, 1584.138916015625, 1517.6365966796875, 1484.5787353515625, 1363.48193359375, 1346.3050537109375, 1339.72216796875, 1330.375, 1320.8841552734375, 1313.4278564453125, 1308.4298095703125, 11830.9365234375, 6836.93310546875, 4862.01123046875, 5291.517578125, 3852.15283203125, 11487.9814453125, 3078.493408203125, 5864.693359375, 3087.318603515625, 4667.45751953125, 2328.7978515625, 4820.54052734375, 2396.864013671875, 3661.452392578125, 3592.092529296875, 2870.70556640625, 2984.78564453125, 2619.853271484375, 2603.574951171875, 2637.18212890625, 2591.6376953125, 6477.53759765625, 5697.28662109375, 3578.212646484375, 3470.510498046875, 3363.151123046875, 3180.402099609375, 2954.147216796875, 3723.647705078125, 2538.88330078125, 2535.14501953125, 2117.555419921875, 2049.597900390625, 1940.9735107421875, 1662.6082763671875, 1642.7386474609375, 1553.93310546875, 1460.9019775390625, 1428.597412109375, 1412.3944091796875, 1362.2349853515625, 1256.6287841796875, 1249.0941162109375, 1345.6805419921875, 1198.482421875, 1152.184326171875, 1139.29931640625, 1128.5902099609375, 1055.256103515625, 1054.967041015625, 1045.5716552734375, 3033.880126953125, 3111.72412109375, 3080.070556640625, 1758.916259765625, 1732.7830810546875, 4385.779296875, 1521.8187255859375, 2001.569580078125, 1497.9886474609375, 2265.107421875, 4393.9931640625, 7384.59375, 2419.413330078125, 15256.134765625, 8621.7392578125, 4603.19287109375, 2590.871337890625, 4740.77587890625, 7062.1484375, 3849.658447265625, 2345.92333984375, 3050.4912109375, 3827.4326171875, 2391.266845703125, 2277.346923828125, 4081.446044921875, 3633.3935546875, 3441.738037109375, 3068.27685546875, 2938.252685546875, 2426.449951171875, 2402.787841796875, 2377.841064453125, 2357.73583984375, 2293.3134765625, 2249.63037109375, 2199.265625, 2135.14306640625, 1934.819091796875, 1893.0133056640625, 1639.8829345703125, 1521.050537109375, 1487.33740234375, 1448.8682861328125, 1446.785888671875, 1415.1607666015625, 1410.656982421875, 1347.379638671875, 1343.0291748046875, 1308.1796875, 1304.8870849609375, 1281.624755859375, 1278.6654052734375, 1253.1307373046875, 1228.71240234375, 29516.640625, 2011.24072265625, 20878.57421875, 5183.4326171875, 4341.84765625, 5369.22607421875, 33830.53515625, 3277.45361328125, 2657.5458984375, 8040.48974609375, 6108.29443359375, 2423.821533203125, 3860.406494140625, 2283.96533203125, 2414.6748046875, 4251.89501953125, 3818.506591796875, 2834.245361328125, 3030.845703125, 2671.960693359375, 2481.37255859375, 6614.07177734375, 6007.36083984375, 5128.806640625, 4909.357421875, 3998.856201171875, 3936.14208984375, 3788.378662109375, 3278.9765625, 3037.179931640625, 3015.202880859375, 3015.79296875, 2784.30615234375, 2557.29150390625, 2398.814453125, 2352.933349609375, 2274.126220703125, 2154.57861328125, 2141.482666015625, 2090.7607421875, 2014.512451171875, 2071.070556640625, 1837.0167236328125, 1764.981201171875, 1572.786865234375, 1560.9044189453125, 1556.5130615234375, 1475.6434326171875, 1446.5946044921875, 1426.77197265625, 1413.541259765625, 9034.953125, 4009.70849609375, 2507.71435546875, 9241.796875, 3531.27880859375, 2096.448486328125, 3170.403076171875, 3445.541015625, 3242.61328125, 3693.3994140625, 5936.5, 3546.1435546875, 3324.201171875, 2462.254150390625, 2555.81005859375, 2515.32080078125, 2419.1396484375, 2411.664306640625, 52073.2421875, 21425.853515625, 18568.857421875, 12272.28515625, 7227.546875, 2741.3544921875, 2697.40478515625, 2099.31005859375, 2042.5753173828125, 2028.5859375, 2017.0045166015625, 1981.2060546875, 1969.0648193359375, 1891.1024169921875, 1875.2105712890625, 1859.58837890625, 1835.908203125, 1764.8265380859375, 1744.783203125, 1586.7056884765625, 1568.3065185546875, 1429.0477294921875, 1411.77783203125, 1377.9320068359375, 1375.146240234375, 1369.3851318359375, 1365.03515625, 1364.311767578125, 1326.606201171875, 1292.2056884765625, 1648.948486328125, 3317.87841796875, 2759.228759765625, 2644.52783203125, 3883.6396484375, 3953.091796875, 4521.48876953125, 4298.2294921875, 2768.2568359375, 6426.67138671875, 2611.199951171875, 3031.44921875, 2530.755615234375, 2766.573486328125, 2021.1922607421875, 2270.37890625, 2276.44873046875, 2223.36376953125, 1971.3131103515625, 5877.1806640625, 4957.74609375, 4312.32275390625, 2860.2373046875, 2797.122802734375, 2713.648193359375, 2608.065185546875, 2269.534912109375, 2096.859375, 1980.1148681640625, 1960.8974609375, 1731.38916015625, 1671.188720703125, 1612.0018310546875, 1530.71533203125, 1529.6915283203125, 1502.2996826171875, 1455.8861083984375, 1417.2374267578125, 1383.2783203125, 1350.8916015625, 1345.114990234375, 1209.7003173828125, 1208.36328125, 1185.3759765625, 1130.956787109375, 1121.9512939453125, 1074.31787109375, 1020.0256958007812, 1014.0480346679688, 1471.1915283203125, 2653.16064453125, 2479.595947265625, 1974.8154296875, 2228.4072265625, 1763.2166748046875, 7217.3623046875, 7057.24951171875, 4748.4150390625, 3107.373291015625, 4155.49658203125, 6048.7119140625, 8633.962890625, 3658.285400390625, 2199.7177734375, 2793.069580078125, 3559.13818359375, 2531.36474609375, 2963.240478515625, 2094.0751953125, 2532.3671875, 2033.0294189453125, 2004.8846435546875, 5129.0859375, 4385.20361328125, 4268.138671875, 3817.75, 3670.61328125, 3394.22900390625, 3070.9384765625, 3058.6630859375, 2489.157470703125, 2463.746826171875, 2445.9853515625, 2291.673828125, 2128.73046875, 2003.747802734375, 1994.906005859375, 1864.54296875, 1762.6417236328125, 1758.5029296875, 1641.1669921875, 1591.857421875, 1583.7257080078125, 1425.4346923828125, 1393.269775390625, 1390.545654296875, 1344.948974609375, 1341.4439697265625, 1320.98193359375, 1306.5643310546875, 1296.2724609375, 1295.161865234375, 2954.08984375, 3646.506103515625, 3151.677734375, 4319.9169921875, 2724.781005859375, 16838.103515625, 7701.9716796875, 1746.77587890625, 6693.578125, 2159.453857421875, 1776.1876220703125, 2228.405029296875, 3099.885986328125, 2266.375, 1916.4632568359375, 2098.94677734375, 2051.337890625, 8817.7099609375, 5537.86572265625, 4999.61767578125, 3038.615478515625, 2808.20556640625, 2760.897705078125, 2728.1611328125, 2526.9560546875, 2302.60009765625, 2256.174072265625, 2128.92041015625, 2067.055908203125, 2034.333984375, 2022.6031494140625, 1934.1273193359375, 1879.3131103515625, 1870.9486083984375, 1859.256591796875, 1842.3997802734375, 1812.3643798828125, 1777.4527587890625, 1744.9105224609375, 1712.28271484375, 1658.62109375, 1533.826171875, 1456.767822265625, 2171.70947265625, 1413.958251953125, 1360.453125, 1339.2354736328125, 7612.7763671875, 4196.69677734375, 3820.503173828125, 2619.362548828125, 10832.6171875, 2697.91162109375, 2131.900634765625, 4430.7744140625, 4030.734130859375, 3018.822021484375, 2747.732177734375, 2967.226806640625, 2649.5869140625, 2442.45849609375, 2106.5302734375, 2153.45068359375, 13187.4931640625, 10216.9326171875, 8304.5390625, 8100.40771484375, 5682.6220703125, 3768.769287109375, 3160.905029296875, 3015.113037109375, 2997.853515625, 2914.693603515625, 2908.59619140625, 2415.741455078125, 2159.26318359375, 1990.743408203125, 1941.555419921875, 1826.910400390625, 1804.92236328125, 1552.234375, 1550.2958984375, 1545.6905517578125, 1389.2088623046875, 1339.7239990234375, 1333.4466552734375, 1278.850830078125, 1217.2574462890625, 1194.226318359375, 1185.1414794921875, 1159.167236328125, 1127.9674072265625, 1070.399658203125, 3633.29541015625, 6056.28369140625, 11981.9921875, 4935.64111328125, 2566.824951171875, 3986.402099609375, 2967.286376953125, 7679.15478515625, 4881.1689453125, 4534.97265625, 6087.26171875, 2956.3984375, 2816.245849609375, 3183.812255859375, 2170.602783203125, 2405.001708984375, 2060.72412109375], \"Term\": [\"pvv\", \"cda\", \"rutte\", \"vvd\", \"stem\", \"zijlstra\", \"stemmen\", \"minister\", \"ollongren\", \"democratie\", \"maart\", \"pvda\", \"gewoon\", \"wilders\", \"even\", \"nederland\", \"partij\", \"doet\", \"rotterdam\", \"mee\", \"willen\", \"forum\", \"weg\", \"lijst\", \"pechtold\", \"kaag\", \"christenunie\", \"kamerlid\", \"denk\", \"zetels\", \"cda\", \"blijft\", \"campagne\", \"vanavond\", \"krijgen\", \"gestemd\", \"geven\", \"organen\", \"gezien\", \"ontmoeting\", \"peiling\", \"iran\", \"bezoek\", \"wist\", \"reactie\", \"referendumwet_afgeschaft\", \"stemmers\", \"ndirecte_democratie\", \"overleden_ngekilled\", \"coalitie_nnederland\", \"zetten\", \"top\", \"gebeurt\", \"beeld\", \"hand\", \"zondag\", \"helft\", \"geef\", \"islamitische\", \"spreken\", \"weg\", \"sgp\", \"morgen\", \"blijkt\", \"kamer\", \"vvd\", \"poetin\", \"zijlstra\", \"pvda\", \"stemt\", \"zegt\", \"partijen\", \"mensen\", \"komt\", \"denk\", \"debat\", \"jaar\", \"net\", \"democratie\", \"forum\", \"lijsttrekker\", \"ziet\", \"leden\", \"tweede_kamer\", \"zitten\", \"gelijk\", \"groot\", \"oud\", \"turkse\", \"lang\", \"hoor\", \"blij\", \"verhaal\", \"klaar\", \"klopt\", \"inderdaad\", \"dagen\", \"wonen\", \"verwacht\", \"amsterdamse\", \"wint\", \"nie\", \"durft\", \"nmaar\", \"roep\", \"betekent\", \"direct\", \"gek\", \"wilders\", \"zetels\", \"zit\", \"land\", \"steeds\", \"partij\", \"beter\", \"amsterdam\", \"staan\", \"grootste\", \"fractie\", \"vandaag\", \"raadslid\", \"baudet\", \"wel\", \"waar\", \"denk\", \"staat\", \"komt\", \"mensen\", \"fvd\", \"kamerlid\", \"af\", \"dag\", \"bent\", \"zorg\", \"kamerleden\", \"mooie\", \"jaren\", \"vertrouwen\", \"kun\", \"thierry_baudet\", \"kandidaat\", \"bedankt\", \"leugenaar\", \"dom\", \"vraagt\", \"vvders\", \"winst\", \"antwoord\", \"kind\", \"paar\", \"mevrouw\", \"plan\", \"bevalt_schaffen\", \"daarmee\", \"hond\", \"verlies\", \"legt\", \"politie\", \"erger\", \"peilingen\", \"zorgen\", \"vraag\", \"opnieuw\", \"zetel\", \"tijd\", \"helpen\", \"erdogan\", \"recht\", \"wethouder\", \"verkiezingen\", \"gaat\", \"terug\", \"vvd\", \"pvda\", \"goed\", \"vinden\", \"groenlinks\", \"rutte\", \"moeten\", \"stad\", \"motie\", \"weer\", \"steeds\", \"gaan\", \"nepnieuws\", \"gl\", \"probleem\", \"buitenlandse_zaken\", \"denkt\", \"fout\", \"nvvd\", \"pvdd\", \"afschaffen\", \"mogen\", \"kwam\", \"lidmaatschap_opzeggen\", \"vvder\", \"let\", \"briefje\", \"steunt\", \"corrupte\", \"tegenkomen\", \"almere\", \"fouten\", \"eindelijk\", \"buza\", \"bang\", \"eerste_rus\", \"loog\", \"extra\", \"npo\", \"alweer\", \"keuze\", \"referenda\", \"rutte\", \"rusland\", \"zijlstra\", \"eu\", \"referendum\", \"motie\", \"vvd\", \"zelfs\", \"wantrouwen\", \"minister\", \"weer\", \"kiezers\", \"komt\", \"volk\", \"leider\", \"wel\", \"pechtold\", \"echt\", \"vandaag\", \"alleen\", \"zegt\", \"christenunie\", \"zeggen\", \"zeker\", \"nederlandse\", \"leugen\", \"liegen\", \"graag\", \"steun\", \"vast\", \"donor\", \"turkije\", \"stempvv\", \"gemeenten\", \"stuk\", \"woord\", \"volgende\", \"programma\", \"leven\", \"haat\", \"kritiek\", \"wet\", \"vrouw\", \"ouderen\", \"armoede\", \"pauw\", \"succes\", \"zojuist\", \"aanwezig\", \"geloof\", \"liegt\", \"willen\", \"zeg\", \"filmpje\", \"nederland\", \"laten\", \"kinderen\", \"man\", \"islam\", \"staat\", \"waar\", \"vvd\", \"wel\", \"gaat\", \"gr\", \"mag\", \"goed\", \"vindt\", \"waarom\", \"pvv\", \"stem\", \"stemmen\", \"maart\", \"lijst\", \"hoort\", \"vrijheid\", \"veilig\", \"nemen\", \"nstem\", \"week\", \"woensdag\", \"waarheid\", \"sluit\", \"vergeet\", \"zullen\", \"maak\", \"hiddema\", \"gr_ovc\", \"benieuwd\", \"stemd\", \"moslims\", \"den_bosch\", \"leuteren\", \"even_eurosceptisch\", \"verkiezingen_eenma\", \"gezicht\", \"denbosch\", \"sleepwet\", \"aantal\", \"volgers\", \"ga\", \"eerst\", \"keer\", \"rotterdam\", \"vandaag\", \"denk\", \"weer\", \"islam\", \"vvd\", \"staat\", \"gaat\", \"amsterdam\", \"partij\", \"stemt\", \"gaan\", \"mensen\", \"alleen\", \"fvd\", \"samen\", \"lid\", \"doe\", \"premier\", \"coalitie\", \"wilde\", \"kom\", \"mogelijk\", \"rechts\", \"gelukkig\", \"tja\", \"nr\", \"meerderheid\", \"corruptie\", \"plaats\", \"opkomst\", \"idee\", \"dijkhoff\", \"liegende\", \"hadden\", \"bron\", \"rechtse\", \"beginnen\", \"gezet\", \"inhoud\", \"haha\", \"aboutaleb\", \"sterk\", \"vrienden\", \"heer\", \"samenwerking\", \"lijkt\", \"erg\", \"normaal\", \"laatste\", \"straks\", \"denk\", \"wel\", \"groenlinks\", \"net\", \"nederland\", \"pvda\", \"vvd\", \"waar\", \"vind\", \"waarom\", \"pechtold\", \"weet\", \"fvd\", \"vragen\", \"partij\", \"heel\", \"goed\", \"geld\", \"lokale\", \"den_haag\", \"kuzu\", \"leugens\", \"burgemeester\", \"juist\", \"aangifte\", \"fraude\", \"gedaan\", \"naam\", \"ver\", \"meest\", \"kiest\", \"roept\", \"veiligheid\", \"kiezen\", \"aandacht\", \"referendumwet_referendumdebat\", \"groep\", \"mens\", \"kans\", \"straat\", \"huis\", \"landelijke\", \"nlijst\", \"vaak\", \"leiden\", \"mis\", \"jouw_gemeente\", \"natuurlijk\", \"daarom\", \"komen\", \"zie\", \"kunt\", \"vvd\", \"partij\", \"haalt\", \"pvda\", \"amp\", \"namelijk\", \"kijk\", \"gaat\", \"partijen\", \"geeft\", \"mensen\", \"alleen\", \"even\", \"sp\", \"nieuws\", \"politici\", \"lidmaatschap\", \"ooit\", \"politicus\", \"buitenhof\", \"liever\", \"valt\", \"oproep\", \"zijlstradebat\", \"leuk\", \"inmiddels\", \"noord\", \"aanpakken\", \"russen\", \"rest\", \"snel\", \"terlouw\", \"voorbeeld\", \"column\", \"halen\", \"druk\", \"aftreden\", \"racistisch\", \"toekomst\", \"ideeen\", \"sluiten\", \"demonisering\", \"rotterdam\", \"links\", \"nida\", \"lees\", \"pvda\", \"mooi\", \"stelt\", \"gaat\", \"denk\", \"groenlinks\", \"goed\", \"partij\", \"pechtold\", \"gaan\", \"krijgt\", \"wel\", \"ollongren\", \"gewoon\", \"doet\", \"mee\", \"nooit\", \"video\", \"misschien\", \"dieren\", \"utrecht\", \"twitter\", \"vrouwen\", \"foto\", \"stoppen\", \"media\", \"jinek\", \"hoofddoek\", \"rotterdamse\", \"stemzeweg\", \"horen\", \"racist\", \"turken\", \"politieke_midden\", \"demoniseren\", \"meneer\", \"feit\", \"nijmegen\", \"moment\", \"steunen\", \"massaal\", \"directe_democratie\", \"penthouse\", \"kaag\", \"minister\", \"maakt\", \"uitslag\", \"laat\", \"weten\", \"pechtold\", \"fvd\", \"alleen\", \"partij\", \"politiek\", \"baudet\", \"wel\", \"vindt\", \"denk\", \"nederland\"], \"Total\": [52074.0, 39475.0, 36582.0, 113552.0, 21426.0, 27933.0, 18569.0, 20023.0, 13188.0, 14186.0, 12273.0, 39824.0, 10217.0, 13786.0, 8818.0, 15458.0, 34142.0, 8305.0, 11497.0, 8101.0, 10401.0, 8221.0, 9881.0, 7228.0, 20727.0, 8417.0, 6614.0, 6478.0, 24166.0, 8149.0, 39475.64453125, 5850.2734375, 4526.39892578125, 3683.162841796875, 3001.041748046875, 2879.21044921875, 2784.991943359375, 2766.314453125, 2407.682861328125, 2286.82177734375, 2127.780517578125, 2067.75634765625, 1996.86083984375, 1972.0654296875, 1809.0537109375, 1561.7998046875, 1544.4561767578125, 1538.367431640625, 1536.55810546875, 1536.55810546875, 1484.8192138671875, 1478.6644287109375, 1465.675048828125, 1403.526611328125, 1319.60205078125, 1262.955810546875, 1222.33349609375, 1194.66015625, 1194.342529296875, 1180.2498779296875, 9881.5732421875, 7073.21728515625, 3733.41796875, 2774.664306640625, 5323.04150390625, 113552.125, 4485.2001953125, 27933.138671875, 39824.89453125, 4439.88720703125, 8438.4208984375, 8523.033203125, 16251.91796875, 10410.013671875, 24166.705078125, 9707.5849609375, 8724.75, 7183.685546875, 14186.58203125, 8221.77734375, 6106.53857421875, 4251.91943359375, 4058.940185546875, 3485.993408203125, 3323.791259765625, 3134.330322265625, 2978.922119140625, 2837.14404296875, 2559.631591796875, 2375.044677734375, 2349.183349609375, 2195.056884765625, 2143.329833984375, 2065.1875, 1882.06298828125, 1767.0523681640625, 1617.325439453125, 1606.902587890625, 1585.0340576171875, 1518.53173828125, 1485.473876953125, 1364.377197265625, 1347.2000732421875, 1340.617431640625, 1331.2703857421875, 1321.7794189453125, 1314.322998046875, 1309.3250732421875, 13786.216796875, 8149.42822265625, 5685.92236328125, 6554.53173828125, 6244.21875, 34142.52734375, 4779.48779296875, 13853.291015625, 4866.37109375, 9863.408203125, 3166.168701171875, 15433.919921875, 3746.091064453125, 11025.623046875, 27102.615234375, 15500.9853515625, 24166.705078125, 10018.97265625, 10410.013671875, 16251.91796875, 13693.4091796875, 6478.43505859375, 5698.18408203125, 3579.109130859375, 3471.406982421875, 3364.047607421875, 3181.298583984375, 2955.043701171875, 3724.90576171875, 2539.77978515625, 2536.04150390625, 2118.451904296875, 2050.494384765625, 1941.8699951171875, 1663.5048828125, 1643.63525390625, 1554.82958984375, 1461.798583984375, 1429.494140625, 1413.2908935546875, 1363.131591796875, 1257.525390625, 1249.99072265625, 1346.6522216796875, 1199.3790283203125, 1153.0809326171875, 1140.196044921875, 1129.4866943359375, 1056.1527099609375, 1055.8636474609375, 1046.4681396484375, 3405.12255859375, 3686.87744140625, 3660.269287109375, 1935.0941162109375, 1966.5234375, 6815.44287109375, 1665.367919921875, 2535.717041015625, 1658.8492431640625, 3212.581298828125, 9524.06640625, 24751.255859375, 3761.618408203125, 113552.125, 39824.89453125, 13600.908203125, 4429.7802734375, 15663.142578125, 36582.01953125, 10441.7841796875, 3949.417236328125, 8420.5166015625, 22149.74609375, 6244.21875, 14788.060546875, 4082.34375, 3634.29150390625, 3442.635986328125, 3069.174560546875, 2939.150390625, 2427.347900390625, 2403.685791015625, 2378.73876953125, 2358.633544921875, 2294.211181640625, 2250.5283203125, 2200.16357421875, 2136.040771484375, 1935.717041015625, 1893.9111328125, 1640.7808837890625, 1521.9483642578125, 1488.2352294921875, 1449.7662353515625, 1447.6837158203125, 1416.05859375, 1411.5548095703125, 1348.277587890625, 1343.927001953125, 1309.0775146484375, 1305.7850341796875, 1282.5228271484375, 1279.563232421875, 1254.0286865234375, 1229.6103515625, 36582.01953125, 2100.064453125, 27933.138671875, 6309.8125, 5690.0693359375, 8420.5166015625, 113552.125, 4583.46875, 3495.496337890625, 20023.279296875, 22149.74609375, 3904.23876953125, 10410.013671875, 4041.25732421875, 4919.498046875, 27102.615234375, 20727.7421875, 9574.888671875, 15433.919921875, 13622.9228515625, 8438.4208984375, 6614.96875, 6008.2578125, 5129.70361328125, 4910.25439453125, 3999.75244140625, 3937.038330078125, 3789.275146484375, 3279.872802734375, 3038.076171875, 3016.09912109375, 3016.689208984375, 2785.202392578125, 2558.187744140625, 2399.710693359375, 2353.829833984375, 2275.022705078125, 2155.474853515625, 2142.37890625, 2091.656982421875, 2015.40869140625, 2071.998046875, 1837.912841796875, 1765.87744140625, 1573.68310546875, 1561.800537109375, 1557.4091796875, 1476.53955078125, 1447.4908447265625, 1427.6680908203125, 1414.4373779296875, 10401.482421875, 5089.51220703125, 2881.781494140625, 15458.7109375, 5196.7890625, 2593.77490234375, 5308.9384765625, 7435.2333984375, 10018.97265625, 15500.9853515625, 113552.125, 27102.615234375, 24751.255859375, 5363.19091796875, 7350.3154296875, 13600.908203125, 6801.791015625, 8926.0107421875, 52074.15625, 21426.74609375, 18569.75, 12273.177734375, 7228.4404296875, 2742.247314453125, 2698.29736328125, 2100.202880859375, 2043.4681396484375, 2029.4786376953125, 2017.89794921875, 1982.0987548828125, 1969.9576416015625, 1891.9951171875, 1876.103515625, 1860.481201171875, 1836.8095703125, 1765.7193603515625, 1745.67578125, 1587.5985107421875, 1569.19921875, 1429.9404296875, 1412.67041015625, 1378.8248291015625, 1376.0390625, 1370.2779541015625, 1365.9281005859375, 1365.204345703125, 1327.4989013671875, 1293.098388671875, 1794.8194580078125, 4745.23291015625, 4049.82958984375, 4385.64892578125, 11497.2060546875, 15433.919921875, 24166.705078125, 22149.74609375, 7435.2333984375, 113552.125, 10018.97265625, 24751.255859375, 13853.291015625, 34142.52734375, 4439.88720703125, 14788.060546875, 16251.91796875, 13622.9228515625, 13693.4091796875, 5878.07373046875, 4958.63916015625, 4313.2158203125, 2861.1298828125, 2798.01513671875, 2714.54052734375, 2608.95751953125, 2270.42724609375, 2097.751708984375, 1981.00732421875, 1961.7900390625, 1732.28173828125, 1672.0811767578125, 1612.894287109375, 1531.60791015625, 1530.583984375, 1503.192626953125, 1456.778564453125, 1418.1300048828125, 1384.1708984375, 1351.7840576171875, 1346.007568359375, 1210.5927734375, 1209.255859375, 1186.2684326171875, 1131.849365234375, 1122.8438720703125, 1075.21044921875, 1020.9181518554688, 1014.9404907226562, 1476.760986328125, 3201.989990234375, 3293.8056640625, 2595.7431640625, 3217.328369140625, 2286.76318359375, 24166.705078125, 27102.615234375, 15663.142578125, 7183.685546875, 15458.7109375, 39824.89453125, 113552.125, 15500.9853515625, 4392.94873046875, 8926.0107421875, 20727.7421875, 7479.8896484375, 13693.4091796875, 4215.60888671875, 34142.52734375, 10140.375, 13600.908203125, 5129.97802734375, 4386.095703125, 4269.03076171875, 3818.64208984375, 3671.50537109375, 3395.12109375, 3071.830322265625, 3059.554931640625, 2490.049560546875, 2464.638671875, 2446.877197265625, 2292.56591796875, 2129.62255859375, 2004.6396484375, 1995.7978515625, 1865.434814453125, 1763.5335693359375, 1759.3948974609375, 1642.058837890625, 1592.749267578125, 1584.61767578125, 1426.32666015625, 1394.16162109375, 1391.4375, 1345.8408203125, 1342.3359375, 1321.873779296875, 1307.4561767578125, 1297.1644287109375, 1296.0538330078125, 3843.086669921875, 5884.87841796875, 4751.12841796875, 8626.7490234375, 4277.85498046875, 113552.125, 34142.52734375, 2194.307373046875, 39824.89453125, 3502.79150390625, 2352.827880859375, 5838.859375, 24751.255859375, 8523.033203125, 3916.492431640625, 16251.91796875, 13622.9228515625, 8818.6005859375, 5538.7568359375, 5000.5087890625, 3039.506591796875, 2809.0966796875, 2761.788818359375, 2729.05224609375, 2527.84716796875, 2303.4912109375, 2257.065185546875, 2129.8115234375, 2067.947021484375, 2035.2249755859375, 2023.494140625, 1935.0186767578125, 1880.2041015625, 1871.839599609375, 1860.1475830078125, 1843.290771484375, 1813.25537109375, 1778.34375, 1745.801513671875, 1713.1737060546875, 1659.5120849609375, 1534.7171630859375, 1457.658935546875, 2173.062255859375, 1414.8492431640625, 1361.3441162109375, 1340.12646484375, 11497.2060546875, 6038.03955078125, 5719.91455078125, 3572.404052734375, 39824.89453125, 4399.8212890625, 2890.420166015625, 24751.255859375, 24166.705078125, 15663.142578125, 13600.908203125, 34142.52734375, 20727.7421875, 14788.060546875, 6043.93701171875, 27102.615234375, 13188.38671875, 10217.826171875, 8305.4326171875, 8101.30126953125, 5683.515625, 3769.66259765625, 3161.79833984375, 3016.00634765625, 2998.746826171875, 2915.5869140625, 2909.489501953125, 2416.634765625, 2160.156494140625, 1991.63671875, 1942.4488525390625, 1827.8038330078125, 1805.8157958984375, 1553.127685546875, 1551.189208984375, 1546.5838623046875, 1390.102294921875, 1340.617431640625, 1334.3399658203125, 1279.744140625, 1218.15087890625, 1195.11962890625, 1186.034912109375, 1160.0606689453125, 1128.8607177734375, 1071.2930908203125, 4356.033203125, 8417.87109375, 20023.279296875, 7378.568359375, 3382.39208984375, 6833.4013671875, 4448.7021484375, 20727.7421875, 13693.4091796875, 13622.9228515625, 34142.52734375, 7947.796875, 11025.623046875, 27102.615234375, 6801.791015625, 24166.705078125, 15458.7109375], \"loglift\": [30.0, 29.0, 28.0, 27.0, 26.0, 25.0, 24.0, 23.0, 22.0, 21.0, 20.0, 19.0, 18.0, 17.0, 16.0, 15.0, 14.0, 13.0, 12.0, 11.0, 10.0, 9.0, 8.0, 7.0, 6.0, 5.0, 4.0, 3.0, 2.0, 1.0, 2.1710000038146973, 2.170799970626831, 2.170799970626831, 2.1707000732421875, 2.1707000732421875, 2.1707000732421875, 2.1707000732421875, 2.1707000732421875, 2.170599937438965, 2.170599937438965, 2.170599937438965, 2.170599937438965, 2.1705000400543213, 2.1705000400543213, 2.1705000400543213, 2.1703999042510986, 2.1703999042510986, 2.1703999042510986, 2.1703999042510986, 2.1703999042510986, 2.1703999042510986, 2.1703999042510986, 2.1703999042510986, 2.1703999042510986, 2.170300006866455, 2.170300006866455, 2.170300006866455, 2.1702001094818115, 2.1702001094818115, 2.1702001094818115, 2.030100107192993, 1.8382999897003174, 1.8759000301361084, 1.9362000226974487, 1.7458000183105469, 0.7207000255584717, 1.6948000192642212, 0.794700026512146, 0.3937000036239624, 1.5633000135421753, 0.9835000038146973, 0.9197999835014343, 0.44179999828338623, 0.7573000192642212, 0.0869000032544136, 0.73089998960495, 0.7469000220298767, 0.9315000176429749, 2.2079999446868896, 2.207900047302246, 2.207900047302246, 2.2077999114990234, 2.2077999114990234, 2.2077999114990234, 2.20770001411438, 2.20770001411438, 2.20770001411438, 2.20770001411438, 2.20770001411438, 2.2076001167297363, 2.2076001167297363, 2.2076001167297363, 2.2076001167297363, 2.2076001167297363, 2.2074999809265137, 2.2074999809265137, 2.2074999809265137, 2.2074999809265137, 2.2074999809265137, 2.20740008354187, 2.20740008354187, 2.20740008354187, 2.20740008354187, 2.2072999477386475, 2.2072999477386475, 2.2072999477386475, 2.2072999477386475, 2.2072999477386475, 2.0550999641418457, 2.032399892807007, 2.051500082015991, 1.99399995803833, 1.725000023841858, 1.1188000440597534, 1.7681000232696533, 1.3483999967575073, 1.753000020980835, 1.4598000049591064, 1.9007999897003174, 1.0442999601364136, 1.7615000009536743, 1.1057000160217285, 0.18709999322891235, 0.5217000246047974, 0.11659999936819077, 0.8666999936103821, 0.8220999836921692, 0.3894999921321869, 0.54339998960495, 2.2839999198913574, 2.2839999198913574, 2.283900022506714, 2.283900022506714, 2.283900022506714, 2.283900022506714, 2.283900022506714, 2.283799886703491, 2.283799886703491, 2.283799886703491, 2.2836999893188477, 2.2836999893188477, 2.2836999893188477, 2.283600091934204, 2.283600091934204, 2.283600091934204, 2.2834999561309814, 2.2834999561309814, 2.2834999561309814, 2.2834999561309814, 2.283400058746338, 2.283400058746338, 2.283400058746338, 2.283400058746338, 2.283400058746338, 2.283400058746338, 2.283400058746338, 2.2832999229431152, 2.2832999229431152, 2.2832999229431152, 2.1686999797821045, 2.1145999431610107, 2.111599922180176, 2.188699960708618, 2.157599925994873, 1.8432999849319458, 2.194000005722046, 2.047600030899048, 2.1821999549865723, 1.9347000122070312, 1.510599970817566, 1.0746999979019165, 1.8428000211715698, 0.2768999934196472, 0.7538999915122986, 1.2007999420166016, 1.7477999925613403, 1.0889999866485596, 0.6392999887466431, 1.2862999439239502, 1.7632999420166016, 1.2688000202178955, 0.5285000205039978, 1.3243000507354736, 0.4133000075817108, 2.286099910736084, 2.286099910736084, 2.286099910736084, 2.2860000133514404, 2.2860000133514404, 2.2860000133514404, 2.2860000133514404, 2.2860000133514404, 2.2860000133514404, 2.2860000133514404, 2.285900115966797, 2.285900115966797, 2.285900115966797, 2.285900115966797, 2.285900115966797, 2.285799980163574, 2.285799980163574, 2.2857000827789307, 2.2857000827789307, 2.2857000827789307, 2.2857000827789307, 2.2857000827789307, 2.2857000827789307, 2.2857000827789307, 2.2857000827789307, 2.2857000827789307, 2.285599946975708, 2.285599946975708, 2.285599946975708, 2.285599946975708, 2.071700096130371, 2.2430999279022217, 1.995300054550171, 2.0896999835968018, 2.015899896621704, 1.836400032043457, 1.0753999948501587, 1.9509999752044678, 2.0123000144958496, 1.373900055885315, 0.998199999332428, 1.8095999956130981, 1.2942999601364136, 1.7157000303268433, 1.5746999979019165, 0.4341000020503998, 0.5946999788284302, 1.069000005722046, 0.6585999727249146, 0.6574000120162964, 1.062399983406067, 2.291100025177002, 2.291100025177002, 2.291100025177002, 2.291100025177002, 2.291100025177002, 2.291100025177002, 2.2909998893737793, 2.2909998893737793, 2.2909998893737793, 2.2909998893737793, 2.2909998893737793, 2.2909998893737793, 2.2908999919891357, 2.2908999919891357, 2.2908999919891357, 2.2908999919891357, 2.2908999919891357, 2.2908999919891357, 2.2908999919891357, 2.290800094604492, 2.290800094604492, 2.290800094604492, 2.290800094604492, 2.2906999588012695, 2.2906999588012695, 2.2906999588012695, 2.2906999588012695, 2.2906999588012695, 2.2906999588012695, 2.2906999588012695, 2.150399923324585, 2.052799940109253, 2.1521999835968018, 1.7768000364303589, 1.9048999547958374, 2.078399896621704, 1.7757999897003174, 1.5220999717712402, 1.1632000207901, 0.8568999767303467, -0.6599000096321106, 0.2574999928474426, 0.28360000252723694, 1.5127999782562256, 1.2348999977111816, 0.6035000085830688, 1.2575000524520874, 0.9825999736785889, 2.2999000549316406, 2.2999000549316406, 2.2999000549316406, 2.299799919128418, 2.299799919128418, 2.2995998859405518, 2.2995998859405518, 2.299499988555908, 2.299499988555908, 2.299499988555908, 2.299499988555908, 2.299499988555908, 2.299499988555908, 2.2994000911712646, 2.2994000911712646, 2.2994000911712646, 2.2994000911712646, 2.2994000911712646, 2.2994000911712646, 2.299299955368042, 2.299299955368042, 2.299299955368042, 2.299299955368042, 2.299299955368042, 2.299299955368042, 2.299299955368042, 2.299299955368042, 2.299299955368042, 2.2992000579833984, 2.2992000579833984, 2.215100049972534, 1.9421000480651855, 1.916200041770935, 1.794100046157837, 1.2145999670028687, 0.9377999901771545, 0.6237999796867371, 0.6603000164031982, 1.311900019645691, -0.5719000101089478, 0.9552000164985657, 0.20010000467300415, 0.5999000072479248, -0.21299999952316284, 1.5130000114440918, 0.4259999990463257, 0.3343000113964081, 0.487199991941452, 0.36169999837875366, 2.327199935913086, 2.3271000385284424, 2.3271000385284424, 2.3269999027252197, 2.3269999027252197, 2.3269999027252197, 2.3269999027252197, 2.326900005340576, 2.326900005340576, 2.326900005340576, 2.326900005340576, 2.3268001079559326, 2.3268001079559326, 2.3268001079559326, 2.32669997215271, 2.32669997215271, 2.32669997215271, 2.32669997215271, 2.32669997215271, 2.32669997215271, 2.32669997215271, 2.32669997215271, 2.3266000747680664, 2.3266000747680664, 2.3266000747680664, 2.3264999389648438, 2.3264999389648438, 2.3264999389648438, 2.3264000415802, 2.3264000415802, 2.323499917984009, 2.1393001079559326, 2.0434000492095947, 2.0539000034332275, 1.9601000547409058, 2.0673000812530518, 1.1188000440597534, 0.9817000031471252, 1.1338000297546387, 1.489300012588501, 1.0135999917984009, 0.44269999861717224, -0.2492000013589859, 0.883400022983551, 1.635699987411499, 1.1655000448226929, 0.5654000043869019, 1.243899941444397, 0.7967000007629395, 1.6275999546051025, -0.27410000562667847, 0.720300018787384, 0.41280001401901245, 2.3292999267578125, 2.329200029373169, 2.329200029373169, 2.329200029373169, 2.329200029373169, 2.329200029373169, 2.3290998935699463, 2.3290998935699463, 2.3290998935699463, 2.3290998935699463, 2.3290998935699463, 2.3289999961853027, 2.3289999961853027, 2.3289999961853027, 2.3289999961853027, 2.328900098800659, 2.328900098800659, 2.328900098800659, 2.328900098800659, 2.328900098800659, 2.328900098800659, 2.3287999629974365, 2.3287999629974365, 2.3287999629974365, 2.3287999629974365, 2.3287999629974365, 2.3287999629974365, 2.328700065612793, 2.328700065612793, 2.328700065612793, 2.0662999153137207, 1.8508000373840332, 1.9190000295639038, 1.6377999782562256, 1.8783999681472778, 0.42080000042915344, 0.840399980545044, 2.101300001144409, 0.5461000204086304, 1.8457000255584717, 2.04830002784729, 1.3661999702453613, 0.25189998745918274, 1.0047999620437622, 1.6146999597549438, 0.2825999855995178, 0.43619999289512634, 2.4100000858306885, 2.409899950027466, 2.409899950027466, 2.4098000526428223, 2.4098000526428223, 2.4098000526428223, 2.4098000526428223, 2.4096999168395996, 2.4096999168395996, 2.4096999168395996, 2.4096999168395996, 2.4096999168395996, 2.4096999168395996, 2.4096999168395996, 2.409600019454956, 2.409600019454956, 2.409600019454956, 2.409600019454956, 2.409600019454956, 2.409600019454956, 2.409600019454956, 2.409600019454956, 2.409600019454956, 2.409600019454956, 2.4094998836517334, 2.4094998836517334, 2.4094998836517334, 2.4094998836517334, 2.40939998626709, 2.40939998626709, 1.9977999925613403, 2.046299934387207, 2.006500005722046, 2.0998001098632812, 1.108199954032898, 1.9210000038146973, 2.1057000160217285, 0.6898000240325928, 0.6190999746322632, 0.763700008392334, 0.810699999332428, -0.03280000016093254, 0.3529999852180481, 0.6093000173568726, 1.3560999631881714, -0.12250000238418579, 2.448699951171875, 2.448699951171875, 2.448699951171875, 2.448699951171875, 2.4486000537872314, 2.448499917984009, 2.448499917984009, 2.448499917984009, 2.448499917984009, 2.448499917984009, 2.448499917984009, 2.4484000205993652, 2.4484000205993652, 2.4482998847961426, 2.4482998847961426, 2.4482998847961426, 2.4482998847961426, 2.448199987411499, 2.448199987411499, 2.448199987411499, 2.4481000900268555, 2.4481000900268555, 2.4481000900268555, 2.4481000900268555, 2.447999954223633, 2.447999954223633, 2.447999954223633, 2.447999954223633, 2.447999954223633, 2.4479000568389893, 2.2672998905181885, 2.119499921798706, 1.9352999925613403, 2.0467000007629395, 2.1728999614715576, 1.9098000526428223, 2.043800115585327, 1.4558000564575195, 1.417199969291687, 1.3487999439239502, 0.724399983882904, 1.4598000049591064, 1.0839999914169312, 0.30720001459121704, 1.3065999746322632, 0.1412999927997589, 0.43369999527931213], \"logprob\": [30.0, 29.0, 28.0, 27.0, 26.0, 25.0, 24.0, 23.0, 22.0, 21.0, 20.0, 19.0, 18.0, 17.0, 16.0, 15.0, 14.0, 13.0, 12.0, 11.0, 10.0, 9.0, 8.0, 7.0, 6.0, 5.0, 4.0, 3.0, 2.0, 1.0, -2.615999937057495, -4.525400161743164, -4.7820000648498535, -4.9882001876831055, -5.192999839782715, -5.234499931335449, -5.2677998542785645, -5.274499893188477, -5.413400173187256, -5.464900016784668, -5.5370001792907715, -5.565700054168701, -5.600599765777588, -5.613100051879883, -5.699399948120117, -5.846399784088135, -5.857600212097168, -5.861599922180176, -5.86269998550415, -5.86269998550415, -5.896999835968018, -5.901199817657471, -5.909999847412109, -5.9532999992370605, -6.014999866485596, -6.059000015258789, -6.091700077056885, -6.11460018157959, -6.1149001121521, -6.126699924468994, -4.141900062561035, -4.668099880218506, -5.269400119781494, -5.50600004196167, -5.0447998046875, -3.009700059890747, -5.267099857330322, -4.338099956512451, -4.384500026702881, -5.40880012512207, -5.346399784088135, -5.400100231170654, -5.232699871063232, -5.362599849700928, -5.190800189971924, -5.458899974822998, -5.549600124359131, -5.5594000816345215, -3.602400064468384, -4.1479997634887695, -4.445499897003174, -4.807499885559082, -4.854000091552734, -5.006199836730957, -5.053800106048584, -5.112500190734863, -5.163400173187256, -5.212200164794922, -5.315199851989746, -5.389999866485596, -5.401000022888184, -5.468900203704834, -5.492700099945068, -5.529900074005127, -5.622799873352051, -5.6859002113342285, -5.774400234222412, -5.780900001525879, -5.794600009918213, -5.837500095367432, -5.859499931335449, -5.9446001052856445, -5.957300186157227, -5.962200164794922, -5.969200134277344, -5.976399898529053, -5.98199987411499, -5.985799789428711, -3.7839999198913574, -4.332300186157227, -4.6732001304626465, -4.588600158691406, -4.906000137329102, -3.8134000301361084, -5.130199909210205, -4.4857001304626465, -5.127399921417236, -4.714099884033203, -5.409299850463867, -4.68179988861084, -5.380499839782715, -4.9567999839782715, -4.975900173187256, -5.200099945068359, -5.161099910736084, -5.291600227355957, -5.297800064086914, -5.284999847412109, -5.3024001121521, -4.310200214385986, -4.438499927520752, -4.90369987487793, -4.934199810028076, -4.965700149536133, -5.021500110626221, -5.095300197601318, -4.863800048828125, -5.246799945831299, -5.248300075531006, -5.428299903869629, -5.460899829864502, -5.5152997970581055, -5.670100212097168, -5.682199954986572, -5.73769998550415, -5.799499988555908, -5.821800231933594, -5.833199977874756, -5.8694000244140625, -5.950099945068359, -5.956099987030029, -5.8815999031066895, -5.997499942779541, -6.036900043487549, -6.048099994659424, -6.057600021362305, -6.12470006942749, -6.125, -6.133999824523926, -5.068699836730957, -5.043399810791016, -5.053599834442139, -5.613800048828125, -5.628799915313721, -4.700200080871582, -5.758600234985352, -5.484600067138672, -5.774400234222412, -5.360899925231934, -4.698299884796143, -4.179100036621094, -5.295000076293945, -3.4535999298095703, -4.024199962615967, -4.651800155639648, -5.226500034332275, -4.622300148010254, -4.223800182342529, -4.83050012588501, -5.325900077819824, -5.063199996948242, -4.836299896240234, -5.306700229644775, -5.355500221252441, -4.769899845123291, -4.886199951171875, -4.940400123596191, -5.055200099945068, -5.098499774932861, -5.289899826049805, -5.299699783325195, -5.310200214385986, -5.318600177764893, -5.34630012512207, -5.365600109100342, -5.388199806213379, -5.417799949645996, -5.516300201416016, -5.5381999015808105, -5.681700229644775, -5.756899833679199, -5.779399871826172, -5.805600166320801, -5.807000160217285, -5.829100131988525, -5.832300186157227, -5.878200054168701, -5.881400108337402, -5.907700061798096, -5.910200119018555, -5.928199768066406, -5.930500030517578, -5.950699806213379, -5.970399856567383, -2.7913999557495117, -5.47760009765625, -3.1375999450683594, -4.530900001525879, -4.708000183105469, -4.495699882507324, -2.6549999713897705, -4.989299774169922, -5.19890022277832, -4.091899871826172, -4.366700172424316, -5.290999889373779, -4.8256001472473145, -5.350399971008301, -5.2947998046875, -4.729000091552734, -4.83650016784668, -5.1346001625061035, -5.067500114440918, -5.19350004196167, -5.267499923706055, -4.282199859619141, -4.378399848937988, -4.536499977111816, -4.5802998542785645, -4.785399913787842, -4.801199913024902, -4.8394999504089355, -4.98390007019043, -5.060500144958496, -5.067699909210205, -5.067500114440918, -5.14739990234375, -5.232500076293945, -5.29640007019043, -5.315700054168701, -5.349800109863281, -5.403800010681152, -5.409900188446045, -5.433899879455566, -5.4710001945495605, -5.443299770355225, -5.563300132751465, -5.603300094604492, -5.718599796295166, -5.726099967956543, -5.729000091552734, -5.782299995422363, -5.802199840545654, -5.815999984741211, -5.825300216674805, -3.9702999591827393, -4.782700061798096, -5.251999855041504, -3.947700023651123, -4.9096999168396, -5.43120002746582, -5.017499923706055, -4.934299945831299, -4.994999885559082, -4.8649001121521, -4.3902997970581055, -4.9054999351501465, -4.970200061798096, -5.270299911499023, -5.232999801635742, -5.249000072479248, -5.288000106811523, -5.291100025177002, -2.210099935531616, -3.0982000827789307, -3.241300106048584, -3.655400037765503, -4.184899806976318, -5.154300212860107, -5.170499801635742, -5.421199798583984, -5.448599815368652, -5.455399990081787, -5.46120023727417, -5.479100227355957, -5.485199928283691, -5.525599956512451, -5.53410005569458, -5.542399883270264, -5.555200099945068, -5.594699859619141, -5.606100082397461, -5.701099872589111, -5.712800025939941, -5.805799961090088, -5.81790018081665, -5.842199802398682, -5.844200134277344, -5.848400115966797, -5.851600170135498, -5.852099895477295, -5.880199909210205, -5.906400203704834, -5.662600040435791, -4.963500022888184, -5.147799968719482, -5.190299987792969, -4.806000232696533, -4.788300037384033, -4.653900146484375, -4.704599857330322, -5.144599914550781, -4.302299976348877, -5.203000068664551, -5.053699970245361, -5.234300136566162, -5.145199775695801, -5.459099769592285, -5.342800140380859, -5.340199947357178, -5.363800048828125, -5.484099864959717, -4.364299774169922, -4.53439998626709, -4.673900127410889, -5.084499835968018, -5.106800079345703, -5.1371002197265625, -5.176799774169922, -5.315800189971924, -5.394899845123291, -5.452199935913086, -5.461999893188477, -5.586400032043457, -5.621799945831299, -5.657899856567383, -5.70959997177124, -5.710299968719482, -5.728400230407715, -5.759699821472168, -5.7866997718811035, -5.8109002113342285, -5.83459997177124, -5.838900089263916, -5.945000171661377, -5.946100234985352, -5.9653000831604, -6.01230001449585, -6.020299911499023, -6.063700199127197, -6.115499973297119, -6.121399879455566, -5.749300003051758, -5.159599781036377, -5.22730016708374, -5.454899787902832, -5.334099769592285, -5.56820011138916, -4.158899784088135, -4.181300163269043, -4.577600002288818, -5.0015997886657715, -4.710899829864502, -4.3354997634887695, -3.9797000885009766, -4.838399887084961, -5.3470001220703125, -5.1082000732421875, -4.865799903869629, -5.206600189208984, -5.049099922180176, -5.396299839019775, -5.206200122833252, -5.42579984664917, -5.439799785614014, -4.498300075531006, -4.65500020980835, -4.68209981918335, -4.793600082397461, -4.832900047302246, -4.911200046539307, -5.011300086975098, -5.0152997970581055, -5.22130012512207, -5.231599807739258, -5.238800048828125, -5.303999900817871, -5.377699851989746, -5.438199996948242, -5.442699909210205, -5.510200023651123, -5.566400051116943, -5.56879997253418, -5.637899875640869, -5.668399810791016, -5.673500061035156, -5.778800010681152, -5.801599979400635, -5.803599834442139, -5.836900234222412, -5.8394999504089355, -5.854899883270264, -5.865900039672852, -5.873799800872803, -5.874599933624268, -5.050099849700928, -4.8394999504089355, -4.985300064086914, -4.670000076293945, -5.130899906158447, -3.3096001148223877, -4.091800212860107, -5.575500011444092, -4.232100009918213, -5.363399982452393, -5.558800220489502, -5.331999778747559, -5.0019001960754395, -5.315100193023682, -5.482800006866455, -5.3917999267578125, -5.41480016708374, -3.8757998943328857, -4.341000080108643, -4.44320011138916, -4.941199779510498, -5.019999980926514, -5.0370001792907715, -5.048999786376953, -5.1255998611450195, -5.218599796295166, -5.238900184631348, -5.296999931335449, -5.326499938964844, -5.342400074005127, -5.348199844360352, -5.392899990081787, -5.4217000007629395, -5.42609977722168, -5.432400226593018, -5.441500186920166, -5.458000183105469, -5.477399826049805, -5.4959001541137695, -5.514800071716309, -5.546599864959717, -5.624800205230713, -5.676400184631348, -5.277100086212158, -5.706200122833252, -5.744800090789795, -5.760499954223633, -4.022799968719482, -4.618299961090088, -4.712200164794922, -5.089700222015381, -3.6700000762939453, -5.060100078582764, -5.295599937438965, -4.564000129699707, -4.658599853515625, -4.947700023651123, -5.041800022125244, -4.965000152587891, -5.078199863433838, -5.159599781036377, -5.307499885559082, -5.2855000495910645, -3.4346001148223877, -3.6898999214172363, -3.8970999717712402, -3.921999931335449, -4.276500225067139, -4.68720006942749, -4.863100051879883, -4.910299777984619, -4.915999889373779, -4.944200038909912, -4.946199893951416, -5.131899833679199, -5.244100093841553, -5.325399875640869, -5.350399971008301, -5.411300182342529, -5.423399925231934, -5.57420015335083, -5.575500011444092, -5.578400135040283, -5.685200214385986, -5.721499919891357, -5.726099967956543, -5.76800012588501, -5.817299842834473, -5.836400032043457, -5.844099998474121, -5.866199970245361, -5.893499851226807, -5.945899963378906, -4.723800182342529, -4.212800025939941, -3.5304999351501465, -4.417399883270264, -5.071199893951416, -4.63100004196167, -4.926300048828125, -3.975399971008301, -4.428500175476074, -4.502099990844727, -4.207699775695801, -4.929900169372559, -4.978499889373779, -4.855800151824951, -5.238900184631348, -5.13640022277832, -5.290900230407715]}, \"token.table\": {\"Topic\": [8, 8, 9, 6, 5, 7, 3, 4, 9, 3, 4, 5, 6, 8, 9, 10, 4, 4, 1, 2, 3, 4, 6, 8, 9, 1, 2, 3, 6, 7, 9, 2, 3, 5, 4, 1, 2, 4, 5, 7, 8, 9, 10, 3, 1, 7, 6, 3, 2, 1, 2, 8, 3, 1, 2, 1, 1, 2, 4, 7, 9, 4, 8, 4, 1, 1, 5, 7, 1, 9, 4, 7, 3, 2, 5, 8, 3, 2, 1, 2, 4, 7, 8, 9, 10, 2, 10, 9, 6, 8, 6, 1, 2, 6, 7, 9, 10, 4, 10, 7, 2, 10, 7, 10, 3, 5, 9, 2, 1, 2, 3, 4, 5, 6, 7, 9, 4, 6, 10, 4, 4, 1, 3, 3, 7, 3, 4, 7, 9, 6, 4, 10, 5, 10, 2, 10, 4, 4, 2, 5, 8, 2, 3, 6, 7, 10, 5, 6, 7, 1, 2, 3, 5, 6, 8, 9, 10, 3, 4, 5, 6, 7, 8, 9, 1, 8, 1, 5, 8, 10, 2, 8, 2, 5, 7, 5, 1, 1, 10, 7, 6, 1, 4, 1, 2, 3, 5, 7, 8, 9, 10, 1, 2, 3, 5, 6, 5, 1, 3, 4, 6, 7, 9, 8, 2, 1, 2, 4, 8, 8, 9, 5, 7, 7, 9, 1, 2, 3, 4, 5, 6, 7, 8, 9, 7, 1, 1, 3, 6, 3, 10, 2, 6, 10, 8, 7, 9, 2, 7, 9, 1, 5, 6, 9, 1, 1, 2, 6, 7, 8, 9, 3, 10, 8, 8, 5, 10, 1, 2, 9, 3, 3, 3, 8, 6, 7, 8, 4, 8, 8, 3, 4, 5, 4, 5, 6, 8, 10, 3, 3, 5, 2, 2, 7, 7, 8, 1, 2, 4, 6, 1, 3, 5, 9, 10, 5, 3, 6, 7, 8, 8, 4, 2, 6, 9, 10, 3, 7, 8, 2, 5, 8, 2, 1, 5, 2, 7, 9, 3, 8, 1, 2, 4, 5, 6, 4, 5, 3, 8, 9, 6, 5, 7, 9, 4, 5, 7, 5, 9, 3, 7, 6, 2, 6, 7, 9, 10, 8, 4, 6, 5, 8, 10, 6, 3, 5, 6, 8, 9, 10, 5, 9, 10, 10, 10, 10, 7, 8, 10, 8, 1, 2, 3, 4, 5, 6, 7, 8, 10, 3, 4, 10, 8, 10, 1, 2, 3, 4, 5, 6, 8, 9, 7, 4, 10, 3, 6, 9, 3, 1, 3, 6, 3, 4, 8, 2, 5, 8, 2, 4, 8, 1, 5, 7, 10, 5, 6, 4, 1, 2, 5, 7, 8, 7, 9, 2, 9, 10, 8, 2, 10, 9, 5, 7, 4, 7, 6, 4, 10, 1, 9, 7, 3, 7, 9, 1, 2, 5, 1, 3, 2, 3, 4, 6, 7, 8, 9, 10, 1, 2, 3, 4, 7, 8, 5, 2, 4, 5, 6, 7, 9, 10, 1, 2, 3, 4, 10, 7, 3, 1, 4, 9, 9, 3, 2, 5, 8, 10, 10, 7, 4, 5, 1, 2, 3, 7, 8, 9, 4, 6, 2, 3, 10, 9, 1, 2, 3, 7, 7, 4, 2, 4, 7, 8, 1, 8, 9, 2, 8, 6, 9, 10, 1, 4, 9, 3, 4, 7, 7, 3, 7, 1, 9, 6, 6, 9, 9, 9, 1, 2, 6, 7, 8, 2, 3, 5, 6, 9, 3, 5, 8, 2, 3, 7, 9, 6, 6, 6, 1, 5, 1, 6, 10, 7, 5, 10, 4, 10, 8, 6, 7, 5, 5, 4, 9, 3, 4, 8, 3, 2, 3, 7, 6, 9, 1, 10, 5, 2, 2, 10, 4, 10, 10, 8, 9, 1, 2, 4, 6, 8, 9, 10, 5, 6, 8, 8, 6, 2, 2, 3, 4, 5, 7, 8, 6, 3, 3, 2, 10, 1, 2, 3, 5, 7, 9, 3, 4, 7, 9, 2, 5, 6, 8, 10, 5, 6, 10, 2, 3, 4, 10, 9, 3, 4, 3, 2, 7, 9, 10, 7, 6, 5, 10, 1, 2, 3, 4, 5, 6, 7, 8, 4, 3, 1, 2, 5, 7, 8, 10, 6, 1, 3, 4, 5, 6, 7, 10, 3, 4, 6, 1, 2, 3, 4, 5, 6, 7, 10, 1, 4, 5, 6, 7, 8, 10, 1, 3, 1, 2, 3, 4, 5, 6, 7, 8, 9, 10, 5, 5, 10, 2, 3, 7, 1, 2, 2, 5, 7, 3, 2, 1, 6, 2, 5, 1, 5, 5, 1, 2, 3, 4, 10, 5, 1, 2, 4, 3, 4, 2, 4, 1, 2, 3, 8, 9, 2, 1, 4, 9, 2, 10, 2, 5, 1, 3, 3, 5, 6, 6], \"Freq\": [0.9997755289077759, 0.9998186230659485, 0.9993596076965332, 0.9991505742073059, 0.9996609091758728, 0.9992484450340271, 0.999792218208313, 0.9997314214706421, 0.9995326995849609, 0.0012478966964408755, 0.19613999128341675, 0.15576685965061188, 0.16318084299564362, 0.1505550593137741, 7.340568845393136e-05, 0.33289477229118347, 0.9994714856147766, 0.9995598196983337, 0.00542424526065588, 0.031118039041757584, 0.13046737015247345, 0.009992030449211597, 0.1084849014878273, 0.6163655519485474, 0.09792190045118332, 7.218501559691504e-05, 0.42336511611938477, 0.1540428251028061, 0.1827002763748169, 0.10964903235435486, 0.13014957308769226, 0.9996498227119446, 0.9990866184234619, 0.9995658993721008, 0.9990524053573608, 9.069782390724868e-05, 0.33204472064971924, 0.002539539011195302, 0.09015363454818726, 0.17450261116027832, 0.06140242516994476, 0.0837140902876854, 0.255405068397522, 0.9995519518852234, 0.9996247887611389, 0.9995103478431702, 0.9996230006217957, 0.9998827576637268, 0.9994103312492371, 0.1592220813035965, 0.6440020799636841, 0.19646456837654114, 0.9988502264022827, 0.9995688796043396, 0.9995185136795044, 0.9997823238372803, 0.7907263040542603, 0.2090342938899994, 0.9995189309120178, 0.9994199872016907, 0.999664843082428, 0.9996172785758972, 0.9996697902679443, 0.9996069669723511, 0.9999118447303772, 0.9999836683273315, 0.9998535513877869, 0.9996371865272522, 0.9996367692947388, 0.9995408654212952, 0.9993768930435181, 0.9994455575942993, 0.9990625977516174, 0.07459796965122223, 0.3056987524032593, 0.619723916053772, 0.9996901154518127, 0.9991804957389832, 0.23692813515663147, 0.19273588061332703, 0.1093989908695221, 0.05892299860715866, 0.1796533316373825, 0.10074596107006073, 0.121554434299469, 0.9999589920043945, 0.9989957809448242, 0.9991594552993774, 0.9995254278182983, 0.9997585415840149, 0.9991178512573242, 0.12442738562822342, 0.12351704388856888, 0.18707557022571564, 0.29863402247428894, 0.16679973900318146, 0.0995170846581459, 0.99960857629776, 0.9996663331985474, 0.9994655847549438, 0.9989933967590332, 0.9987929463386536, 0.9997181296348572, 0.9999479055404663, 0.9996135234832764, 0.9996355772018433, 0.9996914267539978, 0.9991092085838318, 0.07373453676700592, 0.11279504746198654, 0.03425627201795578, 0.2959825396537781, 0.16585049033164978, 0.10621533542871475, 0.10767748951911926, 0.10339545458555222, 0.12519045174121857, 0.6812632083892822, 0.193341463804245, 0.9993102550506592, 0.999252438545227, 0.21019695699214935, 0.789520263671875, 0.24682694673538208, 0.7529284358024597, 0.9995526671409607, 0.8214190006256104, 0.17845220863819122, 0.9999318718910217, 0.9992448687553406, 0.9993988275527954, 0.9990552067756653, 0.870294988155365, 0.12943382561206818, 0.9999054670333862, 0.9997373223304749, 0.9994447231292725, 0.9995276927947998, 0.7355893850326538, 0.2643573582172394, 0.9995784759521484, 0.18928813934326172, 0.09391379356384277, 0.1439378559589386, 0.2163814753293991, 0.35644885897636414, 0.22274987399578094, 0.699228048324585, 0.07797299325466156, 0.09636151790618896, 0.13767863810062408, 0.15397556126117706, 0.11874444037675858, 0.1535022109746933, 0.08635344356298447, 0.16513322293758392, 0.08817924559116364, 0.2983686923980713, 0.08015754818916321, 0.1342962086200714, 0.12245843559503555, 0.06044137850403786, 0.12524616718292236, 0.1790212243795395, 0.9995394349098206, 0.9997408390045166, 0.9994474053382874, 0.213966965675354, 0.4892132580280304, 0.29643872380256653, 0.9989879727363586, 0.9998093247413635, 0.9995755553245544, 0.9995320439338684, 0.9994915127754211, 0.9995356798171997, 0.9995796084403992, 0.9996438026428223, 0.9999191164970398, 0.9989614486694336, 0.9993205070495605, 0.9997164011001587, 0.9996446371078491, 0.023454315960407257, 7.352450484177098e-05, 0.33843329548835754, 0.18491412699222565, 0.1474166214466095, 0.007278925739228725, 0.20204533636569977, 0.09639061987400055, 0.2791248857975006, 0.1888800859451294, 0.07290436327457428, 0.4590550661087036, 0.9996128678321838, 0.9996634721755981, 0.09857536852359772, 0.30268511176109314, 0.0431586429476738, 0.05969427898526192, 0.303132027387619, 0.19274547696113586, 0.9995296001434326, 0.9996904730796814, 0.16606836020946503, 0.47316300868988037, 0.1669808179140091, 0.193746417760849, 0.7961509823799133, 0.2037089318037033, 0.9996858835220337, 0.9991540908813477, 0.9992495775222778, 0.9993149042129517, 0.9995437860488892, 0.18579193949699402, 0.1675480455160141, 0.05315385386347771, 0.15926432609558105, 0.02593592368066311, 0.20048567652702332, 0.08993750065565109, 0.11784574389457703, 0.999073326587677, 0.998909056186676, 0.08586691319942474, 0.9139121770858765, 0.9995926022529602, 0.9989510178565979, 0.9995602369308472, 0.9994962811470032, 0.999545156955719, 0.9992333650588989, 0.9996855854988098, 0.9992066025733948, 0.9993997812271118, 0.9994044303894043, 0.9989307522773743, 0.9997557997703552, 0.9996342062950134, 0.4634689688682556, 0.3722815215587616, 0.16421811282634735, 0.9988759160041809, 0.2406945824623108, 0.17983323335647583, 0.14132210612297058, 0.14407289028167725, 0.09776784479618073, 0.1962233930826187, 0.9997568130493164, 0.9997689127922058, 0.9991868734359741, 0.9997296929359436, 0.2804747223854065, 0.7194218039512634, 0.6535736918449402, 0.24516059458255768, 0.10107003897428513, 0.9995918273925781, 0.9999328255653381, 0.9997588992118835, 0.99906986951828, 0.6031034588813782, 0.19426999986171722, 0.20270660519599915, 0.9991797208786011, 0.9996809363365173, 0.9996974468231201, 0.2525460422039032, 0.620863676071167, 0.1262730211019516, 0.30005860328674316, 0.168354794383049, 0.037507325410842896, 0.3815813660621643, 0.1123507097363472, 0.9991698861122131, 0.1916126161813736, 0.8080886006355286, 0.9994249939918518, 0.9994351863861084, 0.9996330142021179, 0.33655163645744324, 0.6634213328361511, 0.24322734773159027, 0.25014376640319824, 0.3707968294620514, 0.1357346922159195, 0.9996528625488281, 0.28656816482543945, 0.27978453040122986, 0.34861382842063904, 0.08504390716552734, 0.9997972249984741, 0.9995893239974976, 0.19332118332386017, 0.16971121728420258, 0.6370015144348145, 0.9998318552970886, 0.9997652173042297, 0.16477884352207184, 0.146340012550354, 0.10536480695009232, 0.5833112597465515, 0.2713431417942047, 0.6925000548362732, 0.035743940621614456, 0.8073803186416626, 0.1925385445356369, 0.9993752241134644, 0.9995601177215576, 0.32039013504981995, 0.6794580221176147, 0.9997683763504028, 0.2664872109889984, 0.733119785785675, 0.9989085793495178, 0.9996510744094849, 0.06809637695550919, 0.2475862354040146, 0.49090373516082764, 0.11240984499454498, 0.08090256154537201, 0.999629557132721, 0.9998118877410889, 0.9996964931488037, 0.9998623728752136, 0.9993981122970581, 0.9994018077850342, 0.9993563890457153, 0.9998710751533508, 0.9996095895767212, 0.999471127986908, 0.9997362494468689, 0.9992031455039978, 0.9996907711029053, 0.9997867345809937, 0.1711435765028, 0.8285472393035889, 0.9999390840530396, 0.9999117851257324, 0.0041404166258871555, 0.28817299008369446, 0.6950931549072266, 0.01258686650544405, 0.9997501969337463, 0.9991769194602966, 0.999559223651886, 0.07155859470367432, 0.2593999207019806, 0.6689644455909729, 0.9999040365219116, 0.17659105360507965, 0.34774017333984375, 0.19740650057792664, 0.13808931410312653, 0.010747837834060192, 0.1293822079896927, 0.5971061587333679, 0.14842891693115234, 0.2542881369590759, 0.9992375373840332, 0.9996802806854248, 0.9998393654823303, 0.9993534088134766, 0.9997076392173767, 0.9994184970855713, 0.999610185623169, 0.17745597660541534, 0.16225777566432953, 0.11893980950117111, 0.10164953768253326, 0.0652846023440361, 0.14004500210285187, 0.10177260637283325, 0.12915398180484772, 0.0034457470756024122, 0.9992074370384216, 0.4015326201915741, 0.5984034538269043, 0.9991023540496826, 0.9997475147247314, 0.18349353969097137, 0.0006703835097141564, 0.3687109351158142, 0.0028730721678584814, 0.14633513987064362, 0.07900948822498322, 0.11683826893568039, 0.10189829766750336, 0.9998118281364441, 0.9994720816612244, 0.9991274476051331, 0.16977962851524353, 0.21705427765846252, 0.6132067441940308, 0.999646782875061, 0.7443581223487854, 0.2552620768547058, 0.9993423223495483, 0.36221054196357727, 0.6376093626022339, 0.999641478061676, 0.00042502046562731266, 0.24438676238059998, 0.7548363208770752, 0.12021587044000626, 0.11110860854387283, 0.7686529755592346, 0.9991111159324646, 0.5978506207466125, 0.26878049969673157, 0.13332289457321167, 0.9997445344924927, 0.9997708797454834, 0.9996708631515503, 0.2895449697971344, 0.10134074091911316, 0.11901968717575073, 0.43250778317451477, 0.05763058364391327, 0.33199796080589294, 0.6680169701576233, 0.9989905953407288, 0.9998982548713684, 0.9990631937980652, 0.9990047812461853, 0.9995394349098206, 0.9999092817306519, 0.9994735717773438, 0.2388526052236557, 0.7608610987663269, 0.9995923638343811, 0.9992600679397583, 0.9997641444206238, 0.9997146725654602, 0.9998948574066162, 0.9996406435966492, 0.9997143745422363, 0.9996184706687927, 0.9089997410774231, 0.09043487906455994, 0.9996189475059509, 0.9995248317718506, 0.9995967745780945, 0.9995031356811523, 0.9996367692947388, 0.9995822310447693, 0.3364718556404114, 0.00020502289407886565, 0.017339078709483147, 0.08104262501001358, 0.07415971159934998, 0.2255837619304657, 0.08690042048692703, 0.17828205227851868, 0.286165714263916, 0.09632720798254013, 0.09832180291414261, 0.07110144942998886, 0.18221212923526764, 0.26586779952049255, 0.9994874000549316, 0.0004824452043976635, 0.18424582481384277, 0.11226499825716019, 0.032999251037836075, 0.17170225083827972, 0.12784798443317413, 0.37046968936920166, 0.9996331930160522, 0.10865981876850128, 0.8910105228424072, 0.16574713587760925, 0.8340156674385071, 0.9996030926704407, 0.9995156526565552, 0.6211540102958679, 0.37857842445373535, 0.999833345413208, 0.999614417552948, 0.9991820454597473, 0.28787851333618164, 0.1424294114112854, 0.19753901660442352, 0.3719269633293152, 0.9995394349098206, 0.999605119228363, 0.9998152852058411, 0.9997797012329102, 0.16909021139144897, 0.022423161193728447, 0.2164977490901947, 0.15188992023468018, 0.16808581352233887, 0.272015780210495, 0.9996894001960754, 0.9999777674674988, 0.6398670077323914, 0.3598417639732361, 0.9996224641799927, 0.9995479583740234, 0.9994175434112549, 0.09645240753889084, 0.9030356407165527, 0.9996416568756104, 0.9992514252662659, 0.9995036125183105, 0.060456205159425735, 0.7630838751792908, 0.08189707249403, 0.09437494724988937, 0.9994878768920898, 0.9993551969528198, 0.9993830919265747, 0.999045729637146, 0.9996002316474915, 0.33782121539115906, 0.6621608734130859, 0.9995482563972473, 0.041903477162122726, 0.9575896859169006, 0.9995514750480652, 0.19304566085338593, 0.806871771812439, 8.200750016840175e-05, 0.9998173117637634, 0.003385788295418024, 0.9960988759994507, 0.7169297933578491, 0.2828981280326843, 0.9996241927146912, 0.999474048614502, 0.9990126490592957, 0.9992997646331787, 0.9998633861541748, 0.9989410042762756, 0.6343535780906677, 0.1265830248594284, 0.1491871476173401, 0.08979997783899307, 0.26150384545326233, 0.00019962126680184156, 0.323685884475708, 0.2606055736541748, 0.15400780737400055, 0.594011664390564, 0.07545416802167892, 0.33042851090431213, 0.6168906092643738, 0.3829141855239868, 0.2622455954551697, 0.7376090288162231, 0.9999651908874512, 0.9992357492446899, 0.9999595880508423, 0.9997046589851379, 0.9995682835578918, 0.5446084141731262, 0.4551917314529419, 0.999273955821991, 0.9988742470741272, 0.9997338652610779, 0.9990856647491455, 0.9995240569114685, 0.9994646310806274, 0.9991667866706848, 0.22870755195617676, 0.7709587216377258, 0.9997038245201111, 0.9997372627258301, 0.9991700053215027, 0.9993076920509338, 0.6430742740631104, 0.2411196231842041, 0.11537586897611618, 0.9997866749763489, 0.35639649629592896, 0.6435385346412659, 0.9995973110198975, 0.0004601801047101617, 0.999511182308197, 0.9995506405830383, 0.9992070198059082, 0.9997715353965759, 0.9997532367706299, 0.9997150301933289, 0.9997987151145935, 0.240953728556633, 0.7589303255081177, 0.9997509717941284, 0.9993389844894409, 0.9995280504226685, 0.9996842741966248, 0.31236395239830017, 0.19638562202453613, 0.2561241686344147, 0.0846836045384407, 0.05747081711888313, 0.09304182231426239, 0.9996457695960999, 0.9994272589683533, 0.9997668862342834, 0.9997531771659851, 0.9994118213653564, 0.999379575252533, 0.14636604487895966, 0.46135756373405457, 0.0005249858368188143, 0.10531216114759445, 0.08588768541812897, 0.20043958723545074, 0.9990673661231995, 0.9995691180229187, 0.999692976474762, 0.9993476271629333, 0.9998242259025574, 0.0011381875956431031, 0.1873456835746765, 0.07352691888809204, 0.08536407351493835, 0.5008025765419006, 0.15160658955574036, 0.5849048495292664, 0.12348242104053497, 0.16614820063114166, 0.12528838217258453, 0.15304791927337646, 0.355641633272171, 0.042782850563526154, 0.12923066318035126, 0.3191806375980377, 0.999550461769104, 0.9187553524971008, 0.08078806847333908, 0.23853962123394012, 0.0658210963010788, 0.5651706457138062, 0.13015751540660858, 0.9992443919181824, 0.8414681553840637, 0.15818507969379425, 0.9994664192199707, 0.18882207572460175, 0.4967254102230072, 0.26401880383491516, 0.05005208030343056, 0.9991006851196289, 0.9995191693305969, 0.9995033144950867, 0.9998317360877991, 0.23450903594493866, 8.806528057903051e-06, 0.1343524008989334, 0.2979336678981781, 0.05227555334568024, 0.056599557399749756, 0.07603556662797928, 0.14828431606292725, 0.9995127320289612, 0.9994537234306335, 0.1044449731707573, 0.18521402776241302, 0.23824292421340942, 0.23598499596118927, 0.10979947447776794, 0.12625004351139069, 0.9995138645172119, 0.0008962570573203266, 0.07909468561410904, 0.05825670808553696, 0.2702215015888214, 0.20793163776397705, 0.3129057288169861, 0.07080430537462234, 0.23945097625255585, 0.760407030582428, 0.9995549917221069, 0.08645696938037872, 0.09020419418811798, 0.17277850210666656, 0.27575936913490295, 0.07932370901107788, 0.1940428614616394, 0.02352171391248703, 0.07783384621143341, 0.10267531126737595, 0.11911940574645996, 0.167382150888443, 0.12740829586982727, 0.33837398886680603, 0.11283589154481888, 0.03208603337407112, 0.8685863614082336, 0.13135559856891632, 0.0013282850850373507, 0.13253334164619446, 0.06512286514043808, 0.15688523650169373, 0.13083608448505402, 0.039479583501815796, 0.2603807747364044, 0.01645597629249096, 0.07943882793188095, 0.11747943609952927, 0.9995183348655701, 0.3329060673713684, 0.6669360995292664, 0.2947785258293152, 0.7050405144691467, 0.9998008608818054, 0.1417357623577118, 0.8581759929656982, 0.0016343824099749327, 0.8686261773109436, 0.12969304621219635, 0.9996543526649475, 0.9996809959411621, 0.9994597434997559, 0.9994456768035889, 0.9994382858276367, 0.9996474385261536, 0.21200460195541382, 0.7878947854042053, 0.9997906684875488, 0.3050333857536316, 0.15476828813552856, 0.2071477621793747, 0.2940123677253723, 0.03898833692073822, 0.9998628497123718, 0.13177792727947235, 0.15294092893600464, 0.7149606943130493, 0.8812506198883057, 0.11848320811986923, 0.8389545679092407, 0.16099289059638977, 0.999448299407959, 0.14188426733016968, 0.20772598683834076, 0.5007680058479309, 0.14941897988319397, 0.9997837543487549, 0.25253158807754517, 0.7474634647369385, 0.9995420575141907, 0.855094313621521, 0.1447434425354004, 0.9997619390487671, 0.9996345639228821, 0.9992431998252869, 0.9996885657310486, 0.8440747261047363, 0.0005424644914455712, 0.1551448404788971, 0.9997413754463196], \"Term\": [\"aandacht\", \"aangifte\", \"aanpakken\", \"aantal\", \"aanwezig\", \"aboutaleb\", \"af\", \"afschaffen\", \"aftreden\", \"alleen\", \"alleen\", \"alleen\", \"alleen\", \"alleen\", \"alleen\", \"alleen\", \"almere\", \"alweer\", \"amp\", \"amp\", \"amp\", \"amp\", \"amp\", \"amp\", \"amp\", \"amsterdam\", \"amsterdam\", \"amsterdam\", \"amsterdam\", \"amsterdam\", \"amsterdam\", \"amsterdamse\", \"antwoord\", \"armoede\", \"bang\", \"baudet\", \"baudet\", \"baudet\", \"baudet\", \"baudet\", \"baudet\", \"baudet\", \"baudet\", \"bedankt\", \"beeld\", \"beginnen\", \"benieuwd\", \"bent\", \"betekent\", \"beter\", \"beter\", \"beter\", \"bevalt_schaffen\", \"bezoek\", \"blij\", \"blijft\", \"blijkt\", \"blijkt\", \"briefje\", \"bron\", \"buitenhof\", \"buitenlandse_zaken\", \"burgemeester\", \"buza\", \"campagne\", \"cda\", \"christenunie\", \"coalitie\", \"coalitie_nnederland\", \"column\", \"corrupte\", \"corruptie\", \"daarmee\", \"daarom\", \"daarom\", \"daarom\", \"dag\", \"dagen\", \"debat\", \"debat\", \"debat\", \"debat\", \"debat\", \"debat\", \"debat\", \"democratie\", \"demoniseren\", \"demonisering\", \"den_bosch\", \"den_haag\", \"denbosch\", \"denk\", \"denk\", \"denk\", \"denk\", \"denk\", \"denk\", \"denkt\", \"dieren\", \"dijkhoff\", \"direct\", \"directe_democratie\", \"doe\", \"doet\", \"dom\", \"donor\", \"druk\", \"durft\", \"echt\", \"echt\", \"echt\", \"echt\", \"echt\", \"echt\", \"echt\", \"echt\", \"eerst\", \"eerst\", \"eerst\", \"eerste_rus\", \"eindelijk\", \"erdogan\", \"erdogan\", \"erg\", \"erg\", \"erger\", \"eu\", \"eu\", \"even\", \"even_eurosceptisch\", \"extra\", \"feit\", \"filmpje\", \"filmpje\", \"forum\", \"foto\", \"fout\", \"fouten\", \"fractie\", \"fractie\", \"fraude\", \"fvd\", \"fvd\", \"fvd\", \"fvd\", \"fvd\", \"ga\", \"ga\", \"ga\", \"gaan\", \"gaan\", \"gaan\", \"gaan\", \"gaan\", \"gaan\", \"gaan\", \"gaan\", \"gaat\", \"gaat\", \"gaat\", \"gaat\", \"gaat\", \"gaat\", \"gaat\", \"gebeurt\", \"gedaan\", \"geef\", \"geeft\", \"geeft\", \"geeft\", \"gek\", \"geld\", \"gelijk\", \"geloof\", \"gelukkig\", \"gemeenten\", \"gestemd\", \"geven\", \"gewoon\", \"gezet\", \"gezicht\", \"gezien\", \"gl\", \"goed\", \"goed\", \"goed\", \"goed\", \"goed\", \"goed\", \"goed\", \"goed\", \"gr\", \"gr\", \"gr\", \"gr\", \"gr_ovc\", \"graag\", \"groenlinks\", \"groenlinks\", \"groenlinks\", \"groenlinks\", \"groenlinks\", \"groenlinks\", \"groep\", \"groot\", \"grootste\", \"grootste\", \"grootste\", \"grootste\", \"haalt\", \"haalt\", \"haat\", \"hadden\", \"haha\", \"halen\", \"hand\", \"heel\", \"heel\", \"heel\", \"heel\", \"heel\", \"heel\", \"heel\", \"heel\", \"heer\", \"helft\", \"helpen\", \"helpen\", \"hiddema\", \"hond\", \"hoofddoek\", \"hoor\", \"hoort\", \"horen\", \"huis\", \"idee\", \"ideeen\", \"inderdaad\", \"inhoud\", \"inmiddels\", \"iran\", \"islam\", \"islam\", \"islam\", \"islamitische\", \"jaar\", \"jaar\", \"jaar\", \"jaar\", \"jaar\", \"jaar\", \"jaren\", \"jinek\", \"jouw_gemeente\", \"juist\", \"kaag\", \"kaag\", \"kamer\", \"kamer\", \"kamer\", \"kamerleden\", \"kamerlid\", \"kandidaat\", \"kans\", \"keer\", \"keer\", \"keer\", \"keuze\", \"kiest\", \"kiezen\", \"kiezers\", \"kiezers\", \"kiezers\", \"kijk\", \"kijk\", \"kijk\", \"kijk\", \"kijk\", \"kind\", \"kinderen\", \"kinderen\", \"klaar\", \"klopt\", \"kom\", \"komen\", \"komen\", \"komt\", \"komt\", \"komt\", \"komt\", \"krijgen\", \"krijgt\", \"krijgt\", \"krijgt\", \"krijgt\", \"kritiek\", \"kun\", \"kunt\", \"kunt\", \"kunt\", \"kuzu\", \"kwam\", \"laat\", \"laat\", \"laat\", \"laat\", \"laatste\", \"laatste\", \"laatste\", \"land\", \"land\", \"landelijke\", \"lang\", \"laten\", \"laten\", \"leden\", \"lees\", \"lees\", \"legt\", \"leiden\", \"leider\", \"leider\", \"leider\", \"leider\", \"leider\", \"let\", \"leugen\", \"leugenaar\", \"leugens\", \"leuk\", \"leuteren\", \"leven\", \"lid\", \"lidmaatschap\", \"lidmaatschap_opzeggen\", \"liegen\", \"liegende\", \"liegt\", \"liever\", \"lijkt\", \"lijkt\", \"lijst\", \"lijsttrekker\", \"links\", \"links\", \"links\", \"links\", \"lokale\", \"loog\", \"maak\", \"maakt\", \"maakt\", \"maakt\", \"maart\", \"mag\", \"mag\", \"mag\", \"mag\", \"mag\", \"mag\", \"man\", \"man\", \"man\", \"massaal\", \"media\", \"mee\", \"meerderheid\", \"meest\", \"meneer\", \"mens\", \"mensen\", \"mensen\", \"mensen\", \"mensen\", \"mensen\", \"mensen\", \"mensen\", \"mensen\", \"mensen\", \"mevrouw\", \"minister\", \"minister\", \"mis\", \"misschien\", \"moeten\", \"moeten\", \"moeten\", \"moeten\", \"moeten\", \"moeten\", \"moeten\", \"moeten\", \"mogelijk\", \"mogen\", \"moment\", \"mooi\", \"mooi\", \"mooi\", \"mooie\", \"morgen\", \"morgen\", \"moslims\", \"motie\", \"motie\", \"naam\", \"namelijk\", \"namelijk\", \"namelijk\", \"natuurlijk\", \"natuurlijk\", \"natuurlijk\", \"ndirecte_democratie\", \"nederland\", \"nederland\", \"nederland\", \"nederlandse\", \"nemen\", \"nepnieuws\", \"net\", \"net\", \"net\", \"net\", \"net\", \"nida\", \"nida\", \"nie\", \"nieuws\", \"nijmegen\", \"nlijst\", \"nmaar\", \"nooit\", \"noord\", \"normaal\", \"normaal\", \"npo\", \"nr\", \"nstem\", \"nvvd\", \"ollongren\", \"ontmoeting\", \"ooit\", \"opkomst\", \"opnieuw\", \"opnieuw\", \"oproep\", \"organen\", \"oud\", \"ouderen\", \"overleden_ngekilled\", \"paar\", \"partij\", \"partij\", \"partij\", \"partij\", \"partij\", \"partij\", \"partij\", \"partij\", \"partijen\", \"partijen\", \"partijen\", \"partijen\", \"partijen\", \"partijen\", \"pauw\", \"pechtold\", \"pechtold\", \"pechtold\", \"pechtold\", \"pechtold\", \"pechtold\", \"pechtold\", \"peiling\", \"peilingen\", \"peilingen\", \"penthouse\", \"penthouse\", \"plaats\", \"plan\", \"poetin\", \"poetin\", \"politici\", \"politicus\", \"politie\", \"politiek\", \"politiek\", \"politiek\", \"politiek\", \"politieke_midden\", \"premier\", \"probleem\", \"programma\", \"pvda\", \"pvda\", \"pvda\", \"pvda\", \"pvda\", \"pvda\", \"pvdd\", \"pvv\", \"raadslid\", \"raadslid\", \"racist\", \"racistisch\", \"reactie\", \"recht\", \"recht\", \"rechts\", \"rechtse\", \"referenda\", \"referendum\", \"referendum\", \"referendum\", \"referendum\", \"referendumwet_afgeschaft\", \"referendumwet_referendumdebat\", \"rest\", \"roep\", \"roept\", \"rotterdam\", \"rotterdam\", \"rotterdamse\", \"rusland\", \"rusland\", \"russen\", \"rutte\", \"rutte\", \"rutte\", \"samen\", \"samenwerking\", \"samenwerking\", \"sgp\", \"sgp\", \"sleepwet\", \"sluit\", \"sluiten\", \"snel\", \"sp\", \"spreken\", \"staan\", \"staan\", \"staan\", \"staan\", \"staat\", \"staat\", \"staat\", \"staat\", \"staat\", \"stad\", \"stad\", \"stad\", \"steeds\", \"steeds\", \"stelt\", \"stelt\", \"stem\", \"stemd\", \"stemmen\", \"stemmers\", \"stempvv\", \"stemt\", \"stemt\", \"stemzeweg\", \"sterk\", \"steun\", \"steunen\", \"steunt\", \"stoppen\", \"straat\", \"straks\", \"straks\", \"stuk\", \"succes\", \"tegenkomen\", \"terlouw\", \"terug\", \"terug\", \"terug\", \"thierry_baudet\", \"tijd\", \"tijd\", \"tja\", \"toekomst\", \"toekomst\", \"top\", \"turken\", \"turkije\", \"turkse\", \"tweede_kamer\", \"twitter\", \"uitslag\", \"uitslag\", \"utrecht\", \"vaak\", \"valt\", \"vanavond\", \"vandaag\", \"vandaag\", \"vandaag\", \"vandaag\", \"vandaag\", \"vandaag\", \"vast\", \"veilig\", \"veiligheid\", \"ver\", \"vergeet\", \"verhaal\", \"verkiezingen\", \"verkiezingen\", \"verkiezingen\", \"verkiezingen\", \"verkiezingen\", \"verkiezingen\", \"verkiezingen_eenma\", \"verlies\", \"vertrouwen\", \"verwacht\", \"video\", \"vind\", \"vind\", \"vind\", \"vind\", \"vind\", \"vind\", \"vinden\", \"vinden\", \"vinden\", \"vinden\", \"vindt\", \"vindt\", \"vindt\", \"vindt\", \"vindt\", \"volgende\", \"volgers\", \"volgers\", \"volk\", \"volk\", \"volk\", \"volk\", \"voorbeeld\", \"vraag\", \"vraag\", \"vraagt\", \"vragen\", \"vragen\", \"vragen\", \"vragen\", \"vrienden\", \"vrijheid\", \"vrouw\", \"vrouwen\", \"vvd\", \"vvd\", \"vvd\", \"vvd\", \"vvd\", \"vvd\", \"vvd\", \"vvd\", \"vvder\", \"vvders\", \"waar\", \"waar\", \"waar\", \"waar\", \"waar\", \"waar\", \"waarheid\", \"waarom\", \"waarom\", \"waarom\", \"waarom\", \"waarom\", \"waarom\", \"waarom\", \"wantrouwen\", \"wantrouwen\", \"week\", \"weer\", \"weer\", \"weer\", \"weer\", \"weer\", \"weer\", \"weer\", \"weer\", \"weet\", \"weet\", \"weet\", \"weet\", \"weet\", \"weet\", \"weet\", \"weg\", \"weg\", \"wel\", \"wel\", \"wel\", \"wel\", \"wel\", \"wel\", \"wel\", \"wel\", \"wel\", \"wel\", \"wet\", \"weten\", \"weten\", \"wethouder\", \"wethouder\", \"wilde\", \"wilders\", \"wilders\", \"willen\", \"willen\", \"willen\", \"winst\", \"wint\", \"wist\", \"woensdag\", \"wonen\", \"woord\", \"zeg\", \"zeg\", \"zeggen\", \"zegt\", \"zegt\", \"zegt\", \"zegt\", \"zegt\", \"zeker\", \"zelfs\", \"zelfs\", \"zelfs\", \"zetel\", \"zetel\", \"zetels\", \"zetels\", \"zetten\", \"zie\", \"zie\", \"zie\", \"zie\", \"ziet\", \"zijlstra\", \"zijlstra\", \"zijlstradebat\", \"zit\", \"zit\", \"zitten\", \"zojuist\", \"zondag\", \"zorg\", \"zorgen\", \"zorgen\", \"zorgen\", \"zullen\"]}, \"R\": 30, \"lambda.step\": 0.01, \"plot.opts\": {\"xlab\": \"PC1\", \"ylab\": \"PC2\"}, \"topic.order\": [9, 2, 4, 6, 10, 5, 7, 3, 8, 1]};\n",
       "\n",
       "function LDAvis_load_lib(url, callback){\n",
       "  var s = document.createElement('script');\n",
       "  s.src = url;\n",
       "  s.async = true;\n",
       "  s.onreadystatechange = s.onload = callback;\n",
       "  s.onerror = function(){console.warn(\"failed to load library \" + url);};\n",
       "  document.getElementsByTagName(\"head\")[0].appendChild(s);\n",
       "}\n",
       "\n",
       "if(typeof(LDAvis) !== \"undefined\"){\n",
       "   // already loaded: just create the visualization\n",
       "   !function(LDAvis){\n",
       "       new LDAvis(\"#\" + \"ldavis_el13236188066703077664963492\", ldavis_el13236188066703077664963492_data);\n",
       "   }(LDAvis);\n",
       "}else if(typeof define === \"function\" && define.amd){\n",
       "   // require.js is available: use it to load d3/LDAvis\n",
       "   require.config({paths: {d3: \"https://cdnjs.cloudflare.com/ajax/libs/d3/3.5.5/d3.min\"}});\n",
       "   require([\"d3\"], function(d3){\n",
       "      window.d3 = d3;\n",
       "      LDAvis_load_lib(\"https://cdn.rawgit.com/bmabey/pyLDAvis/files/ldavis.v1.0.0.js\", function(){\n",
       "        new LDAvis(\"#\" + \"ldavis_el13236188066703077664963492\", ldavis_el13236188066703077664963492_data);\n",
       "      });\n",
       "    });\n",
       "}else{\n",
       "    // require.js not available: dynamically load d3 & LDAvis\n",
       "    LDAvis_load_lib(\"https://cdnjs.cloudflare.com/ajax/libs/d3/3.5.5/d3.min.js\", function(){\n",
       "         LDAvis_load_lib(\"https://cdn.rawgit.com/bmabey/pyLDAvis/files/ldavis.v1.0.0.js\", function(){\n",
       "                 new LDAvis(\"#\" + \"ldavis_el13236188066703077664963492\", ldavis_el13236188066703077664963492_data);\n",
       "            })\n",
       "         });\n",
       "}\n",
       "</script>"
      ],
      "text/plain": [
       "PreparedData(topic_coordinates=              x         y  topics  cluster       Freq\n",
       "topic                                                \n",
       "8     -0.235727 -0.019871       1        1  11.406444\n",
       "1      0.073169 -0.023926       2        1  10.991837\n",
       "3     -0.187379  0.080264       3        1  10.186020\n",
       "5     -0.180235 -0.164373       4        1  10.163757\n",
       "9      0.097962 -0.121243       5        1  10.113652\n",
       "4      0.053073  0.042956       6        1  10.026821\n",
       "6      0.031421  0.108739       7        1   9.755651\n",
       "2     -0.049468 -0.021870       8        1   9.735170\n",
       "7      0.128550  0.317489       9        1   8.980665\n",
       "0      0.268634 -0.198166      10        1   8.639982, topic_info=      Category           Freq                Term          Total  loglift  \\\n",
       "term                                                                        \n",
       "647    Default   52074.000000                 pvv   52074.000000  30.0000   \n",
       "221    Default   39475.000000                 cda   39475.000000  29.0000   \n",
       "15     Default   36582.000000               rutte   36582.000000  28.0000   \n",
       "34     Default  113552.000000                 vvd  113552.000000  27.0000   \n",
       "640    Default   21426.000000                stem   21426.000000  26.0000   \n",
       "6341   Default   27933.000000            zijlstra   27933.000000  25.0000   \n",
       "66     Default   18569.000000             stemmen   18569.000000  24.0000   \n",
       "13     Default   20023.000000            minister   20023.000000  23.0000   \n",
       "14     Default   13188.000000           ollongren   13188.000000  22.0000   \n",
       "167    Default   14186.000000          democratie   14186.000000  21.0000   \n",
       "61     Default   12273.000000               maart   12273.000000  20.0000   \n",
       "312    Default   39824.000000                pvda   39824.000000  19.0000   \n",
       "305    Default   10217.000000              gewoon   10217.000000  18.0000   \n",
       "774    Default   13786.000000             wilders   13786.000000  17.0000   \n",
       "696    Default    8818.000000                even    8818.000000  16.0000   \n",
       "497    Default   15458.000000           nederland   15458.000000  15.0000   \n",
       "27     Default   34142.000000              partij   34142.000000  14.0000   \n",
       "284    Default    8305.000000                doet    8305.000000  13.0000   \n",
       "285    Default   11497.000000           rotterdam   11497.000000  12.0000   \n",
       "352    Default    8101.000000                 mee    8101.000000  11.0000   \n",
       "165    Default   10401.000000              willen   10401.000000  10.0000   \n",
       "1043   Default    8221.000000               forum    8221.000000   9.0000   \n",
       "1279   Default    9881.000000                 weg    9881.000000   8.0000   \n",
       "1393   Default    7228.000000               lijst    7228.000000   7.0000   \n",
       "430    Default   20727.000000            pechtold   20727.000000   6.0000   \n",
       "4392   Default    8417.000000                kaag    8417.000000   5.0000   \n",
       "757    Default    6614.000000        christenunie    6614.000000   4.0000   \n",
       "249    Default    6478.000000            kamerlid    6478.000000   3.0000   \n",
       "744    Default   24166.000000                denk   24166.000000   2.0000   \n",
       "629    Default    8149.000000              zetels    8149.000000   1.0000   \n",
       "...        ...            ...                 ...            ...      ...   \n",
       "24531  Topic10    1552.234375           stemzeweg    1553.127686   2.4482   \n",
       "1419   Topic10    1550.295898               horen    1551.189209   2.4482   \n",
       "1585   Topic10    1545.690552              racist    1546.583862   2.4482   \n",
       "1192   Topic10    1389.208862              turken    1390.102295   2.4481   \n",
       "12801  Topic10    1339.723999    politieke_midden    1340.617432   2.4481   \n",
       "847    Topic10    1333.446655         demoniseren    1334.339966   2.4481   \n",
       "624    Topic10    1278.850830              meneer    1279.744141   2.4481   \n",
       "1206   Topic10    1217.257446                feit    1218.150879   2.4480   \n",
       "2095   Topic10    1194.226318            nijmegen    1195.119629   2.4480   \n",
       "280    Topic10    1185.141479              moment    1186.034912   2.4480   \n",
       "2391   Topic10    1159.167236             steunen    1160.060669   2.4480   \n",
       "1188   Topic10    1127.967407             massaal    1128.860718   2.4480   \n",
       "5579   Topic10    1070.399658  directe_democratie    1071.293091   2.4479   \n",
       "431    Topic10    3633.295410           penthouse    4356.033203   2.2673   \n",
       "4392   Topic10    6056.283691                kaag    8417.871094   2.1195   \n",
       "13     Topic10   11981.992188            minister   20023.279297   1.9353   \n",
       "555    Topic10    4935.641113               maakt    7378.568359   2.0467   \n",
       "1606   Topic10    2566.824951             uitslag    3382.392090   2.1729   \n",
       "158    Topic10    3986.402100                laat    6833.401367   1.9098   \n",
       "254    Topic10    2967.286377               weten    4448.702148   2.0438   \n",
       "430    Topic10    7679.154785            pechtold   20727.742188   1.4558   \n",
       "17     Topic10    4881.168945                 fvd   13693.409180   1.4172   \n",
       "9      Topic10    4534.972656              alleen   13622.922852   1.3488   \n",
       "27     Topic10    6087.261719              partij   34142.527344   0.7244   \n",
       "463    Topic10    2956.398438            politiek    7947.796875   1.4598   \n",
       "52     Topic10    2816.245850              baudet   11025.623047   1.0840   \n",
       "121    Topic10    3183.812256                 wel   27102.615234   0.3072   \n",
       "128    Topic10    2170.602783               vindt    6801.791016   1.3066   \n",
       "744    Topic10    2405.001709                denk   24166.705078   0.1413   \n",
       "497    Topic10    2060.724121           nederland   15458.710938   0.4337   \n",
       "\n",
       "       logprob  \n",
       "term            \n",
       "647    30.0000  \n",
       "221    29.0000  \n",
       "15     28.0000  \n",
       "34     27.0000  \n",
       "640    26.0000  \n",
       "6341   25.0000  \n",
       "66     24.0000  \n",
       "13     23.0000  \n",
       "14     22.0000  \n",
       "167    21.0000  \n",
       "61     20.0000  \n",
       "312    19.0000  \n",
       "305    18.0000  \n",
       "774    17.0000  \n",
       "696    16.0000  \n",
       "497    15.0000  \n",
       "27     14.0000  \n",
       "284    13.0000  \n",
       "285    12.0000  \n",
       "352    11.0000  \n",
       "165    10.0000  \n",
       "1043    9.0000  \n",
       "1279    8.0000  \n",
       "1393    7.0000  \n",
       "430     6.0000  \n",
       "4392    5.0000  \n",
       "757     4.0000  \n",
       "249     3.0000  \n",
       "744     2.0000  \n",
       "629     1.0000  \n",
       "...        ...  \n",
       "24531  -5.5742  \n",
       "1419   -5.5755  \n",
       "1585   -5.5784  \n",
       "1192   -5.6852  \n",
       "12801  -5.7215  \n",
       "847    -5.7261  \n",
       "624    -5.7680  \n",
       "1206   -5.8173  \n",
       "2095   -5.8364  \n",
       "280    -5.8441  \n",
       "2391   -5.8662  \n",
       "1188   -5.8935  \n",
       "5579   -5.9459  \n",
       "431    -4.7238  \n",
       "4392   -4.2128  \n",
       "13     -3.5305  \n",
       "555    -4.4174  \n",
       "1606   -5.0712  \n",
       "158    -4.6310  \n",
       "254    -4.9263  \n",
       "430    -3.9754  \n",
       "17     -4.4285  \n",
       "9      -4.5021  \n",
       "27     -4.2077  \n",
       "463    -4.9299  \n",
       "52     -4.9785  \n",
       "121    -4.8558  \n",
       "128    -5.2389  \n",
       "744    -5.1364  \n",
       "497    -5.2909  \n",
       "\n",
       "[525 rows x 6 columns], token_table=       Topic      Freq           Term\n",
       "term                                 \n",
       "661        8  0.999776       aandacht\n",
       "3072       8  0.999819       aangifte\n",
       "775        9  0.999360      aanpakken\n",
       "627        6  0.999151         aantal\n",
       "116        5  0.999661       aanwezig\n",
       "10344      7  0.999248      aboutaleb\n",
       "667        3  0.999792             af\n",
       "1282       4  0.999731     afschaffen\n",
       "6501       9  0.999533       aftreden\n",
       "9          3  0.001248         alleen\n",
       "9          4  0.196140         alleen\n",
       "9          5  0.155767         alleen\n",
       "9          6  0.163181         alleen\n",
       "9          8  0.150555         alleen\n",
       "9          9  0.000073         alleen\n",
       "9         10  0.332895         alleen\n",
       "641        4  0.999471         almere\n",
       "4837       4  0.999560         alweer\n",
       "703        1  0.005424            amp\n",
       "703        2  0.031118            amp\n",
       "703        3  0.130467            amp\n",
       "703        4  0.009992            amp\n",
       "703        6  0.108485            amp\n",
       "703        8  0.616366            amp\n",
       "703        9  0.097922            amp\n",
       "272        1  0.000072      amsterdam\n",
       "272        2  0.423365      amsterdam\n",
       "272        3  0.154043      amsterdam\n",
       "272        6  0.182700      amsterdam\n",
       "272        7  0.109649      amsterdam\n",
       "...      ...       ...            ...\n",
       "166        3  0.207148           zegt\n",
       "166        4  0.294012           zegt\n",
       "166       10  0.038988           zegt\n",
       "740        5  0.999863          zeker\n",
       "877        1  0.131778          zelfs\n",
       "877        2  0.152941          zelfs\n",
       "877        4  0.714961          zelfs\n",
       "797        3  0.881251          zetel\n",
       "797        4  0.118483          zetel\n",
       "629        2  0.838955         zetels\n",
       "629        4  0.160993         zetels\n",
       "3238       1  0.999448         zetten\n",
       "314        2  0.141884            zie\n",
       "314        3  0.207726            zie\n",
       "314        8  0.500768            zie\n",
       "314        9  0.149419            zie\n",
       "1366       2  0.999784           ziet\n",
       "6341       1  0.252532       zijlstra\n",
       "6341       4  0.747463       zijlstra\n",
       "9238       9  0.999542  zijlstradebat\n",
       "666        2  0.855094            zit\n",
       "666       10  0.144743            zit\n",
       "2027       2  0.999762         zitten\n",
       "3362       5  0.999635        zojuist\n",
       "1843       1  0.999243         zondag\n",
       "1404       3  0.999689           zorg\n",
       "290        3  0.844075         zorgen\n",
       "290        5  0.000542         zorgen\n",
       "290        6  0.155145         zorgen\n",
       "2115       6  0.999741         zullen\n",
       "\n",
       "[759 rows x 3 columns], R=30, lambda_step=0.01, plot_opts={'xlab': 'PC1', 'ylab': 'PC2'}, topic_order=[9, 2, 4, 6, 10, 5, 7, 3, 8, 1])"
      ]
     },
     "execution_count": 30,
     "metadata": {},
     "output_type": "execute_result"
    }
   ],
   "source": [
    "# Visualize the topics\n",
    "pyLDAvis.enable_notebook()\n",
    "vis = pyLDAvis.gensim.prepare(lda_model, corpus, dictionary)\n",
    "vis"
   ]
  }
 ],
 "metadata": {
  "kernelspec": {
   "display_name": "Python 3",
   "language": "python",
   "name": "python3"
  },
  "language_info": {
   "codemirror_mode": {
    "name": "ipython",
    "version": 3
   },
   "file_extension": ".py",
   "mimetype": "text/x-python",
   "name": "python",
   "nbconvert_exporter": "python",
   "pygments_lexer": "ipython3",
   "version": "3.6.2"
  }
 },
 "nbformat": 4,
 "nbformat_minor": 2
}
