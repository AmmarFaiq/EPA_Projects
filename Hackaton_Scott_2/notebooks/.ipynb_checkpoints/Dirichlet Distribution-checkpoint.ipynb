{
 "cells": [
  {
   "cell_type": "markdown",
   "metadata": {},
   "source": [
    "This is just a quick demo of estimating the Dirichlet distribution."
   ]
  },
  {
   "cell_type": "code",
   "execution_count": 5,
   "metadata": {
    "collapsed": true
   },
   "outputs": [],
   "source": [
    "import dirichlet\n",
    "import numpy as np"
   ]
  },
  {
   "cell_type": "code",
   "execution_count": 11,
   "metadata": {
    "collapsed": true
   },
   "outputs": [],
   "source": [
    "vec=[[22.8,32.4,33.0,0.3,0.8,10.6],\n",
    "      [24.6,27.5,27.9,0.5,0.9,18.6],\n",
    "      [22.3,23.7,19.0,0.8,0.8,33.4],\n",
    "      [16.2,19.4,13.3,0.8,0.6,49.7],\n",
    "      [12.9,14.6,9.8,1.2,0.6,61.0],\n",
    "      [8.1,6.6,3.6,2.4,0.2,79.0],\n",
    "      [3.7,2.7,0.1,1.3,0.1,92.0]]\n",
    " \n",
    "vec=np.array(vec)/100"
   ]
  },
  {
   "cell_type": "code",
   "execution_count": 12,
   "metadata": {},
   "outputs": [
    {
     "name": "stdout",
     "output_type": "stream",
     "text": [
      "[ 1.51336106  1.56198245  0.98491775  0.38249251  0.31460347  3.56308905]\n"
     ]
    }
   ],
   "source": [
    "est = dirichlet.mle(vec)\n",
    "print(est)"
   ]
  }
 ],
 "metadata": {
  "kernelspec": {
   "display_name": "Python 3",
   "language": "python",
   "name": "python3"
  },
  "language_info": {
   "codemirror_mode": {
    "name": "ipython",
    "version": 3
   },
   "file_extension": ".py",
   "mimetype": "text/x-python",
   "name": "python",
   "nbconvert_exporter": "python",
   "pygments_lexer": "ipython3",
   "version": "3.6.2"
  }
 },
 "nbformat": 4,
 "nbformat_minor": 2
}
