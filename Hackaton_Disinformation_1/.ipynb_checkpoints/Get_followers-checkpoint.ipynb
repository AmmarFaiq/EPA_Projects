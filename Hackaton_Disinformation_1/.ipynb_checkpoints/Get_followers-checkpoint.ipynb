{
 "cells": [
  {
   "cell_type": "code",
   "execution_count": null,
   "metadata": {},
   "outputs": [
    {
     "name": "stdout",
     "output_type": "stream",
     "text": [
      "['travelvinesHQ', 'ilhamsyah4', 'roadwish1', 'hanifah932', 'RareHorror', 'ConecteAhora', 'historicalspic', 'DJGTidwell', 'DielemanArnold', 'dinlekazantv', 'C0MEDYVINES', 'DonFranksen1', 'mengeltjezz', 'CIothstyle', 'iral_kyim', 'StemZeWeg', 'MijnLand_MijnNL', 'SchenkersMark', 'croatianUstasa', 'aslo63', 'charlotte101987', 'ReneDeKoningh', 'PeacePoeam', 'fristlovehelp', 'SophistTech1', 'SmashingNosh', 'jjmhulsker', 'spoorhub', 'ImStatusMike', 'Fshn007', 'Fitnessnap', 'dylan_care14', 'marcelcomair', 'Lexandriarose51', 'resitkurtt', 'IreneKorting', 'AlexStoute82', 'CarSellGuru', 'rini_ekarini', 'tuga_victor', 'Davidweismirand', 'BlankeSylvie', 'thehukumdar', 'herseycem', 'yolcunesil_', 'ulkucumedyacom', 'MehmetCanbegOfc', 'Maged10084530', 'enezresmi', 'sassalinl', 'VerbruggeMartin', 'cor_konijn', 'chrisgoagency', 'itsanimalsvines', 'RoelandRuijsch', 'art___11', 'alFranceschi', 'humbertotweets', 'MartinSpoel', 'pieterfromberg', 'ParkedFree', 'SportingGoodies', 'DailyRetriever', 'pomeranianslove', 'itsanimalworld_', 'feedtheone', 'Tejasmanjareka2', 'collagefight', 'lyricsuppIy', 'itsamericancat', 'FlirtyNoteBooks', 'SpacenLights', 'vinayak739', 'TheNaughtyCook', 'noudvankempen', 'Trivaeo', 'SeeTheRoses', 'icoblive', 'amstelveenseweg', 'LindaCa35655913', 'The_Lang_School', 'Sumit36739549', 'Chetan17398444', 'Kunal81532703', 'BlikiIk', 'Powerboxie1', 'labantje', 'Gerritsen_Dan', 'Shubham06061400', 'davutgoksu', 'TheAesthete727', 'nechiporuk777', 'IshwarRamGodara', 'Adorablepicss', 'Omkar84640362', 'K8P3R', 'weef24', 'DrGerritJMulder', 'viipiimusic', 'hACKhASheS', 'ingezzz', 'DIYMiniHome', 'Bart68', 'emazilingfact', 'markvanholland', 'Istambulian', 'loves_reIations', 'Fillinngss', 'BerkhofMarcel', 'itsgirlthinks', 'elle_christelle', 'Crimewatcher1', 'mysterybooks33', 'EZPress', 'freehistorical', 'Sill0501', 'keet0007', 'FrankBerkemeier', 'roland_japin', 'MarjaSpaargaren', 'DANTONOPOULOS2', 'ReporterSyrien', 'wieldep', 'HoningMosterd', 'itsfoodrecipe', 'alexus309', 'sandervanluit', 'aangrybirdd', 'pr0udwhite', 'JuutBizSupport', 'nwzer', 'prfectfeeling', 'SYepper', 'itscutepugsMGWV', 'riffryder', 'LithJeude', 'Dani90xx', 'Ceritm', 'freechristianbk', 'rollemanmos', 'DispereertNo', 'Cathariena1', 'freedark4u', 'RealTouchingPix', 'ojadaswa', 'chalouhielias3', 'BoxsetBooks1', 'Nocolazien1', 'freeyoungadult', 'Historicalspic1', 'amzingfarmhouse', 'funylifepost', 'kidsfreebooks', 'xicx', 'Bosmargriet', 'Jelle_de_haas', 'ZaanseZeikerd', 'marcelzegtniets', 'GBEnglandGB', 'ohhappydaysmom', 'StannyCzachur', 'Geniusatworks', 'freethrillers', 'TheodoricusMosa', 'GaryBolyerArt', 'horenzienenzw', 'EXPCNRO', 'jetendrakumar12', 'Mruedaleon', 'blanacleta1', 'JudithTaat', 'SebCavendish', 'LeadsMade', 'itsreallovese', 'women_coup', 'thegoagency', 'frank_wrong', 'destrafbank', 'clydefitch', 'DickKoudijs', 'BribW', 'JohIdz', 'lungwin99', 'f_w_d_b', 'Dwarskijker1', 'MarnixRijpma', 'Aeolus1969', 'CaribSab', 'Jennleaf', 'Roadofthe_sun', 'Nina2x', 'wiserelations', 'JoisInferno', 'lvd_g', 'medtruth_', 'AKulhan', 'BestPlaceToDo', 'iamdanicalani', 'morgan_ferriter', 'HousesEnergy', 'hypertly', 'FatPandaDesign', '4resist', 'yceek', 'Deniz91606493', 'VeganAddicted', 'bridtalkytalky', 'Nienhuis1', 'ATrueArt', '329YearsAwake', 'xander73207257', 'piejanss', 'TheBooksMsgs', 'ECuenen', 'InfluenceandCo', 'OviNegrean', 'Texelana', 'pdepurno', 'hanspohl01', 'rolfwauben', 'IkkeEg', 'Adrawingpencil', 'YemieIs', 'Cukullen', 'adrimarcotulli', 'Sim64160835', 'Havanah1993', 'GerBStruik', 'dijkweld', 'ikjijhijblijvry', 'Leenderbos2015', 'BorritvDis', 'oconnornoah1', 'SINederland', 'superfoodjunknl', 'mrduckie88', 'TextsNoteBook', 'Animalmemees', 'storyofwar', 'WORDBEAUTlES', 'Flirtynotebook_', 'AMAZLNATURE', 'itslovefeling', 'itslovebeache', 'HistoryToLearnt', 'StudentLifeText', 'alic_sen', 'Earth__pixx', 'pagalworld', 'CroftEdwards', 'm_martinenghi', 'AcquaseriaComo', 'fellzones', 'AadvdSteenoven', 'rossslateruk', 'jack_the_mack_', 'dannyverdonk', 'kevinteriet', 'MlnlTattoos', 'Trump023', 'MehmetQaya', 'defierefries', 'gullielmu', 'MuzammilHatami', '213Karyna', 'Aaahmehoela', 'LazyHans', 'JonathanMills60', 'NedLeeuw', 'helalydia', 'sillieNL', 'elsphi', 'WeGrantYou', 'spacema09104056', 'SafiyaSas', 'BoumanMichel', 'HeerlijkeHappen', 'Schiermonnik00g', 'Footy_Faithful', 'Hitman_VFX', 'stephenhawes2', 'ArianneEijkelen', 'sanderbutter', 'pugsbabiforest', 'PyxisNL', 'ohzitdatzo', 'Animal_Hub', 'Theodorus187', 'StevenArra', 'tuuk58', 'Selvi1976', 'danielblandbiz', 'RoseBartu', 'hold_thepresses', 'AWordText', 'newswise', 'artemis_klin', 'TheTravelvid', 'Bob161916', 'kanka5']\n",
      "We got a timeout ... Sleeping for 15 minutes\n"
     ]
    }
   ],
   "source": [
    "import time\n",
    "import tweepy\n",
    "\n",
    "consumer_key= '0YJQlQtmUf0Y6N7NVu5rA33fk'\n",
    "consumer_secret= 'bduF2iguZjQSkq6G17jsX0yax9ICOcLWNYUicR99b51GLzeNam'\n",
    "access_key= '1017116258-GUN3YAWrElxuVDDkeazQui0rhOsuR08UNgIRYg2'\n",
    "access_secret= 'My6igTJbpw1nHtNwid3P9qksNicScwLxTlGrkFcDuTK53'\n",
    "\n",
    "auth = tweepy.auth.OAuthHandler(consumer_key, consumer_secret)\n",
    "auth.set_access_token(access_key, access_secret)\n",
    "api = tweepy.API(auth)\n",
    "\n",
    "id_to_search= \"BLIKOPENER333\"\n",
    "\n",
    "ids = []\n",
    "\n",
    "user  = tweepy.Cursor(api.followers, screen_name = id_to_search).items()\n",
    "\n",
    "while True:\n",
    "    try:\n",
    "        u = next(user)\n",
    "        ids.append(u.screen_name)\n",
    "        \n",
    "    except tweepy.TweepError:\n",
    "        print(ids)\n",
    "        print ('We got a timeout ... Sleeping for 20 minutes')\n",
    "        time.sleep(20*60)\n",
    "        \n",
    "        continue\n",
    "        \n",
    "    except StopIteration:\n",
    "        print(ids)\n",
    "        print ('We Stop the Iteration')\n",
    "        \n",
    "        break"
   ]
  },
  {
   "cell_type": "code",
   "execution_count": 4,
   "metadata": {},
   "outputs": [],
   "source": [
    "thefile = open(id_to_search +'_'+'followers'+'.txt', 'w')\n",
    "\n",
    "for item in ids:\n",
    "    thefile.write(\"%s\\n\" % item)\n",
    "    \n",
    "thefile.close()"
   ]
  }
 ],
 "metadata": {
  "kernelspec": {
   "display_name": "Python 3",
   "language": "python",
   "name": "python3"
  },
  "language_info": {
   "codemirror_mode": {
    "name": "ipython",
    "version": 3
   },
   "file_extension": ".py",
   "mimetype": "text/x-python",
   "name": "python",
   "nbconvert_exporter": "python",
   "pygments_lexer": "ipython3",
   "version": "3.6.1"
  }
 },
 "nbformat": 4,
 "nbformat_minor": 2
}
