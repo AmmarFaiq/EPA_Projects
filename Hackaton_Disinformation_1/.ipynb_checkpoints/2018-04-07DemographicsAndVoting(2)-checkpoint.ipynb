{
 "cells": [
  {
   "cell_type": "markdown",
   "metadata": {},
   "source": [
    "# Creating profiles of the ditricts"
   ]
  },
  {
   "cell_type": "code",
   "execution_count": 1,
   "metadata": {},
   "outputs": [],
   "source": [
    "import numpy as np\n",
    "import pandas as pd\n",
    "import os\n",
    " \n",
    "from sklearn.preprocessing import MinMaxScaler, MaxAbsScaler, RobustScaler, Normalizer\n",
    "from sklearn.cluster import KMeans\n",
    "from sklearn.decomposition import PCA\n",
    "from sklearn.decomposition import NMF\n",
    "\n",
    "import seaborn as sns\n",
    "import matplotlib.pyplot as plt\n",
    "\n",
    "from string import ascii_letters\n",
    "\n",
    "import os\n",
    "os.chdir(os.getcwd())"
   ]
  },
  {
   "cell_type": "markdown",
   "metadata": {},
   "source": [
    "## I. Data preprocessing"
   ]
  },
  {
   "cell_type": "markdown",
   "metadata": {},
   "source": [
    "### 1. Load data"
   ]
  },
  {
   "cell_type": "code",
   "execution_count": 2,
   "metadata": {},
   "outputs": [],
   "source": [
    "# Import basic dataset\n",
    "data = pd.read_excel('District demographics 2014.xls', sheetname = 'List_1')\n",
    "\n",
    "# Extended dataset with enterprises\n",
    "# data = pd.read_excel('New Data Sets\\District Demographics 2014.xls', sheetname = 'List_5')"
   ]
  },
  {
   "cell_type": "code",
   "execution_count": 3,
   "metadata": {
    "scrolled": true
   },
   "outputs": [],
   "source": [
    "# Create a dataframe\n",
    "df = pd.DataFrame(data = data)\n",
    "\n",
    "# Filling NaNs with zeors\n",
    "df = df.fillna(0)\n",
    "\n",
    "# Remember the names of the distrcits\n",
    "district_names = df.index"
   ]
  },
  {
   "cell_type": "markdown",
   "metadata": {},
   "source": [
    "### 2. Standardization"
   ]
  },
  {
   "cell_type": "code",
   "execution_count": 4,
   "metadata": {},
   "outputs": [],
   "source": [
    "# Standardizing population data\n",
    "delimiter = df['Number of residents']\n",
    "for i in range(1, 22):\n",
    "    df[df.columns[i]] = df[df.columns[i]] / delimiter\n",
    "\n",
    "# Standardizing household data\n",
    "delimiter = df['Number of households']\n",
    "for i in range(23, 31):\n",
    "    df[df.columns[i]] = df[df.columns[i]] / delimiter\n",
    "    \n",
    "# Standardizing enterprises data\n",
    "# delimiter = df['Number of offices']\n",
    "# for i in range(33,52):\n",
    "#     df[df.columns[i]] = df[df.columns[i]] / delimiter"
   ]
  },
  {
   "cell_type": "code",
   "execution_count": 5,
   "metadata": {},
   "outputs": [],
   "source": [
    "# Dropping out irrelevant columns\n",
    "df = df.drop(['Number of residents', 'Number of households'], axis = 1)\n",
    "# df = df.drop(['Number of residents', 'Number of households', 'Number of offices'], axis = 1)\n",
    "df = df.drop(['01 Oostduinen'], axis = 0)\n",
    "df = df.replace([np.inf, -np.inf], np.nan)\n",
    "df = df.fillna(0)\n",
    "\n",
    "# Obtaining names for further plotting\n",
    "feature_names = df.index\n",
    "factor_names =  df.columns"
   ]
  },
  {
   "cell_type": "markdown",
   "metadata": {},
   "source": [
    "### 3. Rescale data"
   ]
  },
  {
   "cell_type": "code",
   "execution_count": 6,
   "metadata": {},
   "outputs": [],
   "source": [
    "# Probably, we can consider only results obtained by using MinMaxScaler and MaxAbsScaler\n",
    "# in theses cases reults makes sense\n",
    "\n",
    "# Scale values from 0 to 1\n",
    "# Scaling happens by column wise\n",
    "scaler = MinMaxScaler(feature_range = (0, 1))\n",
    "df = scaler.fit_transform(df)\n",
    "\n",
    "# Scale each feature by its maximum absolute value.\n",
    "# scaler = MaxAbsScaler()\n",
    "# df = scaler.fit_transform(df)\n",
    "\n",
    "# Robust scaler\n",
    "# scaler = RobustScaler()\n",
    "# df = scaler.fit_transform(df)\n",
    "\n",
    "# Normalizer\n",
    "# Normalization happens by row \n",
    "# scaler = Normalizer()\n",
    "# df = scaler.fit_transform(df)"
   ]
  },
  {
   "cell_type": "markdown",
   "metadata": {},
   "source": [
    "### 4. Exploring data with PCA"
   ]
  },
  {
   "cell_type": "code",
   "execution_count": 7,
   "metadata": {},
   "outputs": [
    {
     "data": {
      "image/png": "[encoded data removed]",
      "text/plain": [
       "<matplotlib.figure.Figure at 0x291ffcda8d0>"
      ]
     },
     "metadata": {},
     "output_type": "display_data"
    }
   ],
   "source": [
    "# It seems that PCA cannot be applied due to specific nature of the task \n",
    "pca = PCA()\n",
    "\n",
    "# Fit the data to the model\n",
    "pca.fit(df)\n",
    "\n",
    "# Plot the explained variances\n",
    "features = range(pca.n_components_)\n",
    "features\n",
    "plt.bar(features, pca.explained_variance_)\n",
    "plt.xlabel('PCA feature')\n",
    "plt.ylabel('variance')\n",
    "plt.xticks(features)\n",
    "plt.show()"
   ]
  },
  {
   "cell_type": "markdown",
   "metadata": {},
   "source": [
    "### 5. Apply NMF"
   ]
  },
  {
   "cell_type": "code",
   "execution_count": 8,
   "metadata": {
    "scrolled": false
   },
   "outputs": [],
   "source": [
    "n_components = 7\n",
    "model = NMF(n_components = n_components)\n",
    "model.fit(df)\n",
    "nmf_features = model.transform(df)\n",
    "components = model.components_\n",
    "\n",
    "W = nmf_features\n",
    "H = components\n",
    "\n",
    "W_df = pd.DataFrame(index = feature_names, columns = list(range(0, n_components)))\n",
    "H_df = pd.DataFrame(index = list(range(0, n_components)) , columns = factor_names)\n",
    "\n",
    "W_df.loc[:,:] = W\n",
    "H_df.loc[:,:] = H"
   ]
  },
  {
   "cell_type": "markdown",
   "metadata": {},
   "source": [
    "### 6. Plot clustermaps before standardization"
   ]
  },
  {
   "cell_type": "code",
   "execution_count": 11,
   "metadata": {
    "scrolled": false
   },
   "outputs": [
    {
     "name": "stderr",
     "output_type": "stream",
     "text": [
      "D:\\Anaconda\\lib\\site-packages\\matplotlib\\cbook.py:136: MatplotlibDeprecationWarning: The axisbg attribute was deprecated in version 2.0. Use facecolor instead.\n",
      "  warnings.warn(message, mplDeprecation, stacklevel=1)\n"
     ]
    },
    {
     "data": {
      "image/png": "[encoded data removed]",
      "text/plain": [
       "<matplotlib.figure.Figure at 0x29180097d30>"
      ]
     },
     "metadata": {},
     "output_type": "display_data"
    }
   ],
   "source": [
    "# Components - properties\n",
    "sns.clustermap(H_df, figsize = [10,16])\n",
    "plt.show()"
   ]
  },
  {
   "cell_type": "code",
   "execution_count": null,
   "metadata": {},
   "outputs": [],
   "source": [
    "# Exploring correlations within the matrices\n",
    "sns.set(style=\"white\")\n",
    "\n",
    "# Setting up a dataframe to explore\n",
    "# Variables\n",
    "d = pd.DataFrame(H_df)\n",
    "\n",
    "# Profiles\n",
    "# d = pd.DataFrame(H_df.T)\n",
    "\n",
    "# Compute the correlation matrix\n",
    "corr = d.corr()\n",
    "\n",
    "# Generate a mask for the upper triangle\n",
    "mask = np.zeros_like(corr, dtype=np.bool)\n",
    "mask[np.triu_indices_from(mask)] = True\n",
    "\n",
    "# Set up the matplotlib figure\n",
    "f, ax = plt.subplots(figsize=(11, 9))\n",
    "\n",
    "# Generate a custom diverging colormap\n",
    "cmap = sns.diverging_palette(220, 10, as_cmap=True)\n",
    "\n",
    "# Draw the heatmap with the mask and correct aspect ratio\n",
    "sns.heatmap(corr, mask=mask, cmap=cmap, vmax=.3, center=0,\n",
    "            square=True, linewidths=.5, cbar_kws={\"shrink\": .5})\n",
    "plt.show()"
   ]
  },
  {
   "cell_type": "code",
   "execution_count": null,
   "metadata": {},
   "outputs": [],
   "source": [
    "# Exploring correlations within the matrices\n",
    "sns.set(style=\"white\")\n",
    "\n",
    "# Setting up a dataframe to explore\n",
    "# Variables\n",
    "# d = pd.DataFrame(H_df)\n",
    "\n",
    "# Profiles\n",
    "d = pd.DataFrame(H_df.T)\n",
    "\n",
    "# Compute the correlation matrix\n",
    "corr = d.corr()\n",
    "\n",
    "# Generate a mask for the upper triangle\n",
    "mask = np.zeros_like(corr, dtype=np.bool)\n",
    "mask[np.triu_indices_from(mask)] = True\n",
    "\n",
    "# Set up the matplotlib figure\n",
    "f, ax = plt.subplots(figsize=(11, 9))\n",
    "\n",
    "# Generate a custom diverging colormap\n",
    "cmap = sns.diverging_palette(220, 10, as_cmap=True)\n",
    "\n",
    "# Draw the heatmap with the mask and correct aspect ratio\n",
    "sns.heatmap(corr, mask=mask, cmap=cmap, vmax=.3, center=0,\n",
    "            square=True, linewidths=.5, cbar_kws={\"shrink\": .5})\n",
    "plt.show()"
   ]
  },
  {
   "cell_type": "code",
   "execution_count": null,
   "metadata": {
    "scrolled": false
   },
   "outputs": [],
   "source": [
    "# Features - districts\n",
    "sns.clustermap(W_df, figsize = [16, 10], annot = True)\n",
    "plt.show()"
   ]
  },
  {
   "cell_type": "markdown",
   "metadata": {},
   "source": [
    "### 7. Second itertaion of standardization"
   ]
  },
  {
   "cell_type": "code",
   "execution_count": null,
   "metadata": {},
   "outputs": [],
   "source": [
    "# # Reshaping the data between 0 and 1\n",
    "# W_df['Total'] =  W_df.apply(lambda x: x.sum(), axis = 1)\n",
    "# W_df = W_df.iloc[:,0:7].div(W_df.Total, axis = 0).fillna(0)\n",
    "# # Check the results\n",
    "# # W_df.apply(lambda x: x.sum(), axis = 1)\n",
    "\n",
    "# H_df.loc['Total'] =  H_df.apply(lambda x: x.sum(), axis = 0)\n",
    "# H_df = H_df.iloc[:,0:29].div(H_df.loc['Total'], axis = 1).fillna(0)\n",
    "# H_df = H_df.drop(['Total'])\n",
    "# # Check the results\n",
    "# # H_df.apply(lambda x: x.sum(), axis = 0)"
   ]
  },
  {
   "cell_type": "markdown",
   "metadata": {},
   "source": [
    "### 8. Identify number of clusters using K-means and inertia values"
   ]
  },
  {
   "cell_type": "code",
   "execution_count": null,
   "metadata": {
    "scrolled": true
   },
   "outputs": [],
   "source": [
    "# \n",
    "ks = range(1, 10)\n",
    "inertias = []\n",
    "\n",
    "for k in ks:\n",
    "    # Create a KMeans instance with k clusters: model\n",
    "    model = KMeans(n_clusters = k)\n",
    "    \n",
    "    # Fit model to samples\n",
    "    model.fit(W_df)\n",
    "    \n",
    "    # Append the inertia to the list of inertias\n",
    "    inertias.append(model.inertia_)\n",
    "    \n",
    "# Plot ks vs inertias\n",
    "plt.plot(ks, inertias, '-o')\n",
    "plt.xlabel('Number of clusters, k')\n",
    "plt.ylabel('Inertia')\n",
    "plt.xticks(ks)\n",
    "plt.show()"
   ]
  },
  {
   "cell_type": "markdown",
   "metadata": {},
   "source": [
    "### 9. Cluster districts based on demographic profiles"
   ]
  },
  {
   "cell_type": "code",
   "execution_count": null,
   "metadata": {},
   "outputs": [],
   "source": [
    "model = KMeans(n_clusters = 7)\n",
    "W_df['Cluster'] = model.fit_predict(W_df)"
   ]
  },
  {
   "cell_type": "markdown",
   "metadata": {},
   "source": [
    "## II. Plotting results on map"
   ]
  },
  {
   "cell_type": "code",
   "execution_count": null,
   "metadata": {},
   "outputs": [],
   "source": [
    "# Uploading necessary packages\n",
    "import fiona\n",
    "import matplotlib.pyplot as plt\n",
    "import bokeh\n",
    "from bokeh.io import output_notebook, show\n",
    "from bokeh.plotting import figure\n",
    "from bokeh.models import ColumnDataSource, HoverTool\n",
    "output_notebook()\n",
    "# from bokeh.plotting import *\n",
    "import shapefile\n",
    "from shapely.geometry import shape\n",
    "import geopandas as gpd \n",
    "\n",
    "from bokeh.plotting import figure"
   ]
  },
  {
   "cell_type": "code",
   "execution_count": null,
   "metadata": {},
   "outputs": [],
   "source": [
    "# # The idea is to get coordinates of the districts and put there piecharts\n",
    "geo_df = gpd.read_file('Wijkgrenzen_Den_Haag/Wijkgrenzen_Den_Haag.shp')\n",
    "\n",
    "# # Get the centers of the districts\n",
    "centers = geo_df.centroid"
   ]
  },
  {
   "cell_type": "code",
   "execution_count": null,
   "metadata": {
    "scrolled": true
   },
   "outputs": [],
   "source": [
    "# # Get coordinates of district boundaries\n",
    "# shape_file = fiona.open('Wijkgrenzen_Den_Haag/Wijkgrenzen_Den_Haag.shp')\n",
    "\n",
    "# # Get the next item (district) \n",
    "# Leidschenveen = shape_file.next()\n",
    "\n",
    "# # Get district name\n",
    "# # Leidschenveen['properties']['WIJKNAAM']\n",
    "\n",
    "# # Plot the shape\n",
    "# shape(Leidschenveen['geometry'])\n",
    "\n",
    "# # Get the bounds\n",
    "# # shape(Leidschenveen['geometry']).bounds\n",
    "\n",
    "# # Get first pair of coordinates\n",
    "# # Leidschenveen['geometry']['coordinates'][0][0]"
   ]
  },
  {
   "cell_type": "code",
   "execution_count": null,
   "metadata": {},
   "outputs": [],
   "source": [
    "# Another way to process the data\n",
    "sh = shapefile.Reader('Wijkgrenzen_Den_Haag/Wijkgrenzen_Den_Haag.shp')\n",
    "\n",
    "# Get shapefile records \n",
    "sh_recs = sh.records()\n",
    "\n",
    "# \n",
    "district_names = list()\n",
    "\n",
    "# Get the names in the order that they stored\n",
    "for i in range(len(sh_recs)):\n",
    "    district_names.append(sh_recs[i][2])\n",
    "\n",
    "# Get the coordinates\n",
    "district_coors = [s.points for s in sh.shapes()]\n",
    "\n",
    "lons_combined = np.empty((44, 0)).tolist()\n",
    "lats_combined = np.empty((44, 0)).tolist() \n",
    "for i in range(len(district_coors)):\n",
    "    for j in range(len(district_coors[i])):\n",
    "        lons_combined[i].append(district_coors[i][j][0])\n",
    "        lats_combined[i].append(district_coors[i][j][1])"
   ]
  },
  {
   "cell_type": "code",
   "execution_count": null,
   "metadata": {
    "scrolled": false
   },
   "outputs": [],
   "source": [
    "from bokeh.io import show\n",
    "from bokeh.models import ColumnDataSource, HoverTool, LogColorMapper, LinearColorMapper\n",
    "from bokeh.palettes import Plasma6 as palette\n",
    "from bokeh.plotting import figure\n",
    "\n",
    "# palette = ['#CC3300', '#CF3C09',  '#D14411',  '#D44D1A',  '#D65523', '#D95E2B', '#DB6634',  \n",
    "#            '#DE6F3D',  '#E07745',  '#E3804E',  '#E68856',  '#E8915F', '#EB9A68',  '#EDA270', \n",
    "#            '#F0AB79',  '#F2B382',  '#F5BC8A',  '#F7C493',  '#FACD9C',  '#FCD5A4',  '#FFDEAD']\n",
    "\n",
    "palette = palette\n",
    "palette.reverse()\n",
    "\n",
    "color_mapper = LinearColorMapper(palette=palette)\n",
    "\n",
    "source = ColumnDataSource(data=dict(\n",
    "    x = lons_combined,\n",
    "    y = lats_combined,\n",
    "    name = district_names,\n",
    "    cluster = W_df['Cluster'],\n",
    "))\n",
    "\n",
    "TOOLS = \"pan, wheel_zoom, reset, hover, save\"\n",
    "\n",
    "p = figure(\n",
    "    title = \"Den Haag, ...\", tools = TOOLS,\n",
    "    x_axis_location = None, y_axis_location = None\n",
    ")\n",
    "\n",
    "p.grid.grid_line_color = None\n",
    "\n",
    "p.patches('x', 'y', source=source,\n",
    "          fill_color={'field': 'cluster', 'transform': color_mapper},\n",
    "          fill_alpha=0.9, line_color=\"white\", line_width=0.5)\n",
    "\n",
    "hover = p.select_one(HoverTool)\n",
    "hover.point_policy = \"follow_mouse\"\n",
    "hover.tooltips = [\n",
    "    (\"District\", \"@name\"),\n",
    "    (\"Cluster number\", \"@cluster\")\n",
    "#     (\"(Long, Lat)\", \"($x, $y)\"),\n",
    "]\n",
    "show(p)"
   ]
  },
  {
   "cell_type": "code",
   "execution_count": null,
   "metadata": {},
   "outputs": [],
   "source": [
    "# Second way of presenting results\n",
    "# source = ColumnDataSource(data=dict(\n",
    "#     x = lons_combined,\n",
    "#     y = lats_combined,\n",
    "#     name = district_names\n",
    "# ))\n",
    "\n",
    "# TOOLS = \"pan, wheel_zoom, reset, hover, save\"\n",
    "\n",
    "# p = figure(\n",
    "#     title = \"Den Haag\", tools = TOOLS,\n",
    "#     x_axis_location = None, y_axis_location = None\n",
    "# )\n",
    "\n",
    "# p.grid.grid_line_color = None\n",
    "\n",
    "# p.patches('x', 'y', source=source,\n",
    "# #          fill_color={'field': 'population', 'transform': color_mapper},\n",
    "# #          fill_color={'transform': color_mapper},\n",
    "#           fill_color = 'lightsteelblue', \n",
    "#           fill_alpha=1, line_color=\"black\", line_width=0.5)\n",
    "\n",
    "# hover = p.select_one(HoverTool)\n",
    "# hover.point_policy = \"follow_mouse\"\n",
    "# hover.tooltips = [\n",
    "#     (\"Name\", \"@name\")\n",
    "# #     (\"Population of the district\", \"@population\")\n",
    "# #     (\"(Long, Lat)\", \"($x, $y)\"),\n",
    "# ]\n",
    "\n",
    "\n",
    "# # define starts/ends for wedges from percentages of a circle\n",
    "# percents = [0, 0.3, 0.4, 0.6, 0.9, 1]\n",
    "# starts = [p*2*np.pi for p in percents[:-1]]\n",
    "# ends = [p*2*np.pi for p in percents[1:]]\n",
    "\n",
    "# # a color for each pie piece\n",
    "# colors = [\"red\", \"green\", \"blue\", \"orange\", \"yellow\"]\n",
    "\n",
    "# n = len(district_names)\n",
    "# i = 0\n",
    "# for i in range(0, n) : \n",
    "#     p.wedge(x=centers.x[i], y=centers.y[i], radius=0.0035, start_angle=starts, end_angle=ends, color=colors)\n",
    "\n",
    "# show(p, notebook_handle=True)"
   ]
  },
  {
   "cell_type": "markdown",
   "metadata": {},
   "source": [
    "# Creating voting profiles"
   ]
  },
  {
   "cell_type": "markdown",
   "metadata": {},
   "source": [
    "## I. Data preprocessing"
   ]
  },
  {
   "cell_type": "markdown",
   "metadata": {},
   "source": [
    "### 1. Load data"
   ]
  },
  {
   "cell_type": "code",
   "execution_count": null,
   "metadata": {},
   "outputs": [],
   "source": [
    "# Read csv file\n",
    "voting_data ='Voting 2014.csv'\n",
    "\n",
    "# Convert csv to dataframe\n",
    "df_voting  = pd.read_csv(voting_data, index_col = None, header = 0)\n",
    "df_voting = df_voting.set_index('Wijken')"
   ]
  },
  {
   "cell_type": "code",
   "execution_count": null,
   "metadata": {},
   "outputs": [],
   "source": [
    "# df_voting.head()\n",
    "# The following districts have zeros in their voting data\n",
    "# '01 Oostduinen'\n",
    "# '24 Haagse Bos'\n",
    "# '35 Zuiderpark'\n",
    "# '43 Forepark'"
   ]
  },
  {
   "cell_type": "code",
   "execution_count": null,
   "metadata": {},
   "outputs": [],
   "source": [
    "# Calculate the sum for each district\n",
    "df_voting['Total'] =  df_voting.apply(lambda x: x.sum(), axis = 1)\n",
    "\n",
    "# Fill NaNs\n",
    "df_voting = df_voting.fillna(0)\n",
    "\n",
    "print('Number of districts in the dataset:', len(df_voting))\n",
    "print('Number of political parties:', len(df_voting.columns) - 1)"
   ]
  },
  {
   "cell_type": "markdown",
   "metadata": {},
   "source": [
    "### 2. Standartization"
   ]
  },
  {
   "cell_type": "code",
   "execution_count": null,
   "metadata": {
    "scrolled": true
   },
   "outputs": [],
   "source": [
    "# Standartize the voting based on its value divided by total value\n",
    "df_voting = df_voting.loc[:,'PvdA':'TerLin'].div(df_voting['Total'], axis = 0).fillna(0)"
   ]
  },
  {
   "cell_type": "markdown",
   "metadata": {},
   "source": [
    "### 3. Apply NMF"
   ]
  },
  {
   "cell_type": "code",
   "execution_count": null,
   "metadata": {},
   "outputs": [],
   "source": [
    "# Fit dataframe into NMF \n",
    "n_components = 7\n",
    "\n",
    "model = NMF(n_components = n_components)\n",
    "model.fit(df_voting)\n",
    "nmf_features = model.transform(df_voting)\n",
    "components = model.components_\n",
    "\n",
    "W = nmf_features\n",
    "H = components\n",
    "\n",
    "district_names = df_voting.index\n",
    "variable_names = df_voting.columns\n",
    "\n",
    "W_df_voting = pd.DataFrame(index = district_names, columns = list(range(0, n_components)))\n",
    "H_df_voting = pd.DataFrame(index =  list(range(0, n_components)) , columns = variable_names)\n",
    "\n",
    "# fit the dataframe with its coresponding name\n",
    "W_df_voting.loc[:,:] = W\n",
    "H_df_voting.loc[:,:] = H"
   ]
  },
  {
   "cell_type": "markdown",
   "metadata": {},
   "source": [
    "### 4. Second itertaion of standardization"
   ]
  },
  {
   "cell_type": "code",
   "execution_count": null,
   "metadata": {},
   "outputs": [],
   "source": [
    "W_df_voting['Total'] =  W_df_voting.apply(lambda x: x.sum(), axis = 1)\n",
    "W_df_voting = W_df_voting.iloc[:,0:7].div(W_df_voting.Total, axis = 0) .fillna(0)\n",
    "\n",
    "H_df_voting['Total'] =  H_df_voting.apply(lambda x: x.sum(), axis = 1)\n",
    "H_df_voting = H_df_voting.iloc[:,0:19].div(H_df_voting.Total, axis=0).fillna(0)\n",
    "\n",
    "# Check the results\n",
    "# W_df_voting.apply(lambda x: x.sum(), axis = 1)\n",
    "# H_df_voting.apply(lambda x: x.sum(), axis = 1)"
   ]
  },
  {
   "cell_type": "markdown",
   "metadata": {},
   "source": [
    "### 5. Plot clustermaps"
   ]
  },
  {
   "cell_type": "code",
   "execution_count": null,
   "metadata": {
    "scrolled": false
   },
   "outputs": [],
   "source": [
    "plt.figure(figsize = (16,10))\n",
    "sns.clustermap(H_df_voting.T, annot = True)\n",
    "plt.show()"
   ]
  },
  {
   "cell_type": "code",
   "execution_count": null,
   "metadata": {},
   "outputs": [],
   "source": [
    "plt.figure(figsize = (16,10))\n",
    "sns.heatmap(W_df_voting, robust = True ,annot = True)\n",
    "plt.show()"
   ]
  },
  {
   "cell_type": "markdown",
   "metadata": {},
   "source": [
    "### 6. Cluster districts based on voting profiles"
   ]
  },
  {
   "cell_type": "code",
   "execution_count": null,
   "metadata": {},
   "outputs": [],
   "source": [
    "# Gaussian mixture model\n",
    "# H_df_voting = H_df_voting.T\n",
    "# gmm2 = GaussianMixture(n_components=8).fit(H_df_voting)\n",
    "# cluster = gmm2.predict(H_df_voting)\n",
    "# H_df_voting['Cluster']= cluster\n",
    "# H_df_voting\n",
    "\n",
    "# K-means\n",
    "model = KMeans(n_clusters = 7)\n",
    "W_df_voting['Cluster'] = model.fit_predict(W_df_voting)"
   ]
  },
  {
   "cell_type": "code",
   "execution_count": null,
   "metadata": {},
   "outputs": [],
   "source": [
    "# Drop \"irrelevant\" distrtics\n",
    "W_df_voting = W_df_voting.drop(['01 Oostduinen'])"
   ]
  },
  {
   "cell_type": "markdown",
   "metadata": {},
   "source": [
    "# Predicting voting behavior using demographics data"
   ]
  },
  {
   "cell_type": "markdown",
   "metadata": {},
   "source": [
    "## I. Multiple linear regressioon"
   ]
  },
  {
   "cell_type": "code",
   "execution_count": null,
   "metadata": {},
   "outputs": [],
   "source": [
    "from sklearn.cross_validation import train_test_split\n",
    "from sklearn.linear_model import LinearRegression, LogisticRegression\n",
    "from sklearn import metrics"
   ]
  },
  {
   "cell_type": "code",
   "execution_count": null,
   "metadata": {
    "scrolled": false
   },
   "outputs": [],
   "source": [
    "# Together with getting prediction, we're going to study the quality of obtained results\n",
    "\n",
    "# Loop by the number of dependent variables \n",
    "for i in range(n_components):\n",
    "    # Define predictors and predictive variables\n",
    "    X = W_df.iloc[:,:].values\n",
    "    y = W_df_voting[i].values\n",
    "\n",
    "    # Split X and y variables into train and test sets\n",
    "    X_train, X_test, y_train, y_test = train_test_split(X, y, test_size = 0.2, random_state = 0)\n",
    "    # X_train.shape, X_test.shape\n",
    "\n",
    "    # Apply algorithm\n",
    "    regressor = LinearRegression()\n",
    "    regressor.fit(X_train, y_train)\n",
    "\n",
    "    # Predict y\n",
    "    y_pred = regressor.predict(X_test)\n",
    "    \n",
    "    # Get the metrics to analyze results\n",
    "    print('Profile number : ', i)\n",
    "    print('Intercept : ', regressor.intercept_)\n",
    "    print('R-Squared : ', metrics.r2_score(y_test, y_pred))\n",
    "    print('Explained variance : ', metrics.explained_variance_score(y_test, y_pred)) \n",
    "#     print('Mean absoulute error : ', metrics.mean_absolute_error(y_test, y_pred)) \n",
    "    print('')"
   ]
  },
  {
   "cell_type": "markdown",
   "metadata": {},
   "source": [
    "## II. SVR"
   ]
  },
  {
   "cell_type": "code",
   "execution_count": null,
   "metadata": {},
   "outputs": [],
   "source": [
    "from sklearn.preprocessing import StandardScaler\n",
    "from sklearn.svm import SVR"
   ]
  },
  {
   "cell_type": "code",
   "execution_count": null,
   "metadata": {
    "scrolled": false
   },
   "outputs": [],
   "source": [
    "for i in range(n_components):\n",
    "    X = W_df.iloc[:,:].values\n",
    "    y = W_df_voting[i].values\n",
    "    \n",
    "    y = y.reshape(-1, 1)\n",
    "    \n",
    "    sc_X = StandardScaler()\n",
    "    sc_y = StandardScaler()\n",
    "    X = sc_X.fit_transform(X)\n",
    "    y = sc_y.fit_transform(y)\n",
    "    \n",
    "    regressor = SVR(kernel = 'rbf')\n",
    "    regressor.fit(X, y)\n",
    "    print('Profile number : ', i)\n",
    "    print('R-Squared', regressor.score(X, y))\n",
    "    print('')\n",
    "    \n",
    "    # Getting the results\n",
    "    y_pred = regressor.predict(X)\n",
    "    y_pred = sc_y.inverse_transform(y_pred)"
   ]
  },
  {
   "cell_type": "markdown",
   "metadata": {},
   "source": [
    "# Working with recent data"
   ]
  },
  {
   "cell_type": "markdown",
   "metadata": {},
   "source": [
    "## I. Demographics"
   ]
  },
  {
   "cell_type": "markdown",
   "metadata": {},
   "source": [
    "### 1. Load data "
   ]
  },
  {
   "cell_type": "code",
   "execution_count": null,
   "metadata": {},
   "outputs": [],
   "source": [
    "# Import recent dataset\n",
    "data = pd.read_excel('District demographics 2017.xls', sheetname = 'List_1')\n",
    "\n",
    "# Create a dataframe\n",
    "df = pd.DataFrame(data = data)\n",
    "\n",
    "# Filling NaNs with zeors\n",
    "df = df.fillna(0)\n",
    "\n",
    "# Remember the names of the distrcits\n",
    "district_names = df.index"
   ]
  },
  {
   "cell_type": "markdown",
   "metadata": {},
   "source": [
    "### 2. Standatrization"
   ]
  },
  {
   "cell_type": "code",
   "execution_count": null,
   "metadata": {},
   "outputs": [],
   "source": [
    "# Standardizing population data\n",
    "delimiter = df['Number of residents']\n",
    "for i in range(1, 22):\n",
    "    df[df.columns[i]] = df[df.columns[i]] / delimiter\n",
    "\n",
    "# Standardizing household data\n",
    "delimiter = df['Number of households']\n",
    "for i in range(23, 31):\n",
    "    df[df.columns[i]] = df[df.columns[i]] / delimiter"
   ]
  },
  {
   "cell_type": "code",
   "execution_count": null,
   "metadata": {},
   "outputs": [],
   "source": [
    "# Dropping out irrelevant columns\n",
    "df = df.drop(['Number of residents', 'Number of households'], axis = 1)\n",
    "df = df.drop(['01 Oostduinen'], axis = 0)\n",
    "df = df.replace([np.inf, -np.inf], np.nan)\n",
    "df = df.fillna(0)\n",
    "\n",
    "# Obtaining names for further plotting\n",
    "feature_names = df.index\n",
    "factor_names =  df.columns"
   ]
  },
  {
   "cell_type": "markdown",
   "metadata": {},
   "source": [
    "### 3. Rescale data"
   ]
  },
  {
   "cell_type": "code",
   "execution_count": null,
   "metadata": {},
   "outputs": [],
   "source": [
    "# Scale values from 0 to 1\n",
    "# Scaling happens by column wise\n",
    "scaler = MinMaxScaler(feature_range = (0, 1))\n",
    "df = scaler.fit_transform(df)"
   ]
  },
  {
   "cell_type": "markdown",
   "metadata": {},
   "source": [
    "### 4. Apply NMF"
   ]
  },
  {
   "cell_type": "code",
   "execution_count": null,
   "metadata": {
    "scrolled": false
   },
   "outputs": [],
   "source": [
    "n_components = 7\n",
    "model = NMF(n_components = n_components)\n",
    "model.fit(df)\n",
    "nmf_features = model.transform(df)\n",
    "components = model.components_\n",
    "\n",
    "W = nmf_features\n",
    "H = components\n",
    "\n",
    "W_df = pd.DataFrame(index = feature_names, columns = list(range(0, n_components)))\n",
    "H_df = pd.DataFrame(index = list(range(0, n_components)) , columns = factor_names)\n",
    "\n",
    "W_df.loc[:,:] = W\n",
    "H_df.loc[:,:] = H"
   ]
  },
  {
   "cell_type": "markdown",
   "metadata": {},
   "source": [
    "## II. Voting"
   ]
  },
  {
   "cell_type": "markdown",
   "metadata": {},
   "source": [
    "### 1. Load data"
   ]
  },
  {
   "cell_type": "code",
   "execution_count": null,
   "metadata": {},
   "outputs": [],
   "source": [
    "# Read csv file\n",
    "voting_data ='Voting 2018.csv'\n",
    "\n",
    "# Convert csv to dataframe\n",
    "df_voting  = pd.read_csv(voting_data, index_col = None, header = 0)\n",
    "df_voting = df_voting.set_index('Wijken')"
   ]
  },
  {
   "cell_type": "code",
   "execution_count": null,
   "metadata": {},
   "outputs": [],
   "source": [
    "# Calculate the sum for each district\n",
    "df_voting['Total'] =  df_voting.apply(lambda x: x.sum(), axis = 1)\n",
    "\n",
    "# Fill NaNs\n",
    "df_voting = df_voting.fillna(0)\n",
    "\n",
    "print('Number of districts in the dataset:', len(df_voting))\n",
    "print('Number of political parties:', len(df_voting.columns) - 1)"
   ]
  },
  {
   "cell_type": "markdown",
   "metadata": {},
   "source": [
    "### 2. Standartization"
   ]
  },
  {
   "cell_type": "code",
   "execution_count": null,
   "metadata": {},
   "outputs": [],
   "source": [
    "# Standartize the voting based on its value divided by total value\n",
    "df_voting = df_voting.loc[:,'number of D66 voters|2018':'Number of S070 voters|2018'].div(df_voting['Total'], axis = 0).fillna(0)"
   ]
  },
  {
   "cell_type": "markdown",
   "metadata": {},
   "source": [
    "### 3. Apply NMF"
   ]
  },
  {
   "cell_type": "code",
   "execution_count": null,
   "metadata": {},
   "outputs": [],
   "source": [
    "# Fit dataframe into NMF \n",
    "n_components = 7\n",
    "\n",
    "model = NMF(n_components = n_components)\n",
    "model.fit(df_voting)\n",
    "nmf_features = model.transform(df_voting)\n",
    "components = model.components_\n",
    "\n",
    "W = nmf_features\n",
    "H = components\n",
    "\n",
    "district_names = df_voting.index\n",
    "variable_names = df_voting.columns\n",
    "\n",
    "W_df_voting = pd.DataFrame(index = district_names, columns = list(range(0, n_components)))\n",
    "H_df_voting = pd.DataFrame(index =  list(range(0, n_components)) , columns = variable_names)\n",
    "\n",
    "# fit the dataframe with its coresponding name\n",
    "W_df_voting.loc[:,:] = W\n",
    "H_df_voting.loc[:,:] = H"
   ]
  },
  {
   "cell_type": "markdown",
   "metadata": {},
   "source": [
    "### 4. Standardization"
   ]
  },
  {
   "cell_type": "code",
   "execution_count": null,
   "metadata": {},
   "outputs": [],
   "source": [
    "W_df_voting['Total'] =  W_df_voting.apply(lambda x: x.sum(), axis = 1)\n",
    "W_df_voting = W_df_voting.iloc[:,0:7].div(W_df_voting.Total, axis = 0) .fillna(0)\n",
    "\n",
    "H_df_voting['Total'] =  H_df_voting.apply(lambda x: x.sum(), axis = 1)\n",
    "H_df_voting = H_df_voting.iloc[:,0:19].div(H_df_voting.Total, axis=0).fillna(0)\n",
    "\n",
    "# Check the results\n",
    "# W_df_voting.apply(lambda x: x.sum(), axis = 1)\n",
    "# H_df_voting.apply(lambda x: x.sum(), axis = 1)"
   ]
  },
  {
   "cell_type": "code",
   "execution_count": null,
   "metadata": {},
   "outputs": [],
   "source": [
    "# Drop \"irrelevant\" distrtics\n",
    "W_df_voting = W_df_voting.drop(['01 Oostduinen'])\n",
    "W_df_voting = W_df_voting.drop(['Unknown'])"
   ]
  },
  {
   "cell_type": "markdown",
   "metadata": {},
   "source": [
    "## III. Prediction"
   ]
  },
  {
   "cell_type": "markdown",
   "metadata": {},
   "source": [
    "### 1. Multiple linear regression"
   ]
  },
  {
   "cell_type": "code",
   "execution_count": null,
   "metadata": {},
   "outputs": [],
   "source": [
    "# Loop by the number of dependent variables\n",
    "for i in range(n_components):\n",
    "    # Define predictors and predictive variables\n",
    "    X = W_df.iloc[:,:].values\n",
    "    y = W_df_voting[i].values\n",
    "\n",
    "    # Split X and y variables into train and test sets\n",
    "    X_train, X_test, y_train, y_test = train_test_split(X, y, test_size = 0.2, random_state = 0)\n",
    "    # X_train.shape, X_test.shape\n",
    "\n",
    "    # Apply algorithm\n",
    "    regressor = LinearRegression()\n",
    "    regressor.fit(X_train, y_train)\n",
    "\n",
    "    # Predict y\n",
    "    y_pred = regressor.predict(X_test)\n",
    "    \n",
    "    # Get the metrics to analyze results\n",
    "    print('Profile number : ', i)\n",
    "#    print('Intercept : ', regressor.intercept_)\n",
    "    print('R-Squared : ', metrics.r2_score(y_test, y_pred))\n",
    "    print('Explained variance : ', metrics.explained_variance_score(y_test, y_pred)) \n",
    "#     print('Mean absoulute error : ', metrics.mean_absolute_error(y_test, y_pred)) \n",
    "    print('')"
   ]
  },
  {
   "cell_type": "markdown",
   "metadata": {},
   "source": [
    "### 2. SVR"
   ]
  },
  {
   "cell_type": "code",
   "execution_count": null,
   "metadata": {},
   "outputs": [],
   "source": [
    "for i in range(n_components):\n",
    "    X = W_df.iloc[:,:].values\n",
    "    y = W_df_voting[i].values\n",
    "    \n",
    "    y = y.reshape(-1, 1)\n",
    "    \n",
    "    sc_X = StandardScaler()\n",
    "    sc_y = StandardScaler()\n",
    "    X = sc_X.fit_transform(X)\n",
    "    y = sc_y.fit_transform(y)\n",
    "    \n",
    "    regressor = SVR(kernel = 'rbf')\n",
    "    regressor.fit(X, y)\n",
    "    print('Profile number : ', i)\n",
    "    print('R-Squared', regressor.score(X, y))\n",
    "    print('')\n",
    "    \n",
    "    # Getting the results\n",
    "    y_pred = regressor.predict(X)\n",
    "    y_pred = sc_y.inverse_transform(y_pred)"
   ]
  }
 ],
 "metadata": {
  "kernelspec": {
   "display_name": "Python 3",
   "language": "python",
   "name": "python3"
  },
  "language_info": {
   "codemirror_mode": {
    "name": "ipython",
    "version": 3
   },
   "file_extension": ".py",
   "mimetype": "text/x-python",
   "name": "python",
   "nbconvert_exporter": "python",
   "pygments_lexer": "ipython3",
   "version": "3.6.1"
  }
 },
 "nbformat": 4,
 "nbformat_minor": 2
}
