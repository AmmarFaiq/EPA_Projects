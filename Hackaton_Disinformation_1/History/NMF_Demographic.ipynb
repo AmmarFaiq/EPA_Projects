{
 "cells": [
  {
   "cell_type": "code",
   "execution_count": 2,
   "metadata": {},
   "outputs": [],
   "source": [
    "%matplotlib inline\n",
    "import pandas as pd\n",
    "import numpy as np\n",
    "import matplotlib.pyplot as plt\n",
    "\n",
    "import sklearn.decomposition as sk\n",
    "from sklearn import preprocessing, svm\n",
    "from sklearn.linear_model import LinearRegression\n",
    "\n",
    "import seaborn as sns\n",
    "import pandas as pd\n",
    "from sklearn.preprocessing import MinMaxScaler\n",
    "from sklearn.cluster import KMeans"
   ]
  },
  {
   "cell_type": "markdown",
   "metadata": {},
   "source": [
    "# Load data file"
   ]
  },
  {
   "cell_type": "code",
   "execution_count": null,
   "metadata": {},
   "outputs": [],
   "source": [
    "path2017 ='D:\\Jupyter_File\\Hackaton_Friday\\kwb-2017.xls'\n",
    "path2016 ='D:\\Jupyter_File\\Hackaton_Friday\\kwb-2016.xls'\n",
    "path2015 ='D:\\Jupyter_File\\Hackaton_Friday\\kwb-2015.xls'\n",
    "data = 'D:\\Jupyter_File\\Hackaton_Friday\\Data.xls'\n",
    "\n",
    "df_ori_2017 = pd.read_excel(path2017,index_col=None, header=0, convert_float= True,decimal =',')\n",
    "df_ori_2016 = pd.read_excel(path2016,index_col=None, header=0, convert_float= True,decimal =',')\n",
    "df_ori_2015 = pd.read_excel(path2015,index_col=None, header=0, convert_float= True,decimal =',')\n",
    "data_ori = pd.read_excel(data,index_col=None, header=0, convert_float= True)\n",
    "\n",
    "print('KWB 2017 Data consists :',len(df_ori_2017))\n",
    "print('KWB 2016 Data consists :',len(df_ori_2016))\n",
    "print('KWB 2015 Data consists :',len(df_ori_2015))\n",
    "print('Translated Data consists :',len(data_ori))"
   ]
  },
  {
   "cell_type": "code",
   "execution_count": null,
   "metadata": {},
   "outputs": [],
   "source": [
    "data_ori.head(2)"
   ]
  },
  {
   "cell_type": "markdown",
   "metadata": {},
   "source": [
    "## Define which data categories"
   ]
  },
  {
   "cell_type": "code",
   "execution_count": null,
   "metadata": {},
   "outputs": [],
   "source": [
    "# 2017 data\n",
    "general_info_column_name = ['regio','gm_naam','recs','gwb_code']\n",
    "bevolking_column_name =  ['a_inw', 'a_man', 'a_vrouw', 'a_00_14', 'a_15_24', \n",
    "                            'a_25_44', 'a_45_64', 'a_65_oo', \n",
    "                          'a_ongeh', 'a_gehuwd', 'a_gesch', 'a_verwed', 'a_w_all', 'a_nw_all', \n",
    "                            'a_marok', \n",
    "                          'a_antaru', \n",
    "                        'a_suri', 'a_tur','a_ov_nw', \n",
    "                          #'a_geb', 'p_geb', 'a_ste', 'p_ste', \n",
    "                         'a_hh', 'a_1p_hh', 'a_hh_z_k', 'a_hh_m_k', 'g_hhgro', 'bev_dich'\n",
    "                            ]\n",
    "\n",
    "stedelijkheid_column_name = ['ste_mvs','ste_oad']\n",
    "\n",
    "wonen_column_name = ['a_woning', 'g_woz', \n",
    "                    'p_1gezw', 'p_mgezw' ,\n",
    "                    'p_bewndw','p_leegsw','p_koopw',\n",
    "                    'p_huurw','p_wcorpw',\n",
    "                    'p_ov_hw','p_e_o_w','p_bjj2k','p_bjo2k'\n",
    "                    ]\n",
    "\n",
    "# 2016 data\n",
    "\n",
    "bedrijfsvestigingen_column_name = ['a_bedv','a_bed_a','a_bed_bf','a_bed_gi','a_bed_hj','a_bed_kl','a_bed_mn','a_bed_ru']\n",
    "\n",
    "voorzieningen_column_name = ['g_afs_hp','g_afs_gs','g_afs_kv','g_afs_sc','g_3km_sc']\n",
    "\n",
    "# 2015 data\n",
    "inkomen_column_name = ['a_inkont', 'g_ink_po' ,\n",
    "                       'g_ink_pi', 'p_ink_li' ,'p_ink_hi', 'p_n_act', 'p_hh_li', 'p_hh_hi', \n",
    "                       'p_hh_lkk' ,'p_hh_osm']\n"
   ]
  },
  {
   "cell_type": "markdown",
   "metadata": {},
   "source": [
    "# Complete data with other data frame"
   ]
  },
  {
   "cell_type": "code",
   "execution_count": null,
   "metadata": {},
   "outputs": [],
   "source": [
    "combined_all_data_date_2017 = general_info_column_name + bevolking_column_name + wonen_column_name + stedelijkheid_column_name \n",
    "combined_all_data_date_2016 = general_info_column_name + bedrijfsvestigingen_column_name + voorzieningen_column_name\n",
    "combined_all_data_date_2015 = general_info_column_name + inkomen_column_name\n",
    "\n",
    "df_ready2017 = df_ori_2017[combined_all_data_date_2017]\n",
    "df_ready2016 = df_ori_2016[combined_all_data_date_2016]\n",
    "df_ready2015 = df_ori_2015[combined_all_data_date_2015]\n",
    "\n",
    "df_ready_all = pd.merge(df_ready2017, df_ready2016, on=[ 'regio', 'gm_naam', 'recs', 'gwb_code'])\n",
    "df_ready_all = pd.merge(df_ready_all, df_ready2015, on=[ 'regio', 'gm_naam', 'recs', 'gwb_code'])"
   ]
  },
  {
   "cell_type": "code",
   "execution_count": null,
   "metadata": {},
   "outputs": [],
   "source": [
    "df_ready_all.head(2)"
   ]
  },
  {
   "cell_type": "markdown",
   "metadata": {},
   "source": [
    "# Separate data based on their regional level"
   ]
  },
  {
   "cell_type": "code",
   "execution_count": null,
   "metadata": {},
   "outputs": [],
   "source": [
    "\n",
    "df_netherlands_gementee = df_ready_all[df_ready_all['recs'].str.contains(\"Gemeente\")].set_index('gm_naam')\n",
    "\n",
    "df_den_haag = df_ready_all[df_ready_all['gm_naam'].str.contains(\"'s-Gravenhage\")]\n",
    "\n",
    "df_den_haag_wijk = df_den_haag[df_den_haag['recs'].str.contains(\"Wijk\")].set_index('regio')\n",
    "\n",
    "df_den_haag_buurt = df_den_haag[df_den_haag['recs'].str.contains(\"Buurt\")].set_index('regio')"
   ]
  },
  {
   "cell_type": "code",
   "execution_count": null,
   "metadata": {},
   "outputs": [],
   "source": [
    "df_den_haag_wijk.head(5)"
   ]
  },
  {
   "cell_type": "code",
   "execution_count": null,
   "metadata": {},
   "outputs": [],
   "source": [
    "data_ori.head(2)"
   ]
  },
  {
   "cell_type": "markdown",
   "metadata": {},
   "source": [
    "# Select data that contains number (not general name) only"
   ]
  },
  {
   "cell_type": "code",
   "execution_count": null,
   "metadata": {},
   "outputs": [],
   "source": [
    "df_den_haag_wijk_value_column = df_den_haag_wijk.loc[:,'a_25_44':'g_ink_pi'].columns"
   ]
  },
  {
   "cell_type": "markdown",
   "metadata": {},
   "source": [
    "# Convert data that in \"object\" format into numeric"
   ]
  },
  {
   "cell_type": "code",
   "execution_count": null,
   "metadata": {},
   "outputs": [],
   "source": [
    "district = df_den_haag_wijk[df_den_haag_wijk_value_column]"
   ]
  },
  {
   "cell_type": "code",
   "execution_count": null,
   "metadata": {},
   "outputs": [],
   "source": [
    "# check how many strings (object)\n",
    "district.dtypes.value_counts()"
   ]
  },
  {
   "cell_type": "code",
   "execution_count": null,
   "metadata": {},
   "outputs": [],
   "source": [
    "data_ori.dtypes.value_counts()"
   ]
  },
  {
   "cell_type": "code",
   "execution_count": null,
   "metadata": {},
   "outputs": [],
   "source": [
    "# convert strings (object) into numeric\n",
    "district = district.convert_objects(convert_numeric=True)"
   ]
  },
  {
   "cell_type": "code",
   "execution_count": null,
   "metadata": {},
   "outputs": [],
   "source": [
    "# check how many strings (object) left\n",
    "district.dtypes.value_counts()"
   ]
  },
  {
   "cell_type": "code",
   "execution_count": null,
   "metadata": {},
   "outputs": [],
   "source": [
    "# fill NaN values with 0\n",
    "district = district.fillna(0)\n",
    "data_ori = data_ori.fillna(0)"
   ]
  },
  {
   "cell_type": "code",
   "execution_count": null,
   "metadata": {},
   "outputs": [],
   "source": [
    "#district[district.dtypes[(district.dtypes==\"float64\")|(district.dtypes==\"int64\")].index.values].hist(figsize=[11,11])"
   ]
  },
  {
   "cell_type": "markdown",
   "metadata": {},
   "source": [
    "# Normalize the dataframe"
   ]
  },
  {
   "cell_type": "code",
   "execution_count": null,
   "metadata": {},
   "outputs": [],
   "source": [
    "plt.figure(figsize = (16,8))\n",
    "\n",
    "sns.heatmap(district, annot = True)"
   ]
  },
  {
   "cell_type": "code",
   "execution_count": null,
   "metadata": {},
   "outputs": [],
   "source": [
    "plt.figure(figsize = (16,8))\n",
    "\n",
    "sns.heatmap(data_ori, annot = True)"
   ]
  },
  {
   "cell_type": "code",
   "execution_count": null,
   "metadata": {},
   "outputs": [],
   "source": [
    "# MinMaxScaler method\n",
    "district_normalize = preprocessing.MinMaxScaler().fit_transform(district)\n",
    "# MaxAbsScaler method\n",
    "district_normalize2 = preprocessing.MaxAbsScaler().fit_transform(district)\n",
    "\n",
    "data_ori_normalize2 = preprocessing.MaxAbsScaler().fit_transform(data_ori)\n",
    "\n",
    "# normalize method\n",
    "district_normalize3 = preprocessing.normalize(district, norm='l2')\n",
    "# StandardScaler method\n",
    "district_normalize4 = preprocessing.StandardScaler().fit_transform(district)\n",
    "\n"
   ]
  },
  {
   "cell_type": "code",
   "execution_count": null,
   "metadata": {},
   "outputs": [],
   "source": [
    "#sns.heatmap(neighboorhood_normalize)\n",
    "#sns.heatmap(neighboorhood_normalize3)\n",
    "#sns.heatmap(neighboorhood_normalize4)"
   ]
  },
  {
   "cell_type": "code",
   "execution_count": null,
   "metadata": {},
   "outputs": [],
   "source": [
    "district.loc[:,:] = district_normalize2\n",
    "data_ori.loc[:,:] = data_ori_normalize2"
   ]
  },
  {
   "cell_type": "code",
   "execution_count": null,
   "metadata": {},
   "outputs": [],
   "source": [
    "plt.figure(figsize = (16,8))\n",
    "\n",
    "sns.heatmap(district, annot = True)"
   ]
  },
  {
   "cell_type": "code",
   "execution_count": null,
   "metadata": {},
   "outputs": [],
   "source": [
    "plt.figure(figsize = (16,8))\n",
    "\n",
    "sns.heatmap(data_ori, annot = True)"
   ]
  },
  {
   "cell_type": "markdown",
   "metadata": {},
   "source": [
    "# Start to do NMF with the Normalized data"
   ]
  },
  {
   "cell_type": "code",
   "execution_count": null,
   "metadata": {},
   "outputs": [],
   "source": [
    "from sklearn.decomposition import NMF\n",
    "\n",
    "samples = data_ori.as_matrix()\n",
    "\n",
    "# Loading KMeans model\n",
    "# The number of clusters\n",
    "N_com = 7\n",
    "\n",
    "model1 = NMF(n_components = N_com)\n",
    "\n",
    "# Clustering the data\n",
    "model1.fit(samples)\n",
    "\n",
    "# Getting the labes of the clusters\n",
    "#labels = model1.predict(samples)\n",
    "\n",
    "# Trying to find an optimal number of clusters using inertia\n",
    "ks = range(1, 20)\n",
    "inertias = []\n",
    "\n",
    "for k in ks:\n",
    "    # Create a KMeans instance with k clusters: model\n",
    "    model = KMeans(n_clusters = k)\n",
    "    \n",
    "    # Fit model to samples\n",
    "    model.fit(samples)\n",
    "    \n",
    "    # Append the inertia to the list of inertias\n",
    "    inertias.append(model.inertia_)\n",
    "    \n",
    "# Plot ks vs inertias\n",
    "plt.plot(ks, inertias, '-o')\n",
    "plt.xlabel('number of clusters, k')\n",
    "plt.ylabel('inertia')\n",
    "plt.xticks(ks)\n",
    "plt.show()"
   ]
  },
  {
   "cell_type": "code",
   "execution_count": null,
   "metadata": {},
   "outputs": [],
   "source": [
    "model = NMF(n_components = N_com)\n",
    "W = model.fit_transform(district)\n",
    "H = model.components_"
   ]
  },
  {
   "cell_type": "code",
   "execution_count": null,
   "metadata": {},
   "outputs": [],
   "source": [
    "district_name = district.index\n",
    "variable_name = district.columns\n",
    "\n",
    "NMF_W = pd.DataFrame(index=district_name, columns= list(range(0, N_com)))\n",
    "NMF_H = pd.DataFrame(index= list(range(0, N_com)) , columns= variable_name)"
   ]
  },
  {
   "cell_type": "code",
   "execution_count": null,
   "metadata": {},
   "outputs": [],
   "source": [
    "NMF_W.loc[:,:] = W\n",
    "NMF_H.loc[:,:] = H"
   ]
  },
  {
   "cell_type": "code",
   "execution_count": null,
   "metadata": {},
   "outputs": [],
   "source": [
    "plt.figure(figsize = (16,8))\n",
    "sns.heatmap(NMF_H, annot = True)"
   ]
  },
  {
   "cell_type": "code",
   "execution_count": null,
   "metadata": {},
   "outputs": [],
   "source": [
    "plt.figure(figsize = (16,8))\n",
    "sns.clustermap(NMF_W.T, annot = True)"
   ]
  },
  {
   "cell_type": "code",
   "execution_count": null,
   "metadata": {},
   "outputs": [],
   "source": [
    "plt.figure(figsize = (16,8))\n",
    "sns.heatmap(NMF_W, annot = True)"
   ]
  },
  {
   "cell_type": "code",
   "execution_count": null,
   "metadata": {},
   "outputs": [],
   "source": [
    "plt.figure(figsize = (16,8))\n",
    "sns.clustermap(NMF_H, annot = True)"
   ]
  },
  {
   "cell_type": "code",
   "execution_count": null,
   "metadata": {},
   "outputs": [],
   "source": [
    "model = NMF(n_components = N_com)\n",
    "W = model.fit_transform(data_ori)\n",
    "H = model.components_"
   ]
  },
  {
   "cell_type": "code",
   "execution_count": null,
   "metadata": {},
   "outputs": [],
   "source": [
    "data_ori_district_name = data_ori.index\n",
    "data_ori_variable_name = data_ori.columns\n",
    "\n",
    "\n",
    "NMF_W = pd.DataFrame(index=data_ori_district_name, columns= list(range(0, N_com)))\n",
    "NMF_H = pd.DataFrame(index= list(range(0, N_com)) , columns= data_ori_variable_name)\n",
    "\n",
    "NMF_W.loc[:,:] = W\n",
    "NMF_H.loc[:,:] = H"
   ]
  },
  {
   "cell_type": "code",
   "execution_count": null,
   "metadata": {},
   "outputs": [],
   "source": [
    "plt.figure(figsize = (16,8))\n",
    "sns.heatmap(NMF_H.T, annot = True)"
   ]
  },
  {
   "cell_type": "code",
   "execution_count": null,
   "metadata": {},
   "outputs": [],
   "source": [
    "(NMF_H)"
   ]
  },
  {
   "cell_type": "code",
   "execution_count": null,
   "metadata": {},
   "outputs": [],
   "source": [
    "plt.figure(figsize = (16,8))\n",
    "sns.heatmap(NMF_W, annot = True)"
   ]
  }
 ],
 "metadata": {
  "kernelspec": {
   "display_name": "Python 3",
   "language": "python",
   "name": "python3"
  },
  "language_info": {
   "codemirror_mode": {
    "name": "ipython",
    "version": 3
   },
   "file_extension": ".py",
   "mimetype": "text/x-python",
   "name": "python",
   "nbconvert_exporter": "python",
   "pygments_lexer": "ipython3",
   "version": "3.6.1"
  }
 },
 "nbformat": 4,
 "nbformat_minor": 2
}
