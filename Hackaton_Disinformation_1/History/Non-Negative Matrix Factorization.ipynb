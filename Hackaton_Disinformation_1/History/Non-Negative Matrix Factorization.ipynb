{
 "cells": [
  {
   "cell_type": "code",
   "execution_count": 1,
   "metadata": {},
   "outputs": [],
   "source": [
    "import numpy as np\n",
    "\n",
    "entry1 = np.array([0, 0, 1, 1, 1])\n",
    "entry2 = np.array([1, 1, 1, 0, 0])\n",
    "entry3 = np.array([0, 0, 2, 1, 0])\n",
    "entry = np.array([entry1,entry2,entry3])"
   ]
  },
  {
   "cell_type": "code",
   "execution_count": 2,
   "metadata": {},
   "outputs": [
    {
     "data": {
      "image/png": "[encoded data removed]",
      "text/plain": [
       "<matplotlib.figure.Figure at 0x23b2d100940>"
      ]
     },
     "metadata": {},
     "output_type": "display_data"
    }
   ],
   "source": [
    "from matplotlib import pyplot as plt\n",
    "plt.imshow(entry, interpolation='nearest')\n",
    "plt.show()"
   ]
  },
  {
   "cell_type": "code",
   "execution_count": 6,
   "metadata": {},
   "outputs": [],
   "source": [
    "#entry2 = entry.interpolate(method='nearest')"
   ]
  },
  {
   "cell_type": "code",
   "execution_count": 3,
   "metadata": {},
   "outputs": [],
   "source": [
    "weight = np.random.randint(5,size=(12,3))\n",
    "X=weight.dot(entry)"
   ]
  },
  {
   "cell_type": "code",
   "execution_count": 4,
   "metadata": {},
   "outputs": [
    {
     "data": {
      "text/plain": [
       "array([[0, 0, 1],\n",
       "       [3, 3, 4],\n",
       "       [2, 2, 1],\n",
       "       [0, 3, 3],\n",
       "       [0, 3, 0],\n",
       "       [0, 1, 2],\n",
       "       [3, 2, 4],\n",
       "       [2, 0, 0],\n",
       "       [0, 4, 4],\n",
       "       [1, 3, 4],\n",
       "       [3, 0, 4],\n",
       "       [4, 4, 0]])"
      ]
     },
     "execution_count": 4,
     "metadata": {},
     "output_type": "execute_result"
    }
   ],
   "source": [
    "weight"
   ]
  },
  {
   "cell_type": "code",
   "execution_count": 11,
   "metadata": {},
   "outputs": [
    {
     "data": {
      "text/plain": [
       "array([[ 0,  3,  2,  3,  3,  1,  2,  0,  4,  3,  0,  4],\n",
       "       [ 0,  3,  2,  3,  3,  1,  2,  0,  4,  3,  0,  4],\n",
       "       [ 2, 14,  6,  9,  3,  5, 13,  2, 12, 12, 11,  8],\n",
       "       [ 1,  7,  3,  3,  0,  2,  7,  2,  4,  5,  7,  4],\n",
       "       [ 0,  3,  2,  0,  0,  0,  3,  2,  0,  1,  3,  4]])"
      ]
     },
     "execution_count": 11,
     "metadata": {},
     "output_type": "execute_result"
    }
   ],
   "source": [
    "X.T"
   ]
  },
  {
   "cell_type": "code",
   "execution_count": 6,
   "metadata": {},
   "outputs": [
    {
     "data": {
      "image/png": "[encoded data removed]",
      "text/plain": [
       "<matplotlib.figure.Figure at 0x23b2d100160>"
      ]
     },
     "metadata": {},
     "output_type": "display_data"
    }
   ],
   "source": [
    "from matplotlib import pyplot as plt\n",
    "plt.imshow(weight.T)\n",
    "plt.show()"
   ]
  },
  {
   "cell_type": "code",
   "execution_count": 8,
   "metadata": {},
   "outputs": [],
   "source": [
    "#weight"
   ]
  },
  {
   "cell_type": "code",
   "execution_count": 9,
   "metadata": {},
   "outputs": [
    {
     "name": "stdout",
     "output_type": "stream",
     "text": [
      "[[0 3 2 0 0 0 3 2 0 1 3 4]\n",
      " [0 3 2 3 3 1 2 0 4 3 0 4]\n",
      " [1 4 1 3 0 2 4 0 4 4 4 0]]\n"
     ]
    }
   ],
   "source": [
    "print(weight.T)"
   ]
  },
  {
   "cell_type": "code",
   "execution_count": 10,
   "metadata": {},
   "outputs": [
    {
     "data": {
      "image/png": "[encoded data removed]",
      "text/plain": [
       "<matplotlib.figure.Figure at 0x23b2f41df60>"
      ]
     },
     "metadata": {},
     "output_type": "display_data"
    }
   ],
   "source": [
    "from matplotlib import pyplot as plt\n",
    "plt.imshow(X.T)\n",
    "plt.show()"
   ]
  },
  {
   "cell_type": "code",
   "execution_count": 12,
   "metadata": {},
   "outputs": [],
   "source": [
    "#print(X)"
   ]
  },
  {
   "cell_type": "code",
   "execution_count": null,
   "metadata": {
    "collapsed": true
   },
   "outputs": [],
   "source": []
  },
  {
   "cell_type": "code",
   "execution_count": 18,
   "metadata": {},
   "outputs": [],
   "source": [
    "import sklearn.decomposition as sk\n",
    "\n",
    "model=sk.NMF(3)"
   ]
  },
  {
   "cell_type": "code",
   "execution_count": 19,
   "metadata": {},
   "outputs": [],
   "source": [
    "Y=model.fit(X)"
   ]
  },
  {
   "cell_type": "code",
   "execution_count": 20,
   "metadata": {},
   "outputs": [
    {
     "data": {
      "text/plain": [
       "['__class__',\n",
       " '__delattr__',\n",
       " '__dict__',\n",
       " '__dir__',\n",
       " '__doc__',\n",
       " '__eq__',\n",
       " '__format__',\n",
       " '__ge__',\n",
       " '__getattribute__',\n",
       " '__getstate__',\n",
       " '__gt__',\n",
       " '__hash__',\n",
       " '__init__',\n",
       " '__init_subclass__',\n",
       " '__le__',\n",
       " '__lt__',\n",
       " '__module__',\n",
       " '__ne__',\n",
       " '__new__',\n",
       " '__reduce__',\n",
       " '__reduce_ex__',\n",
       " '__repr__',\n",
       " '__setattr__',\n",
       " '__setstate__',\n",
       " '__sizeof__',\n",
       " '__str__',\n",
       " '__subclasshook__',\n",
       " '__weakref__',\n",
       " '_get_param_names',\n",
       " 'alpha',\n",
       " 'beta',\n",
       " 'components_',\n",
       " 'eta',\n",
       " 'fit',\n",
       " 'fit_transform',\n",
       " 'get_params',\n",
       " 'init',\n",
       " 'inverse_transform',\n",
       " 'l1_ratio',\n",
       " 'max_iter',\n",
       " 'n_components',\n",
       " 'n_components_',\n",
       " 'n_iter_',\n",
       " 'nls_max_iter',\n",
       " 'random_state',\n",
       " 'reconstruction_err_',\n",
       " 'set_params',\n",
       " 'shuffle',\n",
       " 'solver',\n",
       " 'sparseness',\n",
       " 'tol',\n",
       " 'transform',\n",
       " 'verbose']"
      ]
     },
     "execution_count": 20,
     "metadata": {},
     "output_type": "execute_result"
    }
   ],
   "source": [
    "dir(Y)"
   ]
  },
  {
   "cell_type": "code",
   "execution_count": 21,
   "metadata": {},
   "outputs": [
    {
     "name": "stdout",
     "output_type": "stream",
     "text": [
      "[[  0.00000000e+00   0.00000000e+00   4.95846705e+00   2.47903506e+00\n",
      "    0.00000000e+00]\n",
      " [  2.75515106e+00   2.75515106e+00   2.75438468e+00   0.00000000e+00\n",
      "    4.76790275e-05]\n",
      " [  8.82623348e-05   8.82623348e-05   0.00000000e+00   1.70740386e+00\n",
      "    3.41488871e+00]]\n"
     ]
    }
   ],
   "source": [
    "print(Y.components_)\n",
    "Y_comp = Y.components_"
   ]
  },
  {
   "cell_type": "code",
   "execution_count": 25,
   "metadata": {},
   "outputs": [
    {
     "data": {
      "image/png": "[encoded data removed]",
      "text/plain": [
       "<matplotlib.figure.Figure at 0x23b2f477400>"
      ]
     },
     "metadata": {},
     "output_type": "display_data"
    }
   ],
   "source": [
    "from matplotlib import pyplot as plt\n",
    "plt.imshow(Y_comp, interpolation='nearest')\n",
    "plt.show()"
   ]
  },
  {
   "cell_type": "code",
   "execution_count": 26,
   "metadata": {},
   "outputs": [],
   "source": [
    "W = model.fit_transform(X)\n",
    "H = model.components_"
   ]
  },
  {
   "cell_type": "code",
   "execution_count": 27,
   "metadata": {},
   "outputs": [
    {
     "name": "stdout",
     "output_type": "stream",
     "text": [
      "[[  0.00000000e+00   0.00000000e+00   4.95846705e+00   2.47903506e+00\n",
      "    0.00000000e+00]\n",
      " [  2.75515106e+00   2.75515106e+00   2.75438468e+00   0.00000000e+00\n",
      "    4.76790275e-05]\n",
      " [  8.82623348e-05   8.82623348e-05   0.00000000e+00   1.70740386e+00\n",
      "    3.41488871e+00]]\n"
     ]
    }
   ],
   "source": [
    "print(H)"
   ]
  },
  {
   "cell_type": "code",
   "execution_count": 28,
   "metadata": {},
   "outputs": [
    {
     "name": "stdout",
     "output_type": "stream",
     "text": [
      "[[  4.03354818e-01   0.00000000e+00   8.61132671e-06]\n",
      " [  2.21863421e+00   1.08882389e+00   8.78489977e-01]\n",
      " [  8.06827189e-01   7.25890926e-01   5.85646867e-01]\n",
      " [  1.21021457e+00   1.08887269e+00   0.00000000e+00]\n",
      " [  1.37412704e-04   1.08889072e+00   0.00000000e+00]\n",
      " [  8.06763906e-01   3.62951555e-01   0.00000000e+00]\n",
      " [  2.21858436e+00   7.25862736e-01   8.78508901e-01]\n",
      " [  4.03356686e-01   0.00000000e+00   5.85680744e-01]\n",
      " [  1.61361942e+00   1.45183026e+00   0.00000000e+00]\n",
      " [  1.81526408e+00   1.08885026e+00   2.92813135e-01]\n",
      " [  2.21845430e+00   0.00000000e+00   8.78555562e-01]\n",
      " [  8.06939640e-01   1.45179185e+00   1.17127799e+00]]\n"
     ]
    }
   ],
   "source": [
    "print(W)"
   ]
  },
  {
   "cell_type": "code",
   "execution_count": 31,
   "metadata": {},
   "outputs": [
    {
     "data": {
      "image/png": "[encoded data removed]",
      "text/plain": [
       "<matplotlib.figure.Figure at 0x23b2f4536a0>"
      ]
     },
     "metadata": {},
     "output_type": "display_data"
    }
   ],
   "source": [
    "from matplotlib import pyplot as plt\n",
    "plt.imshow(W.T, interpolation='nearest')\n",
    "plt.show()"
   ]
  },
  {
   "cell_type": "code",
   "execution_count": 32,
   "metadata": {},
   "outputs": [
    {
     "data": {
      "image/png": "[encoded data removed]",
      "text/plain": [
       "<matplotlib.figure.Figure at 0x23b30e89ef0>"
      ]
     },
     "metadata": {},
     "output_type": "display_data"
    }
   ],
   "source": [
    "from matplotlib import pyplot as plt\n",
    "plt.imshow(weight.T, interpolation='nearest')\n",
    "plt.show()"
   ]
  },
  {
   "cell_type": "code",
   "execution_count": 33,
   "metadata": {},
   "outputs": [
    {
     "name": "stdout",
     "output_type": "stream",
     "text": [
      "0.0007397581099466393\n"
     ]
    }
   ],
   "source": [
    "print(Y.reconstruction_err_)"
   ]
  },
  {
   "cell_type": "code",
   "execution_count": 34,
   "metadata": {},
   "outputs": [],
   "source": [
    "X_approx = W.dot(H)"
   ]
  },
  {
   "cell_type": "code",
   "execution_count": 35,
   "metadata": {},
   "outputs": [
    {
     "data": {
      "image/png": "[encoded data removed]",
      "text/plain": [
       "<matplotlib.figure.Figure at 0x23b30de3748>"
      ]
     },
     "metadata": {},
     "output_type": "display_data"
    }
   ],
   "source": [
    "from matplotlib import pyplot as plt\n",
    "plt.imshow(X_approx.T, interpolation='nearest')\n",
    "plt.show()"
   ]
  },
  {
   "cell_type": "code",
   "execution_count": 36,
   "metadata": {},
   "outputs": [],
   "source": [
    "import numpy as np\n",
    "X = np.array([[1, 1], [2, 1], [3, 1.2], [4, 1], [5, 0.8], [6, 1]])\n",
    "from sklearn.decomposition import NMF\n",
    "model = NMF(n_components=2, init='random', random_state=0)\n",
    "W = model.fit_transform(X)\n",
    "H = model.components_"
   ]
  },
  {
   "cell_type": "code",
   "execution_count": 37,
   "metadata": {},
   "outputs": [
    {
     "name": "stdout",
     "output_type": "stream",
     "text": [
      "[[ 2.09783018  0.30560234]\n",
      " [ 2.13443044  2.13171694]]\n"
     ]
    }
   ],
   "source": [
    "print(H)"
   ]
  },
  {
   "cell_type": "code",
   "execution_count": 38,
   "metadata": {},
   "outputs": [
    {
     "name": "stdout",
     "output_type": "stream",
     "text": [
      "[[ 0.          0.46880684]\n",
      " [ 0.55699523  0.3894146 ]\n",
      " [ 1.00331638  0.41925352]\n",
      " [ 1.6733999   0.22926926]\n",
      " [ 2.34349311  0.03927954]\n",
      " [ 2.78981512  0.06911798]]\n"
     ]
    }
   ],
   "source": [
    "print(W)"
   ]
  },
  {
   "cell_type": "code",
   "execution_count": null,
   "metadata": {
    "collapsed": true
   },
   "outputs": [],
   "source": []
  }
 ],
 "metadata": {
  "kernelspec": {
   "display_name": "Python 3",
   "language": "python",
   "name": "python3"
  },
  "language_info": {
   "codemirror_mode": {
    "name": "ipython",
    "version": 3
   },
   "file_extension": ".py",
   "mimetype": "text/x-python",
   "name": "python",
   "nbconvert_exporter": "python",
   "pygments_lexer": "ipython3",
   "version": "3.6.1"
  }
 },
 "nbformat": 4,
 "nbformat_minor": 2
}
