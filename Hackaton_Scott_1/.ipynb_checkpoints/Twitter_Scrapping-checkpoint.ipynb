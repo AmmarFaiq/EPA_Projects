{
 "cells": [
  {
   "cell_type": "code",
   "execution_count": 2,
   "metadata": {},
   "outputs": [],
   "source": [
    "#!pip install tweepy\n",
    "import tweepy \n",
    "from tweepy import Stream\n",
    "from tweepy.streaming import StreamListener \n",
    "import json\n",
    "import time\n",
    "import datetime"
   ]
  },
  {
   "cell_type": "code",
   "execution_count": null,
   "metadata": {},
   "outputs": [],
   "source": [
    "ACCESS_TOKEN = 'replace me'\n",
    "ACCESS_TOKEN_SECRET = 'replace me'\n",
    "CONSUMER_KEY = 'replace me'\n",
    "CONSUMER_SECRET = 'replace me'\n",
    "\n",
    "text_list = ['PvdA', 'Partij van de Arbeid', 'Lodewijk Asscher', 'Marleen Barth', 'Moorlag', 'Aboutaleb', \n",
    "             'Arib', 'VVD', 'Volkspartij voor Vrijheid en Democratie', 'Mark Rutte', 'Eric Wiebes', \n",
    "             'Klaas Dijkhoff', 'Halbe Zijlstra', 'PVV',  'Partij van de Vrijheid', 'Geert Wilders', \n",
    "             'Martin Bosma', 'DENK', 'Tunahan Kuzu','D66', 'Democraten 66', 'Kajsa Ollongren', \n",
    "             'Alexander Pechtold', 'Jan Paternotte', 'Ingrid van Engelshoven', 'Wouter Koolmees', \n",
    "             'Sigrid Kaag', 'Stientje van Veldhoven', 'FvD', 'Forum voor Democratie', 'Forum', \n",
    "             'Thierry Baudet', 'Theo Hiddema', 'Yernaz Ramautarsing', 'Annabel Nanninga', 'CDA', \n",
    "             'Christendemocraten', 'Christendemocratie', 'Buma', 'Sybrand van Haersma-Buma', 'Mona Keizer', \n",
    "             'Wopke Hoekstra', 'Hugo de Jonge', 'Ferdinand Grapperhaus', 'GroenLinks', 'Jesse Klaver',\n",
    "             'ChristenUnie', 'Arie Slob', 'Carola Schouten','SGP', 'Kees van der Staaij', 'Partij voor de Dieren', \n",
    "             'Marianne Thieme', 'SP','Socialistische Partij', 'Lillian Marijnissen', 'Arjan Vliegenthart', \n",
    "             'Leefbaar Rotterdam', 'Joost Eerdmans', 'NIDA', 'Cemil Yildaz', 'Femke Halsema', '50plus', 'Henk Krol', \n",
    "             'NIDA', 'Cemil Yildaz', 'Groep de Mos', 'Richard de Mos', 'Rachid Guernaoui', 'Janice Roopram', \n",
    "             'Haagse stadspartij', 'Peter Bos', 'Joris Wijsmuller', 'Fatima Faid','Islam Democraten', 'Hasan Küçük', \n",
    "             'Arnoud van Doorn', 'Boudewijn Revis', 'Judith Oudshoorn-van Ginderen', 'Robert van Asten', \n",
    "             'Hanneke van der Werf', 'Dennis Groenewold', 'Arjen Kapteijns', 'Erlijn Wenink', 'Karen Gerbrands', \n",
    "             'Elias van Hees','Martijn Balster', 'Mikal Tseggai', 'Karsten Klein', 'Danielle Koster','Christine Teunissen', \n",
    "             'SP', 'Bart van Kent', 'Aisha Akhiat', 'Pieter Grinwis'] \n",
    "\n",
    "hashtag_list = ['#GR2018', '#Baudet', '#Pechtold', '#gr2018', '#hijzeihetecht', '#forumvoorfantasie', \n",
    "                '#GR18', '#FVD', '#D66', '#PVV', '#fvdemocratie', '#GR2018RT', '#FvD', '#PvdA', '#d66', \n",
    "                '#gemeenteraadsverkiezingen', '#GR2', '#gemeenteraadsverkiezingen2018', '#baudet', '#VVD', \n",
    "                '#fvd', '#hoedan', '#StemPVV', '#jinek', '#GroenLinks', '#gr2018RT', '#pvda','#partijkartel', \n",
    "                '#antisemitisme', '#buitenhof', '#Gemeenteraads', '#referendum', '#Gr2018', '#groenlinks', \n",
    "                '#pechtold', '#Jinek', '#Coentunnel', '#Asscher', '#CDA', '#GR20', '#LelystadAirport', \n",
    "                '#Buma', '#PvdAGroenLinks', '#leefbaarrotterdam', '#Ascher', '#demoniseren','#Kuzu', \n",
    "                '#lijsttrekkers', '#integratie', '#voltooidleven', '#campagne', '#GRV2018', '#Klaver', \n",
    "                '#nepnieuws', '#dwdd', '#asscher', '#klaver', '#cda', '#Gemeenteraadsverkiezingen', \n",
    "                '#klimaat', '#Marijnissen', '#ThierryBaudet', '#Rutte', '#hartvoordenhaag']\n"
   ]
  },
  {
   "cell_type": "code",
   "execution_count": null,
   "metadata": {},
   "outputs": [],
   "source": [
    "class MyListener(StreamListener):\n",
    "    def __init__(self, api, file_name_base):\n",
    "        self.tweet_list=[]\n",
    "        self.count = 1\n",
    "        self.file_name_base = file_name_base\n",
    "       \n",
    "    def on_data(self, data):\n",
    "        try:\n",
    "            j = json.loads(data)\n",
    "            self.tweet_list.append(j)\n",
    "            n = len(self.tweet_list)\n",
    "  \n",
    "            if (n % 100 == 0):\n",
    "                ts = time.time()\n",
    "                stamp = datetime.datetime.fromtimestamp(ts).strftime('%m%d%H%M%S')\n",
    "                file_name = self.file_name_base + stamp + '.json'\n",
    "                with open(file_name , 'w') as f:\n",
    "                    json.dump(self.tweet_list, f)\n",
    "                print(\"Output File\", self.count)\n",
    "                self.count = self.count + 1\n",
    "                self.tweet_list = []\n",
    "            return True\n",
    "        except BaseException as e:\n",
    "            print(\"Error on_data:\", str(e))\n",
    "        return True\n",
    " \n",
    "    def on_error(self, status):\n",
    "        print(\"Error\",status)\n",
    "        return False\n"
   ]
  },
  {
   "cell_type": "code",
   "execution_count": null,
   "metadata": {},
   "outputs": [],
   "source": [
    "class Credentials:\n",
    "    def __init__(self, access_token, access_token_secret, consumer_key, \n",
    "        consumer_secret):\n",
    "        self.access_token = access_token\n",
    "        self.access_token_secret = access_token_secret\n",
    "        self.consumer_key = consumer_key\n",
    "        self.consumer_secret = consumer_secret"
   ]
  },
  {
   "cell_type": "code",
   "execution_count": null,
   "metadata": {},
   "outputs": [],
   "source": [
    "def mine_tweets(credentials, search_terms, file_name):\n",
    "    auth = tweepy.OAuthHandler(credentials.consumer_key, credentials.consumer_secret)\n",
    "    auth.set_access_token(credentials.access_token, credentials.access_token_secret)\n",
    "\n",
    "    api = tweepy.API(auth)\n",
    "\n",
    "    twitter_stream = Stream(auth, MyListener(auth, file_name))\n",
    "\n",
    "    print(\"Starting up!\")\n",
    "\n",
    "    while(True):\n",
    "        try:\n",
    "            twitter_stream.filter(track=search_terms)\n",
    "        except:\n",
    "            time.sleep(30)\n",
    "            print(\"program restart\")"
   ]
  },
  {
   "cell_type": "code",
   "execution_count": null,
   "metadata": {},
   "outputs": [],
   "source": [
    "mentions_list = []\n",
    "from_list = []\n",
    "to_list = []\n",
    "my_list = []\n",
    "\n",
    "full_list = text_list\n",
    "full_list.extend(hashtag_list)\n",
    "full_list.extend(mentions_list)\n",
    "full_list.extend(from_list)\n",
    "full_list.extend(to_list)\n",
    "full_list.extend(my_list)\n",
    "\n",
    "credentials = Credentials(ACCESS_TOKEN, ACCESS_TOKEN_SECRET,\n",
    "    CONSUMER_KEY, CONSUMER_SECRET)\n",
    "\n",
    "file_name_base = 'replace me'\n",
    "\n",
    "mine_tweets(credentials, full_list, file_name_base)"
   ]
  }
 ],
 "metadata": {
  "kernelspec": {
   "display_name": "Python 3",
   "language": "python",
   "name": "python3"
  },
  "language_info": {
   "codemirror_mode": {
    "name": "ipython",
    "version": 3
   },
   "file_extension": ".py",
   "mimetype": "text/x-python",
   "name": "python",
   "nbconvert_exporter": "python",
   "pygments_lexer": "ipython3",
   "version": "3.6.1"
  }
 },
 "nbformat": 4,
 "nbformat_minor": 2
}
