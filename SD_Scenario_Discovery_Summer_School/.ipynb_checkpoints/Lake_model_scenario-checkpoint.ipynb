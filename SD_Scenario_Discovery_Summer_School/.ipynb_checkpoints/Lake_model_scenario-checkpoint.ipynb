{
 "cells": [
  {
   "cell_type": "code",
   "execution_count": 1,
   "metadata": {},
   "outputs": [
    {
     "data": {
      "text/plain": [
       "<Logger EMA (DEBUG)>"
      ]
     },
     "execution_count": 1,
     "metadata": {},
     "output_type": "execute_result"
    }
   ],
   "source": [
    "# Import the \"python\" model called lake model (lakemodel_function.py)\n",
    "from lakemodel_function import lake_problem\n",
    "\n",
    "# Import some important ema_library function \n",
    "from ema_workbench import Model, RealParameter, ScalarOutcome, Constant\n",
    "from ema_workbench import Policy, perform_experiments\n",
    "from ema_workbench import ema_logging, MultiprocessingEvaluator\n",
    "\n",
    "# import library to generate random values\n",
    "import random\n",
    "\n",
    "# Import PRIM library\n",
    "import prim as prm\n",
    "\n",
    "# Library to calculate the duration of experiments\n",
    "import time\n",
    "\n",
    "# standard python library for data manipulation and plotting\n",
    "import pandas as pd\n",
    "import numpy as np\n",
    "import matplotlib.pyplot as plt\n",
    "\n",
    "# define to show the log of ema_workbench\n",
    "ema_logging.log_to_stderr(ema_logging.INFO)"
   ]
  },
  {
   "cell_type": "markdown",
   "metadata": {},
   "source": [
    "## 1.2 Model Definition"
   ]
  },
  {
   "cell_type": "code",
   "execution_count": 2,
   "metadata": {
    "collapsed": true
   },
   "outputs": [],
   "source": [
    "#instantiate the model\n",
    "lake_model = Model('lakeproblem', function=lake_problem)\n",
    "lake_model.time_horizon = 100 # used to specify the number of timesteps\n",
    "\n",
    "#specify uncertainties\n",
    "lake_model.uncertainties = [RealParameter('mean', 0.01, 0.05),\n",
    "                            RealParameter('stdev', 0.001, 0.005),\n",
    "                            RealParameter('b', 0.1, 0.45),\n",
    "                            RealParameter('q', 2.0, 4.5),\n",
    "                            RealParameter('delta', 0.93, 0.99)]\n",
    "\n",
    "# set levers, one for each time step\n",
    "lake_model.levers = [RealParameter(str(i), 0, 0.1) for i in \n",
    "                     range(lake_model.time_horizon)] # we use time_horizon here\n",
    "\n",
    "#specify outcomes \n",
    "lake_model.outcomes = [ScalarOutcome('max_P'),\n",
    "                       ScalarOutcome('utility'),\n",
    "                       ScalarOutcome('inertia'),\n",
    "                       ScalarOutcome('reliability')]"
   ]
  },
  {
   "cell_type": "markdown",
   "metadata": {},
   "source": [
    "## 1.3 Policy Definition"
   ]
  },
  {
   "cell_type": "code",
   "execution_count": 3,
   "metadata": {
    "collapsed": true
   },
   "outputs": [],
   "source": [
    "policy_0 = Policy(\"No release\", **{l.name:0 for l in lake_model.levers})\n",
    "policy_quarter = Policy(\"Quarter release\", **{l.name:random.randint(0, 25)/100 for l in lake_model.levers})\n",
    "policy_half = Policy(\"Half release\", **{l.name:random.randint(25, 50)/100 for l in lake_model.levers})\n",
    "policy_max = Policy(\"Max release\", **{l.name:random.randint(50, 100)/100 for l in lake_model.levers})"
   ]
  },
  {
   "cell_type": "markdown",
   "metadata": {},
   "source": [
    "## 1.4 Perform Experiments"
   ]
  },
  {
   "cell_type": "code",
   "execution_count": 4,
   "metadata": {},
   "outputs": [
    {
     "name": "stderr",
     "output_type": "stream",
     "text": [
      "[MainProcess/INFO] performing 1000 scenarios * 4 policies * 1 model(s) = 4000 experiments\n",
      "[MainProcess/INFO] performing experiments sequentially\n",
      "[MainProcess/INFO] 400 cases completed\n",
      "[MainProcess/INFO] 800 cases completed\n",
      "[MainProcess/INFO] 1200 cases completed\n",
      "[MainProcess/INFO] 1600 cases completed\n",
      "[MainProcess/INFO] 2000 cases completed\n",
      "[MainProcess/INFO] 2400 cases completed\n",
      "[MainProcess/INFO] 2800 cases completed\n",
      "[MainProcess/INFO] 3200 cases completed\n",
      "[MainProcess/INFO] 3600 cases completed\n",
      "[MainProcess/INFO] 4000 cases completed\n",
      "[MainProcess/INFO] experiments finished\n"
     ]
    },
    {
     "name": "stdout",
     "output_type": "stream",
     "text": [
      "Processing time : 3.7347333788871766 Minutes\n"
     ]
    }
   ],
   "source": [
    "start = time.time()\n",
    "\n",
    "n_scenarios = 1000\n",
    "results = perform_experiments(lake_model, n_scenarios, [policy_0,policy_quarter,policy_half,policy_max])\n",
    "\n",
    "end = time.time()\n",
    "print('Processing time :',(end - start)/60, 'Minutes')"
   ]
  },
  {
   "cell_type": "markdown",
   "metadata": {},
   "source": [
    "## 1.5 Separating Experiments "
   ]
  },
  {
   "cell_type": "code",
   "execution_count": 5,
   "metadata": {
    "collapsed": true
   },
   "outputs": [],
   "source": [
    "experiments, outcomes= results\n",
    "\n",
    "dfexperiment = pd.DataFrame(data=experiments)\n",
    "dfoutput = pd.DataFrame(data=outcomes)"
   ]
  },
  {
   "cell_type": "code",
   "execution_count": 8,
   "metadata": {},
   "outputs": [],
   "source": [
    "df_experiment = pd.read_csv('dfexperiment.csv')\n",
    "df_output = pd.read_csv('dfoutput.csv')"
   ]
  },
  {
   "cell_type": "markdown",
   "metadata": {},
   "source": [
    "## 1.6 Policy Definition"
   ]
  },
  {
   "cell_type": "code",
   "execution_count": 9,
   "metadata": {},
   "outputs": [],
   "source": [
    "select_policy_0 = (df_experiment.policy == 'No release')\n",
    "select_policy_quarter = (df_experiment.policy == 'Quarter release')\n",
    "select_policy_half = (df_experiment.policy == 'Half release')\n",
    "select_policy_max = (df_experiment.policy == 'Max release')"
   ]
  },
  {
   "cell_type": "code",
   "execution_count": 10,
   "metadata": {
    "collapsed": true
   },
   "outputs": [],
   "source": [
    "# Select policy to do Prim\n",
    "a_x_prim_0 = df_experiment[select_policy_0].drop(['scenario_id','policy','model'],axis=1).to_records(index=False)\n",
    "a_y_prim_0 = (df_output[select_policy_0]['max_P'] > \n",
    "              df_output[select_policy_0]['max_P'].quantile(.95)).astype(int).reset_index(drop=True)"
   ]
  },
  {
   "cell_type": "code",
   "execution_count": 11,
   "metadata": {},
   "outputs": [
    {
     "data": {
      "text/plain": [
       "0       0\n",
       "1       0\n",
       "2       0\n",
       "3       0\n",
       "4       0\n",
       "5       0\n",
       "6       0\n",
       "7       0\n",
       "8       0\n",
       "9       0\n",
       "10      0\n",
       "11      0\n",
       "12      0\n",
       "13      0\n",
       "14      0\n",
       "15      0\n",
       "16      0\n",
       "17      1\n",
       "18      0\n",
       "19      0\n",
       "20      0\n",
       "21      0\n",
       "22      0\n",
       "23      0\n",
       "24      0\n",
       "25      0\n",
       "26      0\n",
       "27      0\n",
       "28      0\n",
       "29      0\n",
       "       ..\n",
       "2970    0\n",
       "2971    0\n",
       "2972    0\n",
       "2973    0\n",
       "2974    0\n",
       "2975    0\n",
       "2976    0\n",
       "2977    0\n",
       "2978    0\n",
       "2979    0\n",
       "2980    0\n",
       "2981    0\n",
       "2982    0\n",
       "2983    0\n",
       "2984    0\n",
       "2985    0\n",
       "2986    0\n",
       "2987    0\n",
       "2988    0\n",
       "2989    0\n",
       "2990    0\n",
       "2991    0\n",
       "2992    0\n",
       "2993    0\n",
       "2994    0\n",
       "2995    0\n",
       "2996    1\n",
       "2997    0\n",
       "2998    0\n",
       "2999    0\n",
       "Name: max_P, Length: 3000, dtype: int32"
      ]
     },
     "execution_count": 11,
     "metadata": {},
     "output_type": "execute_result"
    }
   ],
   "source": [
    "a_y_prim_0"
   ]
  },
  {
   "cell_type": "markdown",
   "metadata": {},
   "source": [
    "## 1.7 PRIM "
   ]
  },
  {
   "cell_type": "code",
   "execution_count": null,
   "metadata": {
    "collapsed": true
   },
   "outputs": [],
   "source": [
    "prim_alg_0 = prm.Prim(a_x_prim_0, a_y_prim_0, threshold=0.8 ,threshold_type=\">\")\n",
    "box1_0 = prim_alg_0.find_box()"
   ]
  },
  {
   "cell_type": "markdown",
   "metadata": {},
   "source": [
    "### 1.7.1 Tradeoff within dimension"
   ]
  },
  {
   "cell_type": "code",
   "execution_count": null,
   "metadata": {},
   "outputs": [],
   "source": [
    "%matplotlib inline\n",
    "#%matplotlib notebook\n",
    "box1_0.show_tradeoff()\n",
    "plt.show()"
   ]
  },
  {
   "cell_type": "markdown",
   "metadata": {},
   "source": [
    "### 1.7.2 Choose box 54"
   ]
  },
  {
   "cell_type": "code",
   "execution_count": null,
   "metadata": {},
   "outputs": [],
   "source": [
    "box_selection = 54\n",
    "box1_0.select(box_selection)\n",
    "box1_0.show_details()\n",
    "plt.show()"
   ]
  },
  {
   "cell_type": "code",
   "execution_count": null,
   "metadata": {
    "collapsed": true
   },
   "outputs": [],
   "source": []
  }
 ],
 "metadata": {
  "kernelspec": {
   "display_name": "Python 3",
   "language": "python",
   "name": "python3"
  },
  "language_info": {
   "codemirror_mode": {
    "name": "ipython",
    "version": 3
   },
   "file_extension": ".py",
   "mimetype": "text/x-python",
   "name": "python",
   "nbconvert_exporter": "python",
   "pygments_lexer": "ipython3",
   "version": "3.6.2"
  }
 },
 "nbformat": 4,
 "nbformat_minor": 2
}
